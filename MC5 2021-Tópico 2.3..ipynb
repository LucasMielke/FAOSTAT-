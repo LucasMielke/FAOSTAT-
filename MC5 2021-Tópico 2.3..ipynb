{
 "cells": [
  {
   "cell_type": "markdown",
   "metadata": {},
   "source": [
    "# Introdução à Agronomia com Python e dados (MC 5)"
   ]
  },
  {
   "cell_type": "markdown",
   "metadata": {},
   "source": [
    "06/01/2021 - 22/01/2021. \n",
    "\n",
    "Segundas, Quartas e Sextas das 18:00 as 19:30"
   ]
  },
  {
   "cell_type": "markdown",
   "metadata": {},
   "source": [
    "### Professor: Lucas Mielke.\n",
    "### Contato: lucas.mielke@usp.br"
   ]
  },
  {
   "cell_type": "markdown",
   "metadata": {},
   "source": [
    "### Módulo 2.3. Comercialização de Commodities"
   ]
  },
  {
   "cell_type": "markdown",
   "metadata": {},
   "source": [
    "http://www.b3.com.br/pt_br/produtos-e-servicos/negociacao/commodities/\n",
    "\n",
    "https://www.cmegroup.com/\n",
    "\n",
    "https://cepea.esalq.usp.br/br\n"
   ]
  },
  {
   "cell_type": "markdown",
   "metadata": {},
   "source": [
    "### Download de arquivos Excel, CSV, TXT... identificados no endereço - Usar pandas "
   ]
  },
  {
   "cell_type": "code",
   "execution_count": null,
   "metadata": {},
   "outputs": [],
   "source": [
    "import pandas as pd\n",
    "pd.read_excel(\"http://www.anp.gov.br/images/Precos/Precos-produtores-importadores-derivados-petroleo/Precos_Medios_Ponderados_Semanais_a_partir_de_2013.xls\", header=8)\n"
   ]
  },
  {
   "cell_type": "markdown",
   "metadata": {},
   "source": [
    "### As vezes um capnho de download funciona. Ex. Google drive"
   ]
  },
  {
   "cell_type": "code",
   "execution_count": 2,
   "metadata": {},
   "outputs": [
    {
     "data": {
      "text/html": [
       "<div>\n",
       "<style scoped>\n",
       "    .dataframe tbody tr th:only-of-type {\n",
       "        vertical-align: middle;\n",
       "    }\n",
       "\n",
       "    .dataframe tbody tr th {\n",
       "        vertical-align: top;\n",
       "    }\n",
       "\n",
       "    .dataframe thead th {\n",
       "        text-align: right;\n",
       "    }\n",
       "</style>\n",
       "<table border=\"1\" class=\"dataframe\">\n",
       "  <thead>\n",
       "    <tr style=\"text-align: right;\">\n",
       "      <th></th>\n",
       "      <th>Area Code</th>\n",
       "      <th>Area</th>\n",
       "      <th>Item Code</th>\n",
       "      <th>Item</th>\n",
       "      <th>Element Code</th>\n",
       "      <th>Element</th>\n",
       "      <th>Year Code</th>\n",
       "      <th>Year</th>\n",
       "      <th>Unit</th>\n",
       "      <th>Value</th>\n",
       "      <th>Flag</th>\n",
       "      <th>Note</th>\n",
       "    </tr>\n",
       "  </thead>\n",
       "  <tbody>\n",
       "    <tr>\n",
       "      <th>0</th>\n",
       "      <td>4</td>\n",
       "      <td>Algeria</td>\n",
       "      <td>23045</td>\n",
       "      <td>Agriculture research spending</td>\n",
       "      <td>6083</td>\n",
       "      <td>Share of Value Added (Agriculture, Forestry an...</td>\n",
       "      <td>2009</td>\n",
       "      <td>2009</td>\n",
       "      <td>%</td>\n",
       "      <td>0.18</td>\n",
       "      <td>X</td>\n",
       "      <td>ASTI (Agricultural Science and Technology Indi...</td>\n",
       "    </tr>\n",
       "    <tr>\n",
       "      <th>1</th>\n",
       "      <td>4</td>\n",
       "      <td>Algeria</td>\n",
       "      <td>23045</td>\n",
       "      <td>Agriculture research spending</td>\n",
       "      <td>6083</td>\n",
       "      <td>Share of Value Added (Agriculture, Forestry an...</td>\n",
       "      <td>2010</td>\n",
       "      <td>2010</td>\n",
       "      <td>%</td>\n",
       "      <td>0.18</td>\n",
       "      <td>X</td>\n",
       "      <td>ASTI (Agricultural Science and Technology Indi...</td>\n",
       "    </tr>\n",
       "  </tbody>\n",
       "</table>\n",
       "</div>"
      ],
      "text/plain": [
       "   Area Code     Area  Item Code                           Item  Element Code  \\\n",
       "0          4  Algeria      23045  Agriculture research spending          6083   \n",
       "1          4  Algeria      23045  Agriculture research spending          6083   \n",
       "\n",
       "                                             Element  Year Code  Year Unit  \\\n",
       "0  Share of Value Added (Agriculture, Forestry an...       2009  2009    %   \n",
       "1  Share of Value Added (Agriculture, Forestry an...       2010  2010    %   \n",
       "\n",
       "   Value Flag                                               Note  \n",
       "0   0.18    X  ASTI (Agricultural Science and Technology Indi...  \n",
       "1   0.18    X  ASTI (Agricultural Science and Technology Indi...  "
      ]
     },
     "execution_count": 2,
     "metadata": {},
     "output_type": "execute_result"
    }
   ],
   "source": [
    "import pandas as pd\n",
    "\n",
    "url = 'https://drive.google.com/file/d/1ESGPYI9l3psfTWaEJQwQJvIIj-AgMPPv/view?usp=sharing'\n",
    "path = 'https://drive.google.com/uc?export=download&id='+url.split('/')[-2]\n",
    "\n",
    "df = pd.read_csv(path,sep=\",\",decimal=\".\",encoding=\"latin1\")\n",
    "\n",
    "df.head(2)"
   ]
  },
  {
   "cell_type": "markdown",
   "metadata": {},
   "source": [
    "### Download de arquivos e depois abrir (arquivos maiores, que exigem tratamento mais complexo, etc). \n",
    "\n",
    "\n",
    "Exemplo com arquivo do CEPEA - https://cepea.esalq.usp.br/br \n",
    "\n",
    "Toda vez o arquivo muda de nome, o formato também é um pouco incompatível (se eu tentar abrir o download, terei erro de arquivo corrompido) \n",
    "\n",
    "requests: https://requests.readthedocs.io/en/master/\n",
    "\n",
    "\n",
    "dica de: https://www.codementor.io/@aviaryan/downloading-files-from-urls-in-python-77q3bs0un\n",
    "\n",
    "Correção do erro de: https://stackoverflow.com/questions/12705527/reading-excel-files-with-xlrd"
   ]
  },
  {
   "cell_type": "code",
   "execution_count": 3,
   "metadata": {},
   "outputs": [
    {
     "name": "stdout",
     "output_type": "stream",
     "text": [
      "_locate_stream(Workbook): seen\n",
      "    0  5 4 4 4 4 4 4 4 4 4 4 4 4 4 4 4 4 4 4 4 \n",
      "   20  4 4 4 4 4 4 4 4 4 4 4 4 4 4 4 4 4 4 4 4 \n",
      "  260= 4 4 4 4 4 4 4 4 4 4 4 4 4 4 4 4 4 4 4 4 \n",
      "  280  4 4 4 4 4 4 4 4 4 3 2 2 2 \n"
     ]
    },
    {
     "ename": "CompDocError",
     "evalue": "Workbook corruption: seen[3] == 4",
     "output_type": "error",
     "traceback": [
      "\u001b[1;31m---------------------------------------------------------------------------\u001b[0m",
      "\u001b[1;31mCompDocError\u001b[0m                              Traceback (most recent call last)",
      "\u001b[1;32m<ipython-input-3-49cbc643b319>\u001b[0m in \u001b[0;36m<module>\u001b[1;34m\u001b[0m\n\u001b[0;32m      1\u001b[0m \u001b[1;31m# VAMOS TER UMA MENSAGEM DE ERRO:\u001b[0m\u001b[1;33m\u001b[0m\u001b[1;33m\u001b[0m\u001b[1;33m\u001b[0m\u001b[0m\n\u001b[0;32m      2\u001b[0m \u001b[1;33m\u001b[0m\u001b[0m\n\u001b[1;32m----> 3\u001b[1;33m \u001b[0mpd\u001b[0m\u001b[1;33m.\u001b[0m\u001b[0mread_excel\u001b[0m\u001b[1;33m(\u001b[0m\u001b[1;34m'https://cepea.esalq.usp.br/br/indicador/series/acucar.aspx?id=143'\u001b[0m\u001b[1;33m)\u001b[0m\u001b[1;33m\u001b[0m\u001b[1;33m\u001b[0m\u001b[0m\n\u001b[0m",
      "\u001b[1;32m~\\AppData\\Roaming\\Python\\Python37\\site-packages\\pandas\\util\\_decorators.py\u001b[0m in \u001b[0;36mwrapper\u001b[1;34m(*args, **kwargs)\u001b[0m\n\u001b[0;32m    294\u001b[0m                 )\n\u001b[0;32m    295\u001b[0m                 \u001b[0mwarnings\u001b[0m\u001b[1;33m.\u001b[0m\u001b[0mwarn\u001b[0m\u001b[1;33m(\u001b[0m\u001b[0mmsg\u001b[0m\u001b[1;33m,\u001b[0m \u001b[0mFutureWarning\u001b[0m\u001b[1;33m,\u001b[0m \u001b[0mstacklevel\u001b[0m\u001b[1;33m=\u001b[0m\u001b[0mstacklevel\u001b[0m\u001b[1;33m)\u001b[0m\u001b[1;33m\u001b[0m\u001b[1;33m\u001b[0m\u001b[0m\n\u001b[1;32m--> 296\u001b[1;33m             \u001b[1;32mreturn\u001b[0m \u001b[0mfunc\u001b[0m\u001b[1;33m(\u001b[0m\u001b[1;33m*\u001b[0m\u001b[0margs\u001b[0m\u001b[1;33m,\u001b[0m \u001b[1;33m**\u001b[0m\u001b[0mkwargs\u001b[0m\u001b[1;33m)\u001b[0m\u001b[1;33m\u001b[0m\u001b[1;33m\u001b[0m\u001b[0m\n\u001b[0m\u001b[0;32m    297\u001b[0m \u001b[1;33m\u001b[0m\u001b[0m\n\u001b[0;32m    298\u001b[0m         \u001b[1;32mreturn\u001b[0m \u001b[0mwrapper\u001b[0m\u001b[1;33m\u001b[0m\u001b[1;33m\u001b[0m\u001b[0m\n",
      "\u001b[1;32m~\\AppData\\Roaming\\Python\\Python37\\site-packages\\pandas\\io\\excel\\_base.py\u001b[0m in \u001b[0;36mread_excel\u001b[1;34m(io, sheet_name, header, names, index_col, usecols, squeeze, dtype, engine, converters, true_values, false_values, skiprows, nrows, na_values, keep_default_na, na_filter, verbose, parse_dates, date_parser, thousands, comment, skipfooter, convert_float, mangle_dupe_cols)\u001b[0m\n\u001b[0;32m    302\u001b[0m \u001b[1;33m\u001b[0m\u001b[0m\n\u001b[0;32m    303\u001b[0m     \u001b[1;32mif\u001b[0m \u001b[1;32mnot\u001b[0m \u001b[0misinstance\u001b[0m\u001b[1;33m(\u001b[0m\u001b[0mio\u001b[0m\u001b[1;33m,\u001b[0m \u001b[0mExcelFile\u001b[0m\u001b[1;33m)\u001b[0m\u001b[1;33m:\u001b[0m\u001b[1;33m\u001b[0m\u001b[1;33m\u001b[0m\u001b[0m\n\u001b[1;32m--> 304\u001b[1;33m         \u001b[0mio\u001b[0m \u001b[1;33m=\u001b[0m \u001b[0mExcelFile\u001b[0m\u001b[1;33m(\u001b[0m\u001b[0mio\u001b[0m\u001b[1;33m,\u001b[0m \u001b[0mengine\u001b[0m\u001b[1;33m=\u001b[0m\u001b[0mengine\u001b[0m\u001b[1;33m)\u001b[0m\u001b[1;33m\u001b[0m\u001b[1;33m\u001b[0m\u001b[0m\n\u001b[0m\u001b[0;32m    305\u001b[0m     \u001b[1;32melif\u001b[0m \u001b[0mengine\u001b[0m \u001b[1;32mand\u001b[0m \u001b[0mengine\u001b[0m \u001b[1;33m!=\u001b[0m \u001b[0mio\u001b[0m\u001b[1;33m.\u001b[0m\u001b[0mengine\u001b[0m\u001b[1;33m:\u001b[0m\u001b[1;33m\u001b[0m\u001b[1;33m\u001b[0m\u001b[0m\n\u001b[0;32m    306\u001b[0m         raise ValueError(\n",
      "\u001b[1;32m~\\AppData\\Roaming\\Python\\Python37\\site-packages\\pandas\\io\\excel\\_base.py\u001b[0m in \u001b[0;36m__init__\u001b[1;34m(self, path_or_buffer, engine)\u001b[0m\n\u001b[0;32m    865\u001b[0m         \u001b[0mself\u001b[0m\u001b[1;33m.\u001b[0m\u001b[0m_io\u001b[0m \u001b[1;33m=\u001b[0m \u001b[0mstringify_path\u001b[0m\u001b[1;33m(\u001b[0m\u001b[0mpath_or_buffer\u001b[0m\u001b[1;33m)\u001b[0m\u001b[1;33m\u001b[0m\u001b[1;33m\u001b[0m\u001b[0m\n\u001b[0;32m    866\u001b[0m \u001b[1;33m\u001b[0m\u001b[0m\n\u001b[1;32m--> 867\u001b[1;33m         \u001b[0mself\u001b[0m\u001b[1;33m.\u001b[0m\u001b[0m_reader\u001b[0m \u001b[1;33m=\u001b[0m \u001b[0mself\u001b[0m\u001b[1;33m.\u001b[0m\u001b[0m_engines\u001b[0m\u001b[1;33m[\u001b[0m\u001b[0mengine\u001b[0m\u001b[1;33m]\u001b[0m\u001b[1;33m(\u001b[0m\u001b[0mself\u001b[0m\u001b[1;33m.\u001b[0m\u001b[0m_io\u001b[0m\u001b[1;33m)\u001b[0m\u001b[1;33m\u001b[0m\u001b[1;33m\u001b[0m\u001b[0m\n\u001b[0m\u001b[0;32m    868\u001b[0m \u001b[1;33m\u001b[0m\u001b[0m\n\u001b[0;32m    869\u001b[0m     \u001b[1;32mdef\u001b[0m \u001b[0m__fspath__\u001b[0m\u001b[1;33m(\u001b[0m\u001b[0mself\u001b[0m\u001b[1;33m)\u001b[0m\u001b[1;33m:\u001b[0m\u001b[1;33m\u001b[0m\u001b[1;33m\u001b[0m\u001b[0m\n",
      "\u001b[1;32m~\\AppData\\Roaming\\Python\\Python37\\site-packages\\pandas\\io\\excel\\_xlrd.py\u001b[0m in \u001b[0;36m__init__\u001b[1;34m(self, filepath_or_buffer)\u001b[0m\n\u001b[0;32m     20\u001b[0m         \u001b[0merr_msg\u001b[0m \u001b[1;33m=\u001b[0m \u001b[1;34m\"Install xlrd >= 1.0.0 for Excel support\"\u001b[0m\u001b[1;33m\u001b[0m\u001b[1;33m\u001b[0m\u001b[0m\n\u001b[0;32m     21\u001b[0m         \u001b[0mimport_optional_dependency\u001b[0m\u001b[1;33m(\u001b[0m\u001b[1;34m\"xlrd\"\u001b[0m\u001b[1;33m,\u001b[0m \u001b[0mextra\u001b[0m\u001b[1;33m=\u001b[0m\u001b[0merr_msg\u001b[0m\u001b[1;33m)\u001b[0m\u001b[1;33m\u001b[0m\u001b[1;33m\u001b[0m\u001b[0m\n\u001b[1;32m---> 22\u001b[1;33m         \u001b[0msuper\u001b[0m\u001b[1;33m(\u001b[0m\u001b[1;33m)\u001b[0m\u001b[1;33m.\u001b[0m\u001b[0m__init__\u001b[0m\u001b[1;33m(\u001b[0m\u001b[0mfilepath_or_buffer\u001b[0m\u001b[1;33m)\u001b[0m\u001b[1;33m\u001b[0m\u001b[1;33m\u001b[0m\u001b[0m\n\u001b[0m\u001b[0;32m     23\u001b[0m \u001b[1;33m\u001b[0m\u001b[0m\n\u001b[0;32m     24\u001b[0m     \u001b[1;33m@\u001b[0m\u001b[0mproperty\u001b[0m\u001b[1;33m\u001b[0m\u001b[1;33m\u001b[0m\u001b[0m\n",
      "\u001b[1;32m~\\AppData\\Roaming\\Python\\Python37\\site-packages\\pandas\\io\\excel\\_base.py\u001b[0m in \u001b[0;36m__init__\u001b[1;34m(self, filepath_or_buffer)\u001b[0m\n\u001b[0;32m    349\u001b[0m             \u001b[1;31m# N.B. xlrd.Book has a read attribute too\u001b[0m\u001b[1;33m\u001b[0m\u001b[1;33m\u001b[0m\u001b[1;33m\u001b[0m\u001b[0m\n\u001b[0;32m    350\u001b[0m             \u001b[0mfilepath_or_buffer\u001b[0m\u001b[1;33m.\u001b[0m\u001b[0mseek\u001b[0m\u001b[1;33m(\u001b[0m\u001b[1;36m0\u001b[0m\u001b[1;33m)\u001b[0m\u001b[1;33m\u001b[0m\u001b[1;33m\u001b[0m\u001b[0m\n\u001b[1;32m--> 351\u001b[1;33m             \u001b[0mself\u001b[0m\u001b[1;33m.\u001b[0m\u001b[0mbook\u001b[0m \u001b[1;33m=\u001b[0m \u001b[0mself\u001b[0m\u001b[1;33m.\u001b[0m\u001b[0mload_workbook\u001b[0m\u001b[1;33m(\u001b[0m\u001b[0mfilepath_or_buffer\u001b[0m\u001b[1;33m)\u001b[0m\u001b[1;33m\u001b[0m\u001b[1;33m\u001b[0m\u001b[0m\n\u001b[0m\u001b[0;32m    352\u001b[0m         \u001b[1;32melif\u001b[0m \u001b[0misinstance\u001b[0m\u001b[1;33m(\u001b[0m\u001b[0mfilepath_or_buffer\u001b[0m\u001b[1;33m,\u001b[0m \u001b[0mstr\u001b[0m\u001b[1;33m)\u001b[0m\u001b[1;33m:\u001b[0m\u001b[1;33m\u001b[0m\u001b[1;33m\u001b[0m\u001b[0m\n\u001b[0;32m    353\u001b[0m             \u001b[0mself\u001b[0m\u001b[1;33m.\u001b[0m\u001b[0mbook\u001b[0m \u001b[1;33m=\u001b[0m \u001b[0mself\u001b[0m\u001b[1;33m.\u001b[0m\u001b[0mload_workbook\u001b[0m\u001b[1;33m(\u001b[0m\u001b[0mfilepath_or_buffer\u001b[0m\u001b[1;33m)\u001b[0m\u001b[1;33m\u001b[0m\u001b[1;33m\u001b[0m\u001b[0m\n",
      "\u001b[1;32m~\\AppData\\Roaming\\Python\\Python37\\site-packages\\pandas\\io\\excel\\_xlrd.py\u001b[0m in \u001b[0;36mload_workbook\u001b[1;34m(self, filepath_or_buffer)\u001b[0m\n\u001b[0;32m     33\u001b[0m         \u001b[1;32mif\u001b[0m \u001b[0mhasattr\u001b[0m\u001b[1;33m(\u001b[0m\u001b[0mfilepath_or_buffer\u001b[0m\u001b[1;33m,\u001b[0m \u001b[1;34m\"read\"\u001b[0m\u001b[1;33m)\u001b[0m\u001b[1;33m:\u001b[0m\u001b[1;33m\u001b[0m\u001b[1;33m\u001b[0m\u001b[0m\n\u001b[0;32m     34\u001b[0m             \u001b[0mdata\u001b[0m \u001b[1;33m=\u001b[0m \u001b[0mfilepath_or_buffer\u001b[0m\u001b[1;33m.\u001b[0m\u001b[0mread\u001b[0m\u001b[1;33m(\u001b[0m\u001b[1;33m)\u001b[0m\u001b[1;33m\u001b[0m\u001b[1;33m\u001b[0m\u001b[0m\n\u001b[1;32m---> 35\u001b[1;33m             \u001b[1;32mreturn\u001b[0m \u001b[0mopen_workbook\u001b[0m\u001b[1;33m(\u001b[0m\u001b[0mfile_contents\u001b[0m\u001b[1;33m=\u001b[0m\u001b[0mdata\u001b[0m\u001b[1;33m)\u001b[0m\u001b[1;33m\u001b[0m\u001b[1;33m\u001b[0m\u001b[0m\n\u001b[0m\u001b[0;32m     36\u001b[0m         \u001b[1;32melse\u001b[0m\u001b[1;33m:\u001b[0m\u001b[1;33m\u001b[0m\u001b[1;33m\u001b[0m\u001b[0m\n\u001b[0;32m     37\u001b[0m             \u001b[1;32mreturn\u001b[0m \u001b[0mopen_workbook\u001b[0m\u001b[1;33m(\u001b[0m\u001b[0mfilepath_or_buffer\u001b[0m\u001b[1;33m)\u001b[0m\u001b[1;33m\u001b[0m\u001b[1;33m\u001b[0m\u001b[0m\n",
      "\u001b[1;32mC:\\ProgramData\\Anaconda3\\lib\\site-packages\\xlrd\\__init__.py\u001b[0m in \u001b[0;36mopen_workbook\u001b[1;34m(filename, logfile, verbosity, use_mmap, file_contents, encoding_override, formatting_info, on_demand, ragged_rows)\u001b[0m\n\u001b[0;32m    155\u001b[0m         \u001b[0mformatting_info\u001b[0m\u001b[1;33m=\u001b[0m\u001b[0mformatting_info\u001b[0m\u001b[1;33m,\u001b[0m\u001b[1;33m\u001b[0m\u001b[1;33m\u001b[0m\u001b[0m\n\u001b[0;32m    156\u001b[0m         \u001b[0mon_demand\u001b[0m\u001b[1;33m=\u001b[0m\u001b[0mon_demand\u001b[0m\u001b[1;33m,\u001b[0m\u001b[1;33m\u001b[0m\u001b[1;33m\u001b[0m\u001b[0m\n\u001b[1;32m--> 157\u001b[1;33m         \u001b[0mragged_rows\u001b[0m\u001b[1;33m=\u001b[0m\u001b[0mragged_rows\u001b[0m\u001b[1;33m,\u001b[0m\u001b[1;33m\u001b[0m\u001b[1;33m\u001b[0m\u001b[0m\n\u001b[0m\u001b[0;32m    158\u001b[0m     )\n\u001b[0;32m    159\u001b[0m     \u001b[1;32mreturn\u001b[0m \u001b[0mbk\u001b[0m\u001b[1;33m\u001b[0m\u001b[1;33m\u001b[0m\u001b[0m\n",
      "\u001b[1;32mC:\\ProgramData\\Anaconda3\\lib\\site-packages\\xlrd\\book.py\u001b[0m in \u001b[0;36mopen_workbook_xls\u001b[1;34m(filename, logfile, verbosity, use_mmap, file_contents, encoding_override, formatting_info, on_demand, ragged_rows)\u001b[0m\n\u001b[0;32m     86\u001b[0m             \u001b[0mformatting_info\u001b[0m\u001b[1;33m=\u001b[0m\u001b[0mformatting_info\u001b[0m\u001b[1;33m,\u001b[0m\u001b[1;33m\u001b[0m\u001b[1;33m\u001b[0m\u001b[0m\n\u001b[0;32m     87\u001b[0m             \u001b[0mon_demand\u001b[0m\u001b[1;33m=\u001b[0m\u001b[0mon_demand\u001b[0m\u001b[1;33m,\u001b[0m\u001b[1;33m\u001b[0m\u001b[1;33m\u001b[0m\u001b[0m\n\u001b[1;32m---> 88\u001b[1;33m             \u001b[0mragged_rows\u001b[0m\u001b[1;33m=\u001b[0m\u001b[0mragged_rows\u001b[0m\u001b[1;33m,\u001b[0m\u001b[1;33m\u001b[0m\u001b[1;33m\u001b[0m\u001b[0m\n\u001b[0m\u001b[0;32m     89\u001b[0m         )\n\u001b[0;32m     90\u001b[0m         \u001b[0mt1\u001b[0m \u001b[1;33m=\u001b[0m \u001b[0mperf_counter\u001b[0m\u001b[1;33m(\u001b[0m\u001b[1;33m)\u001b[0m\u001b[1;33m\u001b[0m\u001b[1;33m\u001b[0m\u001b[0m\n",
      "\u001b[1;32mC:\\ProgramData\\Anaconda3\\lib\\site-packages\\xlrd\\book.py\u001b[0m in \u001b[0;36mbiff2_8_load\u001b[1;34m(self, filename, file_contents, logfile, verbosity, use_mmap, encoding_override, formatting_info, on_demand, ragged_rows)\u001b[0m\n\u001b[0;32m    634\u001b[0m                 \u001b[1;32mfor\u001b[0m \u001b[0mqname\u001b[0m \u001b[1;32min\u001b[0m \u001b[1;33m[\u001b[0m\u001b[1;34m'Workbook'\u001b[0m\u001b[1;33m,\u001b[0m \u001b[1;34m'Book'\u001b[0m\u001b[1;33m]\u001b[0m\u001b[1;33m:\u001b[0m\u001b[1;33m\u001b[0m\u001b[1;33m\u001b[0m\u001b[0m\n\u001b[0;32m    635\u001b[0m                     \u001b[0mself\u001b[0m\u001b[1;33m.\u001b[0m\u001b[0mmem\u001b[0m\u001b[1;33m,\u001b[0m \u001b[0mself\u001b[0m\u001b[1;33m.\u001b[0m\u001b[0mbase\u001b[0m\u001b[1;33m,\u001b[0m \u001b[0mself\u001b[0m\u001b[1;33m.\u001b[0m\u001b[0mstream_len\u001b[0m \u001b[1;33m=\u001b[0m\u001b[0;31m \u001b[0m\u001b[0;31m\\\u001b[0m\u001b[1;33m\u001b[0m\u001b[1;33m\u001b[0m\u001b[0m\n\u001b[1;32m--> 636\u001b[1;33m                                 \u001b[0mcd\u001b[0m\u001b[1;33m.\u001b[0m\u001b[0mlocate_named_stream\u001b[0m\u001b[1;33m(\u001b[0m\u001b[0mUNICODE_LITERAL\u001b[0m\u001b[1;33m(\u001b[0m\u001b[0mqname\u001b[0m\u001b[1;33m)\u001b[0m\u001b[1;33m)\u001b[0m\u001b[1;33m\u001b[0m\u001b[1;33m\u001b[0m\u001b[0m\n\u001b[0m\u001b[0;32m    637\u001b[0m                     \u001b[1;32mif\u001b[0m \u001b[0mself\u001b[0m\u001b[1;33m.\u001b[0m\u001b[0mmem\u001b[0m\u001b[1;33m:\u001b[0m \u001b[1;32mbreak\u001b[0m\u001b[1;33m\u001b[0m\u001b[1;33m\u001b[0m\u001b[0m\n\u001b[0;32m    638\u001b[0m                 \u001b[1;32melse\u001b[0m\u001b[1;33m:\u001b[0m\u001b[1;33m\u001b[0m\u001b[1;33m\u001b[0m\u001b[0m\n",
      "\u001b[1;32mC:\\ProgramData\\Anaconda3\\lib\\site-packages\\xlrd\\compdoc.py\u001b[0m in \u001b[0;36mlocate_named_stream\u001b[1;34m(self, qname)\u001b[0m\n\u001b[0;32m    397\u001b[0m             result = self._locate_stream(\n\u001b[0;32m    398\u001b[0m                 \u001b[0mself\u001b[0m\u001b[1;33m.\u001b[0m\u001b[0mmem\u001b[0m\u001b[1;33m,\u001b[0m \u001b[1;36m512\u001b[0m\u001b[1;33m,\u001b[0m \u001b[0mself\u001b[0m\u001b[1;33m.\u001b[0m\u001b[0mSAT\u001b[0m\u001b[1;33m,\u001b[0m \u001b[0mself\u001b[0m\u001b[1;33m.\u001b[0m\u001b[0msec_size\u001b[0m\u001b[1;33m,\u001b[0m \u001b[0md\u001b[0m\u001b[1;33m.\u001b[0m\u001b[0mfirst_SID\u001b[0m\u001b[1;33m,\u001b[0m\u001b[1;33m\u001b[0m\u001b[1;33m\u001b[0m\u001b[0m\n\u001b[1;32m--> 399\u001b[1;33m                 d.tot_size, qname, d.DID+6)\n\u001b[0m\u001b[0;32m    400\u001b[0m             \u001b[1;32mif\u001b[0m \u001b[0mself\u001b[0m\u001b[1;33m.\u001b[0m\u001b[0mDEBUG\u001b[0m\u001b[1;33m:\u001b[0m\u001b[1;33m\u001b[0m\u001b[1;33m\u001b[0m\u001b[0m\n\u001b[0;32m    401\u001b[0m                 \u001b[0mprint\u001b[0m\u001b[1;33m(\u001b[0m\u001b[1;34m\"\\nseen\"\u001b[0m\u001b[1;33m,\u001b[0m \u001b[0mfile\u001b[0m\u001b[1;33m=\u001b[0m\u001b[0mself\u001b[0m\u001b[1;33m.\u001b[0m\u001b[0mlogfile\u001b[0m\u001b[1;33m)\u001b[0m\u001b[1;33m\u001b[0m\u001b[1;33m\u001b[0m\u001b[0m\n",
      "\u001b[1;32mC:\\ProgramData\\Anaconda3\\lib\\site-packages\\xlrd\\compdoc.py\u001b[0m in \u001b[0;36m_locate_stream\u001b[1;34m(self, mem, base, sat, sec_size, start_sid, expected_stream_size, qname, seen_id)\u001b[0m\n\u001b[0;32m    425\u001b[0m             \u001b[1;32mif\u001b[0m \u001b[0mself\u001b[0m\u001b[1;33m.\u001b[0m\u001b[0mseen\u001b[0m\u001b[1;33m[\u001b[0m\u001b[0ms\u001b[0m\u001b[1;33m]\u001b[0m\u001b[1;33m:\u001b[0m\u001b[1;33m\u001b[0m\u001b[1;33m\u001b[0m\u001b[0m\n\u001b[0;32m    426\u001b[0m                 \u001b[0mprint\u001b[0m\u001b[1;33m(\u001b[0m\u001b[1;34m\"_locate_stream(%s): seen\"\u001b[0m \u001b[1;33m%\u001b[0m \u001b[0mqname\u001b[0m\u001b[1;33m,\u001b[0m \u001b[0mfile\u001b[0m\u001b[1;33m=\u001b[0m\u001b[0mself\u001b[0m\u001b[1;33m.\u001b[0m\u001b[0mlogfile\u001b[0m\u001b[1;33m)\u001b[0m\u001b[1;33m;\u001b[0m \u001b[0mdump_list\u001b[0m\u001b[1;33m(\u001b[0m\u001b[0mself\u001b[0m\u001b[1;33m.\u001b[0m\u001b[0mseen\u001b[0m\u001b[1;33m,\u001b[0m \u001b[1;36m20\u001b[0m\u001b[1;33m,\u001b[0m \u001b[0mself\u001b[0m\u001b[1;33m.\u001b[0m\u001b[0mlogfile\u001b[0m\u001b[1;33m)\u001b[0m\u001b[1;33m\u001b[0m\u001b[1;33m\u001b[0m\u001b[0m\n\u001b[1;32m--> 427\u001b[1;33m                 \u001b[1;32mraise\u001b[0m \u001b[0mCompDocError\u001b[0m\u001b[1;33m(\u001b[0m\u001b[1;34m\"%s corruption: seen[%d] == %d\"\u001b[0m \u001b[1;33m%\u001b[0m \u001b[1;33m(\u001b[0m\u001b[0mqname\u001b[0m\u001b[1;33m,\u001b[0m \u001b[0ms\u001b[0m\u001b[1;33m,\u001b[0m \u001b[0mself\u001b[0m\u001b[1;33m.\u001b[0m\u001b[0mseen\u001b[0m\u001b[1;33m[\u001b[0m\u001b[0ms\u001b[0m\u001b[1;33m]\u001b[0m\u001b[1;33m)\u001b[0m\u001b[1;33m)\u001b[0m\u001b[1;33m\u001b[0m\u001b[1;33m\u001b[0m\u001b[0m\n\u001b[0m\u001b[0;32m    428\u001b[0m             \u001b[0mself\u001b[0m\u001b[1;33m.\u001b[0m\u001b[0mseen\u001b[0m\u001b[1;33m[\u001b[0m\u001b[0ms\u001b[0m\u001b[1;33m]\u001b[0m \u001b[1;33m=\u001b[0m \u001b[0mseen_id\u001b[0m\u001b[1;33m\u001b[0m\u001b[1;33m\u001b[0m\u001b[0m\n\u001b[0;32m    429\u001b[0m             \u001b[0mtot_found\u001b[0m \u001b[1;33m+=\u001b[0m \u001b[1;36m1\u001b[0m\u001b[1;33m\u001b[0m\u001b[1;33m\u001b[0m\u001b[0m\n",
      "\u001b[1;31mCompDocError\u001b[0m: Workbook corruption: seen[3] == 4"
     ]
    }
   ],
   "source": [
    "# VAMOS TER UMA MENSAGEM DE ERRO:\n",
    "\n",
    "pd.read_excel('https://cepea.esalq.usp.br/br/indicador/series/acucar.aspx?id=143')"
   ]
  },
  {
   "cell_type": "code",
   "execution_count": 4,
   "metadata": {},
   "outputs": [
    {
     "name": "stdout",
     "output_type": "stream",
     "text": [
      "_locate_stream(Workbook): seen\n",
      "    0  5 4 4 4 4 4 4 4 4 4 4 4 4 4 4 4 4 4 4 4 \n",
      "   20  4 4 4 4 4 4 4 4 4 4 4 4 4 4 4 4 4 4 4 4 \n",
      "  600= 4 4 4 4 4 4 4 4 4 4 4 4 4 4 4 4 4 4 4 4 \n",
      "  620  4 4 4 4 4 4 4 4 4 4 4 3 2 2 2 2 2 \n"
     ]
    },
    {
     "ename": "CompDocError",
     "evalue": "Workbook corruption: seen[3] == 4",
     "output_type": "error",
     "traceback": [
      "\u001b[1;31m---------------------------------------------------------------------------\u001b[0m",
      "\u001b[1;31mCompDocError\u001b[0m                              Traceback (most recent call last)",
      "\u001b[1;32m<ipython-input-4-37d897bfd091>\u001b[0m in \u001b[0;36m<module>\u001b[1;34m\u001b[0m\n\u001b[0;32m      1\u001b[0m \u001b[1;31m# TAMBÉM VAMOS TER UMA MENSAGEM DE ERRO:\u001b[0m\u001b[1;33m\u001b[0m\u001b[1;33m\u001b[0m\u001b[1;33m\u001b[0m\u001b[0m\n\u001b[0;32m      2\u001b[0m \u001b[1;33m\u001b[0m\u001b[0m\n\u001b[1;32m----> 3\u001b[1;33m \u001b[0mpd\u001b[0m\u001b[1;33m.\u001b[0m\u001b[0mread_excel\u001b[0m\u001b[1;33m(\u001b[0m\u001b[1;34m\"CEPEA_20210118184455.xls\"\u001b[0m\u001b[1;33m)\u001b[0m\u001b[1;33m\u001b[0m\u001b[1;33m\u001b[0m\u001b[0m\n\u001b[0m",
      "\u001b[1;32m~\\AppData\\Roaming\\Python\\Python37\\site-packages\\pandas\\util\\_decorators.py\u001b[0m in \u001b[0;36mwrapper\u001b[1;34m(*args, **kwargs)\u001b[0m\n\u001b[0;32m    294\u001b[0m                 )\n\u001b[0;32m    295\u001b[0m                 \u001b[0mwarnings\u001b[0m\u001b[1;33m.\u001b[0m\u001b[0mwarn\u001b[0m\u001b[1;33m(\u001b[0m\u001b[0mmsg\u001b[0m\u001b[1;33m,\u001b[0m \u001b[0mFutureWarning\u001b[0m\u001b[1;33m,\u001b[0m \u001b[0mstacklevel\u001b[0m\u001b[1;33m=\u001b[0m\u001b[0mstacklevel\u001b[0m\u001b[1;33m)\u001b[0m\u001b[1;33m\u001b[0m\u001b[1;33m\u001b[0m\u001b[0m\n\u001b[1;32m--> 296\u001b[1;33m             \u001b[1;32mreturn\u001b[0m \u001b[0mfunc\u001b[0m\u001b[1;33m(\u001b[0m\u001b[1;33m*\u001b[0m\u001b[0margs\u001b[0m\u001b[1;33m,\u001b[0m \u001b[1;33m**\u001b[0m\u001b[0mkwargs\u001b[0m\u001b[1;33m)\u001b[0m\u001b[1;33m\u001b[0m\u001b[1;33m\u001b[0m\u001b[0m\n\u001b[0m\u001b[0;32m    297\u001b[0m \u001b[1;33m\u001b[0m\u001b[0m\n\u001b[0;32m    298\u001b[0m         \u001b[1;32mreturn\u001b[0m \u001b[0mwrapper\u001b[0m\u001b[1;33m\u001b[0m\u001b[1;33m\u001b[0m\u001b[0m\n",
      "\u001b[1;32m~\\AppData\\Roaming\\Python\\Python37\\site-packages\\pandas\\io\\excel\\_base.py\u001b[0m in \u001b[0;36mread_excel\u001b[1;34m(io, sheet_name, header, names, index_col, usecols, squeeze, dtype, engine, converters, true_values, false_values, skiprows, nrows, na_values, keep_default_na, na_filter, verbose, parse_dates, date_parser, thousands, comment, skipfooter, convert_float, mangle_dupe_cols)\u001b[0m\n\u001b[0;32m    302\u001b[0m \u001b[1;33m\u001b[0m\u001b[0m\n\u001b[0;32m    303\u001b[0m     \u001b[1;32mif\u001b[0m \u001b[1;32mnot\u001b[0m \u001b[0misinstance\u001b[0m\u001b[1;33m(\u001b[0m\u001b[0mio\u001b[0m\u001b[1;33m,\u001b[0m \u001b[0mExcelFile\u001b[0m\u001b[1;33m)\u001b[0m\u001b[1;33m:\u001b[0m\u001b[1;33m\u001b[0m\u001b[1;33m\u001b[0m\u001b[0m\n\u001b[1;32m--> 304\u001b[1;33m         \u001b[0mio\u001b[0m \u001b[1;33m=\u001b[0m \u001b[0mExcelFile\u001b[0m\u001b[1;33m(\u001b[0m\u001b[0mio\u001b[0m\u001b[1;33m,\u001b[0m \u001b[0mengine\u001b[0m\u001b[1;33m=\u001b[0m\u001b[0mengine\u001b[0m\u001b[1;33m)\u001b[0m\u001b[1;33m\u001b[0m\u001b[1;33m\u001b[0m\u001b[0m\n\u001b[0m\u001b[0;32m    305\u001b[0m     \u001b[1;32melif\u001b[0m \u001b[0mengine\u001b[0m \u001b[1;32mand\u001b[0m \u001b[0mengine\u001b[0m \u001b[1;33m!=\u001b[0m \u001b[0mio\u001b[0m\u001b[1;33m.\u001b[0m\u001b[0mengine\u001b[0m\u001b[1;33m:\u001b[0m\u001b[1;33m\u001b[0m\u001b[1;33m\u001b[0m\u001b[0m\n\u001b[0;32m    306\u001b[0m         raise ValueError(\n",
      "\u001b[1;32m~\\AppData\\Roaming\\Python\\Python37\\site-packages\\pandas\\io\\excel\\_base.py\u001b[0m in \u001b[0;36m__init__\u001b[1;34m(self, path_or_buffer, engine)\u001b[0m\n\u001b[0;32m    865\u001b[0m         \u001b[0mself\u001b[0m\u001b[1;33m.\u001b[0m\u001b[0m_io\u001b[0m \u001b[1;33m=\u001b[0m \u001b[0mstringify_path\u001b[0m\u001b[1;33m(\u001b[0m\u001b[0mpath_or_buffer\u001b[0m\u001b[1;33m)\u001b[0m\u001b[1;33m\u001b[0m\u001b[1;33m\u001b[0m\u001b[0m\n\u001b[0;32m    866\u001b[0m \u001b[1;33m\u001b[0m\u001b[0m\n\u001b[1;32m--> 867\u001b[1;33m         \u001b[0mself\u001b[0m\u001b[1;33m.\u001b[0m\u001b[0m_reader\u001b[0m \u001b[1;33m=\u001b[0m \u001b[0mself\u001b[0m\u001b[1;33m.\u001b[0m\u001b[0m_engines\u001b[0m\u001b[1;33m[\u001b[0m\u001b[0mengine\u001b[0m\u001b[1;33m]\u001b[0m\u001b[1;33m(\u001b[0m\u001b[0mself\u001b[0m\u001b[1;33m.\u001b[0m\u001b[0m_io\u001b[0m\u001b[1;33m)\u001b[0m\u001b[1;33m\u001b[0m\u001b[1;33m\u001b[0m\u001b[0m\n\u001b[0m\u001b[0;32m    868\u001b[0m \u001b[1;33m\u001b[0m\u001b[0m\n\u001b[0;32m    869\u001b[0m     \u001b[1;32mdef\u001b[0m \u001b[0m__fspath__\u001b[0m\u001b[1;33m(\u001b[0m\u001b[0mself\u001b[0m\u001b[1;33m)\u001b[0m\u001b[1;33m:\u001b[0m\u001b[1;33m\u001b[0m\u001b[1;33m\u001b[0m\u001b[0m\n",
      "\u001b[1;32m~\\AppData\\Roaming\\Python\\Python37\\site-packages\\pandas\\io\\excel\\_xlrd.py\u001b[0m in \u001b[0;36m__init__\u001b[1;34m(self, filepath_or_buffer)\u001b[0m\n\u001b[0;32m     20\u001b[0m         \u001b[0merr_msg\u001b[0m \u001b[1;33m=\u001b[0m \u001b[1;34m\"Install xlrd >= 1.0.0 for Excel support\"\u001b[0m\u001b[1;33m\u001b[0m\u001b[1;33m\u001b[0m\u001b[0m\n\u001b[0;32m     21\u001b[0m         \u001b[0mimport_optional_dependency\u001b[0m\u001b[1;33m(\u001b[0m\u001b[1;34m\"xlrd\"\u001b[0m\u001b[1;33m,\u001b[0m \u001b[0mextra\u001b[0m\u001b[1;33m=\u001b[0m\u001b[0merr_msg\u001b[0m\u001b[1;33m)\u001b[0m\u001b[1;33m\u001b[0m\u001b[1;33m\u001b[0m\u001b[0m\n\u001b[1;32m---> 22\u001b[1;33m         \u001b[0msuper\u001b[0m\u001b[1;33m(\u001b[0m\u001b[1;33m)\u001b[0m\u001b[1;33m.\u001b[0m\u001b[0m__init__\u001b[0m\u001b[1;33m(\u001b[0m\u001b[0mfilepath_or_buffer\u001b[0m\u001b[1;33m)\u001b[0m\u001b[1;33m\u001b[0m\u001b[1;33m\u001b[0m\u001b[0m\n\u001b[0m\u001b[0;32m     23\u001b[0m \u001b[1;33m\u001b[0m\u001b[0m\n\u001b[0;32m     24\u001b[0m     \u001b[1;33m@\u001b[0m\u001b[0mproperty\u001b[0m\u001b[1;33m\u001b[0m\u001b[1;33m\u001b[0m\u001b[0m\n",
      "\u001b[1;32m~\\AppData\\Roaming\\Python\\Python37\\site-packages\\pandas\\io\\excel\\_base.py\u001b[0m in \u001b[0;36m__init__\u001b[1;34m(self, filepath_or_buffer)\u001b[0m\n\u001b[0;32m    351\u001b[0m             \u001b[0mself\u001b[0m\u001b[1;33m.\u001b[0m\u001b[0mbook\u001b[0m \u001b[1;33m=\u001b[0m \u001b[0mself\u001b[0m\u001b[1;33m.\u001b[0m\u001b[0mload_workbook\u001b[0m\u001b[1;33m(\u001b[0m\u001b[0mfilepath_or_buffer\u001b[0m\u001b[1;33m)\u001b[0m\u001b[1;33m\u001b[0m\u001b[1;33m\u001b[0m\u001b[0m\n\u001b[0;32m    352\u001b[0m         \u001b[1;32melif\u001b[0m \u001b[0misinstance\u001b[0m\u001b[1;33m(\u001b[0m\u001b[0mfilepath_or_buffer\u001b[0m\u001b[1;33m,\u001b[0m \u001b[0mstr\u001b[0m\u001b[1;33m)\u001b[0m\u001b[1;33m:\u001b[0m\u001b[1;33m\u001b[0m\u001b[1;33m\u001b[0m\u001b[0m\n\u001b[1;32m--> 353\u001b[1;33m             \u001b[0mself\u001b[0m\u001b[1;33m.\u001b[0m\u001b[0mbook\u001b[0m \u001b[1;33m=\u001b[0m \u001b[0mself\u001b[0m\u001b[1;33m.\u001b[0m\u001b[0mload_workbook\u001b[0m\u001b[1;33m(\u001b[0m\u001b[0mfilepath_or_buffer\u001b[0m\u001b[1;33m)\u001b[0m\u001b[1;33m\u001b[0m\u001b[1;33m\u001b[0m\u001b[0m\n\u001b[0m\u001b[0;32m    354\u001b[0m         \u001b[1;32melif\u001b[0m \u001b[0misinstance\u001b[0m\u001b[1;33m(\u001b[0m\u001b[0mfilepath_or_buffer\u001b[0m\u001b[1;33m,\u001b[0m \u001b[0mbytes\u001b[0m\u001b[1;33m)\u001b[0m\u001b[1;33m:\u001b[0m\u001b[1;33m\u001b[0m\u001b[1;33m\u001b[0m\u001b[0m\n\u001b[0;32m    355\u001b[0m             \u001b[0mself\u001b[0m\u001b[1;33m.\u001b[0m\u001b[0mbook\u001b[0m \u001b[1;33m=\u001b[0m \u001b[0mself\u001b[0m\u001b[1;33m.\u001b[0m\u001b[0mload_workbook\u001b[0m\u001b[1;33m(\u001b[0m\u001b[0mBytesIO\u001b[0m\u001b[1;33m(\u001b[0m\u001b[0mfilepath_or_buffer\u001b[0m\u001b[1;33m)\u001b[0m\u001b[1;33m)\u001b[0m\u001b[1;33m\u001b[0m\u001b[1;33m\u001b[0m\u001b[0m\n",
      "\u001b[1;32m~\\AppData\\Roaming\\Python\\Python37\\site-packages\\pandas\\io\\excel\\_xlrd.py\u001b[0m in \u001b[0;36mload_workbook\u001b[1;34m(self, filepath_or_buffer)\u001b[0m\n\u001b[0;32m     35\u001b[0m             \u001b[1;32mreturn\u001b[0m \u001b[0mopen_workbook\u001b[0m\u001b[1;33m(\u001b[0m\u001b[0mfile_contents\u001b[0m\u001b[1;33m=\u001b[0m\u001b[0mdata\u001b[0m\u001b[1;33m)\u001b[0m\u001b[1;33m\u001b[0m\u001b[1;33m\u001b[0m\u001b[0m\n\u001b[0;32m     36\u001b[0m         \u001b[1;32melse\u001b[0m\u001b[1;33m:\u001b[0m\u001b[1;33m\u001b[0m\u001b[1;33m\u001b[0m\u001b[0m\n\u001b[1;32m---> 37\u001b[1;33m             \u001b[1;32mreturn\u001b[0m \u001b[0mopen_workbook\u001b[0m\u001b[1;33m(\u001b[0m\u001b[0mfilepath_or_buffer\u001b[0m\u001b[1;33m)\u001b[0m\u001b[1;33m\u001b[0m\u001b[1;33m\u001b[0m\u001b[0m\n\u001b[0m\u001b[0;32m     38\u001b[0m \u001b[1;33m\u001b[0m\u001b[0m\n\u001b[0;32m     39\u001b[0m     \u001b[1;33m@\u001b[0m\u001b[0mproperty\u001b[0m\u001b[1;33m\u001b[0m\u001b[1;33m\u001b[0m\u001b[0m\n",
      "\u001b[1;32mC:\\ProgramData\\Anaconda3\\lib\\site-packages\\xlrd\\__init__.py\u001b[0m in \u001b[0;36mopen_workbook\u001b[1;34m(filename, logfile, verbosity, use_mmap, file_contents, encoding_override, formatting_info, on_demand, ragged_rows)\u001b[0m\n\u001b[0;32m    155\u001b[0m         \u001b[0mformatting_info\u001b[0m\u001b[1;33m=\u001b[0m\u001b[0mformatting_info\u001b[0m\u001b[1;33m,\u001b[0m\u001b[1;33m\u001b[0m\u001b[1;33m\u001b[0m\u001b[0m\n\u001b[0;32m    156\u001b[0m         \u001b[0mon_demand\u001b[0m\u001b[1;33m=\u001b[0m\u001b[0mon_demand\u001b[0m\u001b[1;33m,\u001b[0m\u001b[1;33m\u001b[0m\u001b[1;33m\u001b[0m\u001b[0m\n\u001b[1;32m--> 157\u001b[1;33m         \u001b[0mragged_rows\u001b[0m\u001b[1;33m=\u001b[0m\u001b[0mragged_rows\u001b[0m\u001b[1;33m,\u001b[0m\u001b[1;33m\u001b[0m\u001b[1;33m\u001b[0m\u001b[0m\n\u001b[0m\u001b[0;32m    158\u001b[0m     )\n\u001b[0;32m    159\u001b[0m     \u001b[1;32mreturn\u001b[0m \u001b[0mbk\u001b[0m\u001b[1;33m\u001b[0m\u001b[1;33m\u001b[0m\u001b[0m\n",
      "\u001b[1;32mC:\\ProgramData\\Anaconda3\\lib\\site-packages\\xlrd\\book.py\u001b[0m in \u001b[0;36mopen_workbook_xls\u001b[1;34m(filename, logfile, verbosity, use_mmap, file_contents, encoding_override, formatting_info, on_demand, ragged_rows)\u001b[0m\n\u001b[0;32m     86\u001b[0m             \u001b[0mformatting_info\u001b[0m\u001b[1;33m=\u001b[0m\u001b[0mformatting_info\u001b[0m\u001b[1;33m,\u001b[0m\u001b[1;33m\u001b[0m\u001b[1;33m\u001b[0m\u001b[0m\n\u001b[0;32m     87\u001b[0m             \u001b[0mon_demand\u001b[0m\u001b[1;33m=\u001b[0m\u001b[0mon_demand\u001b[0m\u001b[1;33m,\u001b[0m\u001b[1;33m\u001b[0m\u001b[1;33m\u001b[0m\u001b[0m\n\u001b[1;32m---> 88\u001b[1;33m             \u001b[0mragged_rows\u001b[0m\u001b[1;33m=\u001b[0m\u001b[0mragged_rows\u001b[0m\u001b[1;33m,\u001b[0m\u001b[1;33m\u001b[0m\u001b[1;33m\u001b[0m\u001b[0m\n\u001b[0m\u001b[0;32m     89\u001b[0m         )\n\u001b[0;32m     90\u001b[0m         \u001b[0mt1\u001b[0m \u001b[1;33m=\u001b[0m \u001b[0mperf_counter\u001b[0m\u001b[1;33m(\u001b[0m\u001b[1;33m)\u001b[0m\u001b[1;33m\u001b[0m\u001b[1;33m\u001b[0m\u001b[0m\n",
      "\u001b[1;32mC:\\ProgramData\\Anaconda3\\lib\\site-packages\\xlrd\\book.py\u001b[0m in \u001b[0;36mbiff2_8_load\u001b[1;34m(self, filename, file_contents, logfile, verbosity, use_mmap, encoding_override, formatting_info, on_demand, ragged_rows)\u001b[0m\n\u001b[0;32m    634\u001b[0m                 \u001b[1;32mfor\u001b[0m \u001b[0mqname\u001b[0m \u001b[1;32min\u001b[0m \u001b[1;33m[\u001b[0m\u001b[1;34m'Workbook'\u001b[0m\u001b[1;33m,\u001b[0m \u001b[1;34m'Book'\u001b[0m\u001b[1;33m]\u001b[0m\u001b[1;33m:\u001b[0m\u001b[1;33m\u001b[0m\u001b[1;33m\u001b[0m\u001b[0m\n\u001b[0;32m    635\u001b[0m                     \u001b[0mself\u001b[0m\u001b[1;33m.\u001b[0m\u001b[0mmem\u001b[0m\u001b[1;33m,\u001b[0m \u001b[0mself\u001b[0m\u001b[1;33m.\u001b[0m\u001b[0mbase\u001b[0m\u001b[1;33m,\u001b[0m \u001b[0mself\u001b[0m\u001b[1;33m.\u001b[0m\u001b[0mstream_len\u001b[0m \u001b[1;33m=\u001b[0m\u001b[0;31m \u001b[0m\u001b[0;31m\\\u001b[0m\u001b[1;33m\u001b[0m\u001b[1;33m\u001b[0m\u001b[0m\n\u001b[1;32m--> 636\u001b[1;33m                                 \u001b[0mcd\u001b[0m\u001b[1;33m.\u001b[0m\u001b[0mlocate_named_stream\u001b[0m\u001b[1;33m(\u001b[0m\u001b[0mUNICODE_LITERAL\u001b[0m\u001b[1;33m(\u001b[0m\u001b[0mqname\u001b[0m\u001b[1;33m)\u001b[0m\u001b[1;33m)\u001b[0m\u001b[1;33m\u001b[0m\u001b[1;33m\u001b[0m\u001b[0m\n\u001b[0m\u001b[0;32m    637\u001b[0m                     \u001b[1;32mif\u001b[0m \u001b[0mself\u001b[0m\u001b[1;33m.\u001b[0m\u001b[0mmem\u001b[0m\u001b[1;33m:\u001b[0m \u001b[1;32mbreak\u001b[0m\u001b[1;33m\u001b[0m\u001b[1;33m\u001b[0m\u001b[0m\n\u001b[0;32m    638\u001b[0m                 \u001b[1;32melse\u001b[0m\u001b[1;33m:\u001b[0m\u001b[1;33m\u001b[0m\u001b[1;33m\u001b[0m\u001b[0m\n",
      "\u001b[1;32mC:\\ProgramData\\Anaconda3\\lib\\site-packages\\xlrd\\compdoc.py\u001b[0m in \u001b[0;36mlocate_named_stream\u001b[1;34m(self, qname)\u001b[0m\n\u001b[0;32m    397\u001b[0m             result = self._locate_stream(\n\u001b[0;32m    398\u001b[0m                 \u001b[0mself\u001b[0m\u001b[1;33m.\u001b[0m\u001b[0mmem\u001b[0m\u001b[1;33m,\u001b[0m \u001b[1;36m512\u001b[0m\u001b[1;33m,\u001b[0m \u001b[0mself\u001b[0m\u001b[1;33m.\u001b[0m\u001b[0mSAT\u001b[0m\u001b[1;33m,\u001b[0m \u001b[0mself\u001b[0m\u001b[1;33m.\u001b[0m\u001b[0msec_size\u001b[0m\u001b[1;33m,\u001b[0m \u001b[0md\u001b[0m\u001b[1;33m.\u001b[0m\u001b[0mfirst_SID\u001b[0m\u001b[1;33m,\u001b[0m\u001b[1;33m\u001b[0m\u001b[1;33m\u001b[0m\u001b[0m\n\u001b[1;32m--> 399\u001b[1;33m                 d.tot_size, qname, d.DID+6)\n\u001b[0m\u001b[0;32m    400\u001b[0m             \u001b[1;32mif\u001b[0m \u001b[0mself\u001b[0m\u001b[1;33m.\u001b[0m\u001b[0mDEBUG\u001b[0m\u001b[1;33m:\u001b[0m\u001b[1;33m\u001b[0m\u001b[1;33m\u001b[0m\u001b[0m\n\u001b[0;32m    401\u001b[0m                 \u001b[0mprint\u001b[0m\u001b[1;33m(\u001b[0m\u001b[1;34m\"\\nseen\"\u001b[0m\u001b[1;33m,\u001b[0m \u001b[0mfile\u001b[0m\u001b[1;33m=\u001b[0m\u001b[0mself\u001b[0m\u001b[1;33m.\u001b[0m\u001b[0mlogfile\u001b[0m\u001b[1;33m)\u001b[0m\u001b[1;33m\u001b[0m\u001b[1;33m\u001b[0m\u001b[0m\n",
      "\u001b[1;32mC:\\ProgramData\\Anaconda3\\lib\\site-packages\\xlrd\\compdoc.py\u001b[0m in \u001b[0;36m_locate_stream\u001b[1;34m(self, mem, base, sat, sec_size, start_sid, expected_stream_size, qname, seen_id)\u001b[0m\n\u001b[0;32m    425\u001b[0m             \u001b[1;32mif\u001b[0m \u001b[0mself\u001b[0m\u001b[1;33m.\u001b[0m\u001b[0mseen\u001b[0m\u001b[1;33m[\u001b[0m\u001b[0ms\u001b[0m\u001b[1;33m]\u001b[0m\u001b[1;33m:\u001b[0m\u001b[1;33m\u001b[0m\u001b[1;33m\u001b[0m\u001b[0m\n\u001b[0;32m    426\u001b[0m                 \u001b[0mprint\u001b[0m\u001b[1;33m(\u001b[0m\u001b[1;34m\"_locate_stream(%s): seen\"\u001b[0m \u001b[1;33m%\u001b[0m \u001b[0mqname\u001b[0m\u001b[1;33m,\u001b[0m \u001b[0mfile\u001b[0m\u001b[1;33m=\u001b[0m\u001b[0mself\u001b[0m\u001b[1;33m.\u001b[0m\u001b[0mlogfile\u001b[0m\u001b[1;33m)\u001b[0m\u001b[1;33m;\u001b[0m \u001b[0mdump_list\u001b[0m\u001b[1;33m(\u001b[0m\u001b[0mself\u001b[0m\u001b[1;33m.\u001b[0m\u001b[0mseen\u001b[0m\u001b[1;33m,\u001b[0m \u001b[1;36m20\u001b[0m\u001b[1;33m,\u001b[0m \u001b[0mself\u001b[0m\u001b[1;33m.\u001b[0m\u001b[0mlogfile\u001b[0m\u001b[1;33m)\u001b[0m\u001b[1;33m\u001b[0m\u001b[1;33m\u001b[0m\u001b[0m\n\u001b[1;32m--> 427\u001b[1;33m                 \u001b[1;32mraise\u001b[0m \u001b[0mCompDocError\u001b[0m\u001b[1;33m(\u001b[0m\u001b[1;34m\"%s corruption: seen[%d] == %d\"\u001b[0m \u001b[1;33m%\u001b[0m \u001b[1;33m(\u001b[0m\u001b[0mqname\u001b[0m\u001b[1;33m,\u001b[0m \u001b[0ms\u001b[0m\u001b[1;33m,\u001b[0m \u001b[0mself\u001b[0m\u001b[1;33m.\u001b[0m\u001b[0mseen\u001b[0m\u001b[1;33m[\u001b[0m\u001b[0ms\u001b[0m\u001b[1;33m]\u001b[0m\u001b[1;33m)\u001b[0m\u001b[1;33m)\u001b[0m\u001b[1;33m\u001b[0m\u001b[1;33m\u001b[0m\u001b[0m\n\u001b[0m\u001b[0;32m    428\u001b[0m             \u001b[0mself\u001b[0m\u001b[1;33m.\u001b[0m\u001b[0mseen\u001b[0m\u001b[1;33m[\u001b[0m\u001b[0ms\u001b[0m\u001b[1;33m]\u001b[0m \u001b[1;33m=\u001b[0m \u001b[0mseen_id\u001b[0m\u001b[1;33m\u001b[0m\u001b[1;33m\u001b[0m\u001b[0m\n\u001b[0;32m    429\u001b[0m             \u001b[0mtot_found\u001b[0m \u001b[1;33m+=\u001b[0m \u001b[1;36m1\u001b[0m\u001b[1;33m\u001b[0m\u001b[1;33m\u001b[0m\u001b[0m\n",
      "\u001b[1;31mCompDocError\u001b[0m: Workbook corruption: seen[3] == 4"
     ]
    }
   ],
   "source": [
    "# TAMBÉM VAMOS TER UMA MENSAGEM DE ERRO:\n",
    "\n",
    "pd.read_excel(\"CEPEA_20210118184455.xls\")"
   ]
  },
  {
   "cell_type": "code",
   "execution_count": 5,
   "metadata": {},
   "outputs": [
    {
     "name": "stdout",
     "output_type": "stream",
     "text": [
      "  INDICADOR DO AÇÚCAR CRISTAL CEPEA/ESALQ - SÃO PAULO  Unnamed: 1   Unnamed: 2\n",
      "0                                                NaN          NaN          NaN\n",
      "1                                       Fonte: Cepea          NaN          NaN\n",
      "2                                               Data   À vista R$  À vista US$\n",
      "3                                         20/05/2003        29.65         9.75\n",
      "4                                         21/05/2003        29.26         9.75\n"
     ]
    }
   ],
   "source": [
    "#ALGUEM TEVE ESSE PROBLEMA E APRESENTOU UMA SOLUCAO\n",
    "\n",
    "# https://stackoverflow.com/questions/12705527/reading-excel-files-with-xlrd\n",
    "\n",
    "#pip install OleFileIO-PL\n",
    "import OleFileIO_PL\n",
    "import pandas as pd\n",
    "\n",
    "path = 'CEPEA_20210118184455.xls'\n",
    "with open(path,'rb') as file:\n",
    "    ole = OleFileIO_PL.OleFileIO(file)\n",
    "    if ole.exists('Workbook'):\n",
    "        d = ole.openstream('Workbook')\n",
    "        x=pd.read_excel(d,engine='xlrd')\n",
    "        print(x.head())"
   ]
  },
  {
   "cell_type": "markdown",
   "metadata": {},
   "source": [
    "VAMOS BAIXAR O ARQUIVO POR PROGRAMA"
   ]
  },
  {
   "cell_type": "code",
   "execution_count": 6,
   "metadata": {},
   "outputs": [],
   "source": [
    "import requests\n",
    "import re\n",
    "\n",
    "url = 'https://cepea.esalq.usp.br/br/indicador/series/acucar.aspx?id=143'\n",
    "r = requests.get(url, allow_redirects=True)"
   ]
  },
  {
   "cell_type": "code",
   "execution_count": 7,
   "metadata": {},
   "outputs": [],
   "source": [
    "def get_filename_from_cd(cd):\n",
    "    \"\"\"\n",
    "    Get filename from content-disposition\n",
    "    \"\"\"\n",
    "    if not cd:\n",
    "        return None\n",
    "    fname = re.findall('filename=(.+)', cd)\n",
    "    if len(fname) == 0:\n",
    "        return None\n",
    "    return fname[0]"
   ]
  },
  {
   "cell_type": "code",
   "execution_count": 8,
   "metadata": {},
   "outputs": [
    {
     "data": {
      "text/plain": [
       "'CEPEA_20210120191729.xls;'"
      ]
     },
     "execution_count": 8,
     "metadata": {},
     "output_type": "execute_result"
    }
   ],
   "source": [
    "filename = get_filename_from_cd(r.headers.get('content-disposition'))\n",
    "filename"
   ]
  },
  {
   "cell_type": "code",
   "execution_count": 9,
   "metadata": {},
   "outputs": [
    {
     "data": {
      "text/plain": [
       "150528"
      ]
     },
     "execution_count": 9,
     "metadata": {},
     "output_type": "execute_result"
    }
   ],
   "source": [
    "# A PARTIR DESSE MOMENTO, O ARQUIVO TÁ NA PASTA\n",
    "open(filename, 'wb').write(r.content)"
   ]
  },
  {
   "cell_type": "code",
   "execution_count": 12,
   "metadata": {},
   "outputs": [
    {
     "data": {
      "text/html": [
       "<div>\n",
       "<style scoped>\n",
       "    .dataframe tbody tr th:only-of-type {\n",
       "        vertical-align: middle;\n",
       "    }\n",
       "\n",
       "    .dataframe tbody tr th {\n",
       "        vertical-align: top;\n",
       "    }\n",
       "\n",
       "    .dataframe thead th {\n",
       "        text-align: right;\n",
       "    }\n",
       "</style>\n",
       "<table border=\"1\" class=\"dataframe\">\n",
       "  <thead>\n",
       "    <tr style=\"text-align: right;\">\n",
       "      <th></th>\n",
       "      <th>Data</th>\n",
       "      <th>À vista R$</th>\n",
       "      <th>À vista US$</th>\n",
       "    </tr>\n",
       "  </thead>\n",
       "  <tbody>\n",
       "    <tr>\n",
       "      <th>0</th>\n",
       "      <td>23/01/2013</td>\n",
       "      <td>44.90</td>\n",
       "      <td>22.02</td>\n",
       "    </tr>\n",
       "    <tr>\n",
       "      <th>1</th>\n",
       "      <td>24/01/2013</td>\n",
       "      <td>44.57</td>\n",
       "      <td>21.91</td>\n",
       "    </tr>\n",
       "    <tr>\n",
       "      <th>2</th>\n",
       "      <td>25/01/2013</td>\n",
       "      <td>44.66</td>\n",
       "      <td>22.02</td>\n",
       "    </tr>\n",
       "    <tr>\n",
       "      <th>3</th>\n",
       "      <td>28/01/2013</td>\n",
       "      <td>44.68</td>\n",
       "      <td>22.07</td>\n",
       "    </tr>\n",
       "    <tr>\n",
       "      <th>4</th>\n",
       "      <td>29/01/2013</td>\n",
       "      <td>44.56</td>\n",
       "      <td>22.38</td>\n",
       "    </tr>\n",
       "  </tbody>\n",
       "</table>\n",
       "</div>"
      ],
      "text/plain": [
       "         Data  À vista R$  À vista US$\n",
       "0  23/01/2013       44.90        22.02\n",
       "1  24/01/2013       44.57        21.91\n",
       "2  25/01/2013       44.66        22.02\n",
       "3  28/01/2013       44.68        22.07\n",
       "4  29/01/2013       44.56        22.38"
      ]
     },
     "execution_count": 12,
     "metadata": {},
     "output_type": "execute_result"
    }
   ],
   "source": [
    "#pip install OleFileIO-PL\n",
    "import OleFileIO_PL\n",
    "import pandas as pd\n",
    "\n",
    "\n",
    "path = filename\n",
    "with open(path,'rb') as file:\n",
    "    ole = OleFileIO_PL.OleFileIO(file)\n",
    "    if ole.exists('Workbook'):\n",
    "        d = ole.openstream('Workbook')\n",
    "        excel=pd.read_excel(d,engine='xlrd',header=3)\n",
    "\n",
    "excel.head()"
   ]
  },
  {
   "cell_type": "code",
   "execution_count": 13,
   "metadata": {},
   "outputs": [
    {
     "data": {
      "text/html": [
       "<div>\n",
       "<style scoped>\n",
       "    .dataframe tbody tr th:only-of-type {\n",
       "        vertical-align: middle;\n",
       "    }\n",
       "\n",
       "    .dataframe tbody tr th {\n",
       "        vertical-align: top;\n",
       "    }\n",
       "\n",
       "    .dataframe thead th {\n",
       "        text-align: right;\n",
       "    }\n",
       "</style>\n",
       "<table border=\"1\" class=\"dataframe\">\n",
       "  <thead>\n",
       "    <tr style=\"text-align: right;\">\n",
       "      <th></th>\n",
       "      <th>Data</th>\n",
       "      <th>À vista R$</th>\n",
       "      <th>À vista US$</th>\n",
       "    </tr>\n",
       "  </thead>\n",
       "  <tbody>\n",
       "    <tr>\n",
       "      <th>1973</th>\n",
       "      <td>14/01/2021</td>\n",
       "      <td>101.48</td>\n",
       "      <td>19.29</td>\n",
       "    </tr>\n",
       "    <tr>\n",
       "      <th>1974</th>\n",
       "      <td>15/01/2021</td>\n",
       "      <td>101.91</td>\n",
       "      <td>19.33</td>\n",
       "    </tr>\n",
       "    <tr>\n",
       "      <th>1975</th>\n",
       "      <td>18/01/2021</td>\n",
       "      <td>101.45</td>\n",
       "      <td>19.22</td>\n",
       "    </tr>\n",
       "    <tr>\n",
       "      <th>1976</th>\n",
       "      <td>19/01/2021</td>\n",
       "      <td>103.21</td>\n",
       "      <td>19.49</td>\n",
       "    </tr>\n",
       "    <tr>\n",
       "      <th>1977</th>\n",
       "      <td>20/01/2021</td>\n",
       "      <td>102.46</td>\n",
       "      <td>19.32</td>\n",
       "    </tr>\n",
       "  </tbody>\n",
       "</table>\n",
       "</div>"
      ],
      "text/plain": [
       "            Data  À vista R$  À vista US$\n",
       "1973  14/01/2021      101.48        19.29\n",
       "1974  15/01/2021      101.91        19.33\n",
       "1975  18/01/2021      101.45        19.22\n",
       "1976  19/01/2021      103.21        19.49\n",
       "1977  20/01/2021      102.46        19.32"
      ]
     },
     "execution_count": 13,
     "metadata": {},
     "output_type": "execute_result"
    }
   ],
   "source": [
    "excel.tail()"
   ]
  },
  {
   "cell_type": "code",
   "execution_count": 14,
   "metadata": {},
   "outputs": [
    {
     "data": {
      "text/plain": [
       "(1978, 3)"
      ]
     },
     "execution_count": 14,
     "metadata": {},
     "output_type": "execute_result"
    }
   ],
   "source": [
    "excel.shape"
   ]
  },
  {
   "cell_type": "code",
   "execution_count": null,
   "metadata": {},
   "outputs": [],
   "source": [
    "import numpy as np\n",
    "import matplotlib.pyplot as plt\n",
    "\n",
    "x = excel[\"Data\"]\n",
    "y_rs = excel[\"À vista R$\"]\n",
    "y_us = excel[\"À vista US$\"]\n",
    "\n",
    "plt.plot(x,y_rs, label=\"acucar em real\")\n",
    "plt.plot(x,y_us, label=\"acucar em dolar\")\n",
    "plt.legend()"
   ]
  },
  {
   "cell_type": "code",
   "execution_count": 15,
   "metadata": {},
   "outputs": [
    {
     "data": {
      "text/html": [
       "<div>\n",
       "<style scoped>\n",
       "    .dataframe tbody tr th:only-of-type {\n",
       "        vertical-align: middle;\n",
       "    }\n",
       "\n",
       "    .dataframe tbody tr th {\n",
       "        vertical-align: top;\n",
       "    }\n",
       "\n",
       "    .dataframe thead th {\n",
       "        text-align: right;\n",
       "    }\n",
       "</style>\n",
       "<table border=\"1\" class=\"dataframe\">\n",
       "  <thead>\n",
       "    <tr style=\"text-align: right;\">\n",
       "      <th></th>\n",
       "      <th>À vista R$</th>\n",
       "      <th>À vista US$</th>\n",
       "    </tr>\n",
       "  </thead>\n",
       "  <tbody>\n",
       "    <tr>\n",
       "      <th>count</th>\n",
       "      <td>1978.000000</td>\n",
       "      <td>1978.000000</td>\n",
       "    </tr>\n",
       "    <tr>\n",
       "      <th>mean</th>\n",
       "      <td>64.832791</td>\n",
       "      <td>19.417958</td>\n",
       "    </tr>\n",
       "    <tr>\n",
       "      <th>std</th>\n",
       "      <td>15.338748</td>\n",
       "      <td>3.749687</td>\n",
       "    </tr>\n",
       "    <tr>\n",
       "      <th>min</th>\n",
       "      <td>43.950000</td>\n",
       "      <td>12.640000</td>\n",
       "    </tr>\n",
       "    <tr>\n",
       "      <th>25%</th>\n",
       "      <td>51.710000</td>\n",
       "      <td>16.262500</td>\n",
       "    </tr>\n",
       "    <tr>\n",
       "      <th>50%</th>\n",
       "      <td>62.285000</td>\n",
       "      <td>19.165000</td>\n",
       "    </tr>\n",
       "    <tr>\n",
       "      <th>75%</th>\n",
       "      <td>76.560000</td>\n",
       "      <td>21.767500</td>\n",
       "    </tr>\n",
       "    <tr>\n",
       "      <th>max</th>\n",
       "      <td>109.240000</td>\n",
       "      <td>31.680000</td>\n",
       "    </tr>\n",
       "  </tbody>\n",
       "</table>\n",
       "</div>"
      ],
      "text/plain": [
       "        À vista R$  À vista US$\n",
       "count  1978.000000  1978.000000\n",
       "mean     64.832791    19.417958\n",
       "std      15.338748     3.749687\n",
       "min      43.950000    12.640000\n",
       "25%      51.710000    16.262500\n",
       "50%      62.285000    19.165000\n",
       "75%      76.560000    21.767500\n",
       "max     109.240000    31.680000"
      ]
     },
     "execution_count": 15,
     "metadata": {},
     "output_type": "execute_result"
    }
   ],
   "source": [
    "#Rápida estatistica descritiva\n",
    "\n",
    "excel.describe()"
   ]
  },
  {
   "cell_type": "markdown",
   "metadata": {},
   "source": [
    "https://matplotlib.org/3.3.3/api/_as_gen/matplotlib.pyplot.hist.html"
   ]
  },
  {
   "cell_type": "code",
   "execution_count": 16,
   "metadata": {},
   "outputs": [
    {
     "data": {
      "image/png": "[encoded data removed]",
      "text/plain": [
       "<Figure size 1080x360 with 2 Axes>"
      ]
     },
     "metadata": {
      "needs_background": "light"
     },
     "output_type": "display_data"
    }
   ],
   "source": [
    "%matplotlib inline\n",
    "import matplotlib.pyplot as plt\n",
    "excel.hist(bins=50, figsize=(15,5))\n",
    "plt.show()"
   ]
  },
  {
   "cell_type": "markdown",
   "metadata": {},
   "source": [
    "Alguém tira alguma conclusão do gráfico acima??"
   ]
  },
  {
   "cell_type": "markdown",
   "metadata": {},
   "source": [
    "#### Boa prática - colocar em array"
   ]
  },
  {
   "cell_type": "code",
   "execution_count": null,
   "metadata": {},
   "outputs": [],
   "source": [
    "# O codigo acima é exatemente o mesmo do de baixo, mas aqui colocamos em array\n",
    "\n",
    "excel=excel.tail(100)\n",
    "\n",
    "import numpy as np\n",
    "import matplotlib.pyplot as plt\n",
    "\n",
    "x = np.array(excel[\"Data\"])\n",
    "y_rs = np.array(excel[\"À vista R$\"])\n",
    "y_us = np.array(excel[\"À vista US$\"])\n",
    "\n",
    "plt.plot(x,y_rs, label=\"acucar em real\")\n",
    "plt.plot(x,y_us, label=\"acucar em dolar\")\n",
    "plt.legend()"
   ]
  },
  {
   "cell_type": "markdown",
   "metadata": {},
   "source": [
    "## Sobre o Quandl\n",
    "\n",
    "https://www.quandl.com/\n",
    "\n",
    "https://www.quandl.com/tools/python"
   ]
  },
  {
   "cell_type": "code",
   "execution_count": 18,
   "metadata": {},
   "outputs": [
    {
     "data": {
      "text/html": [
       "<div>\n",
       "<style scoped>\n",
       "    .dataframe tbody tr th:only-of-type {\n",
       "        vertical-align: middle;\n",
       "    }\n",
       "\n",
       "    .dataframe tbody tr th {\n",
       "        vertical-align: top;\n",
       "    }\n",
       "\n",
       "    .dataframe thead th {\n",
       "        text-align: right;\n",
       "    }\n",
       "</style>\n",
       "<table border=\"1\" class=\"dataframe\">\n",
       "  <thead>\n",
       "    <tr style=\"text-align: right;\">\n",
       "      <th></th>\n",
       "      <th>Price US$</th>\n",
       "      <th>Daily %</th>\n",
       "      <th>Monthly %</th>\n",
       "    </tr>\n",
       "    <tr>\n",
       "      <th>Date</th>\n",
       "      <th></th>\n",
       "      <th></th>\n",
       "      <th></th>\n",
       "    </tr>\n",
       "  </thead>\n",
       "  <tbody>\n",
       "    <tr>\n",
       "      <th>2013-01-23</th>\n",
       "      <td>22.02</td>\n",
       "      <td>NaN</td>\n",
       "      <td>NaN</td>\n",
       "    </tr>\n",
       "    <tr>\n",
       "      <th>2013-01-24</th>\n",
       "      <td>21.91</td>\n",
       "      <td>NaN</td>\n",
       "      <td>NaN</td>\n",
       "    </tr>\n",
       "    <tr>\n",
       "      <th>2013-01-25</th>\n",
       "      <td>22.02</td>\n",
       "      <td>NaN</td>\n",
       "      <td>NaN</td>\n",
       "    </tr>\n",
       "    <tr>\n",
       "      <th>2013-01-28</th>\n",
       "      <td>22.07</td>\n",
       "      <td>NaN</td>\n",
       "      <td>NaN</td>\n",
       "    </tr>\n",
       "    <tr>\n",
       "      <th>2013-01-29</th>\n",
       "      <td>22.38</td>\n",
       "      <td>NaN</td>\n",
       "      <td>NaN</td>\n",
       "    </tr>\n",
       "    <tr>\n",
       "      <th>...</th>\n",
       "      <td>...</td>\n",
       "      <td>...</td>\n",
       "      <td>...</td>\n",
       "    </tr>\n",
       "    <tr>\n",
       "      <th>2021-01-13</th>\n",
       "      <td>19.05</td>\n",
       "      <td>1.22</td>\n",
       "      <td>-6.07</td>\n",
       "    </tr>\n",
       "    <tr>\n",
       "      <th>2021-01-14</th>\n",
       "      <td>19.29</td>\n",
       "      <td>1.26</td>\n",
       "      <td>-4.88</td>\n",
       "    </tr>\n",
       "    <tr>\n",
       "      <th>2021-01-15</th>\n",
       "      <td>19.33</td>\n",
       "      <td>0.21</td>\n",
       "      <td>-4.68</td>\n",
       "    </tr>\n",
       "    <tr>\n",
       "      <th>2021-01-18</th>\n",
       "      <td>19.22</td>\n",
       "      <td>-0.57</td>\n",
       "      <td>-5.23</td>\n",
       "    </tr>\n",
       "    <tr>\n",
       "      <th>2021-01-19</th>\n",
       "      <td>19.49</td>\n",
       "      <td>1.40</td>\n",
       "      <td>-3.90</td>\n",
       "    </tr>\n",
       "  </tbody>\n",
       "</table>\n",
       "<p>1977 rows × 3 columns</p>\n",
       "</div>"
      ],
      "text/plain": [
       "            Price US$  Daily %  Monthly %\n",
       "Date                                     \n",
       "2013-01-23      22.02      NaN        NaN\n",
       "2013-01-24      21.91      NaN        NaN\n",
       "2013-01-25      22.02      NaN        NaN\n",
       "2013-01-28      22.07      NaN        NaN\n",
       "2013-01-29      22.38      NaN        NaN\n",
       "...               ...      ...        ...\n",
       "2021-01-13      19.05     1.22      -6.07\n",
       "2021-01-14      19.29     1.26      -4.88\n",
       "2021-01-15      19.33     0.21      -4.68\n",
       "2021-01-18      19.22    -0.57      -5.23\n",
       "2021-01-19      19.49     1.40      -3.90\n",
       "\n",
       "[1977 rows x 3 columns]"
      ]
     },
     "execution_count": 18,
     "metadata": {},
     "output_type": "execute_result"
    }
   ],
   "source": [
    "import quandl\n",
    "quandl.get(\"CEPEA/SUGAR_C\", authtoken=\"gC1jqxmRVSBh_LAzwxDL\")"
   ]
  },
  {
   "cell_type": "markdown",
   "metadata": {},
   "source": [
    "### Sobre Pip Install\n",
    "\n",
    "https://jakevdp.github.io/blog/2017/12/05/installing-python-packages-from-jupyter/\n",
    "\n",
    "https://blog.vertigo.com.br/o-que-e-api-entenda-de-uma-maneira-simples/\n",
    "\n",
    "A sigla API corresponde às palavras em inglês “Application Programming Interface“. No português “Interface de Programação de Aplicações”. Elas são uma forma de integrar sistemas, possibilitando benefícios como a segurança dos dados, facilidade no intercâmbio entre informações com diferentes linguagens de programação e a monetização de acessos. "
   ]
  },
  {
   "cell_type": "code",
   "execution_count": null,
   "metadata": {},
   "outputs": [],
   "source": [
    "!pip install quandl"
   ]
  },
  {
   "cell_type": "code",
   "execution_count": 1,
   "metadata": {},
   "outputs": [
    {
     "data": {
      "text/html": [
       "<div>\n",
       "<style scoped>\n",
       "    .dataframe tbody tr th:only-of-type {\n",
       "        vertical-align: middle;\n",
       "    }\n",
       "\n",
       "    .dataframe tbody tr th {\n",
       "        vertical-align: top;\n",
       "    }\n",
       "\n",
       "    .dataframe thead th {\n",
       "        text-align: right;\n",
       "    }\n",
       "</style>\n",
       "<table border=\"1\" class=\"dataframe\">\n",
       "  <thead>\n",
       "    <tr style=\"text-align: right;\">\n",
       "      <th></th>\n",
       "      <th>Date</th>\n",
       "      <th>Price US$</th>\n",
       "      <th>Daily %</th>\n",
       "      <th>Monthly %</th>\n",
       "    </tr>\n",
       "  </thead>\n",
       "  <tbody>\n",
       "    <tr>\n",
       "      <th>1970</th>\n",
       "      <td>2021-01-11</td>\n",
       "      <td>18.73</td>\n",
       "      <td>-3.05</td>\n",
       "      <td>-7.64</td>\n",
       "    </tr>\n",
       "    <tr>\n",
       "      <th>1971</th>\n",
       "      <td>2021-01-12</td>\n",
       "      <td>18.82</td>\n",
       "      <td>0.48</td>\n",
       "      <td>-7.20</td>\n",
       "    </tr>\n",
       "    <tr>\n",
       "      <th>1972</th>\n",
       "      <td>2021-01-13</td>\n",
       "      <td>19.05</td>\n",
       "      <td>1.22</td>\n",
       "      <td>-6.07</td>\n",
       "    </tr>\n",
       "    <tr>\n",
       "      <th>1973</th>\n",
       "      <td>2021-01-14</td>\n",
       "      <td>19.29</td>\n",
       "      <td>1.26</td>\n",
       "      <td>-4.88</td>\n",
       "    </tr>\n",
       "    <tr>\n",
       "      <th>1974</th>\n",
       "      <td>2021-01-15</td>\n",
       "      <td>19.33</td>\n",
       "      <td>0.21</td>\n",
       "      <td>-4.68</td>\n",
       "    </tr>\n",
       "  </tbody>\n",
       "</table>\n",
       "</div>"
      ],
      "text/plain": [
       "           Date  Price US$  Daily %  Monthly %\n",
       "1970 2021-01-11      18.73    -3.05      -7.64\n",
       "1971 2021-01-12      18.82     0.48      -7.20\n",
       "1972 2021-01-13      19.05     1.22      -6.07\n",
       "1973 2021-01-14      19.29     1.26      -4.88\n",
       "1974 2021-01-15      19.33     0.21      -4.68"
      ]
     },
     "execution_count": 1,
     "metadata": {},
     "output_type": "execute_result"
    }
   ],
   "source": [
    "import quandl\n",
    "dados = quandl.get(\"CEPEA/SUGAR_C\")\n",
    "dados = dados.reset_index()\n",
    "dados.tail()"
   ]
  },
  {
   "cell_type": "code",
   "execution_count": 2,
   "metadata": {},
   "outputs": [
    {
     "ename": "NameError",
     "evalue": "name 'excel' is not defined",
     "output_type": "error",
     "traceback": [
      "\u001b[1;31m---------------------------------------------------------------------------\u001b[0m",
      "\u001b[1;31mNameError\u001b[0m                                 Traceback (most recent call last)",
      "\u001b[1;32m<ipython-input-2-916c7f584c57>\u001b[0m in \u001b[0;36m<module>\u001b[1;34m\u001b[0m\n\u001b[1;32m----> 1\u001b[1;33m \u001b[0mexcel\u001b[0m\u001b[1;33m.\u001b[0m\u001b[0mtail\u001b[0m\u001b[1;33m(\u001b[0m\u001b[1;33m)\u001b[0m\u001b[1;33m\u001b[0m\u001b[1;33m\u001b[0m\u001b[0m\n\u001b[0m",
      "\u001b[1;31mNameError\u001b[0m: name 'excel' is not defined"
     ]
    }
   ],
   "source": [
    "excel.tail()"
   ]
  },
  {
   "cell_type": "markdown",
   "metadata": {},
   "source": [
    "https://machinelearningmastery.com/how-to-develop-lstm-models-for-time-series-forecasting/"
   ]
  },
  {
   "cell_type": "markdown",
   "metadata": {},
   "source": [
    "### Médulo 2.3. - Exportações"
   ]
  },
  {
   "cell_type": "markdown",
   "metadata": {},
   "source": [
    "Exportação de produtos agrícolas: http://comexstat.mdic.gov.br/pt/geral/26104\n",
    "\n",
    "Exportação total: http://comexstat.mdic.gov.br/pt/geral/26106\n",
    "\n",
    "China: http://comexstat.mdic.gov.br/pt/geral/26107\n",
    "\n",
    "Importações: http://comexstat.mdic.gov.br/pt/geral/26108"
   ]
  },
  {
   "cell_type": "code",
   "execution_count": 25,
   "metadata": {},
   "outputs": [],
   "source": [
    "import pandas as pd\n",
    "exp = pd.read_excel(\"COMEX\\Total2020.xlsx\")\n",
    "china = pd.read_excel(\"COMEX\\China2020.xlsx\")\n",
    "agr = pd.read_excel(\"COMEX\\Vegetal2020.xlsx\")\n",
    "imp = pd.read_excel(\"COMEX\\Imp2020.xlsx\")"
   ]
  },
  {
   "cell_type": "markdown",
   "metadata": {},
   "source": [
    "AGREGAÇÕES: https://jakevdp.github.io/PythonDataScienceHandbook/03.08-aggregation-and-grouping.html"
   ]
  },
  {
   "cell_type": "code",
   "execution_count": 11,
   "metadata": {},
   "outputs": [
    {
     "name": "stdout",
     "output_type": "stream",
     "text": [
      "Use .sum() para soma = 209817.415387\n",
      "Use .max() para máximo = 67686.223961\n",
      "Use .min() para mínimo = 3e-05\n",
      "Use .média() para média = 859.9074401106558\n",
      "Use .média() para contar = 244\n"
     ]
    }
   ],
   "source": [
    "#Exportações 2020\n",
    "print(\"Use .sum() para soma =\",(exp[\"2020 - Valor FOB (US$)\"].sum())/10**6)\n",
    "print(\"Use .max() para máximo =\",(exp[\"2020 - Valor FOB (US$)\"].max())/10**6)\n",
    "print(\"Use .min() para mínimo =\",(exp[\"2020 - Valor FOB (US$)\"].min())/10**6)\n",
    "print(\"Use .média() para média =\",(exp[\"2020 - Valor FOB (US$)\"].mean())/10**6)\n",
    "print(\"Use .média() para contar =\",(exp[\"2020 - Valor FOB (US$)\"].count()))"
   ]
  },
  {
   "cell_type": "markdown",
   "metadata": {},
   "source": [
    "### Quanto a agricultura representa das exportações? Quem é nosso principal cliente?"
   ]
  },
  {
   "cell_type": "code",
   "execution_count": 12,
   "metadata": {},
   "outputs": [
    {
     "data": {
      "text/plain": [
       "209817.415387"
      ]
     },
     "execution_count": 12,
     "metadata": {},
     "output_type": "execute_result"
    }
   ],
   "source": [
    "#Total de Exportações 2020\n",
    "(exp[\"2020 - Valor FOB (US$)\"].sum())/10**6"
   ]
  },
  {
   "cell_type": "code",
   "execution_count": 13,
   "metadata": {},
   "outputs": [
    {
     "data": {
      "text/plain": [
       "45029.313492"
      ]
     },
     "execution_count": 13,
     "metadata": {},
     "output_type": "execute_result"
    }
   ],
   "source": [
    "#Total de Exportações agrícolas 2020\n",
    "(agr[\"2020 - Valor FOB (US$)\"].sum())/10**6"
   ]
  },
  {
   "cell_type": "code",
   "execution_count": 14,
   "metadata": {},
   "outputs": [
    {
     "data": {
      "text/plain": [
       "0.2146118967719872"
      ]
     },
     "execution_count": 14,
     "metadata": {},
     "output_type": "execute_result"
    }
   ],
   "source": [
    "#Quanto representa do total\n",
    "agr[\"2020 - Valor FOB (US$)\"].sum()/exp[\"2020 - Valor FOB (US$)\"].sum()"
   ]
  },
  {
   "cell_type": "code",
   "execution_count": 15,
   "metadata": {},
   "outputs": [
    {
     "data": {
      "text/plain": [
       "0.3225958333161021"
      ]
     },
     "execution_count": 15,
     "metadata": {},
     "output_type": "execute_result"
    }
   ],
   "source": [
    "#Quanto china representa do total \n",
    "china = exp[exp[\"Países\"]==\"China\"]\n",
    "\n",
    "#Quanto representa do total\n",
    "china[\"2020 - Valor FOB (US$)\"].sum()/exp[\"2020 - Valor FOB (US$)\"].sum()"
   ]
  },
  {
   "cell_type": "code",
   "execution_count": 16,
   "metadata": {},
   "outputs": [
    {
     "data": {
      "text/plain": [
       "0.10467437606402222"
      ]
     },
     "execution_count": 16,
     "metadata": {},
     "output_type": "execute_result"
    }
   ],
   "source": [
    "#Quanto china representa do total \n",
    "agr_china = agr[agr[\"Países\"]==\"China\"]\n",
    "\n",
    "#Quanto representa do total\n",
    "agr_china[\"2020 - Valor FOB (US$)\"].sum()/exp[\"2020 - Valor FOB (US$)\"].sum()"
   ]
  },
  {
   "cell_type": "markdown",
   "metadata": {},
   "source": [
    "**Conclusões:**\n",
    "\n",
    "Em 2020 o Brasil exportou 209 bilhões. A Agricultura exportou 45 bi - 21% do Total.\n",
    "\n",
    "A China é o principal cliente do Brasil - Exportamos 67 bi para esse país, 22bi em produtos agrícolas.\n",
    "\n",
    "A Exportação para a China é 32% do total. A Exportação agrícola para a China representa 10% de todas as exportações Brasileiras."
   ]
  },
  {
   "cell_type": "code",
   "execution_count": 18,
   "metadata": {},
   "outputs": [
    {
     "name": "stdout",
     "output_type": "stream",
     "text": [
      "21458.840494\n",
      "0.10227387681055936\n"
     ]
    }
   ],
   "source": [
    "#Quanto EUA representa do total \n",
    "eua = exp[exp[\"Países\"]==\"Estados Unidos\"]\n",
    "print(eua[\"2020 - Valor FOB (US$)\"].sum()/10**6)\n",
    "#Quanto representa do total\n",
    "print(eua[\"2020 - Valor FOB (US$)\"].sum()/exp[\"2020 - Valor FOB (US$)\"].sum())"
   ]
  },
  {
   "cell_type": "markdown",
   "metadata": {},
   "source": [
    "EUA é nosso segundo cliente, entretanto A China é 3x maior que os EUA em exportações. "
   ]
  },
  {
   "cell_type": "code",
   "execution_count": 26,
   "metadata": {},
   "outputs": [
    {
     "data": {
      "text/html": [
       "<div>\n",
       "<style scoped>\n",
       "    .dataframe tbody tr th:only-of-type {\n",
       "        vertical-align: middle;\n",
       "    }\n",
       "\n",
       "    .dataframe tbody tr th {\n",
       "        vertical-align: top;\n",
       "    }\n",
       "\n",
       "    .dataframe thead th {\n",
       "        text-align: right;\n",
       "    }\n",
       "</style>\n",
       "<table border=\"1\" class=\"dataframe\">\n",
       "  <thead>\n",
       "    <tr style=\"text-align: right;\">\n",
       "      <th></th>\n",
       "      <th>Países</th>\n",
       "      <th>2020 - Valor FOB (US$)_Exportacao</th>\n",
       "      <th>2020 - Quilograma Líquido_Exportacao</th>\n",
       "      <th>2020 - Valor FOB (US$)_Agricola</th>\n",
       "      <th>2020 - Quilograma Líquido_Agricola</th>\n",
       "      <th>2020 - Valor FOB (US$)_Importacao</th>\n",
       "      <th>2020 - Quilograma Líquido_Importacao</th>\n",
       "    </tr>\n",
       "  </thead>\n",
       "  <tbody>\n",
       "    <tr>\n",
       "      <th>0</th>\n",
       "      <td>China</td>\n",
       "      <td>67686223961</td>\n",
       "      <td>376465389507</td>\n",
       "      <td>21962507043</td>\n",
       "      <td>61313778393</td>\n",
       "      <td>34041634708</td>\n",
       "      <td>11103559455</td>\n",
       "    </tr>\n",
       "    <tr>\n",
       "      <th>1</th>\n",
       "      <td>Estados Unidos</td>\n",
       "      <td>21458840494</td>\n",
       "      <td>27781654137</td>\n",
       "      <td>1190920768</td>\n",
       "      <td>583232202</td>\n",
       "      <td>24122469498</td>\n",
       "      <td>36510589789</td>\n",
       "    </tr>\n",
       "    <tr>\n",
       "      <th>2</th>\n",
       "      <td>Argentina</td>\n",
       "      <td>8474734717</td>\n",
       "      <td>6252906128</td>\n",
       "      <td>258800721</td>\n",
       "      <td>534127184</td>\n",
       "      <td>7787832116</td>\n",
       "      <td>9841195602</td>\n",
       "    </tr>\n",
       "    <tr>\n",
       "      <th>3</th>\n",
       "      <td>Países Baixos (Holanda)</td>\n",
       "      <td>7397545961</td>\n",
       "      <td>20575669469</td>\n",
       "      <td>1595150631</td>\n",
       "      <td>4077298057</td>\n",
       "      <td>1339332556</td>\n",
       "      <td>1837062870</td>\n",
       "    </tr>\n",
       "    <tr>\n",
       "      <th>4</th>\n",
       "      <td>Canadá</td>\n",
       "      <td>4235605707</td>\n",
       "      <td>7829350589</td>\n",
       "      <td>133739300</td>\n",
       "      <td>68244307</td>\n",
       "      <td>1805933919</td>\n",
       "      <td>4477334477</td>\n",
       "    </tr>\n",
       "  </tbody>\n",
       "</table>\n",
       "</div>"
      ],
      "text/plain": [
       "                    Países  2020 - Valor FOB (US$)_Exportacao  \\\n",
       "0                    China                        67686223961   \n",
       "1           Estados Unidos                        21458840494   \n",
       "2                Argentina                         8474734717   \n",
       "3  Países Baixos (Holanda)                         7397545961   \n",
       "4                   Canadá                         4235605707   \n",
       "\n",
       "   2020 - Quilograma Líquido_Exportacao  2020 - Valor FOB (US$)_Agricola  \\\n",
       "0                          376465389507                      21962507043   \n",
       "1                           27781654137                       1190920768   \n",
       "2                            6252906128                        258800721   \n",
       "3                           20575669469                       1595150631   \n",
       "4                            7829350589                        133739300   \n",
       "\n",
       "   2020 - Quilograma Líquido_Agricola  2020 - Valor FOB (US$)_Importacao  \\\n",
       "0                         61313778393                        34041634708   \n",
       "1                           583232202                        24122469498   \n",
       "2                           534127184                         7787832116   \n",
       "3                          4077298057                         1339332556   \n",
       "4                            68244307                         1805933919   \n",
       "\n",
       "   2020 - Quilograma Líquido_Importacao  \n",
       "0                           11103559455  \n",
       "1                           36510589789  \n",
       "2                            9841195602  \n",
       "3                            1837062870  \n",
       "4                            4477334477  "
      ]
     },
     "execution_count": 26,
     "metadata": {},
     "output_type": "execute_result"
    }
   ],
   "source": [
    "#Merge de exportacao e Agricultura\n",
    "paises = exp.merge(agr,  how='inner', on=\"Países\", suffixes=('_Exportacao', '_Agricola'))\n",
    "\n",
    "#Merge do anterior com Importações\n",
    "paises = paises.merge(imp,  how='inner', on=\"Países\")\n",
    "\n",
    "#sort pelo total exportado\n",
    "paises.sort_values(by=['2020 - Valor FOB (US$)_Exportacao'], ascending=False, inplace=True)\n",
    "\n",
    "# apagar colunas inuteis\n",
    "paises = paises.drop(['Código ISIC Divisão', 'Descrição ISIC Divisão'], axis=1)\n",
    "\n",
    "# renomear (nao dá certo fazer o suffixes pq nao tem mais nome igual)\n",
    "paises = paises.rename(columns={\"2020 - Valor FOB (US$)\": \"2020 - Valor FOB (US$)_Importacao\", \"2020 - Quilograma Líquido\": \"2020 - Quilograma Líquido_Importacao\"})\n",
    "\n",
    "# Exibir DF (lembrando que formalmente eu teria de usar o Print(), mas como é jupyter, dá para dispensar)\n",
    "paises.head(5)     "
   ]
  },
  {
   "cell_type": "code",
   "execution_count": 27,
   "metadata": {},
   "outputs": [],
   "source": [
    "# Dividir por bilão - Vamos fazer uma função\n",
    "def dividir(coluna,divisor=10**9):\n",
    "    try: \n",
    "        paises[coluna] = paises[coluna]/divisor\n",
    "    except: \n",
    "        return None "
   ]
  },
  {
   "cell_type": "code",
   "execution_count": 28,
   "metadata": {},
   "outputs": [],
   "source": [
    "#vamos aplica a funcao em todas as colunas\n",
    "for coluna in paises.columns:\n",
    "    dividir(coluna)"
   ]
  },
  {
   "cell_type": "code",
   "execution_count": 29,
   "metadata": {},
   "outputs": [
    {
     "data": {
      "text/html": [
       "<div>\n",
       "<style scoped>\n",
       "    .dataframe tbody tr th:only-of-type {\n",
       "        vertical-align: middle;\n",
       "    }\n",
       "\n",
       "    .dataframe tbody tr th {\n",
       "        vertical-align: top;\n",
       "    }\n",
       "\n",
       "    .dataframe thead th {\n",
       "        text-align: right;\n",
       "    }\n",
       "</style>\n",
       "<table border=\"1\" class=\"dataframe\">\n",
       "  <thead>\n",
       "    <tr style=\"text-align: right;\">\n",
       "      <th></th>\n",
       "      <th>Países</th>\n",
       "      <th>2020 - Valor FOB (US$)_Exportacao</th>\n",
       "      <th>2020 - Quilograma Líquido_Exportacao</th>\n",
       "      <th>2020 - Valor FOB (US$)_Agricola</th>\n",
       "      <th>2020 - Quilograma Líquido_Agricola</th>\n",
       "      <th>2020 - Valor FOB (US$)_Importacao</th>\n",
       "      <th>2020 - Quilograma Líquido_Importacao</th>\n",
       "    </tr>\n",
       "  </thead>\n",
       "  <tbody>\n",
       "    <tr>\n",
       "      <th>0</th>\n",
       "      <td>China</td>\n",
       "      <td>67.686224</td>\n",
       "      <td>376.465390</td>\n",
       "      <td>2.196251e+01</td>\n",
       "      <td>6.131378e+01</td>\n",
       "      <td>3.404163e+01</td>\n",
       "      <td>1.110356e+01</td>\n",
       "    </tr>\n",
       "    <tr>\n",
       "      <th>1</th>\n",
       "      <td>Estados Unidos</td>\n",
       "      <td>21.458840</td>\n",
       "      <td>27.781654</td>\n",
       "      <td>1.190921e+00</td>\n",
       "      <td>5.832322e-01</td>\n",
       "      <td>2.412247e+01</td>\n",
       "      <td>3.651059e+01</td>\n",
       "    </tr>\n",
       "    <tr>\n",
       "      <th>2</th>\n",
       "      <td>Argentina</td>\n",
       "      <td>8.474735</td>\n",
       "      <td>6.252906</td>\n",
       "      <td>2.588007e-01</td>\n",
       "      <td>5.341272e-01</td>\n",
       "      <td>7.787832e+00</td>\n",
       "      <td>9.841196e+00</td>\n",
       "    </tr>\n",
       "    <tr>\n",
       "      <th>3</th>\n",
       "      <td>Países Baixos (Holanda)</td>\n",
       "      <td>7.397546</td>\n",
       "      <td>20.575669</td>\n",
       "      <td>1.595151e+00</td>\n",
       "      <td>4.077298e+00</td>\n",
       "      <td>1.339333e+00</td>\n",
       "      <td>1.837063e+00</td>\n",
       "    </tr>\n",
       "    <tr>\n",
       "      <th>4</th>\n",
       "      <td>Canadá</td>\n",
       "      <td>4.235606</td>\n",
       "      <td>7.829351</td>\n",
       "      <td>1.337393e-01</td>\n",
       "      <td>6.824431e-02</td>\n",
       "      <td>1.805934e+00</td>\n",
       "      <td>4.477334e+00</td>\n",
       "    </tr>\n",
       "    <tr>\n",
       "      <th>...</th>\n",
       "      <td>...</td>\n",
       "      <td>...</td>\n",
       "      <td>...</td>\n",
       "      <td>...</td>\n",
       "      <td>...</td>\n",
       "      <td>...</td>\n",
       "      <td>...</td>\n",
       "    </tr>\n",
       "    <tr>\n",
       "      <th>164</th>\n",
       "      <td>Niue</td>\n",
       "      <td>0.000096</td>\n",
       "      <td>0.000206</td>\n",
       "      <td>3.140000e-07</td>\n",
       "      <td>4.000000e-07</td>\n",
       "      <td>8.300000e-08</td>\n",
       "      <td>0.000000e+00</td>\n",
       "    </tr>\n",
       "    <tr>\n",
       "      <th>165</th>\n",
       "      <td>Coreia do Norte</td>\n",
       "      <td>0.000093</td>\n",
       "      <td>0.000079</td>\n",
       "      <td>7.540000e-07</td>\n",
       "      <td>6.100000e-07</td>\n",
       "      <td>1.601800e-05</td>\n",
       "      <td>2.890000e-07</td>\n",
       "    </tr>\n",
       "    <tr>\n",
       "      <th>166</th>\n",
       "      <td>Mônaco</td>\n",
       "      <td>0.000074</td>\n",
       "      <td>0.000019</td>\n",
       "      <td>4.575000e-06</td>\n",
       "      <td>4.114000e-06</td>\n",
       "      <td>4.876880e-03</td>\n",
       "      <td>2.913900e-05</td>\n",
       "    </tr>\n",
       "    <tr>\n",
       "      <th>167</th>\n",
       "      <td>Falkland (Malvinas)</td>\n",
       "      <td>0.000014</td>\n",
       "      <td>0.000011</td>\n",
       "      <td>3.105000e-06</td>\n",
       "      <td>1.134000e-06</td>\n",
       "      <td>1.792400e-05</td>\n",
       "      <td>1.022000e-06</td>\n",
       "    </tr>\n",
       "    <tr>\n",
       "      <th>168</th>\n",
       "      <td>Palau</td>\n",
       "      <td>0.000004</td>\n",
       "      <td>0.000001</td>\n",
       "      <td>1.200000e-08</td>\n",
       "      <td>1.500000e-08</td>\n",
       "      <td>3.220000e-07</td>\n",
       "      <td>6.000000e-09</td>\n",
       "    </tr>\n",
       "  </tbody>\n",
       "</table>\n",
       "<p>169 rows × 7 columns</p>\n",
       "</div>"
      ],
      "text/plain": [
       "                      Países  2020 - Valor FOB (US$)_Exportacao  \\\n",
       "0                      China                          67.686224   \n",
       "1             Estados Unidos                          21.458840   \n",
       "2                  Argentina                           8.474735   \n",
       "3    Países Baixos (Holanda)                           7.397546   \n",
       "4                     Canadá                           4.235606   \n",
       "..                       ...                                ...   \n",
       "164                     Niue                           0.000096   \n",
       "165          Coreia do Norte                           0.000093   \n",
       "166                   Mônaco                           0.000074   \n",
       "167      Falkland (Malvinas)                           0.000014   \n",
       "168                    Palau                           0.000004   \n",
       "\n",
       "     2020 - Quilograma Líquido_Exportacao  2020 - Valor FOB (US$)_Agricola  \\\n",
       "0                              376.465390                     2.196251e+01   \n",
       "1                               27.781654                     1.190921e+00   \n",
       "2                                6.252906                     2.588007e-01   \n",
       "3                               20.575669                     1.595151e+00   \n",
       "4                                7.829351                     1.337393e-01   \n",
       "..                                    ...                              ...   \n",
       "164                              0.000206                     3.140000e-07   \n",
       "165                              0.000079                     7.540000e-07   \n",
       "166                              0.000019                     4.575000e-06   \n",
       "167                              0.000011                     3.105000e-06   \n",
       "168                              0.000001                     1.200000e-08   \n",
       "\n",
       "     2020 - Quilograma Líquido_Agricola  2020 - Valor FOB (US$)_Importacao  \\\n",
       "0                          6.131378e+01                       3.404163e+01   \n",
       "1                          5.832322e-01                       2.412247e+01   \n",
       "2                          5.341272e-01                       7.787832e+00   \n",
       "3                          4.077298e+00                       1.339333e+00   \n",
       "4                          6.824431e-02                       1.805934e+00   \n",
       "..                                  ...                                ...   \n",
       "164                        4.000000e-07                       8.300000e-08   \n",
       "165                        6.100000e-07                       1.601800e-05   \n",
       "166                        4.114000e-06                       4.876880e-03   \n",
       "167                        1.134000e-06                       1.792400e-05   \n",
       "168                        1.500000e-08                       3.220000e-07   \n",
       "\n",
       "     2020 - Quilograma Líquido_Importacao  \n",
       "0                            1.110356e+01  \n",
       "1                            3.651059e+01  \n",
       "2                            9.841196e+00  \n",
       "3                            1.837063e+00  \n",
       "4                            4.477334e+00  \n",
       "..                                    ...  \n",
       "164                          0.000000e+00  \n",
       "165                          2.890000e-07  \n",
       "166                          2.913900e-05  \n",
       "167                          1.022000e-06  \n",
       "168                          6.000000e-09  \n",
       "\n",
       "[169 rows x 7 columns]"
      ]
     },
     "execution_count": 29,
     "metadata": {},
     "output_type": "execute_result"
    }
   ],
   "source": [
    "paises"
   ]
  },
  {
   "cell_type": "markdown",
   "metadata": {},
   "source": [
    "Vamos ver a balança comercial e razão agrícola desses países."
   ]
  },
  {
   "cell_type": "code",
   "execution_count": 30,
   "metadata": {},
   "outputs": [
    {
     "data": {
      "text/html": [
       "<div>\n",
       "<style scoped>\n",
       "    .dataframe tbody tr th:only-of-type {\n",
       "        vertical-align: middle;\n",
       "    }\n",
       "\n",
       "    .dataframe tbody tr th {\n",
       "        vertical-align: top;\n",
       "    }\n",
       "\n",
       "    .dataframe thead th {\n",
       "        text-align: right;\n",
       "    }\n",
       "</style>\n",
       "<table border=\"1\" class=\"dataframe\">\n",
       "  <thead>\n",
       "    <tr style=\"text-align: right;\">\n",
       "      <th></th>\n",
       "      <th>Países</th>\n",
       "      <th>2020 - Valor FOB (US$)_Exportacao</th>\n",
       "      <th>2020 - Quilograma Líquido_Exportacao</th>\n",
       "      <th>2020 - Valor FOB (US$)_Agricola</th>\n",
       "      <th>2020 - Quilograma Líquido_Agricola</th>\n",
       "      <th>2020 - Valor FOB (US$)_Importacao</th>\n",
       "      <th>2020 - Quilograma Líquido_Importacao</th>\n",
       "      <th>Balanca_comercial</th>\n",
       "      <th>razao_agr_%</th>\n",
       "    </tr>\n",
       "  </thead>\n",
       "  <tbody>\n",
       "    <tr>\n",
       "      <th>0</th>\n",
       "      <td>China</td>\n",
       "      <td>67.686224</td>\n",
       "      <td>376.465390</td>\n",
       "      <td>21.962507</td>\n",
       "      <td>61.313778</td>\n",
       "      <td>34.041635</td>\n",
       "      <td>11.103559</td>\n",
       "      <td>33.644589</td>\n",
       "      <td>32.447529</td>\n",
       "    </tr>\n",
       "    <tr>\n",
       "      <th>1</th>\n",
       "      <td>Estados Unidos</td>\n",
       "      <td>21.458840</td>\n",
       "      <td>27.781654</td>\n",
       "      <td>1.190921</td>\n",
       "      <td>0.583232</td>\n",
       "      <td>24.122469</td>\n",
       "      <td>36.510590</td>\n",
       "      <td>-2.663629</td>\n",
       "      <td>5.549791</td>\n",
       "    </tr>\n",
       "    <tr>\n",
       "      <th>2</th>\n",
       "      <td>Argentina</td>\n",
       "      <td>8.474735</td>\n",
       "      <td>6.252906</td>\n",
       "      <td>0.258801</td>\n",
       "      <td>0.534127</td>\n",
       "      <td>7.787832</td>\n",
       "      <td>9.841196</td>\n",
       "      <td>0.686903</td>\n",
       "      <td>3.053791</td>\n",
       "    </tr>\n",
       "    <tr>\n",
       "      <th>3</th>\n",
       "      <td>Países Baixos (Holanda)</td>\n",
       "      <td>7.397546</td>\n",
       "      <td>20.575669</td>\n",
       "      <td>1.595151</td>\n",
       "      <td>4.077298</td>\n",
       "      <td>1.339333</td>\n",
       "      <td>1.837063</td>\n",
       "      <td>6.058213</td>\n",
       "      <td>21.563241</td>\n",
       "    </tr>\n",
       "    <tr>\n",
       "      <th>4</th>\n",
       "      <td>Canadá</td>\n",
       "      <td>4.235606</td>\n",
       "      <td>7.829351</td>\n",
       "      <td>0.133739</td>\n",
       "      <td>0.068244</td>\n",
       "      <td>1.805934</td>\n",
       "      <td>4.477334</td>\n",
       "      <td>2.429672</td>\n",
       "      <td>3.157501</td>\n",
       "    </tr>\n",
       "  </tbody>\n",
       "</table>\n",
       "</div>"
      ],
      "text/plain": [
       "                    Países  2020 - Valor FOB (US$)_Exportacao  \\\n",
       "0                    China                          67.686224   \n",
       "1           Estados Unidos                          21.458840   \n",
       "2                Argentina                           8.474735   \n",
       "3  Países Baixos (Holanda)                           7.397546   \n",
       "4                   Canadá                           4.235606   \n",
       "\n",
       "   2020 - Quilograma Líquido_Exportacao  2020 - Valor FOB (US$)_Agricola  \\\n",
       "0                            376.465390                        21.962507   \n",
       "1                             27.781654                         1.190921   \n",
       "2                              6.252906                         0.258801   \n",
       "3                             20.575669                         1.595151   \n",
       "4                              7.829351                         0.133739   \n",
       "\n",
       "   2020 - Quilograma Líquido_Agricola  2020 - Valor FOB (US$)_Importacao  \\\n",
       "0                           61.313778                          34.041635   \n",
       "1                            0.583232                          24.122469   \n",
       "2                            0.534127                           7.787832   \n",
       "3                            4.077298                           1.339333   \n",
       "4                            0.068244                           1.805934   \n",
       "\n",
       "   2020 - Quilograma Líquido_Importacao  Balanca_comercial  razao_agr_%  \n",
       "0                             11.103559          33.644589    32.447529  \n",
       "1                             36.510590          -2.663629     5.549791  \n",
       "2                              9.841196           0.686903     3.053791  \n",
       "3                              1.837063           6.058213    21.563241  \n",
       "4                              4.477334           2.429672     3.157501  "
      ]
     },
     "execution_count": 30,
     "metadata": {},
     "output_type": "execute_result"
    }
   ],
   "source": [
    "paises[\"Balanca_comercial\"] = paises[\"2020 - Valor FOB (US$)_Exportacao\"] - paises[\"2020 - Valor FOB (US$)_Importacao\"]\n",
    "paises[\"razao_agr_%\"] = paises[\"2020 - Valor FOB (US$)_Agricola\"]/paises[\"2020 - Valor FOB (US$)_Exportacao\"]*100\n",
    "paises.head(5)"
   ]
  },
  {
   "cell_type": "code",
   "execution_count": 31,
   "metadata": {},
   "outputs": [
    {
     "data": {
      "text/plain": [
       "62.80038765299999"
      ]
     },
     "execution_count": 31,
     "metadata": {},
     "output_type": "execute_result"
    }
   ],
   "source": [
    "paises[\"Balanca_comercial\"].sum()"
   ]
  },
  {
   "cell_type": "code",
   "execution_count": 32,
   "metadata": {},
   "outputs": [
    {
     "data": {
      "text/html": [
       "<div>\n",
       "<style scoped>\n",
       "    .dataframe tbody tr th:only-of-type {\n",
       "        vertical-align: middle;\n",
       "    }\n",
       "\n",
       "    .dataframe tbody tr th {\n",
       "        vertical-align: top;\n",
       "    }\n",
       "\n",
       "    .dataframe thead th {\n",
       "        text-align: right;\n",
       "    }\n",
       "</style>\n",
       "<table border=\"1\" class=\"dataframe\">\n",
       "  <thead>\n",
       "    <tr style=\"text-align: right;\">\n",
       "      <th></th>\n",
       "      <th>Países</th>\n",
       "      <th>2020 - Valor FOB (US$)_Exportacao</th>\n",
       "      <th>2020 - Quilograma Líquido_Exportacao</th>\n",
       "      <th>2020 - Valor FOB (US$)_Agricola</th>\n",
       "      <th>2020 - Quilograma Líquido_Agricola</th>\n",
       "      <th>2020 - Valor FOB (US$)_Importacao</th>\n",
       "      <th>2020 - Quilograma Líquido_Importacao</th>\n",
       "      <th>Balanca_comercial</th>\n",
       "      <th>razao_agr_%</th>\n",
       "    </tr>\n",
       "  </thead>\n",
       "  <tbody>\n",
       "    <tr>\n",
       "      <th>0</th>\n",
       "      <td>China</td>\n",
       "      <td>67.686224</td>\n",
       "      <td>376.465390</td>\n",
       "      <td>21.962507</td>\n",
       "      <td>61.313778</td>\n",
       "      <td>34.041635</td>\n",
       "      <td>11.103559</td>\n",
       "      <td>33.644589</td>\n",
       "      <td>32.447529</td>\n",
       "    </tr>\n",
       "    <tr>\n",
       "      <th>3</th>\n",
       "      <td>Países Baixos (Holanda)</td>\n",
       "      <td>7.397546</td>\n",
       "      <td>20.575669</td>\n",
       "      <td>1.595151</td>\n",
       "      <td>4.077298</td>\n",
       "      <td>1.339333</td>\n",
       "      <td>1.837063</td>\n",
       "      <td>6.058213</td>\n",
       "      <td>21.563241</td>\n",
       "    </tr>\n",
       "    <tr>\n",
       "      <th>11</th>\n",
       "      <td>Cingapura</td>\n",
       "      <td>3.649406</td>\n",
       "      <td>11.016315</td>\n",
       "      <td>0.004292</td>\n",
       "      <td>0.002283</td>\n",
       "      <td>0.799535</td>\n",
       "      <td>0.328793</td>\n",
       "      <td>2.849871</td>\n",
       "      <td>0.117603</td>\n",
       "    </tr>\n",
       "    <tr>\n",
       "      <th>4</th>\n",
       "      <td>Canadá</td>\n",
       "      <td>4.235606</td>\n",
       "      <td>7.829351</td>\n",
       "      <td>0.133739</td>\n",
       "      <td>0.068244</td>\n",
       "      <td>1.805934</td>\n",
       "      <td>4.477334</td>\n",
       "      <td>2.429672</td>\n",
       "      <td>3.157501</td>\n",
       "    </tr>\n",
       "    <tr>\n",
       "      <th>15</th>\n",
       "      <td>Turquia</td>\n",
       "      <td>2.766990</td>\n",
       "      <td>9.906698</td>\n",
       "      <td>1.375362</td>\n",
       "      <td>2.860909</td>\n",
       "      <td>0.556067</td>\n",
       "      <td>1.103320</td>\n",
       "      <td>2.210923</td>\n",
       "      <td>49.706096</td>\n",
       "    </tr>\n",
       "    <tr>\n",
       "      <th>12</th>\n",
       "      <td>Malásia</td>\n",
       "      <td>3.210363</td>\n",
       "      <td>27.965965</td>\n",
       "      <td>0.389770</td>\n",
       "      <td>1.450183</td>\n",
       "      <td>1.101687</td>\n",
       "      <td>0.295041</td>\n",
       "      <td>2.108676</td>\n",
       "      <td>12.141009</td>\n",
       "    </tr>\n",
       "    <tr>\n",
       "      <th>18</th>\n",
       "      <td>Hong Kong</td>\n",
       "      <td>2.327265</td>\n",
       "      <td>1.277509</td>\n",
       "      <td>0.004349</td>\n",
       "      <td>0.001982</td>\n",
       "      <td>0.590037</td>\n",
       "      <td>0.104720</td>\n",
       "      <td>1.737228</td>\n",
       "      <td>0.186866</td>\n",
       "    </tr>\n",
       "    <tr>\n",
       "      <th>28</th>\n",
       "      <td>Egito</td>\n",
       "      <td>1.757145</td>\n",
       "      <td>6.361296</td>\n",
       "      <td>0.622149</td>\n",
       "      <td>3.247947</td>\n",
       "      <td>0.212174</td>\n",
       "      <td>0.796808</td>\n",
       "      <td>1.544970</td>\n",
       "      <td>35.406834</td>\n",
       "    </tr>\n",
       "    <tr>\n",
       "      <th>7</th>\n",
       "      <td>Espanha</td>\n",
       "      <td>4.057009</td>\n",
       "      <td>12.515710</td>\n",
       "      <td>1.560510</td>\n",
       "      <td>5.417025</td>\n",
       "      <td>2.532463</td>\n",
       "      <td>3.441998</td>\n",
       "      <td>1.524546</td>\n",
       "      <td>38.464553</td>\n",
       "    </tr>\n",
       "    <tr>\n",
       "      <th>32</th>\n",
       "      <td>Bangladesh</td>\n",
       "      <td>1.526667</td>\n",
       "      <td>4.500035</td>\n",
       "      <td>0.700867</td>\n",
       "      <td>1.775883</td>\n",
       "      <td>0.127769</td>\n",
       "      <td>0.017365</td>\n",
       "      <td>1.398899</td>\n",
       "      <td>45.908270</td>\n",
       "    </tr>\n",
       "  </tbody>\n",
       "</table>\n",
       "</div>"
      ],
      "text/plain": [
       "                     Países  2020 - Valor FOB (US$)_Exportacao  \\\n",
       "0                     China                          67.686224   \n",
       "3   Países Baixos (Holanda)                           7.397546   \n",
       "11                Cingapura                           3.649406   \n",
       "4                    Canadá                           4.235606   \n",
       "15                  Turquia                           2.766990   \n",
       "12                  Malásia                           3.210363   \n",
       "18                Hong Kong                           2.327265   \n",
       "28                    Egito                           1.757145   \n",
       "7                   Espanha                           4.057009   \n",
       "32               Bangladesh                           1.526667   \n",
       "\n",
       "    2020 - Quilograma Líquido_Exportacao  2020 - Valor FOB (US$)_Agricola  \\\n",
       "0                             376.465390                        21.962507   \n",
       "3                              20.575669                         1.595151   \n",
       "11                             11.016315                         0.004292   \n",
       "4                               7.829351                         0.133739   \n",
       "15                              9.906698                         1.375362   \n",
       "12                             27.965965                         0.389770   \n",
       "18                              1.277509                         0.004349   \n",
       "28                              6.361296                         0.622149   \n",
       "7                              12.515710                         1.560510   \n",
       "32                              4.500035                         0.700867   \n",
       "\n",
       "    2020 - Quilograma Líquido_Agricola  2020 - Valor FOB (US$)_Importacao  \\\n",
       "0                            61.313778                          34.041635   \n",
       "3                             4.077298                           1.339333   \n",
       "11                            0.002283                           0.799535   \n",
       "4                             0.068244                           1.805934   \n",
       "15                            2.860909                           0.556067   \n",
       "12                            1.450183                           1.101687   \n",
       "18                            0.001982                           0.590037   \n",
       "28                            3.247947                           0.212174   \n",
       "7                             5.417025                           2.532463   \n",
       "32                            1.775883                           0.127769   \n",
       "\n",
       "    2020 - Quilograma Líquido_Importacao  Balanca_comercial  razao_agr_%  \n",
       "0                              11.103559          33.644589    32.447529  \n",
       "3                               1.837063           6.058213    21.563241  \n",
       "11                              0.328793           2.849871     0.117603  \n",
       "4                               4.477334           2.429672     3.157501  \n",
       "15                              1.103320           2.210923    49.706096  \n",
       "12                              0.295041           2.108676    12.141009  \n",
       "18                              0.104720           1.737228     0.186866  \n",
       "28                              0.796808           1.544970    35.406834  \n",
       "7                               3.441998           1.524546    38.464553  \n",
       "32                              0.017365           1.398899    45.908270  "
      ]
     },
     "execution_count": 32,
     "metadata": {},
     "output_type": "execute_result"
    }
   ],
   "source": [
    "paises.sort_values(by=['Balanca_comercial'], ascending=False, inplace=True)\n",
    "paises.head(10)"
   ]
  },
  {
   "cell_type": "markdown",
   "metadata": {},
   "source": [
    "**Conclusões**\n",
    "* 32% do que exportamos para a China é Mercadoria agrícola. \n",
    "* China é responsável por metade da balança comercial brasileira\n",
    "* Nosso segundo cliente (EUA) é deficiário em 2 bilhões.\n",
    "**Do ponto de vista comercial, a China é de longe o pais mais importante para o Brasil**, seguido de Holanda, Canada, Turquia. Egito também está no top 10 de balança comercial\n"
   ]
  },
  {
   "cell_type": "code",
   "execution_count": 34,
   "metadata": {},
   "outputs": [],
   "source": [
    "china[\"2020 - Valor FOB (US$)\"] = china[\"2020 - Valor FOB (US$)\"]/10**6"
   ]
  },
  {
   "cell_type": "code",
   "execution_count": 35,
   "metadata": {},
   "outputs": [
    {
     "data": {
      "text/html": [
       "<div>\n",
       "<style scoped>\n",
       "    .dataframe tbody tr th:only-of-type {\n",
       "        vertical-align: middle;\n",
       "    }\n",
       "\n",
       "    .dataframe tbody tr th {\n",
       "        vertical-align: top;\n",
       "    }\n",
       "\n",
       "    .dataframe thead th {\n",
       "        text-align: right;\n",
       "    }\n",
       "</style>\n",
       "<table border=\"1\" class=\"dataframe\">\n",
       "  <thead>\n",
       "    <tr style=\"text-align: right;\">\n",
       "      <th></th>\n",
       "      <th>Países</th>\n",
       "      <th>Código CUCI Item</th>\n",
       "      <th>Descrição CUCI Item</th>\n",
       "      <th>2020 - Valor FOB (US$)</th>\n",
       "      <th>2020 - Quilograma Líquido</th>\n",
       "    </tr>\n",
       "  </thead>\n",
       "  <tbody>\n",
       "    <tr>\n",
       "      <th>0</th>\n",
       "      <td>China</td>\n",
       "      <td>2222</td>\n",
       "      <td>Soja</td>\n",
       "      <td>20905.254130</td>\n",
       "      <td>60601378878</td>\n",
       "    </tr>\n",
       "    <tr>\n",
       "      <th>1</th>\n",
       "      <td>China</td>\n",
       "      <td>2815</td>\n",
       "      <td>Minério de ferro e seus concentrados, não aglo...</td>\n",
       "      <td>17940.410837</td>\n",
       "      <td>241944482529</td>\n",
       "    </tr>\n",
       "    <tr>\n",
       "      <th>2</th>\n",
       "      <td>China</td>\n",
       "      <td>3330</td>\n",
       "      <td>Óleos de petróleo ou de minerais betuminosos, ...</td>\n",
       "      <td>11296.795030</td>\n",
       "      <td>40984183112</td>\n",
       "    </tr>\n",
       "    <tr>\n",
       "      <th>3</th>\n",
       "      <td>China</td>\n",
       "      <td>1122</td>\n",
       "      <td>Carne de gado bovino congelada, desossada</td>\n",
       "      <td>4037.370307</td>\n",
       "      <td>868667444</td>\n",
       "    </tr>\n",
       "    <tr>\n",
       "      <th>4</th>\n",
       "      <td>China</td>\n",
       "      <td>25152</td>\n",
       "      <td>Pastas químicas de madeira, ao bissulfito, exc...</td>\n",
       "      <td>2603.092932</td>\n",
       "      <td>7343692636</td>\n",
       "    </tr>\n",
       "    <tr>\n",
       "      <th>...</th>\n",
       "      <td>...</td>\n",
       "      <td>...</td>\n",
       "      <td>...</td>\n",
       "      <td>...</td>\n",
       "      <td>...</td>\n",
       "    </tr>\n",
       "    <tr>\n",
       "      <th>1436</th>\n",
       "      <td>China</td>\n",
       "      <td>84848</td>\n",
       "      <td>Faixas, forros, capas, armações, moldes, picos...</td>\n",
       "      <td>0.000000</td>\n",
       "      <td>20</td>\n",
       "    </tr>\n",
       "    <tr>\n",
       "      <th>1437</th>\n",
       "      <td>China</td>\n",
       "      <td>52383</td>\n",
       "      <td>Silicatos; silicatos dos metais alcalinos come...</td>\n",
       "      <td>0.000000</td>\n",
       "      <td>1</td>\n",
       "    </tr>\n",
       "    <tr>\n",
       "      <th>1438</th>\n",
       "      <td>China</td>\n",
       "      <td>67917</td>\n",
       "      <td>Outros tubos sem costura, tubos e perfis ocos</td>\n",
       "      <td>0.000000</td>\n",
       "      <td>0</td>\n",
       "    </tr>\n",
       "    <tr>\n",
       "      <th>1439</th>\n",
       "      <td>China</td>\n",
       "      <td>77241</td>\n",
       "      <td>Fusíveis</td>\n",
       "      <td>0.000000</td>\n",
       "      <td>0</td>\n",
       "    </tr>\n",
       "    <tr>\n",
       "      <th>1440</th>\n",
       "      <td>China</td>\n",
       "      <td>89982</td>\n",
       "      <td>Borlas ou esponjas para aplicação de outros co...</td>\n",
       "      <td>0.000000</td>\n",
       "      <td>0</td>\n",
       "    </tr>\n",
       "  </tbody>\n",
       "</table>\n",
       "<p>1441 rows × 5 columns</p>\n",
       "</div>"
      ],
      "text/plain": [
       "     Países  Código CUCI Item  \\\n",
       "0     China              2222   \n",
       "1     China              2815   \n",
       "2     China              3330   \n",
       "3     China              1122   \n",
       "4     China             25152   \n",
       "...     ...               ...   \n",
       "1436  China             84848   \n",
       "1437  China             52383   \n",
       "1438  China             67917   \n",
       "1439  China             77241   \n",
       "1440  China             89982   \n",
       "\n",
       "                                    Descrição CUCI Item  \\\n",
       "0                                                  Soja   \n",
       "1     Minério de ferro e seus concentrados, não aglo...   \n",
       "2     Óleos de petróleo ou de minerais betuminosos, ...   \n",
       "3             Carne de gado bovino congelada, desossada   \n",
       "4     Pastas químicas de madeira, ao bissulfito, exc...   \n",
       "...                                                 ...   \n",
       "1436  Faixas, forros, capas, armações, moldes, picos...   \n",
       "1437  Silicatos; silicatos dos metais alcalinos come...   \n",
       "1438      Outros tubos sem costura, tubos e perfis ocos   \n",
       "1439                                           Fusíveis   \n",
       "1440  Borlas ou esponjas para aplicação de outros co...   \n",
       "\n",
       "      2020 - Valor FOB (US$)  2020 - Quilograma Líquido  \n",
       "0               20905.254130                60601378878  \n",
       "1               17940.410837               241944482529  \n",
       "2               11296.795030                40984183112  \n",
       "3                4037.370307                  868667444  \n",
       "4                2603.092932                 7343692636  \n",
       "...                      ...                        ...  \n",
       "1436                0.000000                         20  \n",
       "1437                0.000000                          1  \n",
       "1438                0.000000                          0  \n",
       "1439                0.000000                          0  \n",
       "1440                0.000000                          0  \n",
       "\n",
       "[1441 rows x 5 columns]"
      ]
     },
     "execution_count": 35,
     "metadata": {},
     "output_type": "execute_result"
    }
   ],
   "source": [
    "china"
   ]
  },
  {
   "cell_type": "code",
   "execution_count": null,
   "metadata": {},
   "outputs": [],
   "source": [
    "paises[\"Balanca_comercial_%\"] = paises[\"Balanca_comercial\"]/paises[\"2020 - Valor FOB (US$)_Exportacao\"]"
   ]
  },
  {
   "cell_type": "code",
   "execution_count": null,
   "metadata": {},
   "outputs": [],
   "source": [
    "from pandas.plotting import scatter_matrix\n",
    "\n",
    "attributes = [\"2020 - Valor FOB (US$)_Exportacao\",\"2020 - Valor FOB (US$)_Agricola\",\"2020 - Valor FOB (US$)_Importacao\",\"Balanca_comercial\",\"razao_agr_%\"]\n",
    "scatter_matrix(paises[attributes], figsize=(12, 8))"
   ]
  }
 ],
 "metadata": {
  "kernelspec": {
   "display_name": "Python 3",
   "language": "python",
   "name": "python3"
  },
  "language_info": {
   "codemirror_mode": {
    "name": "ipython",
    "version": 3
   },
   "file_extension": ".py",
   "mimetype": "text/x-python",
   "name": "python",
   "nbconvert_exporter": "python",
   "pygments_lexer": "ipython3",
   "version": "3.7.4"
  }
 },
 "nbformat": 4,
 "nbformat_minor": 2
}

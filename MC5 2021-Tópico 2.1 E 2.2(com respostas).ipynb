{
 "cells": [
  {
   "cell_type": "markdown",
   "metadata": {},
   "source": [
    "# Introdução à Agronomia com Python e dados (MC 5)"
   ]
  },
  {
   "cell_type": "markdown",
   "metadata": {},
   "source": [
    "06/01/2021 - 22/01/2021. \n",
    "\n",
    "Segundas, Quartas e Sextas das 18:00 as 19:30"
   ]
  },
  {
   "cell_type": "markdown",
   "metadata": {},
   "source": [
    "### Professor: Lucas Mielke.\n",
    "### Contato: lucas.mielke@usp.br"
   ]
  },
  {
   "cell_type": "markdown",
   "metadata": {},
   "source": [
    "## 2. Agricultura e alimentação:"
   ]
  },
  {
   "cell_type": "markdown",
   "metadata": {},
   "source": [
    "## Tópico 2.1. População mundial e Produção de Alimentos"
   ]
  },
  {
   "cell_type": "markdown",
   "metadata": {},
   "source": [
    "O mundo está superpovoado? Fome ocorre pela falta de produção de alimentos?\n",
    "\n",
    "Teorias demográficas - Malthusianos, neomalthusianos e reformistas https://educacao.uol.com.br/disciplinas/geografia/teorias-demograficas-malthusianos-neomalthusianos-e-reformistas.htm?cmpid=copiaecola"
   ]
  },
  {
   "cell_type": "markdown",
   "metadata": {},
   "source": [
    "Malthusianos - Produção de alimentos cresce em PA (Progressão Aritmética). População Cresce em Progressão Geométrica.\n",
    "\n",
    "Neomalthusianos - Necessidade de aplicar controle de natalidade.\n",
    "\n",
    "Reformistas - Desenvolvimento econômico terá o controle de natalidade como uma das consequências."
   ]
  },
  {
   "cell_type": "code",
   "execution_count": 1,
   "metadata": {},
   "outputs": [],
   "source": [
    "#Progressão aritmética\n",
    "Tempo_em_anos = list(range(0, 5))\n",
    "PA = []\n",
    "a = 1\n",
    "for a in Tempo_em_anos:\n",
    "    PA.append(a)\n",
    "    a+1"
   ]
  },
  {
   "cell_type": "code",
   "execution_count": 2,
   "metadata": {},
   "outputs": [],
   "source": [
    "#Progressão geométrica\n",
    "Tempo_em_anos = list(range(0, 5))\n",
    "PG = []\n",
    "a = 0\n",
    "for a in Tempo_em_anos:\n",
    "    PG.append(2**a)\n",
    "    a+1"
   ]
  },
  {
   "cell_type": "code",
   "execution_count": 3,
   "metadata": {},
   "outputs": [
    {
     "data": {
      "text/plain": [
       "<matplotlib.legend.Legend at 0x1d0d3d6d808>"
      ]
     },
     "execution_count": 3,
     "metadata": {},
     "output_type": "execute_result"
    }
   ],
   "source": [
    "import matplotlib.pyplot as plt\n",
    "plt.plot(Tempo_em_anos,PA,label=\"PA\")\n",
    "plt.plot(Tempo_em_anos,PG,label=\"PG\")\n",
    "plt.legend()"
   ]
  },
  {
   "cell_type": "markdown",
   "metadata": {},
   "source": [
    "## Analisando a população mundial"
   ]
  },
  {
   "cell_type": "code",
   "execution_count": 4,
   "metadata": {},
   "outputs": [
    {
     "data": {
      "text/html": [
       "<div>\n",
       "<style scoped>\n",
       "    .dataframe tbody tr th:only-of-type {\n",
       "        vertical-align: middle;\n",
       "    }\n",
       "\n",
       "    .dataframe tbody tr th {\n",
       "        vertical-align: top;\n",
       "    }\n",
       "\n",
       "    .dataframe thead th {\n",
       "        text-align: right;\n",
       "    }\n",
       "</style>\n",
       "<table border=\"1\" class=\"dataframe\">\n",
       "  <thead>\n",
       "    <tr style=\"text-align: right;\">\n",
       "      <th></th>\n",
       "      <th>Area Code</th>\n",
       "      <th>Area</th>\n",
       "      <th>Item Code</th>\n",
       "      <th>Item</th>\n",
       "      <th>Element Code</th>\n",
       "      <th>Element</th>\n",
       "      <th>Year Code</th>\n",
       "      <th>Year</th>\n",
       "      <th>Unit</th>\n",
       "      <th>Value</th>\n",
       "      <th>Flag</th>\n",
       "      <th>Note</th>\n",
       "    </tr>\n",
       "  </thead>\n",
       "  <tbody>\n",
       "    <tr>\n",
       "      <th>0</th>\n",
       "      <td>2</td>\n",
       "      <td>Afghanistan</td>\n",
       "      <td>3010</td>\n",
       "      <td>Population - Est. &amp; Proj.</td>\n",
       "      <td>511</td>\n",
       "      <td>Total Population - Both sexes</td>\n",
       "      <td>1950</td>\n",
       "      <td>1950</td>\n",
       "      <td>1000 persons</td>\n",
       "      <td>7752.118</td>\n",
       "      <td>X</td>\n",
       "      <td>NaN</td>\n",
       "    </tr>\n",
       "    <tr>\n",
       "      <th>1</th>\n",
       "      <td>2</td>\n",
       "      <td>Afghanistan</td>\n",
       "      <td>3010</td>\n",
       "      <td>Population - Est. &amp; Proj.</td>\n",
       "      <td>511</td>\n",
       "      <td>Total Population - Both sexes</td>\n",
       "      <td>1951</td>\n",
       "      <td>1951</td>\n",
       "      <td>1000 persons</td>\n",
       "      <td>7840.156</td>\n",
       "      <td>X</td>\n",
       "      <td>NaN</td>\n",
       "    </tr>\n",
       "    <tr>\n",
       "      <th>2</th>\n",
       "      <td>2</td>\n",
       "      <td>Afghanistan</td>\n",
       "      <td>3010</td>\n",
       "      <td>Population - Est. &amp; Proj.</td>\n",
       "      <td>511</td>\n",
       "      <td>Total Population - Both sexes</td>\n",
       "      <td>1952</td>\n",
       "      <td>1952</td>\n",
       "      <td>1000 persons</td>\n",
       "      <td>7935.997</td>\n",
       "      <td>X</td>\n",
       "      <td>NaN</td>\n",
       "    </tr>\n",
       "    <tr>\n",
       "      <th>3</th>\n",
       "      <td>2</td>\n",
       "      <td>Afghanistan</td>\n",
       "      <td>3010</td>\n",
       "      <td>Population - Est. &amp; Proj.</td>\n",
       "      <td>511</td>\n",
       "      <td>Total Population - Both sexes</td>\n",
       "      <td>1953</td>\n",
       "      <td>1953</td>\n",
       "      <td>1000 persons</td>\n",
       "      <td>8039.694</td>\n",
       "      <td>X</td>\n",
       "      <td>NaN</td>\n",
       "    </tr>\n",
       "    <tr>\n",
       "      <th>4</th>\n",
       "      <td>2</td>\n",
       "      <td>Afghanistan</td>\n",
       "      <td>3010</td>\n",
       "      <td>Population - Est. &amp; Proj.</td>\n",
       "      <td>511</td>\n",
       "      <td>Total Population - Both sexes</td>\n",
       "      <td>1954</td>\n",
       "      <td>1954</td>\n",
       "      <td>1000 persons</td>\n",
       "      <td>8151.317</td>\n",
       "      <td>X</td>\n",
       "      <td>NaN</td>\n",
       "    </tr>\n",
       "  </tbody>\n",
       "</table>\n",
       "</div>"
      ],
      "text/plain": [
       "   Area Code         Area  Item Code                       Item  Element Code  \\\n",
       "0          2  Afghanistan       3010  Population - Est. & Proj.           511   \n",
       "1          2  Afghanistan       3010  Population - Est. & Proj.           511   \n",
       "2          2  Afghanistan       3010  Population - Est. & Proj.           511   \n",
       "3          2  Afghanistan       3010  Population - Est. & Proj.           511   \n",
       "4          2  Afghanistan       3010  Population - Est. & Proj.           511   \n",
       "\n",
       "                         Element  Year Code  Year          Unit     Value  \\\n",
       "0  Total Population - Both sexes       1950  1950  1000 persons  7752.118   \n",
       "1  Total Population - Both sexes       1951  1951  1000 persons  7840.156   \n",
       "2  Total Population - Both sexes       1952  1952  1000 persons  7935.997   \n",
       "3  Total Population - Both sexes       1953  1953  1000 persons  8039.694   \n",
       "4  Total Population - Both sexes       1954  1954  1000 persons  8151.317   \n",
       "\n",
       "  Flag  Note  \n",
       "0    X   NaN  \n",
       "1    X   NaN  \n",
       "2    X   NaN  \n",
       "3    X   NaN  \n",
       "4    X   NaN  "
      ]
     },
     "execution_count": 4,
     "metadata": {},
     "output_type": "execute_result"
    }
   ],
   "source": [
    "import pandas as pd\n",
    "\n",
    "path = \"FAOSTAT\\Population_E_All_Data_(Normalized)\\Population_E_All_Data_(Normalized).csv\"\n",
    "populacao = pd.read_csv(path,sep=\",\",decimal=\".\",encoding=\"latin1\")\n",
    "populacao.head(5)"
   ]
  },
  {
   "cell_type": "markdown",
   "metadata": {},
   "source": [
    "### Rápida análise da base de dados"
   ]
  },
  {
   "cell_type": "code",
   "execution_count": 5,
   "metadata": {},
   "outputs": [
    {
     "name": "stdout",
     "output_type": "stream",
     "text": [
      "['Population - Est. & Proj.']\n"
     ]
    }
   ],
   "source": [
    "print(populacao[\"Item\"].unique())"
   ]
  },
  {
   "cell_type": "code",
   "execution_count": 6,
   "metadata": {},
   "outputs": [
    {
     "name": "stdout",
     "output_type": "stream",
     "text": [
      "['Total Population - Both sexes' 'Total Population - Male'\n",
      " 'Total Population - Female' 'Rural population' 'Urban population']\n"
     ]
    }
   ],
   "source": [
    "print(populacao[\"Element\"].unique())"
   ]
  },
  {
   "cell_type": "code",
   "execution_count": 7,
   "metadata": {},
   "outputs": [
    {
     "data": {
      "text/html": [
       "<div>\n",
       "<style scoped>\n",
       "    .dataframe tbody tr th:only-of-type {\n",
       "        vertical-align: middle;\n",
       "    }\n",
       "\n",
       "    .dataframe tbody tr th {\n",
       "        vertical-align: top;\n",
       "    }\n",
       "\n",
       "    .dataframe thead th {\n",
       "        text-align: right;\n",
       "    }\n",
       "</style>\n",
       "<table border=\"1\" class=\"dataframe\">\n",
       "  <thead>\n",
       "    <tr style=\"text-align: right;\">\n",
       "      <th></th>\n",
       "      <th>Area Code</th>\n",
       "      <th>Area</th>\n",
       "      <th>Item Code</th>\n",
       "      <th>Item</th>\n",
       "      <th>Element Code</th>\n",
       "      <th>Year Code</th>\n",
       "      <th>Year</th>\n",
       "      <th>Unit</th>\n",
       "      <th>Value</th>\n",
       "      <th>Flag</th>\n",
       "      <th>Note</th>\n",
       "    </tr>\n",
       "    <tr>\n",
       "      <th>Element</th>\n",
       "      <th></th>\n",
       "      <th></th>\n",
       "      <th></th>\n",
       "      <th></th>\n",
       "      <th></th>\n",
       "      <th></th>\n",
       "      <th></th>\n",
       "      <th></th>\n",
       "      <th></th>\n",
       "      <th></th>\n",
       "      <th></th>\n",
       "    </tr>\n",
       "  </thead>\n",
       "  <tbody>\n",
       "    <tr>\n",
       "      <th>Rural population</th>\n",
       "      <td>25811</td>\n",
       "      <td>25811</td>\n",
       "      <td>25811</td>\n",
       "      <td>25811</td>\n",
       "      <td>25811</td>\n",
       "      <td>25811</td>\n",
       "      <td>25811</td>\n",
       "      <td>25811</td>\n",
       "      <td>25811</td>\n",
       "      <td>25811</td>\n",
       "      <td>0</td>\n",
       "    </tr>\n",
       "    <tr>\n",
       "      <th>Total Population - Both sexes</th>\n",
       "      <td>39441</td>\n",
       "      <td>39441</td>\n",
       "      <td>39441</td>\n",
       "      <td>39441</td>\n",
       "      <td>39441</td>\n",
       "      <td>39441</td>\n",
       "      <td>39441</td>\n",
       "      <td>39441</td>\n",
       "      <td>39441</td>\n",
       "      <td>39441</td>\n",
       "      <td>0</td>\n",
       "    </tr>\n",
       "    <tr>\n",
       "      <th>Total Population - Female</th>\n",
       "      <td>34674</td>\n",
       "      <td>34674</td>\n",
       "      <td>34674</td>\n",
       "      <td>34674</td>\n",
       "      <td>34674</td>\n",
       "      <td>34674</td>\n",
       "      <td>34674</td>\n",
       "      <td>34674</td>\n",
       "      <td>34674</td>\n",
       "      <td>34674</td>\n",
       "      <td>0</td>\n",
       "    </tr>\n",
       "    <tr>\n",
       "      <th>Total Population - Male</th>\n",
       "      <td>34674</td>\n",
       "      <td>34674</td>\n",
       "      <td>34674</td>\n",
       "      <td>34674</td>\n",
       "      <td>34674</td>\n",
       "      <td>34674</td>\n",
       "      <td>34674</td>\n",
       "      <td>34674</td>\n",
       "      <td>34674</td>\n",
       "      <td>34674</td>\n",
       "      <td>0</td>\n",
       "    </tr>\n",
       "    <tr>\n",
       "      <th>Urban population</th>\n",
       "      <td>25811</td>\n",
       "      <td>25811</td>\n",
       "      <td>25811</td>\n",
       "      <td>25811</td>\n",
       "      <td>25811</td>\n",
       "      <td>25811</td>\n",
       "      <td>25811</td>\n",
       "      <td>25811</td>\n",
       "      <td>25811</td>\n",
       "      <td>25811</td>\n",
       "      <td>0</td>\n",
       "    </tr>\n",
       "  </tbody>\n",
       "</table>\n",
       "</div>"
      ],
      "text/plain": [
       "                               Area Code   Area  Item Code   Item  \\\n",
       "Element                                                             \n",
       "Rural population                   25811  25811      25811  25811   \n",
       "Total Population - Both sexes      39441  39441      39441  39441   \n",
       "Total Population - Female          34674  34674      34674  34674   \n",
       "Total Population - Male            34674  34674      34674  34674   \n",
       "Urban population                   25811  25811      25811  25811   \n",
       "\n",
       "                               Element Code  Year Code   Year   Unit  Value  \\\n",
       "Element                                                                       \n",
       "Rural population                      25811      25811  25811  25811  25811   \n",
       "Total Population - Both sexes         39441      39441  39441  39441  39441   \n",
       "Total Population - Female             34674      34674  34674  34674  34674   \n",
       "Total Population - Male               34674      34674  34674  34674  34674   \n",
       "Urban population                      25811      25811  25811  25811  25811   \n",
       "\n",
       "                                Flag  Note  \n",
       "Element                                     \n",
       "Rural population               25811     0  \n",
       "Total Population - Both sexes  39441     0  \n",
       "Total Population - Female      34674     0  \n",
       "Total Population - Male        34674     0  \n",
       "Urban population               25811     0  "
      ]
     },
     "execution_count": 7,
     "metadata": {},
     "output_type": "execute_result"
    }
   ],
   "source": [
    "populacao.groupby(\"Element\").count()"
   ]
  },
  {
   "cell_type": "code",
   "execution_count": 8,
   "metadata": {},
   "outputs": [],
   "source": [
    "populacao_edit = populacao[populacao[\"Element\"]==\"Total Population - Both sexes\"]\n",
    "populacao_edit = populacao_edit[populacao_edit[\"Area\"]==\"World\"]\n",
    "#populacao_edit = populacao_edit[populacao_edit[\"Year\"]==2019]\n"
   ]
  },
  {
   "cell_type": "code",
   "execution_count": 9,
   "metadata": {},
   "outputs": [
    {
     "data": {
      "text/html": [
       "<div>\n",
       "<style scoped>\n",
       "    .dataframe tbody tr th:only-of-type {\n",
       "        vertical-align: middle;\n",
       "    }\n",
       "\n",
       "    .dataframe tbody tr th {\n",
       "        vertical-align: top;\n",
       "    }\n",
       "\n",
       "    .dataframe thead th {\n",
       "        text-align: right;\n",
       "    }\n",
       "</style>\n",
       "<table border=\"1\" class=\"dataframe\">\n",
       "  <thead>\n",
       "    <tr style=\"text-align: right;\">\n",
       "      <th></th>\n",
       "      <th>Area Code</th>\n",
       "      <th>Area</th>\n",
       "      <th>Item Code</th>\n",
       "      <th>Item</th>\n",
       "      <th>Element Code</th>\n",
       "      <th>Element</th>\n",
       "      <th>Year Code</th>\n",
       "      <th>Year</th>\n",
       "      <th>Unit</th>\n",
       "      <th>Value</th>\n",
       "      <th>Flag</th>\n",
       "      <th>Note</th>\n",
       "    </tr>\n",
       "  </thead>\n",
       "  <tbody>\n",
       "    <tr>\n",
       "      <th>138351</th>\n",
       "      <td>5000</td>\n",
       "      <td>World</td>\n",
       "      <td>3010</td>\n",
       "      <td>Population - Est. &amp; Proj.</td>\n",
       "      <td>511</td>\n",
       "      <td>Total Population - Both sexes</td>\n",
       "      <td>1950</td>\n",
       "      <td>1950</td>\n",
       "      <td>1000 persons</td>\n",
       "      <td>2536431.149</td>\n",
       "      <td>A</td>\n",
       "      <td>NaN</td>\n",
       "    </tr>\n",
       "    <tr>\n",
       "      <th>138352</th>\n",
       "      <td>5000</td>\n",
       "      <td>World</td>\n",
       "      <td>3010</td>\n",
       "      <td>Population - Est. &amp; Proj.</td>\n",
       "      <td>511</td>\n",
       "      <td>Total Population - Both sexes</td>\n",
       "      <td>1951</td>\n",
       "      <td>1951</td>\n",
       "      <td>1000 persons</td>\n",
       "      <td>2584034.261</td>\n",
       "      <td>A</td>\n",
       "      <td>NaN</td>\n",
       "    </tr>\n",
       "    <tr>\n",
       "      <th>138353</th>\n",
       "      <td>5000</td>\n",
       "      <td>World</td>\n",
       "      <td>3010</td>\n",
       "      <td>Population - Est. &amp; Proj.</td>\n",
       "      <td>511</td>\n",
       "      <td>Total Population - Both sexes</td>\n",
       "      <td>1952</td>\n",
       "      <td>1952</td>\n",
       "      <td>1000 persons</td>\n",
       "      <td>2630861.562</td>\n",
       "      <td>A</td>\n",
       "      <td>NaN</td>\n",
       "    </tr>\n",
       "    <tr>\n",
       "      <th>138354</th>\n",
       "      <td>5000</td>\n",
       "      <td>World</td>\n",
       "      <td>3010</td>\n",
       "      <td>Population - Est. &amp; Proj.</td>\n",
       "      <td>511</td>\n",
       "      <td>Total Population - Both sexes</td>\n",
       "      <td>1953</td>\n",
       "      <td>1953</td>\n",
       "      <td>1000 persons</td>\n",
       "      <td>2677608.960</td>\n",
       "      <td>A</td>\n",
       "      <td>NaN</td>\n",
       "    </tr>\n",
       "    <tr>\n",
       "      <th>138355</th>\n",
       "      <td>5000</td>\n",
       "      <td>World</td>\n",
       "      <td>3010</td>\n",
       "      <td>Population - Est. &amp; Proj.</td>\n",
       "      <td>511</td>\n",
       "      <td>Total Population - Both sexes</td>\n",
       "      <td>1954</td>\n",
       "      <td>1954</td>\n",
       "      <td>1000 persons</td>\n",
       "      <td>2724846.741</td>\n",
       "      <td>A</td>\n",
       "      <td>NaN</td>\n",
       "    </tr>\n",
       "  </tbody>\n",
       "</table>\n",
       "</div>"
      ],
      "text/plain": [
       "        Area Code   Area  Item Code                       Item  Element Code  \\\n",
       "138351       5000  World       3010  Population - Est. & Proj.           511   \n",
       "138352       5000  World       3010  Population - Est. & Proj.           511   \n",
       "138353       5000  World       3010  Population - Est. & Proj.           511   \n",
       "138354       5000  World       3010  Population - Est. & Proj.           511   \n",
       "138355       5000  World       3010  Population - Est. & Proj.           511   \n",
       "\n",
       "                              Element  Year Code  Year          Unit  \\\n",
       "138351  Total Population - Both sexes       1950  1950  1000 persons   \n",
       "138352  Total Population - Both sexes       1951  1951  1000 persons   \n",
       "138353  Total Population - Both sexes       1952  1952  1000 persons   \n",
       "138354  Total Population - Both sexes       1953  1953  1000 persons   \n",
       "138355  Total Population - Both sexes       1954  1954  1000 persons   \n",
       "\n",
       "              Value Flag  Note  \n",
       "138351  2536431.149    A   NaN  \n",
       "138352  2584034.261    A   NaN  \n",
       "138353  2630861.562    A   NaN  \n",
       "138354  2677608.960    A   NaN  \n",
       "138355  2724846.741    A   NaN  "
      ]
     },
     "execution_count": 9,
     "metadata": {},
     "output_type": "execute_result"
    }
   ],
   "source": [
    "populacao_edit.head()"
   ]
  },
  {
   "cell_type": "code",
   "execution_count": 10,
   "metadata": {},
   "outputs": [
    {
     "data": {
      "text/plain": [
       "[<matplotlib.lines.Line2D at 0x28ed8300a88>]"
      ]
     },
     "execution_count": 10,
     "metadata": {},
     "output_type": "execute_result"
    },
    {
     "data": {
      "image/png": "[encoded data removed]",
      "text/plain": [
       "<Figure size 432x288 with 1 Axes>"
      ]
     },
     "metadata": {
      "needs_background": "light"
     },
     "output_type": "display_data"
    }
   ],
   "source": [
    "import numpy as np\n",
    "x_pop = np.array(populacao_edit[\"Year\"])\n",
    "y_pop = np.array(populacao_edit[\"Value\"])\n",
    "plt.plot(x_pop,y_pop)"
   ]
  },
  {
   "cell_type": "code",
   "execution_count": 11,
   "metadata": {},
   "outputs": [],
   "source": [
    "#https://pandas.pydata.org/pandas-docs/stable/user_guide/reshaping.html\n",
    "#populacao_edit = pd.pivot_table(populacao_edit, index=\"Year\",  columns=\"Area\", aggfunc=\"sum\",values=\"Value\").reset_index()\n",
    "#populacao_edit.head()"
   ]
  },
  {
   "cell_type": "code",
   "execution_count": 12,
   "metadata": {},
   "outputs": [],
   "source": [
    "#import numpy as np\n",
    "#x = np.array(populacao_edit[\"Year\"])\n",
    "#y = np.array(populacao_edit[\"World\"])\n",
    "#plt.plot(x,y)"
   ]
  },
  {
   "cell_type": "code",
   "execution_count": 14,
   "metadata": {},
   "outputs": [
    {
     "data": {
      "text/html": [
       "<div>\n",
       "<style scoped>\n",
       "    .dataframe tbody tr th:only-of-type {\n",
       "        vertical-align: middle;\n",
       "    }\n",
       "\n",
       "    .dataframe tbody tr th {\n",
       "        vertical-align: top;\n",
       "    }\n",
       "\n",
       "    .dataframe thead th {\n",
       "        text-align: right;\n",
       "    }\n",
       "</style>\n",
       "<table border=\"1\" class=\"dataframe\">\n",
       "  <thead>\n",
       "    <tr style=\"text-align: right;\">\n",
       "      <th></th>\n",
       "      <th>Area Code</th>\n",
       "      <th>Area</th>\n",
       "      <th>Item Code</th>\n",
       "      <th>Item</th>\n",
       "      <th>Element Code</th>\n",
       "      <th>Element</th>\n",
       "      <th>Year Code</th>\n",
       "      <th>Year</th>\n",
       "      <th>Unit</th>\n",
       "      <th>Value</th>\n",
       "      <th>Flag</th>\n",
       "    </tr>\n",
       "  </thead>\n",
       "  <tbody>\n",
       "    <tr>\n",
       "      <th>1828883</th>\n",
       "      <td>5000</td>\n",
       "      <td>World</td>\n",
       "      <td>836</td>\n",
       "      <td>Rubber, natural</td>\n",
       "      <td>5510</td>\n",
       "      <td>Production</td>\n",
       "      <td>2019</td>\n",
       "      <td>2019</td>\n",
       "      <td>tonnes</td>\n",
       "      <td>14616614.0</td>\n",
       "      <td>A</td>\n",
       "    </tr>\n",
       "    <tr>\n",
       "      <th>2083178</th>\n",
       "      <td>5300</td>\n",
       "      <td>Asia</td>\n",
       "      <td>836</td>\n",
       "      <td>Rubber, natural</td>\n",
       "      <td>5510</td>\n",
       "      <td>Production</td>\n",
       "      <td>2019</td>\n",
       "      <td>2019</td>\n",
       "      <td>tonnes</td>\n",
       "      <td>12924160.0</td>\n",
       "      <td>A</td>\n",
       "    </tr>\n",
       "    <tr>\n",
       "      <th>2159047</th>\n",
       "      <td>5304</td>\n",
       "      <td>South-eastern Asia</td>\n",
       "      <td>836</td>\n",
       "      <td>Rubber, natural</td>\n",
       "      <td>5510</td>\n",
       "      <td>Production</td>\n",
       "      <td>2019</td>\n",
       "      <td>2019</td>\n",
       "      <td>tonnes</td>\n",
       "      <td>10985296.0</td>\n",
       "      <td>A</td>\n",
       "    </tr>\n",
       "    <tr>\n",
       "      <th>1587360</th>\n",
       "      <td>216</td>\n",
       "      <td>Thailand</td>\n",
       "      <td>836</td>\n",
       "      <td>Rubber, natural</td>\n",
       "      <td>5510</td>\n",
       "      <td>Production</td>\n",
       "      <td>2019</td>\n",
       "      <td>2019</td>\n",
       "      <td>tonnes</td>\n",
       "      <td>4839952.0</td>\n",
       "      <td>NaN</td>\n",
       "    </tr>\n",
       "    <tr>\n",
       "      <th>786837</th>\n",
       "      <td>101</td>\n",
       "      <td>Indonesia</td>\n",
       "      <td>836</td>\n",
       "      <td>Rubber, natural</td>\n",
       "      <td>5510</td>\n",
       "      <td>Production</td>\n",
       "      <td>2019</td>\n",
       "      <td>2019</td>\n",
       "      <td>tonnes</td>\n",
       "      <td>3448782.0</td>\n",
       "      <td>NaN</td>\n",
       "    </tr>\n",
       "    <tr>\n",
       "      <th>2478644</th>\n",
       "      <td>5815</td>\n",
       "      <td>Low Income Food Deficit Countries</td>\n",
       "      <td>836</td>\n",
       "      <td>Rubber, natural</td>\n",
       "      <td>5510</td>\n",
       "      <td>Production</td>\n",
       "      <td>2019</td>\n",
       "      <td>2019</td>\n",
       "      <td>tonnes</td>\n",
       "      <td>3028532.0</td>\n",
       "      <td>A</td>\n",
       "    </tr>\n",
       "    <tr>\n",
       "      <th>2506106</th>\n",
       "      <td>5817</td>\n",
       "      <td>Net Food Importing Developing Countries</td>\n",
       "      <td>836</td>\n",
       "      <td>Rubber, natural</td>\n",
       "      <td>5510</td>\n",
       "      <td>Production</td>\n",
       "      <td>2019</td>\n",
       "      <td>2019</td>\n",
       "      <td>tonnes</td>\n",
       "      <td>1300381.0</td>\n",
       "      <td>A</td>\n",
       "    </tr>\n",
       "    <tr>\n",
       "      <th>1765590</th>\n",
       "      <td>237</td>\n",
       "      <td>Viet Nam</td>\n",
       "      <td>836</td>\n",
       "      <td>Rubber, natural</td>\n",
       "      <td>5510</td>\n",
       "      <td>Production</td>\n",
       "      <td>2019</td>\n",
       "      <td>2019</td>\n",
       "      <td>tonnes</td>\n",
       "      <td>1185157.0</td>\n",
       "      <td>NaN</td>\n",
       "    </tr>\n",
       "    <tr>\n",
       "      <th>2139134</th>\n",
       "      <td>5303</td>\n",
       "      <td>Southern Asia</td>\n",
       "      <td>836</td>\n",
       "      <td>Rubber, natural</td>\n",
       "      <td>5510</td>\n",
       "      <td>Production</td>\n",
       "      <td>2019</td>\n",
       "      <td>2019</td>\n",
       "      <td>tonnes</td>\n",
       "      <td>1098955.0</td>\n",
       "      <td>A</td>\n",
       "    </tr>\n",
       "    <tr>\n",
       "      <th>773854</th>\n",
       "      <td>100</td>\n",
       "      <td>India</td>\n",
       "      <td>836</td>\n",
       "      <td>Rubber, natural</td>\n",
       "      <td>5510</td>\n",
       "      <td>Production</td>\n",
       "      <td>2019</td>\n",
       "      <td>2019</td>\n",
       "      <td>tonnes</td>\n",
       "      <td>1001405.0</td>\n",
       "      <td>Im</td>\n",
       "    </tr>\n",
       "    <tr>\n",
       "      <th>1856046</th>\n",
       "      <td>5100</td>\n",
       "      <td>Africa</td>\n",
       "      <td>836</td>\n",
       "      <td>Rubber, natural</td>\n",
       "      <td>5510</td>\n",
       "      <td>Production</td>\n",
       "      <td>2019</td>\n",
       "      <td>2019</td>\n",
       "      <td>tonnes</td>\n",
       "      <td>996548.0</td>\n",
       "      <td>A</td>\n",
       "    </tr>\n",
       "    <tr>\n",
       "      <th>1948988</th>\n",
       "      <td>5105</td>\n",
       "      <td>Western Africa</td>\n",
       "      <td>836</td>\n",
       "      <td>Rubber, natural</td>\n",
       "      <td>5510</td>\n",
       "      <td>Production</td>\n",
       "      <td>2019</td>\n",
       "      <td>2019</td>\n",
       "      <td>tonnes</td>\n",
       "      <td>904430.0</td>\n",
       "      <td>A</td>\n",
       "    </tr>\n",
       "    <tr>\n",
       "      <th>345562</th>\n",
       "      <td>41</td>\n",
       "      <td>China, mainland</td>\n",
       "      <td>836</td>\n",
       "      <td>Rubber, natural</td>\n",
       "      <td>5510</td>\n",
       "      <td>Production</td>\n",
       "      <td>2019</td>\n",
       "      <td>2019</td>\n",
       "      <td>tonnes</td>\n",
       "      <td>839909.0</td>\n",
       "      <td>Im</td>\n",
       "    </tr>\n",
       "    <tr>\n",
       "      <th>319398</th>\n",
       "      <td>351</td>\n",
       "      <td>China</td>\n",
       "      <td>836</td>\n",
       "      <td>Rubber, natural</td>\n",
       "      <td>5510</td>\n",
       "      <td>Production</td>\n",
       "      <td>2019</td>\n",
       "      <td>2019</td>\n",
       "      <td>tonnes</td>\n",
       "      <td>839909.0</td>\n",
       "      <td>A</td>\n",
       "    </tr>\n",
       "    <tr>\n",
       "      <th>2115955</th>\n",
       "      <td>5302</td>\n",
       "      <td>Eastern Asia</td>\n",
       "      <td>836</td>\n",
       "      <td>Rubber, natural</td>\n",
       "      <td>5510</td>\n",
       "      <td>Production</td>\n",
       "      <td>2019</td>\n",
       "      <td>2019</td>\n",
       "      <td>tonnes</td>\n",
       "      <td>839909.0</td>\n",
       "      <td>A</td>\n",
       "    </tr>\n",
       "    <tr>\n",
       "      <th>1974252</th>\n",
       "      <td>5200</td>\n",
       "      <td>Americas</td>\n",
       "      <td>836</td>\n",
       "      <td>Rubber, natural</td>\n",
       "      <td>5510</td>\n",
       "      <td>Production</td>\n",
       "      <td>2019</td>\n",
       "      <td>2019</td>\n",
       "      <td>tonnes</td>\n",
       "      <td>687857.0</td>\n",
       "      <td>A</td>\n",
       "    </tr>\n",
       "    <tr>\n",
       "      <th>417911</th>\n",
       "      <td>107</td>\n",
       "      <td>Côte d'Ivoire</td>\n",
       "      <td>836</td>\n",
       "      <td>Rubber, natural</td>\n",
       "      <td>5510</td>\n",
       "      <td>Production</td>\n",
       "      <td>2019</td>\n",
       "      <td>2019</td>\n",
       "      <td>tonnes</td>\n",
       "      <td>664695.0</td>\n",
       "      <td>Im</td>\n",
       "    </tr>\n",
       "    <tr>\n",
       "      <th>1014189</th>\n",
       "      <td>131</td>\n",
       "      <td>Malaysia</td>\n",
       "      <td>836</td>\n",
       "      <td>Rubber, natural</td>\n",
       "      <td>5510</td>\n",
       "      <td>Production</td>\n",
       "      <td>2019</td>\n",
       "      <td>2019</td>\n",
       "      <td>tonnes</td>\n",
       "      <td>639830.0</td>\n",
       "      <td>NaN</td>\n",
       "    </tr>\n",
       "    <tr>\n",
       "      <th>2408829</th>\n",
       "      <td>5801</td>\n",
       "      <td>Least Developed Countries</td>\n",
       "      <td>836</td>\n",
       "      <td>Rubber, natural</td>\n",
       "      <td>5510</td>\n",
       "      <td>Production</td>\n",
       "      <td>2019</td>\n",
       "      <td>2019</td>\n",
       "      <td>tonnes</td>\n",
       "      <td>533187.0</td>\n",
       "      <td>A</td>\n",
       "    </tr>\n",
       "    <tr>\n",
       "      <th>1294703</th>\n",
       "      <td>171</td>\n",
       "      <td>Philippines</td>\n",
       "      <td>836</td>\n",
       "      <td>Rubber, natural</td>\n",
       "      <td>5510</td>\n",
       "      <td>Production</td>\n",
       "      <td>2019</td>\n",
       "      <td>2019</td>\n",
       "      <td>tonnes</td>\n",
       "      <td>431675.0</td>\n",
       "      <td>NaN</td>\n",
       "    </tr>\n",
       "    <tr>\n",
       "      <th>2015417</th>\n",
       "      <td>5204</td>\n",
       "      <td>Central America</td>\n",
       "      <td>836</td>\n",
       "      <td>Rubber, natural</td>\n",
       "      <td>5510</td>\n",
       "      <td>Production</td>\n",
       "      <td>2019</td>\n",
       "      <td>2019</td>\n",
       "      <td>tonnes</td>\n",
       "      <td>430480.0</td>\n",
       "      <td>A</td>\n",
       "    </tr>\n",
       "    <tr>\n",
       "      <th>698705</th>\n",
       "      <td>89</td>\n",
       "      <td>Guatemala</td>\n",
       "      <td>836</td>\n",
       "      <td>Rubber, natural</td>\n",
       "      <td>5510</td>\n",
       "      <td>Production</td>\n",
       "      <td>2019</td>\n",
       "      <td>2019</td>\n",
       "      <td>tonnes</td>\n",
       "      <td>350501.0</td>\n",
       "      <td>Im</td>\n",
       "    </tr>\n",
       "    <tr>\n",
       "      <th>1118789</th>\n",
       "      <td>28</td>\n",
       "      <td>Myanmar</td>\n",
       "      <td>836</td>\n",
       "      <td>Rubber, natural</td>\n",
       "      <td>5510</td>\n",
       "      <td>Production</td>\n",
       "      <td>2019</td>\n",
       "      <td>2019</td>\n",
       "      <td>tonnes</td>\n",
       "      <td>264943.0</td>\n",
       "      <td>NaN</td>\n",
       "    </tr>\n",
       "    <tr>\n",
       "      <th>2055736</th>\n",
       "      <td>5207</td>\n",
       "      <td>South America</td>\n",
       "      <td>836</td>\n",
       "      <td>Rubber, natural</td>\n",
       "      <td>5510</td>\n",
       "      <td>Production</td>\n",
       "      <td>2019</td>\n",
       "      <td>2019</td>\n",
       "      <td>tonnes</td>\n",
       "      <td>257315.0</td>\n",
       "      <td>A</td>\n",
       "    </tr>\n",
       "    <tr>\n",
       "      <th>198357</th>\n",
       "      <td>21</td>\n",
       "      <td>Brazil</td>\n",
       "      <td>836</td>\n",
       "      <td>Rubber, natural</td>\n",
       "      <td>5510</td>\n",
       "      <td>Production</td>\n",
       "      <td>2019</td>\n",
       "      <td>2019</td>\n",
       "      <td>tonnes</td>\n",
       "      <td>217387.0</td>\n",
       "      <td>NaN</td>\n",
       "    </tr>\n",
       "    <tr>\n",
       "      <th>249213</th>\n",
       "      <td>115</td>\n",
       "      <td>Cambodia</td>\n",
       "      <td>836</td>\n",
       "      <td>Rubber, natural</td>\n",
       "      <td>5510</td>\n",
       "      <td>Production</td>\n",
       "      <td>2019</td>\n",
       "      <td>2019</td>\n",
       "      <td>tonnes</td>\n",
       "      <td>174700.0</td>\n",
       "      <td>*</td>\n",
       "    </tr>\n",
       "    <tr>\n",
       "      <th>1190458</th>\n",
       "      <td>159</td>\n",
       "      <td>Nigeria</td>\n",
       "      <td>836</td>\n",
       "      <td>Rubber, natural</td>\n",
       "      <td>5510</td>\n",
       "      <td>Production</td>\n",
       "      <td>2019</td>\n",
       "      <td>2019</td>\n",
       "      <td>tonnes</td>\n",
       "      <td>149691.0</td>\n",
       "      <td>Im</td>\n",
       "    </tr>\n",
       "    <tr>\n",
       "      <th>1896075</th>\n",
       "      <td>5102</td>\n",
       "      <td>Middle Africa</td>\n",
       "      <td>836</td>\n",
       "      <td>Rubber, natural</td>\n",
       "      <td>5510</td>\n",
       "      <td>Production</td>\n",
       "      <td>2019</td>\n",
       "      <td>2019</td>\n",
       "      <td>tonnes</td>\n",
       "      <td>92118.0</td>\n",
       "      <td>A</td>\n",
       "    </tr>\n",
       "    <tr>\n",
       "      <th>1072967</th>\n",
       "      <td>138</td>\n",
       "      <td>Mexico</td>\n",
       "      <td>836</td>\n",
       "      <td>Rubber, natural</td>\n",
       "      <td>5510</td>\n",
       "      <td>Production</td>\n",
       "      <td>2019</td>\n",
       "      <td>2019</td>\n",
       "      <td>tonnes</td>\n",
       "      <td>79979.0</td>\n",
       "      <td>NaN</td>\n",
       "    </tr>\n",
       "    <tr>\n",
       "      <th>1519004</th>\n",
       "      <td>38</td>\n",
       "      <td>Sri Lanka</td>\n",
       "      <td>836</td>\n",
       "      <td>Rubber, natural</td>\n",
       "      <td>5510</td>\n",
       "      <td>Production</td>\n",
       "      <td>2019</td>\n",
       "      <td>2019</td>\n",
       "      <td>tonnes</td>\n",
       "      <td>74750.0</td>\n",
       "      <td>NaN</td>\n",
       "    </tr>\n",
       "    <tr>\n",
       "      <th>260288</th>\n",
       "      <td>32</td>\n",
       "      <td>Cameroon</td>\n",
       "      <td>836</td>\n",
       "      <td>Rubber, natural</td>\n",
       "      <td>5510</td>\n",
       "      <td>Production</td>\n",
       "      <td>2019</td>\n",
       "      <td>2019</td>\n",
       "      <td>tonnes</td>\n",
       "      <td>50521.0</td>\n",
       "      <td>Im</td>\n",
       "    </tr>\n",
       "    <tr>\n",
       "      <th>963926</th>\n",
       "      <td>123</td>\n",
       "      <td>Liberia</td>\n",
       "      <td>836</td>\n",
       "      <td>Rubber, natural</td>\n",
       "      <td>5510</td>\n",
       "      <td>Production</td>\n",
       "      <td>2019</td>\n",
       "      <td>2019</td>\n",
       "      <td>tonnes</td>\n",
       "      <td>42010.0</td>\n",
       "      <td>Im</td>\n",
       "    </tr>\n",
       "    <tr>\n",
       "      <th>656855</th>\n",
       "      <td>81</td>\n",
       "      <td>Ghana</td>\n",
       "      <td>836</td>\n",
       "      <td>Rubber, natural</td>\n",
       "      <td>5510</td>\n",
       "      <td>Production</td>\n",
       "      <td>2019</td>\n",
       "      <td>2019</td>\n",
       "      <td>tonnes</td>\n",
       "      <td>30500.0</td>\n",
       "      <td>*</td>\n",
       "    </tr>\n",
       "    <tr>\n",
       "      <th>626137</th>\n",
       "      <td>74</td>\n",
       "      <td>Gabon</td>\n",
       "      <td>836</td>\n",
       "      <td>Rubber, natural</td>\n",
       "      <td>5510</td>\n",
       "      <td>Production</td>\n",
       "      <td>2019</td>\n",
       "      <td>2019</td>\n",
       "      <td>tonnes</td>\n",
       "      <td>27687.0</td>\n",
       "      <td>Im</td>\n",
       "    </tr>\n",
       "    <tr>\n",
       "      <th>115816</th>\n",
       "      <td>16</td>\n",
       "      <td>Bangladesh</td>\n",
       "      <td>836</td>\n",
       "      <td>Rubber, natural</td>\n",
       "      <td>5510</td>\n",
       "      <td>Production</td>\n",
       "      <td>2019</td>\n",
       "      <td>2019</td>\n",
       "      <td>tonnes</td>\n",
       "      <td>22800.0</td>\n",
       "      <td>F</td>\n",
       "    </tr>\n",
       "    <tr>\n",
       "      <th>522525</th>\n",
       "      <td>58</td>\n",
       "      <td>Ecuador</td>\n",
       "      <td>836</td>\n",
       "      <td>Rubber, natural</td>\n",
       "      <td>5510</td>\n",
       "      <td>Production</td>\n",
       "      <td>2019</td>\n",
       "      <td>2019</td>\n",
       "      <td>tonnes</td>\n",
       "      <td>21720.0</td>\n",
       "      <td>Im</td>\n",
       "    </tr>\n",
       "    <tr>\n",
       "      <th>707195</th>\n",
       "      <td>90</td>\n",
       "      <td>Guinea</td>\n",
       "      <td>836</td>\n",
       "      <td>Rubber, natural</td>\n",
       "      <td>5510</td>\n",
       "      <td>Production</td>\n",
       "      <td>2019</td>\n",
       "      <td>2019</td>\n",
       "      <td>tonnes</td>\n",
       "      <td>17534.0</td>\n",
       "      <td>Im</td>\n",
       "    </tr>\n",
       "    <tr>\n",
       "      <th>375837</th>\n",
       "      <td>44</td>\n",
       "      <td>Colombia</td>\n",
       "      <td>836</td>\n",
       "      <td>Rubber, natural</td>\n",
       "      <td>5510</td>\n",
       "      <td>Production</td>\n",
       "      <td>2019</td>\n",
       "      <td>2019</td>\n",
       "      <td>tonnes</td>\n",
       "      <td>13107.0</td>\n",
       "      <td>Im</td>\n",
       "    </tr>\n",
       "    <tr>\n",
       "      <th>478609</th>\n",
       "      <td>250</td>\n",
       "      <td>Democratic Republic of the Congo</td>\n",
       "      <td>836</td>\n",
       "      <td>Rubber, natural</td>\n",
       "      <td>5510</td>\n",
       "      <td>Production</td>\n",
       "      <td>2019</td>\n",
       "      <td>2019</td>\n",
       "      <td>tonnes</td>\n",
       "      <td>10000.0</td>\n",
       "      <td>NaN</td>\n",
       "    </tr>\n",
       "    <tr>\n",
       "      <th>2453396</th>\n",
       "      <td>5803</td>\n",
       "      <td>Small Island Developing States</td>\n",
       "      <td>836</td>\n",
       "      <td>Rubber, natural</td>\n",
       "      <td>5510</td>\n",
       "      <td>Production</td>\n",
       "      <td>2019</td>\n",
       "      <td>2019</td>\n",
       "      <td>tonnes</td>\n",
       "      <td>8111.0</td>\n",
       "      <td>A</td>\n",
       "    </tr>\n",
       "    <tr>\n",
       "      <th>2297808</th>\n",
       "      <td>5500</td>\n",
       "      <td>Oceania</td>\n",
       "      <td>836</td>\n",
       "      <td>Rubber, natural</td>\n",
       "      <td>5510</td>\n",
       "      <td>Production</td>\n",
       "      <td>2019</td>\n",
       "      <td>2019</td>\n",
       "      <td>tonnes</td>\n",
       "      <td>8049.0</td>\n",
       "      <td>A</td>\n",
       "    </tr>\n",
       "    <tr>\n",
       "      <th>2328401</th>\n",
       "      <td>5502</td>\n",
       "      <td>Melanesia</td>\n",
       "      <td>836</td>\n",
       "      <td>Rubber, natural</td>\n",
       "      <td>5510</td>\n",
       "      <td>Production</td>\n",
       "      <td>2019</td>\n",
       "      <td>2019</td>\n",
       "      <td>tonnes</td>\n",
       "      <td>8049.0</td>\n",
       "      <td>A</td>\n",
       "    </tr>\n",
       "    <tr>\n",
       "      <th>1252711</th>\n",
       "      <td>168</td>\n",
       "      <td>Papua New Guinea</td>\n",
       "      <td>836</td>\n",
       "      <td>Rubber, natural</td>\n",
       "      <td>5510</td>\n",
       "      <td>Production</td>\n",
       "      <td>2019</td>\n",
       "      <td>2019</td>\n",
       "      <td>tonnes</td>\n",
       "      <td>8049.0</td>\n",
       "      <td>Im</td>\n",
       "    </tr>\n",
       "    <tr>\n",
       "      <th>2433551</th>\n",
       "      <td>5802</td>\n",
       "      <td>Land Locked Developing Countries</td>\n",
       "      <td>836</td>\n",
       "      <td>Rubber, natural</td>\n",
       "      <td>5510</td>\n",
       "      <td>Production</td>\n",
       "      <td>2019</td>\n",
       "      <td>2019</td>\n",
       "      <td>tonnes</td>\n",
       "      <td>6301.0</td>\n",
       "      <td>A</td>\n",
       "    </tr>\n",
       "    <tr>\n",
       "      <th>174544</th>\n",
       "      <td>19</td>\n",
       "      <td>Bolivia (Plurinational State of)</td>\n",
       "      <td>836</td>\n",
       "      <td>Rubber, natural</td>\n",
       "      <td>5510</td>\n",
       "      <td>Production</td>\n",
       "      <td>2019</td>\n",
       "      <td>2019</td>\n",
       "      <td>tonnes</td>\n",
       "      <td>5101.0</td>\n",
       "      <td>Im</td>\n",
       "    </tr>\n",
       "    <tr>\n",
       "      <th>391849</th>\n",
       "      <td>46</td>\n",
       "      <td>Congo</td>\n",
       "      <td>836</td>\n",
       "      <td>Rubber, natural</td>\n",
       "      <td>5510</td>\n",
       "      <td>Production</td>\n",
       "      <td>2019</td>\n",
       "      <td>2019</td>\n",
       "      <td>tonnes</td>\n",
       "      <td>2710.0</td>\n",
       "      <td>Im</td>\n",
       "    </tr>\n",
       "    <tr>\n",
       "      <th>280530</th>\n",
       "      <td>37</td>\n",
       "      <td>Central African Republic</td>\n",
       "      <td>836</td>\n",
       "      <td>Rubber, natural</td>\n",
       "      <td>5510</td>\n",
       "      <td>Production</td>\n",
       "      <td>2019</td>\n",
       "      <td>2019</td>\n",
       "      <td>tonnes</td>\n",
       "      <td>1200.0</td>\n",
       "      <td>Im</td>\n",
       "    </tr>\n",
       "    <tr>\n",
       "      <th>207393</th>\n",
       "      <td>26</td>\n",
       "      <td>Brunei Darussalam</td>\n",
       "      <td>836</td>\n",
       "      <td>Rubber, natural</td>\n",
       "      <td>5510</td>\n",
       "      <td>Production</td>\n",
       "      <td>2019</td>\n",
       "      <td>2019</td>\n",
       "      <td>tonnes</td>\n",
       "      <td>257.0</td>\n",
       "      <td>Im</td>\n",
       "    </tr>\n",
       "    <tr>\n",
       "      <th>2032901</th>\n",
       "      <td>5206</td>\n",
       "      <td>Caribbean</td>\n",
       "      <td>836</td>\n",
       "      <td>Rubber, natural</td>\n",
       "      <td>5510</td>\n",
       "      <td>Production</td>\n",
       "      <td>2019</td>\n",
       "      <td>2019</td>\n",
       "      <td>tonnes</td>\n",
       "      <td>62.0</td>\n",
       "      <td>A</td>\n",
       "    </tr>\n",
       "    <tr>\n",
       "      <th>508316</th>\n",
       "      <td>56</td>\n",
       "      <td>Dominican Republic</td>\n",
       "      <td>836</td>\n",
       "      <td>Rubber, natural</td>\n",
       "      <td>5510</td>\n",
       "      <td>Production</td>\n",
       "      <td>2019</td>\n",
       "      <td>2019</td>\n",
       "      <td>tonnes</td>\n",
       "      <td>62.0</td>\n",
       "      <td>Im</td>\n",
       "    </tr>\n",
       "    <tr>\n",
       "      <th>406274</th>\n",
       "      <td>48</td>\n",
       "      <td>Costa Rica</td>\n",
       "      <td>836</td>\n",
       "      <td>Rubber, natural</td>\n",
       "      <td>5510</td>\n",
       "      <td>Production</td>\n",
       "      <td>2019</td>\n",
       "      <td>2019</td>\n",
       "      <td>tonnes</td>\n",
       "      <td>NaN</td>\n",
       "      <td>M</td>\n",
       "    </tr>\n",
       "    <tr>\n",
       "      <th>714286</th>\n",
       "      <td>175</td>\n",
       "      <td>Guinea-Bissau</td>\n",
       "      <td>836</td>\n",
       "      <td>Rubber, natural</td>\n",
       "      <td>5510</td>\n",
       "      <td>Production</td>\n",
       "      <td>2019</td>\n",
       "      <td>2019</td>\n",
       "      <td>tonnes</td>\n",
       "      <td>NaN</td>\n",
       "      <td>M</td>\n",
       "    </tr>\n",
       "    <tr>\n",
       "      <th>1279342</th>\n",
       "      <td>170</td>\n",
       "      <td>Peru</td>\n",
       "      <td>836</td>\n",
       "      <td>Rubber, natural</td>\n",
       "      <td>5510</td>\n",
       "      <td>Production</td>\n",
       "      <td>2019</td>\n",
       "      <td>2019</td>\n",
       "      <td>tonnes</td>\n",
       "      <td>NaN</td>\n",
       "      <td>M</td>\n",
       "    </tr>\n",
       "    <tr>\n",
       "      <th>1452092</th>\n",
       "      <td>200</td>\n",
       "      <td>Singapore</td>\n",
       "      <td>836</td>\n",
       "      <td>Rubber, natural</td>\n",
       "      <td>5510</td>\n",
       "      <td>Production</td>\n",
       "      <td>2019</td>\n",
       "      <td>2019</td>\n",
       "      <td>tonnes</td>\n",
       "      <td>NaN</td>\n",
       "      <td>M</td>\n",
       "    </tr>\n",
       "    <tr>\n",
       "      <th>1596208</th>\n",
       "      <td>176</td>\n",
       "      <td>Timor-Leste</td>\n",
       "      <td>836</td>\n",
       "      <td>Rubber, natural</td>\n",
       "      <td>5510</td>\n",
       "      <td>Production</td>\n",
       "      <td>2019</td>\n",
       "      <td>2019</td>\n",
       "      <td>tonnes</td>\n",
       "      <td>NaN</td>\n",
       "      <td>M</td>\n",
       "    </tr>\n",
       "  </tbody>\n",
       "</table>\n",
       "</div>"
      ],
      "text/plain": [
       "         Area Code                                     Area  Item Code  \\\n",
       "1828883       5000                                    World        836   \n",
       "2083178       5300                                     Asia        836   \n",
       "2159047       5304                       South-eastern Asia        836   \n",
       "1587360        216                                 Thailand        836   \n",
       "786837         101                                Indonesia        836   \n",
       "2478644       5815        Low Income Food Deficit Countries        836   \n",
       "2506106       5817  Net Food Importing Developing Countries        836   \n",
       "1765590        237                                 Viet Nam        836   \n",
       "2139134       5303                            Southern Asia        836   \n",
       "773854         100                                    India        836   \n",
       "1856046       5100                                   Africa        836   \n",
       "1948988       5105                           Western Africa        836   \n",
       "345562          41                          China, mainland        836   \n",
       "319398         351                                    China        836   \n",
       "2115955       5302                             Eastern Asia        836   \n",
       "1974252       5200                                 Americas        836   \n",
       "417911         107                            Côte d'Ivoire        836   \n",
       "1014189        131                                 Malaysia        836   \n",
       "2408829       5801                Least Developed Countries        836   \n",
       "1294703        171                              Philippines        836   \n",
       "2015417       5204                          Central America        836   \n",
       "698705          89                                Guatemala        836   \n",
       "1118789         28                                  Myanmar        836   \n",
       "2055736       5207                            South America        836   \n",
       "198357          21                                   Brazil        836   \n",
       "249213         115                                 Cambodia        836   \n",
       "1190458        159                                  Nigeria        836   \n",
       "1896075       5102                            Middle Africa        836   \n",
       "1072967        138                                   Mexico        836   \n",
       "1519004         38                                Sri Lanka        836   \n",
       "260288          32                                 Cameroon        836   \n",
       "963926         123                                  Liberia        836   \n",
       "656855          81                                    Ghana        836   \n",
       "626137          74                                    Gabon        836   \n",
       "115816          16                               Bangladesh        836   \n",
       "522525          58                                  Ecuador        836   \n",
       "707195          90                                   Guinea        836   \n",
       "375837          44                                 Colombia        836   \n",
       "478609         250         Democratic Republic of the Congo        836   \n",
       "2453396       5803           Small Island Developing States        836   \n",
       "2297808       5500                                  Oceania        836   \n",
       "2328401       5502                                Melanesia        836   \n",
       "1252711        168                         Papua New Guinea        836   \n",
       "2433551       5802         Land Locked Developing Countries        836   \n",
       "174544          19         Bolivia (Plurinational State of)        836   \n",
       "391849          46                                    Congo        836   \n",
       "280530          37                 Central African Republic        836   \n",
       "207393          26                        Brunei Darussalam        836   \n",
       "2032901       5206                                Caribbean        836   \n",
       "508316          56                       Dominican Republic        836   \n",
       "406274          48                               Costa Rica        836   \n",
       "714286         175                            Guinea-Bissau        836   \n",
       "1279342        170                                     Peru        836   \n",
       "1452092        200                                Singapore        836   \n",
       "1596208        176                              Timor-Leste        836   \n",
       "\n",
       "                    Item  Element Code     Element  Year Code  Year    Unit  \\\n",
       "1828883  Rubber, natural          5510  Production       2019  2019  tonnes   \n",
       "2083178  Rubber, natural          5510  Production       2019  2019  tonnes   \n",
       "2159047  Rubber, natural          5510  Production       2019  2019  tonnes   \n",
       "1587360  Rubber, natural          5510  Production       2019  2019  tonnes   \n",
       "786837   Rubber, natural          5510  Production       2019  2019  tonnes   \n",
       "2478644  Rubber, natural          5510  Production       2019  2019  tonnes   \n",
       "2506106  Rubber, natural          5510  Production       2019  2019  tonnes   \n",
       "1765590  Rubber, natural          5510  Production       2019  2019  tonnes   \n",
       "2139134  Rubber, natural          5510  Production       2019  2019  tonnes   \n",
       "773854   Rubber, natural          5510  Production       2019  2019  tonnes   \n",
       "1856046  Rubber, natural          5510  Production       2019  2019  tonnes   \n",
       "1948988  Rubber, natural          5510  Production       2019  2019  tonnes   \n",
       "345562   Rubber, natural          5510  Production       2019  2019  tonnes   \n",
       "319398   Rubber, natural          5510  Production       2019  2019  tonnes   \n",
       "2115955  Rubber, natural          5510  Production       2019  2019  tonnes   \n",
       "1974252  Rubber, natural          5510  Production       2019  2019  tonnes   \n",
       "417911   Rubber, natural          5510  Production       2019  2019  tonnes   \n",
       "1014189  Rubber, natural          5510  Production       2019  2019  tonnes   \n",
       "2408829  Rubber, natural          5510  Production       2019  2019  tonnes   \n",
       "1294703  Rubber, natural          5510  Production       2019  2019  tonnes   \n",
       "2015417  Rubber, natural          5510  Production       2019  2019  tonnes   \n",
       "698705   Rubber, natural          5510  Production       2019  2019  tonnes   \n",
       "1118789  Rubber, natural          5510  Production       2019  2019  tonnes   \n",
       "2055736  Rubber, natural          5510  Production       2019  2019  tonnes   \n",
       "198357   Rubber, natural          5510  Production       2019  2019  tonnes   \n",
       "249213   Rubber, natural          5510  Production       2019  2019  tonnes   \n",
       "1190458  Rubber, natural          5510  Production       2019  2019  tonnes   \n",
       "1896075  Rubber, natural          5510  Production       2019  2019  tonnes   \n",
       "1072967  Rubber, natural          5510  Production       2019  2019  tonnes   \n",
       "1519004  Rubber, natural          5510  Production       2019  2019  tonnes   \n",
       "260288   Rubber, natural          5510  Production       2019  2019  tonnes   \n",
       "963926   Rubber, natural          5510  Production       2019  2019  tonnes   \n",
       "656855   Rubber, natural          5510  Production       2019  2019  tonnes   \n",
       "626137   Rubber, natural          5510  Production       2019  2019  tonnes   \n",
       "115816   Rubber, natural          5510  Production       2019  2019  tonnes   \n",
       "522525   Rubber, natural          5510  Production       2019  2019  tonnes   \n",
       "707195   Rubber, natural          5510  Production       2019  2019  tonnes   \n",
       "375837   Rubber, natural          5510  Production       2019  2019  tonnes   \n",
       "478609   Rubber, natural          5510  Production       2019  2019  tonnes   \n",
       "2453396  Rubber, natural          5510  Production       2019  2019  tonnes   \n",
       "2297808  Rubber, natural          5510  Production       2019  2019  tonnes   \n",
       "2328401  Rubber, natural          5510  Production       2019  2019  tonnes   \n",
       "1252711  Rubber, natural          5510  Production       2019  2019  tonnes   \n",
       "2433551  Rubber, natural          5510  Production       2019  2019  tonnes   \n",
       "174544   Rubber, natural          5510  Production       2019  2019  tonnes   \n",
       "391849   Rubber, natural          5510  Production       2019  2019  tonnes   \n",
       "280530   Rubber, natural          5510  Production       2019  2019  tonnes   \n",
       "207393   Rubber, natural          5510  Production       2019  2019  tonnes   \n",
       "2032901  Rubber, natural          5510  Production       2019  2019  tonnes   \n",
       "508316   Rubber, natural          5510  Production       2019  2019  tonnes   \n",
       "406274   Rubber, natural          5510  Production       2019  2019  tonnes   \n",
       "714286   Rubber, natural          5510  Production       2019  2019  tonnes   \n",
       "1279342  Rubber, natural          5510  Production       2019  2019  tonnes   \n",
       "1452092  Rubber, natural          5510  Production       2019  2019  tonnes   \n",
       "1596208  Rubber, natural          5510  Production       2019  2019  tonnes   \n",
       "\n",
       "              Value Flag  \n",
       "1828883  14616614.0    A  \n",
       "2083178  12924160.0    A  \n",
       "2159047  10985296.0    A  \n",
       "1587360   4839952.0  NaN  \n",
       "786837    3448782.0  NaN  \n",
       "2478644   3028532.0    A  \n",
       "2506106   1300381.0    A  \n",
       "1765590   1185157.0  NaN  \n",
       "2139134   1098955.0    A  \n",
       "773854    1001405.0   Im  \n",
       "1856046    996548.0    A  \n",
       "1948988    904430.0    A  \n",
       "345562     839909.0   Im  \n",
       "319398     839909.0    A  \n",
       "2115955    839909.0    A  \n",
       "1974252    687857.0    A  \n",
       "417911     664695.0   Im  \n",
       "1014189    639830.0  NaN  \n",
       "2408829    533187.0    A  \n",
       "1294703    431675.0  NaN  \n",
       "2015417    430480.0    A  \n",
       "698705     350501.0   Im  \n",
       "1118789    264943.0  NaN  \n",
       "2055736    257315.0    A  \n",
       "198357     217387.0  NaN  \n",
       "249213     174700.0    *  \n",
       "1190458    149691.0   Im  \n",
       "1896075     92118.0    A  \n",
       "1072967     79979.0  NaN  \n",
       "1519004     74750.0  NaN  \n",
       "260288      50521.0   Im  \n",
       "963926      42010.0   Im  \n",
       "656855      30500.0    *  \n",
       "626137      27687.0   Im  \n",
       "115816      22800.0    F  \n",
       "522525      21720.0   Im  \n",
       "707195      17534.0   Im  \n",
       "375837      13107.0   Im  \n",
       "478609      10000.0  NaN  \n",
       "2453396      8111.0    A  \n",
       "2297808      8049.0    A  \n",
       "2328401      8049.0    A  \n",
       "1252711      8049.0   Im  \n",
       "2433551      6301.0    A  \n",
       "174544       5101.0   Im  \n",
       "391849       2710.0   Im  \n",
       "280530       1200.0   Im  \n",
       "207393        257.0   Im  \n",
       "2032901        62.0    A  \n",
       "508316         62.0   Im  \n",
       "406274          NaN    M  \n",
       "714286          NaN    M  \n",
       "1279342         NaN    M  \n",
       "1452092         NaN    M  \n",
       "1596208         NaN    M  "
      ]
     },
     "execution_count": 14,
     "metadata": {},
     "output_type": "execute_result"
    }
   ],
   "source": [
    "import pandas as pd\n",
    "\n",
    "path = \"FAOSTAT\\Production_Crops_E_All_Data_(Normalized)\\Production_Crops_E_All_Data_(Normalized).csv\"\n",
    "prod = pd.read_csv(path,sep=\",\",decimal=\".\",encoding=\"latin1\")\n",
    "prod = prod[prod[\"Item\"]==\"Rubber, natural\"]\n",
    "prod = prod[prod[\"Element\"]==\"Production\"]\n",
    "prod = prod[prod[\"Year\"]==2019]\n",
    "prod = prod.sort_values(by=['Value'],ascending=False)\n",
    "\n",
    "prod"
   ]
  },
  {
   "cell_type": "code",
   "execution_count": null,
   "metadata": {},
   "outputs": [],
   "source": []
  },
  {
   "cell_type": "code",
   "execution_count": 6,
   "metadata": {},
   "outputs": [
    {
     "name": "stdout",
     "output_type": "stream",
     "text": [
      "['Almonds, with shell' 'Anise, badian, fennel, coriander' 'Apples'\n",
      " 'Apricots' 'Barley' 'Berries nes' 'Figs' 'Fruit, citrus nes'\n",
      " 'Fruit, fresh nes' 'Fruit, stone nes' 'Grapes' 'Linseed' 'Maize'\n",
      " 'Melons, other (inc.cantaloupes)' 'Millet' 'Nuts nes' 'Olives'\n",
      " 'Onions, dry' 'Oranges' 'Peaches and nectarines' 'Pears' 'Pistachios'\n",
      " 'Plums and sloes' 'Potatoes' 'Pulses nes' 'Rice, paddy'\n",
      " 'Rice, paddy (rice milled equivalent)' 'Seed cotton' 'Sesame seed'\n",
      " 'Spices nes' 'Sugar beet' 'Sugar cane' 'Sunflower seed'\n",
      " 'Vegetables, fresh nes' 'Walnuts, with shell' 'Watermelons' 'Wheat'\n",
      " 'Cereals, Total' 'Citrus Fruit, Total' 'Fibre Crops Primary'\n",
      " 'Fruit Primary' 'Oilcrops' 'Oilcrops, Cake Equivalent'\n",
      " 'Oilcrops, Oil Equivalent' 'Pulses, Total' 'Roots and Tubers, Total'\n",
      " 'Sugar Crops Primary' 'Treenuts, Total' 'Vegetables Primary' 'Beans, dry'\n",
      " 'Beans, green' 'Broad beans, horse beans, dry'\n",
      " 'Cabbages and other brassicas' 'Carrots and turnips'\n",
      " 'Cauliflowers and broccoli' 'Cherries' 'Cherries, sour' 'Chestnut'\n",
      " 'Chillies and peppers, green' 'Cucumbers and gherkins' 'Dates'\n",
      " 'Eggplants (aubergines)' 'Garlic' 'Hops'\n",
      " 'Leeks, other alliaceous vegetables' 'Lemons and limes'\n",
      " 'Lettuce and chicory' 'Mushrooms and truffles' 'Oats' 'Okra'\n",
      " 'Onions, shallots, green' 'Peas, green' 'Pumpkins, squash and gourds'\n",
      " 'Quinces' 'Rye' 'Sorghum' 'Soybeans' 'Spinach' 'Strawberries'\n",
      " 'Tangerines, mandarins, clementines, satsumas' 'Tobacco, unmanufactured'\n",
      " 'Tomatoes' 'Vegetables, leguminous nes' 'Vetches' 'Artichokes' 'Bananas'\n",
      " 'Carobs' 'Chick peas' 'Chillies and peppers, dry'\n",
      " 'Fruit, tropical fresh nes' 'Grapefruit (inc. pomelos)'\n",
      " 'Groundnuts, with shell' 'Lentils' 'Peas, dry' 'Rapeseed' 'Triticale'\n",
      " 'Bastfibres, other' 'Cashew nuts, with shell' 'Cassava' 'Castor oil seed'\n",
      " 'Cocoa, beans' 'Coffee, green' 'Flax fibre and tow' 'Oil palm fruit'\n",
      " 'Pineapples' 'Sisal' 'Sweet potatoes' 'Mangoes, mangosteens, guavas'\n",
      " 'Taro (cocoyam)' 'Yams' 'Asparagus' 'Avocados' 'Canary seed'\n",
      " 'Cereals nes' 'Fibre crops nes' 'Lupins' 'Maté' 'Oilseeds nes' 'Papayas'\n",
      " 'Peppermint' 'Safflower seed' 'String beans' 'Tea' 'Tung nuts'\n",
      " 'Hazelnuts, with shell' 'Blueberries' 'Cow peas, dry' 'Currants'\n",
      " 'Kiwi fruit' 'Maize, green' 'Mustard seed' 'Persimmons' 'Raspberries'\n",
      " 'Buckwheat' 'Gooseberries' 'Grain, mixed' 'Hemp tow waste' 'Poppy seed'\n",
      " 'Cranberries' 'Coconuts' 'Pigeon peas' 'Plantains and others'\n",
      " 'Areca nuts' 'Coir' 'Ginger' 'Jute' 'Rubber, natural' 'Sugar crops nes'\n",
      " 'Fruit, pome nes' 'Chicory roots' 'Vanilla' 'Roots and tubers nes'\n",
      " 'Yautia (cocoyam)' 'Fonio' 'Karite nuts (sheanuts)' 'Kola nuts'\n",
      " 'Melonseed' 'Pepper (piper spp.)' 'Nutmeg, mace and cardamoms'\n",
      " 'Brazil nuts, with shell' 'Pyrethrum, dried' 'Quinoa' 'Cashewapple'\n",
      " 'Gums, natural' 'Ramie' 'Cassava leaves' 'Hempseed' 'Bambara beans'\n",
      " 'Cinnamon (cannella)' 'Cloves' 'Tallowtree seed' 'Agave fibres nes'\n",
      " 'Manila fibre (abaca)' 'Kapok fruit' 'Jojoba seed']\n"
     ]
    }
   ],
   "source": [
    "print(prod[\"Item\"].unique())"
   ]
  },
  {
   "cell_type": "code",
   "execution_count": 15,
   "metadata": {},
   "outputs": [
    {
     "name": "stdout",
     "output_type": "stream",
     "text": [
      "['ha' 'hg/ha' 'tonnes']\n"
     ]
    }
   ],
   "source": [
    "print(prod[\"Unit\"].unique())"
   ]
  },
  {
   "cell_type": "code",
   "execution_count": 16,
   "metadata": {},
   "outputs": [
    {
     "name": "stdout",
     "output_type": "stream",
     "text": [
      "['Area harvested' 'Yield' 'Production']\n"
     ]
    }
   ],
   "source": [
    "print(prod[\"Element\"].unique())"
   ]
  },
  {
   "cell_type": "code",
   "execution_count": 17,
   "metadata": {},
   "outputs": [
    {
     "data": {
      "text/html": [
       "<div>\n",
       "<style scoped>\n",
       "    .dataframe tbody tr th:only-of-type {\n",
       "        vertical-align: middle;\n",
       "    }\n",
       "\n",
       "    .dataframe tbody tr th {\n",
       "        vertical-align: top;\n",
       "    }\n",
       "\n",
       "    .dataframe thead th {\n",
       "        text-align: right;\n",
       "    }\n",
       "</style>\n",
       "<table border=\"1\" class=\"dataframe\">\n",
       "  <thead>\n",
       "    <tr style=\"text-align: right;\">\n",
       "      <th></th>\n",
       "      <th>Area Code</th>\n",
       "      <th>Area</th>\n",
       "      <th>Item Code</th>\n",
       "      <th>Item</th>\n",
       "      <th>Element Code</th>\n",
       "      <th>Element</th>\n",
       "      <th>Year Code</th>\n",
       "      <th>Year</th>\n",
       "      <th>Unit</th>\n",
       "      <th>Value</th>\n",
       "      <th>Flag</th>\n",
       "    </tr>\n",
       "  </thead>\n",
       "  <tbody>\n",
       "    <tr>\n",
       "      <th>1834805</th>\n",
       "      <td>5000</td>\n",
       "      <td>World</td>\n",
       "      <td>1717</td>\n",
       "      <td>Cereals, Total</td>\n",
       "      <td>5510</td>\n",
       "      <td>Production</td>\n",
       "      <td>1961</td>\n",
       "      <td>1961</td>\n",
       "      <td>tonnes</td>\n",
       "      <td>8.768745e+08</td>\n",
       "      <td>A</td>\n",
       "    </tr>\n",
       "    <tr>\n",
       "      <th>1834806</th>\n",
       "      <td>5000</td>\n",
       "      <td>World</td>\n",
       "      <td>1717</td>\n",
       "      <td>Cereals, Total</td>\n",
       "      <td>5510</td>\n",
       "      <td>Production</td>\n",
       "      <td>1962</td>\n",
       "      <td>1962</td>\n",
       "      <td>tonnes</td>\n",
       "      <td>9.333730e+08</td>\n",
       "      <td>A</td>\n",
       "    </tr>\n",
       "    <tr>\n",
       "      <th>1834807</th>\n",
       "      <td>5000</td>\n",
       "      <td>World</td>\n",
       "      <td>1717</td>\n",
       "      <td>Cereals, Total</td>\n",
       "      <td>5510</td>\n",
       "      <td>Production</td>\n",
       "      <td>1963</td>\n",
       "      <td>1963</td>\n",
       "      <td>tonnes</td>\n",
       "      <td>9.493459e+08</td>\n",
       "      <td>A</td>\n",
       "    </tr>\n",
       "    <tr>\n",
       "      <th>1834808</th>\n",
       "      <td>5000</td>\n",
       "      <td>World</td>\n",
       "      <td>1717</td>\n",
       "      <td>Cereals, Total</td>\n",
       "      <td>5510</td>\n",
       "      <td>Production</td>\n",
       "      <td>1964</td>\n",
       "      <td>1964</td>\n",
       "      <td>tonnes</td>\n",
       "      <td>1.001214e+09</td>\n",
       "      <td>A</td>\n",
       "    </tr>\n",
       "    <tr>\n",
       "      <th>1834809</th>\n",
       "      <td>5000</td>\n",
       "      <td>World</td>\n",
       "      <td>1717</td>\n",
       "      <td>Cereals, Total</td>\n",
       "      <td>5510</td>\n",
       "      <td>Production</td>\n",
       "      <td>1965</td>\n",
       "      <td>1965</td>\n",
       "      <td>tonnes</td>\n",
       "      <td>9.985930e+08</td>\n",
       "      <td>A</td>\n",
       "    </tr>\n",
       "  </tbody>\n",
       "</table>\n",
       "</div>"
      ],
      "text/plain": [
       "         Area Code   Area  Item Code            Item  Element Code  \\\n",
       "1834805       5000  World       1717  Cereals, Total          5510   \n",
       "1834806       5000  World       1717  Cereals, Total          5510   \n",
       "1834807       5000  World       1717  Cereals, Total          5510   \n",
       "1834808       5000  World       1717  Cereals, Total          5510   \n",
       "1834809       5000  World       1717  Cereals, Total          5510   \n",
       "\n",
       "            Element  Year Code  Year    Unit         Value Flag  \n",
       "1834805  Production       1961  1961  tonnes  8.768745e+08    A  \n",
       "1834806  Production       1962  1962  tonnes  9.333730e+08    A  \n",
       "1834807  Production       1963  1963  tonnes  9.493459e+08    A  \n",
       "1834808  Production       1964  1964  tonnes  1.001214e+09    A  \n",
       "1834809  Production       1965  1965  tonnes  9.985930e+08    A  "
      ]
     },
     "execution_count": 17,
     "metadata": {},
     "output_type": "execute_result"
    }
   ],
   "source": [
    "prod_edit = prod[prod[\"Element\"]==\"Production\"]\n",
    "prod_edit = prod_edit[prod_edit[\"Area\"]==\"World\"]\n",
    "prod_edit = prod_edit[prod_edit[\"Item\"]==\"Cereals, Total\"] \n",
    "prod_edit.head()"
   ]
  },
  {
   "cell_type": "code",
   "execution_count": 18,
   "metadata": {},
   "outputs": [
    {
     "data": {
      "text/plain": [
       "[<matplotlib.lines.Line2D at 0x28ed8596e48>]"
      ]
     },
     "execution_count": 18,
     "metadata": {},
     "output_type": "execute_result"
    },
    {
     "data": {
      "image/png": "[encoded data removed]",
      "text/plain": [
       "<Figure size 432x288 with 1 Axes>"
      ]
     },
     "metadata": {
      "needs_background": "light"
     },
     "output_type": "display_data"
    }
   ],
   "source": [
    "import numpy as np\n",
    "x_prod = np.array(prod_edit[\"Year\"])\n",
    "y_prod = np.array(prod_edit[\"Value\"])\n",
    "plt.plot(x_prod,y_prod)"
   ]
  },
  {
   "cell_type": "code",
   "execution_count": 19,
   "metadata": {},
   "outputs": [
    {
     "data": {
      "text/plain": [
       "[<matplotlib.lines.Line2D at 0x28ed8648ac8>]"
      ]
     },
     "execution_count": 19,
     "metadata": {},
     "output_type": "execute_result"
    },
    {
     "data": {
      "image/png": "[encoded data removed]",
      "text/plain": [
       "<Figure size 432x288 with 1 Axes>"
      ]
     },
     "metadata": {
      "needs_background": "light"
     },
     "output_type": "display_data"
    }
   ],
   "source": [
    "populacao_edit = populacao_edit[populacao_edit[\"Year\"]<2021]\n",
    "populacao_edit = populacao_edit[populacao_edit[\"Year\"]>1959]\n",
    "x_pop = np.array(populacao_edit[\"Year\"])\n",
    "y_pop = np.array(populacao_edit[\"Value\"])\n",
    "plt.plot(x_pop,y_pop)"
   ]
  },
  {
   "cell_type": "code",
   "execution_count": 20,
   "metadata": {},
   "outputs": [
    {
     "data": {
      "text/plain": [
       "16666666.666666666"
      ]
     },
     "execution_count": 20,
     "metadata": {},
     "output_type": "execute_result"
    }
   ],
   "source": [
    "#Aumento produção grãos médio\n",
    "(1.2*10**9-0.2*10**9)/60"
   ]
  },
  {
   "cell_type": "code",
   "execution_count": 21,
   "metadata": {},
   "outputs": [
    {
     "data": {
      "text/plain": [
       "83333333.33333333"
      ]
     },
     "execution_count": 21,
     "metadata": {},
     "output_type": "execute_result"
    }
   ],
   "source": [
    "#Aumento populacional anual médio\n",
    "(8*10**9-3*10**9)/60"
   ]
  },
  {
   "cell_type": "markdown",
   "metadata": {},
   "source": [
    "### Revolução Verde\n",
    "https://pt.wikipedia.org/wiki/Revolu%C3%A7%C3%A3o_verde#:~:text=A%20express%C3%A3o%20Revolu%C3%A7%C3%A3o%20Verde%20refere,d%C3%A9cadas%20seguintes%2C%20em%20outros%20pa%C3%ADses."
   ]
  },
  {
   "cell_type": "markdown",
   "metadata": {},
   "source": [
    "### Merge data\n",
    "https://pandas.pydata.org/pandas-docs/stable/reference/api/pandas.DataFrame.merge.html"
   ]
  },
  {
   "cell_type": "code",
   "execution_count": 22,
   "metadata": {},
   "outputs": [
    {
     "data": {
      "text/html": [
       "<div>\n",
       "<style scoped>\n",
       "    .dataframe tbody tr th:only-of-type {\n",
       "        vertical-align: middle;\n",
       "    }\n",
       "\n",
       "    .dataframe tbody tr th {\n",
       "        vertical-align: top;\n",
       "    }\n",
       "\n",
       "    .dataframe thead th {\n",
       "        text-align: right;\n",
       "    }\n",
       "</style>\n",
       "<table border=\"1\" class=\"dataframe\">\n",
       "  <thead>\n",
       "    <tr style=\"text-align: right;\">\n",
       "      <th></th>\n",
       "      <th>Area Code_prod</th>\n",
       "      <th>Area_prod</th>\n",
       "      <th>Item Code_prod</th>\n",
       "      <th>Item_prod</th>\n",
       "      <th>Element Code_prod</th>\n",
       "      <th>Element_prod</th>\n",
       "      <th>Year Code_prod</th>\n",
       "      <th>Year</th>\n",
       "      <th>Unit_prod</th>\n",
       "      <th>Value_prod</th>\n",
       "      <th>...</th>\n",
       "      <th>Area_pop</th>\n",
       "      <th>Item Code_pop</th>\n",
       "      <th>Item_pop</th>\n",
       "      <th>Element Code_pop</th>\n",
       "      <th>Element_pop</th>\n",
       "      <th>Year Code_pop</th>\n",
       "      <th>Unit_pop</th>\n",
       "      <th>Value_pop</th>\n",
       "      <th>Flag_pop</th>\n",
       "      <th>Note</th>\n",
       "    </tr>\n",
       "  </thead>\n",
       "  <tbody>\n",
       "    <tr>\n",
       "      <th>0</th>\n",
       "      <td>5000</td>\n",
       "      <td>World</td>\n",
       "      <td>1717</td>\n",
       "      <td>Cereals, Total</td>\n",
       "      <td>5510</td>\n",
       "      <td>Production</td>\n",
       "      <td>1961</td>\n",
       "      <td>1961</td>\n",
       "      <td>tonnes</td>\n",
       "      <td>8.768745e+08</td>\n",
       "      <td>...</td>\n",
       "      <td>World</td>\n",
       "      <td>3010</td>\n",
       "      <td>Population - Est. &amp; Proj.</td>\n",
       "      <td>511</td>\n",
       "      <td>Total Population - Both sexes</td>\n",
       "      <td>1961</td>\n",
       "      <td>1000 persons</td>\n",
       "      <td>3091843.507</td>\n",
       "      <td>A</td>\n",
       "      <td>NaN</td>\n",
       "    </tr>\n",
       "    <tr>\n",
       "      <th>1</th>\n",
       "      <td>5000</td>\n",
       "      <td>World</td>\n",
       "      <td>1717</td>\n",
       "      <td>Cereals, Total</td>\n",
       "      <td>5510</td>\n",
       "      <td>Production</td>\n",
       "      <td>1962</td>\n",
       "      <td>1962</td>\n",
       "      <td>tonnes</td>\n",
       "      <td>9.333730e+08</td>\n",
       "      <td>...</td>\n",
       "      <td>World</td>\n",
       "      <td>3010</td>\n",
       "      <td>Population - Est. &amp; Proj.</td>\n",
       "      <td>511</td>\n",
       "      <td>Total Population - Both sexes</td>\n",
       "      <td>1962</td>\n",
       "      <td>1000 persons</td>\n",
       "      <td>3150420.795</td>\n",
       "      <td>A</td>\n",
       "      <td>NaN</td>\n",
       "    </tr>\n",
       "    <tr>\n",
       "      <th>2</th>\n",
       "      <td>5000</td>\n",
       "      <td>World</td>\n",
       "      <td>1717</td>\n",
       "      <td>Cereals, Total</td>\n",
       "      <td>5510</td>\n",
       "      <td>Production</td>\n",
       "      <td>1963</td>\n",
       "      <td>1963</td>\n",
       "      <td>tonnes</td>\n",
       "      <td>9.493459e+08</td>\n",
       "      <td>...</td>\n",
       "      <td>World</td>\n",
       "      <td>3010</td>\n",
       "      <td>Population - Est. &amp; Proj.</td>\n",
       "      <td>511</td>\n",
       "      <td>Total Population - Both sexes</td>\n",
       "      <td>1963</td>\n",
       "      <td>1000 persons</td>\n",
       "      <td>3211001.009</td>\n",
       "      <td>A</td>\n",
       "      <td>NaN</td>\n",
       "    </tr>\n",
       "    <tr>\n",
       "      <th>3</th>\n",
       "      <td>5000</td>\n",
       "      <td>World</td>\n",
       "      <td>1717</td>\n",
       "      <td>Cereals, Total</td>\n",
       "      <td>5510</td>\n",
       "      <td>Production</td>\n",
       "      <td>1964</td>\n",
       "      <td>1964</td>\n",
       "      <td>tonnes</td>\n",
       "      <td>1.001214e+09</td>\n",
       "      <td>...</td>\n",
       "      <td>World</td>\n",
       "      <td>3010</td>\n",
       "      <td>Population - Est. &amp; Proj.</td>\n",
       "      <td>511</td>\n",
       "      <td>Total Population - Both sexes</td>\n",
       "      <td>1964</td>\n",
       "      <td>1000 persons</td>\n",
       "      <td>3273978.338</td>\n",
       "      <td>A</td>\n",
       "      <td>NaN</td>\n",
       "    </tr>\n",
       "    <tr>\n",
       "      <th>4</th>\n",
       "      <td>5000</td>\n",
       "      <td>World</td>\n",
       "      <td>1717</td>\n",
       "      <td>Cereals, Total</td>\n",
       "      <td>5510</td>\n",
       "      <td>Production</td>\n",
       "      <td>1965</td>\n",
       "      <td>1965</td>\n",
       "      <td>tonnes</td>\n",
       "      <td>9.985930e+08</td>\n",
       "      <td>...</td>\n",
       "      <td>World</td>\n",
       "      <td>3010</td>\n",
       "      <td>Population - Est. &amp; Proj.</td>\n",
       "      <td>511</td>\n",
       "      <td>Total Population - Both sexes</td>\n",
       "      <td>1965</td>\n",
       "      <td>1000 persons</td>\n",
       "      <td>3339583.597</td>\n",
       "      <td>A</td>\n",
       "      <td>NaN</td>\n",
       "    </tr>\n",
       "  </tbody>\n",
       "</table>\n",
       "<p>5 rows × 22 columns</p>\n",
       "</div>"
      ],
      "text/plain": [
       "   Area Code_prod Area_prod  Item Code_prod       Item_prod  \\\n",
       "0            5000     World            1717  Cereals, Total   \n",
       "1            5000     World            1717  Cereals, Total   \n",
       "2            5000     World            1717  Cereals, Total   \n",
       "3            5000     World            1717  Cereals, Total   \n",
       "4            5000     World            1717  Cereals, Total   \n",
       "\n",
       "   Element Code_prod Element_prod  Year Code_prod  Year Unit_prod  \\\n",
       "0               5510   Production            1961  1961    tonnes   \n",
       "1               5510   Production            1962  1962    tonnes   \n",
       "2               5510   Production            1963  1963    tonnes   \n",
       "3               5510   Production            1964  1964    tonnes   \n",
       "4               5510   Production            1965  1965    tonnes   \n",
       "\n",
       "     Value_prod  ... Area_pop  Item Code_pop                   Item_pop  \\\n",
       "0  8.768745e+08  ...    World           3010  Population - Est. & Proj.   \n",
       "1  9.333730e+08  ...    World           3010  Population - Est. & Proj.   \n",
       "2  9.493459e+08  ...    World           3010  Population - Est. & Proj.   \n",
       "3  1.001214e+09  ...    World           3010  Population - Est. & Proj.   \n",
       "4  9.985930e+08  ...    World           3010  Population - Est. & Proj.   \n",
       "\n",
       "   Element Code_pop                    Element_pop  Year Code_pop  \\\n",
       "0               511  Total Population - Both sexes           1961   \n",
       "1               511  Total Population - Both sexes           1962   \n",
       "2               511  Total Population - Both sexes           1963   \n",
       "3               511  Total Population - Both sexes           1964   \n",
       "4               511  Total Population - Both sexes           1965   \n",
       "\n",
       "       Unit_pop    Value_pop Flag_pop  Note  \n",
       "0  1000 persons  3091843.507        A   NaN  \n",
       "1  1000 persons  3150420.795        A   NaN  \n",
       "2  1000 persons  3211001.009        A   NaN  \n",
       "3  1000 persons  3273978.338        A   NaN  \n",
       "4  1000 persons  3339583.597        A   NaN  \n",
       "\n",
       "[5 rows x 22 columns]"
      ]
     },
     "execution_count": 22,
     "metadata": {},
     "output_type": "execute_result"
    }
   ],
   "source": [
    "pop_prod = prod_edit.merge(populacao_edit, how='inner', left_on=['Year'], right_on=['Year'], copy=False, validate='one_to_one', suffixes=('_prod', '_pop'))\n",
    "pop_prod.head()"
   ]
  },
  {
   "cell_type": "code",
   "execution_count": 23,
   "metadata": {},
   "outputs": [
    {
     "data": {
      "text/plain": [
       "<matplotlib.legend.Legend at 0x28ed86eb688>"
      ]
     },
     "execution_count": 23,
     "metadata": {},
     "output_type": "execute_result"
    },
    {
     "data": {
      "image/png": "[encoded data removed]",
      "text/plain": [
       "<Figure size 432x288 with 1 Axes>"
      ]
     },
     "metadata": {
      "needs_background": "light"
     },
     "output_type": "display_data"
    }
   ],
   "source": [
    "x = np.array(pop_prod[\"Year\"])\n",
    "y_pop = np.array(pop_prod[\"Value_pop\"])\n",
    "y_prod = np.array(pop_prod[\"Value_prod\"])\n",
    "plt.plot(x,y_pop,label=\"Pop\")\n",
    "plt.plot(x,y_prod,label=\"Prod\")\n",
    "plt.legend(loc=\"upper left\", bbox_to_anchor=(1.05, 1))"
   ]
  },
  {
   "cell_type": "code",
   "execution_count": 24,
   "metadata": {},
   "outputs": [
    {
     "name": "stdout",
     "output_type": "stream",
     "text": [
      "População x1000 pessoas - minima 3091843.507\n",
      "Producao toneladas - minima  876874525.0\n"
     ]
    }
   ],
   "source": [
    "print(\"População x1000 pessoas - minima\",pop_prod[\"Value_pop\"].min())\n",
    "print(\"Producao toneladas - minima \",pop_prod[\"Value_prod\"].min())"
   ]
  },
  {
   "cell_type": "code",
   "execution_count": 25,
   "metadata": {},
   "outputs": [],
   "source": [
    "pop_prod[\"Value_pop\"]=pop_prod[\"Value_pop\"]/pop_prod[\"Value_pop\"].min()\n",
    "pop_prod[\"Value_prod\"]=pop_prod[\"Value_prod\"]/pop_prod[\"Value_prod\"].min()"
   ]
  },
  {
   "cell_type": "code",
   "execution_count": 26,
   "metadata": {},
   "outputs": [
    {
     "data": {
      "text/plain": [
       "<matplotlib.legend.Legend at 0x28ed8760908>"
      ]
     },
     "execution_count": 26,
     "metadata": {},
     "output_type": "execute_result"
    },
    {
     "data": {
      "image/png": "[encoded data removed]",
      "text/plain": [
       "<Figure size 432x288 with 1 Axes>"
      ]
     },
     "metadata": {
      "needs_background": "light"
     },
     "output_type": "display_data"
    }
   ],
   "source": [
    "x = np.array(pop_prod[\"Year\"])\n",
    "y_pop = np.array(pop_prod[\"Value_pop\"])\n",
    "y_prod = np.array(pop_prod[\"Value_prod\"])\n",
    "plt.plot(x,y_pop,label=\"Pop\")\n",
    "plt.plot(x,y_prod,label=\"Prod\")\n",
    "plt.legend(loc=\"upper left\", bbox_to_anchor=(1.05, 1))"
   ]
  },
  {
   "cell_type": "markdown",
   "metadata": {},
   "source": [
    "### Conclusão: A produção de alimentos foi proporcionalmente superior ao crescimento populacional\n",
    "### Discussões adicionais - Sustentabilidade, Distribuição"
   ]
  },
  {
   "cell_type": "code",
   "execution_count": 27,
   "metadata": {},
   "outputs": [
    {
     "data": {
      "text/html": [
       "<div>\n",
       "<style scoped>\n",
       "    .dataframe tbody tr th:only-of-type {\n",
       "        vertical-align: middle;\n",
       "    }\n",
       "\n",
       "    .dataframe tbody tr th {\n",
       "        vertical-align: top;\n",
       "    }\n",
       "\n",
       "    .dataframe thead th {\n",
       "        text-align: right;\n",
       "    }\n",
       "</style>\n",
       "<table border=\"1\" class=\"dataframe\">\n",
       "  <thead>\n",
       "    <tr style=\"text-align: right;\">\n",
       "      <th></th>\n",
       "      <th>Area Code</th>\n",
       "      <th>Area</th>\n",
       "      <th>Item Code</th>\n",
       "      <th>Item</th>\n",
       "      <th>Element Code</th>\n",
       "      <th>Element</th>\n",
       "      <th>Year Code</th>\n",
       "      <th>Year</th>\n",
       "      <th>Unit</th>\n",
       "      <th>Value</th>\n",
       "      <th>Flag</th>\n",
       "    </tr>\n",
       "  </thead>\n",
       "  <tbody>\n",
       "    <tr>\n",
       "      <th>1834687</th>\n",
       "      <td>5000</td>\n",
       "      <td>World</td>\n",
       "      <td>1717</td>\n",
       "      <td>Cereals, Total</td>\n",
       "      <td>5312</td>\n",
       "      <td>Area harvested</td>\n",
       "      <td>1961</td>\n",
       "      <td>1961</td>\n",
       "      <td>ha</td>\n",
       "      <td>647997186.0</td>\n",
       "      <td>A</td>\n",
       "    </tr>\n",
       "    <tr>\n",
       "      <th>1834688</th>\n",
       "      <td>5000</td>\n",
       "      <td>World</td>\n",
       "      <td>1717</td>\n",
       "      <td>Cereals, Total</td>\n",
       "      <td>5312</td>\n",
       "      <td>Area harvested</td>\n",
       "      <td>1962</td>\n",
       "      <td>1962</td>\n",
       "      <td>ha</td>\n",
       "      <td>653839500.0</td>\n",
       "      <td>A</td>\n",
       "    </tr>\n",
       "    <tr>\n",
       "      <th>1834689</th>\n",
       "      <td>5000</td>\n",
       "      <td>World</td>\n",
       "      <td>1717</td>\n",
       "      <td>Cereals, Total</td>\n",
       "      <td>5312</td>\n",
       "      <td>Area harvested</td>\n",
       "      <td>1963</td>\n",
       "      <td>1963</td>\n",
       "      <td>ha</td>\n",
       "      <td>659234467.0</td>\n",
       "      <td>A</td>\n",
       "    </tr>\n",
       "  </tbody>\n",
       "</table>\n",
       "</div>"
      ],
      "text/plain": [
       "         Area Code   Area  Item Code            Item  Element Code  \\\n",
       "1834687       5000  World       1717  Cereals, Total          5312   \n",
       "1834688       5000  World       1717  Cereals, Total          5312   \n",
       "1834689       5000  World       1717  Cereals, Total          5312   \n",
       "\n",
       "                Element  Year Code  Year Unit        Value Flag  \n",
       "1834687  Area harvested       1961  1961   ha  647997186.0    A  \n",
       "1834688  Area harvested       1962  1962   ha  653839500.0    A  \n",
       "1834689  Area harvested       1963  1963   ha  659234467.0    A  "
      ]
     },
     "execution_count": 27,
     "metadata": {},
     "output_type": "execute_result"
    }
   ],
   "source": [
    "prod_edit = prod[prod[\"Element\"]==\"Area harvested\"]\n",
    "prod_edit = prod_edit[prod_edit[\"Area\"]==\"World\"]\n",
    "prod_edit = prod_edit[prod_edit[\"Item\"]==\"Cereals, Total\"]\n",
    "prod_edit.head(3)"
   ]
  },
  {
   "cell_type": "code",
   "execution_count": 28,
   "metadata": {},
   "outputs": [],
   "source": [
    "pop_prod = prod_edit.merge(populacao_edit, how='inner', left_on='Year', right_on='Year', copy=False, validate='one_to_one', suffixes=('_prod', '_pop'))"
   ]
  },
  {
   "cell_type": "code",
   "execution_count": 29,
   "metadata": {},
   "outputs": [
    {
     "data": {
      "text/plain": [
       "[<matplotlib.lines.Line2D at 0x28ed87ceb88>]"
      ]
     },
     "execution_count": 29,
     "metadata": {},
     "output_type": "execute_result"
    },
    {
     "data": {
      "image/png": "[encoded data removed]",
      "text/plain": [
       "<Figure size 432x288 with 1 Axes>"
      ]
     },
     "metadata": {
      "needs_background": "light"
     },
     "output_type": "display_data"
    }
   ],
   "source": [
    "import numpy as np\n",
    "x_prod = np.array(prod_edit[\"Year\"])\n",
    "y_prod = np.array(prod_edit[\"Value\"])\n",
    "plt.plot(x_prod,y_prod)"
   ]
  },
  {
   "cell_type": "code",
   "execution_count": 30,
   "metadata": {},
   "outputs": [
    {
     "name": "stdout",
     "output_type": "stream",
     "text": [
      "População x1000 pessoas - minima 3091843.507\n",
      "Producao hectares - minima  647997186.0\n"
     ]
    }
   ],
   "source": [
    "print(\"População x1000 pessoas - minima\",pop_prod[\"Value_pop\"].min())\n",
    "print(\"Producao hectares - minima \",pop_prod[\"Value_prod\"].min())"
   ]
  },
  {
   "cell_type": "code",
   "execution_count": 31,
   "metadata": {},
   "outputs": [],
   "source": [
    "pop_prod[\"Value_pop\"]=pop_prod[\"Value_pop\"]/pop_prod[\"Value_pop\"].min()\n",
    "pop_prod[\"Value_prod\"]=pop_prod[\"Value_prod\"]/pop_prod[\"Value_prod\"].min()"
   ]
  },
  {
   "cell_type": "code",
   "execution_count": 32,
   "metadata": {},
   "outputs": [
    {
     "data": {
      "text/plain": [
       "<matplotlib.legend.Legend at 0x28ed884eec8>"
      ]
     },
     "execution_count": 32,
     "metadata": {},
     "output_type": "execute_result"
    },
    {
     "data": {
      "image/png": "[encoded data removed]",
      "text/plain": [
       "<Figure size 432x288 with 1 Axes>"
      ]
     },
     "metadata": {
      "needs_background": "light"
     },
     "output_type": "display_data"
    }
   ],
   "source": [
    "x = np.array(pop_prod[\"Year\"])\n",
    "y_pop = np.array(pop_prod[\"Value_pop\"])\n",
    "y_prod = np.array(pop_prod[\"Value_prod\"])\n",
    "plt.plot(x,y_pop,label=\"Pop\")\n",
    "plt.plot(x,y_prod,label=\"Area\")\n",
    "plt.legend(loc=\"upper left\", bbox_to_anchor=(1.05, 1))"
   ]
  },
  {
   "cell_type": "code",
   "execution_count": 33,
   "metadata": {},
   "outputs": [],
   "source": [
    "def filtro_producao(a=\"Yield\",b=\"World\",c=\"Cereals, Total\",d=1960):    \n",
    "    df = prod[prod[\"Element\"]==a]\n",
    "    df = df[df[\"Area\"]==b]\n",
    "    df = df[df[\"Item\"]==c]\n",
    "    df = df[df[\"Year\"]>d]\n",
    "    return df"
   ]
  },
  {
   "cell_type": "code",
   "execution_count": 34,
   "metadata": {},
   "outputs": [
    {
     "data": {
      "text/html": [
       "<div>\n",
       "<style scoped>\n",
       "    .dataframe tbody tr th:only-of-type {\n",
       "        vertical-align: middle;\n",
       "    }\n",
       "\n",
       "    .dataframe tbody tr th {\n",
       "        vertical-align: top;\n",
       "    }\n",
       "\n",
       "    .dataframe thead th {\n",
       "        text-align: right;\n",
       "    }\n",
       "</style>\n",
       "<table border=\"1\" class=\"dataframe\">\n",
       "  <thead>\n",
       "    <tr style=\"text-align: right;\">\n",
       "      <th></th>\n",
       "      <th>Area Code</th>\n",
       "      <th>Area</th>\n",
       "      <th>Item Code</th>\n",
       "      <th>Item</th>\n",
       "      <th>Element Code</th>\n",
       "      <th>Element</th>\n",
       "      <th>Year Code</th>\n",
       "      <th>Year</th>\n",
       "      <th>Unit</th>\n",
       "      <th>Value</th>\n",
       "      <th>Flag</th>\n",
       "    </tr>\n",
       "  </thead>\n",
       "  <tbody>\n",
       "    <tr>\n",
       "      <th>1834746</th>\n",
       "      <td>5000</td>\n",
       "      <td>World</td>\n",
       "      <td>1717</td>\n",
       "      <td>Cereals, Total</td>\n",
       "      <td>5419</td>\n",
       "      <td>Yield</td>\n",
       "      <td>1961</td>\n",
       "      <td>1961</td>\n",
       "      <td>hg/ha</td>\n",
       "      <td>13532.0</td>\n",
       "      <td>Fc</td>\n",
       "    </tr>\n",
       "    <tr>\n",
       "      <th>1834747</th>\n",
       "      <td>5000</td>\n",
       "      <td>World</td>\n",
       "      <td>1717</td>\n",
       "      <td>Cereals, Total</td>\n",
       "      <td>5419</td>\n",
       "      <td>Yield</td>\n",
       "      <td>1962</td>\n",
       "      <td>1962</td>\n",
       "      <td>hg/ha</td>\n",
       "      <td>14275.0</td>\n",
       "      <td>Fc</td>\n",
       "    </tr>\n",
       "  </tbody>\n",
       "</table>\n",
       "</div>"
      ],
      "text/plain": [
       "         Area Code   Area  Item Code            Item  Element Code Element  \\\n",
       "1834746       5000  World       1717  Cereals, Total          5419   Yield   \n",
       "1834747       5000  World       1717  Cereals, Total          5419   Yield   \n",
       "\n",
       "         Year Code  Year   Unit    Value Flag  \n",
       "1834746       1961  1961  hg/ha  13532.0   Fc  \n",
       "1834747       1962  1962  hg/ha  14275.0   Fc  "
      ]
     },
     "execution_count": 34,
     "metadata": {},
     "output_type": "execute_result"
    }
   ],
   "source": [
    "prod_edit = filtro_producao()\n",
    "prod_edit.head(2)"
   ]
  },
  {
   "cell_type": "markdown",
   "metadata": {},
   "source": [
    "hg = hectograma = 100 gramas"
   ]
  },
  {
   "cell_type": "code",
   "execution_count": 35,
   "metadata": {},
   "outputs": [],
   "source": [
    "prod_edit[\"Value\"]=prod_edit[\"Value\"]/10"
   ]
  },
  {
   "cell_type": "code",
   "execution_count": 36,
   "metadata": {},
   "outputs": [
    {
     "data": {
      "text/plain": [
       "<matplotlib.legend.Legend at 0x28ed8890608>"
      ]
     },
     "execution_count": 36,
     "metadata": {},
     "output_type": "execute_result"
    },
    {
     "data": {
      "image/png": "[encoded data removed]",
      "text/plain": [
       "<Figure size 432x288 with 1 Axes>"
      ]
     },
     "metadata": {
      "needs_background": "light"
     },
     "output_type": "display_data"
    }
   ],
   "source": [
    "x = np.array(prod_edit[\"Year\"])\n",
    "y = np.array(prod_edit[\"Value\"])\n",
    "\n",
    "plt.plot(x,y,label=\"Produtividade\")\n",
    "\n",
    "plt.legend(loc=\"upper left\", bbox_to_anchor=(1.05, 1))"
   ]
  },
  {
   "cell_type": "code",
   "execution_count": 37,
   "metadata": {},
   "outputs": [],
   "source": [
    "def grafico_producao(a=\"Yield\",b=\"World\",c=\"Cereals, Total\"):    #filtro\n",
    "    df = prod[prod[\"Element\"]==a] #filtro\n",
    "    df = df[df[\"Area\"]==b] #filtro\n",
    "    df = df[df[\"Item\"]==c] #filtro\n",
    "    \n",
    "    x = np.array(df[\"Year\"]) #filtro\n",
    "    y = np.array(df[\"Value\"]) #filtro\n",
    "\n",
    "    plt.plot(x,y,label=a+\"-\"+b+\"-\"+c) #Fazer legenda bacana\n",
    "\n",
    "    plt.legend(loc=\"upper left\", bbox_to_anchor=(1.05, 1)) #plotar legenda"
   ]
  },
  {
   "cell_type": "code",
   "execution_count": 38,
   "metadata": {},
   "outputs": [
    {
     "data": {
      "image/png": "[encoded data removed]",
      "text/plain": [
       "<Figure size 432x288 with 1 Axes>"
      ]
     },
     "metadata": {
      "needs_background": "light"
     },
     "output_type": "display_data"
    }
   ],
   "source": [
    "grafico_producao(a=\"Production\",b=\"Brazil\")"
   ]
  },
  {
   "cell_type": "code",
   "execution_count": 39,
   "metadata": {},
   "outputs": [],
   "source": [
    "def grafico_producao_relativa(a=\"Yield\",b=\"World\",c=\"Cereals, Total\"):    #filtro\n",
    "    df = prod[prod[\"Element\"]==a] #filtro\n",
    "    df = df[df[\"Area\"]==b] #filtro\n",
    "    df = df[df[\"Item\"]==c] #filtro\n",
    "    \n",
    "    df[\"Value\"]=df[\"Value\"]/df[\"Value\"].min() #Normalizando\n",
    "    \n",
    "    x = np.array(df[\"Year\"]) #filtro\n",
    "    y = np.array(df[\"Value\"]) #filtro\n",
    "\n",
    "    plt.plot(x,y,label=a+\"-\"+b+\"-\"+c) #Fazer legenda bacana\n",
    "\n",
    "    plt.legend(loc=\"upper left\", bbox_to_anchor=(1.05, 1)) #plotar legenda"
   ]
  },
  {
   "cell_type": "code",
   "execution_count": 40,
   "metadata": {},
   "outputs": [
    {
     "data": {
      "image/png": "[encoded data removed]",
      "text/plain": [
       "<Figure size 432x288 with 1 Axes>"
      ]
     },
     "metadata": {
      "needs_background": "light"
     },
     "output_type": "display_data"
    }
   ],
   "source": [
    "grafico_producao(a=\"Area harvested\",b=\"Brazil\")\n",
    "grafico_producao(a=\"Area harvested\",b=\"Brazil\",c=\"Soybeans\")"
   ]
  },
  {
   "cell_type": "code",
   "execution_count": 41,
   "metadata": {},
   "outputs": [
    {
     "data": {
      "image/png": "[encoded data removed]",
      "text/plain": [
       "<Figure size 432x288 with 1 Axes>"
      ]
     },
     "metadata": {
      "needs_background": "light"
     },
     "output_type": "display_data"
    }
   ],
   "source": [
    "grafico_producao_relativa(a=\"Yield\",b=\"Brazil\")\n",
    "grafico_producao_relativa(a=\"Yield\",b=\"France\")"
   ]
  },
  {
   "cell_type": "code",
   "execution_count": 42,
   "metadata": {},
   "outputs": [
    {
     "data": {
      "image/png": "[encoded data removed]",
      "text/plain": [
       "<Figure size 432x288 with 1 Axes>"
      ]
     },
     "metadata": {
      "needs_background": "light"
     },
     "output_type": "display_data"
    }
   ],
   "source": [
    "grafico_producao_relativa(a=\"Production\",b=\"Brazil\")\n",
    "grafico_producao_relativa(a=\"Area harvested\",b=\"Brazil\")\n",
    "grafico_producao_relativa(a=\"Yield\",b=\"Brazil\")"
   ]
  },
  {
   "cell_type": "markdown",
   "metadata": {},
   "source": [
    "#### Brazil De 1960 para cá, a área +-estável, produtividade 6x, producao 5x"
   ]
  },
  {
   "cell_type": "code",
   "execution_count": 43,
   "metadata": {},
   "outputs": [
    {
     "data": {
      "image/png": "[encoded data removed]",
      "text/plain": [
       "<Figure size 432x288 with 1 Axes>"
      ]
     },
     "metadata": {
      "needs_background": "light"
     },
     "output_type": "display_data"
    }
   ],
   "source": [
    "grafico_producao_relativa(a=\"Production\",b=\"France\")\n",
    "grafico_producao_relativa(a=\"Area harvested\",b=\"France\")\n",
    "grafico_producao_relativa(a=\"Yield\",b=\"France\")"
   ]
  },
  {
   "cell_type": "code",
   "execution_count": 44,
   "metadata": {},
   "outputs": [
    {
     "name": "stderr",
     "output_type": "stream",
     "text": [
      "UsageError: Line magic function `%grafico_producao_relativa(a=\"Yield\",b=\"Brazil\")` not found.\n"
     ]
    },
    {
     "data": {
      "image/png": "[encoded data removed]",
      "text/plain": [
       "<Figure size 432x288 with 1 Axes>"
      ]
     },
     "metadata": {
      "needs_background": "light"
     },
     "output_type": "display_data"
    }
   ],
   "source": [
    "grafico_producao_relativa(a=\"Yield\",b=\"France\",c=\"Soybeans\")\n",
    "%grafico_producao_relativa(a=\"Yield\",b=\"Brazil\")"
   ]
  },
  {
   "cell_type": "code",
   "execution_count": 45,
   "metadata": {},
   "outputs": [],
   "source": [
    "def grafico_producao(a=\"Yield\",b=\"World\"):    #filtro\n",
    "    df = prod[prod[\"Element\"]==a] #filtro\n",
    "    df = df[df[\"Area\"]==b] #filtro\n",
    "    df=df.groupby(\"Year\").sum().reset_index()\n",
    "    \n",
    "    #print(df)\n",
    "    \n",
    "    x = np.array(df[\"Year\"]) #filtro\n",
    "    y = np.array(df[\"Value\"]) #filtro\n",
    "\n",
    "    plt.plot(x,y,label=a+\"-\"+b) #Fazer legenda bacana\n",
    "\n",
    "    plt.legend(loc=\"upper left\", bbox_to_anchor=(1.05, 1)) #plotar legenda"
   ]
  },
  {
   "cell_type": "code",
   "execution_count": 46,
   "metadata": {},
   "outputs": [
    {
     "data": {
      "image/png": "[encoded data removed]",
      "text/plain": [
       "<Figure size 432x288 with 1 Axes>"
      ]
     },
     "metadata": {
      "needs_background": "light"
     },
     "output_type": "display_data"
    }
   ],
   "source": [
    "grafico_producao(a=\"Area harvested\",b=\"Brazil\")\n",
    "#Colhemos 280 milhoes de hectares?"
   ]
  },
  {
   "cell_type": "markdown",
   "metadata": {},
   "source": [
    "## Tópico 2.2. População urbana x população mundial"
   ]
  },
  {
   "cell_type": "code",
   "execution_count": 47,
   "metadata": {},
   "outputs": [
    {
     "data": {
      "text/html": [
       "<div>\n",
       "<style scoped>\n",
       "    .dataframe tbody tr th:only-of-type {\n",
       "        vertical-align: middle;\n",
       "    }\n",
       "\n",
       "    .dataframe tbody tr th {\n",
       "        vertical-align: top;\n",
       "    }\n",
       "\n",
       "    .dataframe thead th {\n",
       "        text-align: right;\n",
       "    }\n",
       "</style>\n",
       "<table border=\"1\" class=\"dataframe\">\n",
       "  <thead>\n",
       "    <tr style=\"text-align: right;\">\n",
       "      <th></th>\n",
       "      <th>Area Code</th>\n",
       "      <th>Area</th>\n",
       "      <th>Item Code</th>\n",
       "      <th>Item</th>\n",
       "      <th>Element Code</th>\n",
       "      <th>Element</th>\n",
       "      <th>Year Code</th>\n",
       "      <th>Year</th>\n",
       "      <th>Unit</th>\n",
       "      <th>Value</th>\n",
       "      <th>Flag</th>\n",
       "      <th>Note</th>\n",
       "    </tr>\n",
       "  </thead>\n",
       "  <tbody>\n",
       "    <tr>\n",
       "      <th>0</th>\n",
       "      <td>2</td>\n",
       "      <td>Afghanistan</td>\n",
       "      <td>3010</td>\n",
       "      <td>Population - Est. &amp; Proj.</td>\n",
       "      <td>511</td>\n",
       "      <td>Total Population - Both sexes</td>\n",
       "      <td>1950</td>\n",
       "      <td>1950</td>\n",
       "      <td>1000 persons</td>\n",
       "      <td>7752.118</td>\n",
       "      <td>X</td>\n",
       "      <td>NaN</td>\n",
       "    </tr>\n",
       "    <tr>\n",
       "      <th>1</th>\n",
       "      <td>2</td>\n",
       "      <td>Afghanistan</td>\n",
       "      <td>3010</td>\n",
       "      <td>Population - Est. &amp; Proj.</td>\n",
       "      <td>511</td>\n",
       "      <td>Total Population - Both sexes</td>\n",
       "      <td>1951</td>\n",
       "      <td>1951</td>\n",
       "      <td>1000 persons</td>\n",
       "      <td>7840.156</td>\n",
       "      <td>X</td>\n",
       "      <td>NaN</td>\n",
       "    </tr>\n",
       "    <tr>\n",
       "      <th>2</th>\n",
       "      <td>2</td>\n",
       "      <td>Afghanistan</td>\n",
       "      <td>3010</td>\n",
       "      <td>Population - Est. &amp; Proj.</td>\n",
       "      <td>511</td>\n",
       "      <td>Total Population - Both sexes</td>\n",
       "      <td>1952</td>\n",
       "      <td>1952</td>\n",
       "      <td>1000 persons</td>\n",
       "      <td>7935.997</td>\n",
       "      <td>X</td>\n",
       "      <td>NaN</td>\n",
       "    </tr>\n",
       "    <tr>\n",
       "      <th>3</th>\n",
       "      <td>2</td>\n",
       "      <td>Afghanistan</td>\n",
       "      <td>3010</td>\n",
       "      <td>Population - Est. &amp; Proj.</td>\n",
       "      <td>511</td>\n",
       "      <td>Total Population - Both sexes</td>\n",
       "      <td>1953</td>\n",
       "      <td>1953</td>\n",
       "      <td>1000 persons</td>\n",
       "      <td>8039.694</td>\n",
       "      <td>X</td>\n",
       "      <td>NaN</td>\n",
       "    </tr>\n",
       "    <tr>\n",
       "      <th>4</th>\n",
       "      <td>2</td>\n",
       "      <td>Afghanistan</td>\n",
       "      <td>3010</td>\n",
       "      <td>Population - Est. &amp; Proj.</td>\n",
       "      <td>511</td>\n",
       "      <td>Total Population - Both sexes</td>\n",
       "      <td>1954</td>\n",
       "      <td>1954</td>\n",
       "      <td>1000 persons</td>\n",
       "      <td>8151.317</td>\n",
       "      <td>X</td>\n",
       "      <td>NaN</td>\n",
       "    </tr>\n",
       "  </tbody>\n",
       "</table>\n",
       "</div>"
      ],
      "text/plain": [
       "   Area Code         Area  Item Code                       Item  Element Code  \\\n",
       "0          2  Afghanistan       3010  Population - Est. & Proj.           511   \n",
       "1          2  Afghanistan       3010  Population - Est. & Proj.           511   \n",
       "2          2  Afghanistan       3010  Population - Est. & Proj.           511   \n",
       "3          2  Afghanistan       3010  Population - Est. & Proj.           511   \n",
       "4          2  Afghanistan       3010  Population - Est. & Proj.           511   \n",
       "\n",
       "                         Element  Year Code  Year          Unit     Value  \\\n",
       "0  Total Population - Both sexes       1950  1950  1000 persons  7752.118   \n",
       "1  Total Population - Both sexes       1951  1951  1000 persons  7840.156   \n",
       "2  Total Population - Both sexes       1952  1952  1000 persons  7935.997   \n",
       "3  Total Population - Both sexes       1953  1953  1000 persons  8039.694   \n",
       "4  Total Population - Both sexes       1954  1954  1000 persons  8151.317   \n",
       "\n",
       "  Flag  Note  \n",
       "0    X   NaN  \n",
       "1    X   NaN  \n",
       "2    X   NaN  \n",
       "3    X   NaN  \n",
       "4    X   NaN  "
      ]
     },
     "execution_count": 47,
     "metadata": {},
     "output_type": "execute_result"
    }
   ],
   "source": [
    "populacao.head()"
   ]
  },
  {
   "cell_type": "code",
   "execution_count": 48,
   "metadata": {},
   "outputs": [
    {
     "data": {
      "text/plain": [
       "array(['Total Population - Both sexes', 'Total Population - Male',\n",
       "       'Total Population - Female', 'Rural population',\n",
       "       'Urban population'], dtype=object)"
      ]
     },
     "execution_count": 48,
     "metadata": {},
     "output_type": "execute_result"
    }
   ],
   "source": [
    "populacao\n",
    "populacao[\"Element\"].unique()"
   ]
  },
  {
   "cell_type": "code",
   "execution_count": 49,
   "metadata": {},
   "outputs": [],
   "source": [
    "def grafico_populacao(a=\"Total Population - Both sexes\",b=\"World\"):    #filtro\n",
    "    df = populacao[populacao[\"Element\"]==a] #filtro\n",
    "    df = df[df[\"Area\"]==b] #filtro\n",
    "    \n",
    "    df[\"Value\"]=df[\"Value\"]/df[\"Value\"].min() #Normalizando\n",
    "    \n",
    "    x = np.array(df[\"Year\"]) #filtro\n",
    "    y = np.array(df[\"Value\"]) #filtro\n",
    "\n",
    "    plt.plot(x,y,label=a+\"-\"+b) #Fazer legenda bacana\n",
    "\n",
    "    plt.legend(loc=\"upper left\", bbox_to_anchor=(1.05, 1)) #plotar legenda"
   ]
  },
  {
   "cell_type": "code",
   "execution_count": 50,
   "metadata": {},
   "outputs": [
    {
     "data": {
      "image/png": "[encoded data removed]",
      "text/plain": [
       "<Figure size 432x288 with 1 Axes>"
      ]
     },
     "metadata": {
      "needs_background": "light"
     },
     "output_type": "display_data"
    }
   ],
   "source": [
    "grafico_populacao(a=\"Rural population\")\n",
    "grafico_populacao(a=\"Urban population\")"
   ]
  },
  {
   "cell_type": "code",
   "execution_count": 51,
   "metadata": {},
   "outputs": [],
   "source": [
    "def pop_relativa_rural(b=\"World\"):\n",
    "    df = populacao[(populacao[\"Element\"]==\"Urban population\") | (populacao[\"Element\"]==\"Rural population\")]\n",
    "    df = df[df[\"Area\"]==b] #filtro\n",
    "    df = pd.pivot_table(df, index=\"Year\",  columns=\"Element\", aggfunc=\"sum\",values=\"Value\").reset_index()\n",
    "    \n",
    "    \n",
    "    df[\"Percentual\"]=(df[\"Rural population\"]/(df[\"Rural population\"]+df[\"Urban population\"]))*100\n",
    "    \n",
    "    x = np.array(df[\"Year\"])\n",
    "    y = np.array(df[\"Percentual\"])\n",
    "    plt.plot(x,y,label=b)\n",
    "    plt.legend(loc=\"upper left\", bbox_to_anchor=(1.05, 1))"
   ]
  },
  {
   "cell_type": "code",
   "execution_count": 52,
   "metadata": {},
   "outputs": [
    {
     "data": {
      "image/png": "[encoded data removed]",
      "text/plain": [
       "<Figure size 432x288 with 1 Axes>"
      ]
     },
     "metadata": {
      "needs_background": "light"
     },
     "output_type": "display_data"
    }
   ],
   "source": [
    "pop_relativa_rural(\"Brazil\")\n",
    "#pop_relativa_rural(\"France\")\n",
    "pop_relativa_rural(\"China\")\n",
    "pop_relativa_rural(\"India\")"
   ]
  },
  {
   "cell_type": "markdown",
   "metadata": {},
   "source": [
    "### Nota: Não há correlação entre desenvolvimento humano e população rural"
   ]
  },
  {
   "cell_type": "markdown",
   "metadata": {},
   "source": [
    "# Exercícios"
   ]
  },
  {
   "cell_type": "markdown",
   "metadata": {},
   "source": [
    "# 1"
   ]
  },
  {
   "cell_type": "markdown",
   "metadata": {},
   "source": [
    "Explore a base de uso de terra (land use) e veja os dados do Brasil para 2018. Gere uma tabela com esses dados.\n",
    "\n",
    "P.S. Na aula vimos o uso de terra para cereais, não o uso total.\n",
    "\n",
    "P.S.2 - O valor diverge por que há outras culturas (ex. árvores) e por que os cereais podem ser colhidos mais de uma vez no mesmo ano, superestimando o uso de terra.\n",
    "\n",
    "leia também: https://ambientes.ambientebrasil.com.br/agropecuario/estrutura_fundiaria/uso_das_terras_no_brasil.html"
   ]
  },
  {
   "cell_type": "code",
   "execution_count": 53,
   "metadata": {},
   "outputs": [],
   "source": [
    "path = \"FAOSTAT\\Inputs_LandUse_E_All_Data_(Normalized)\\Inputs_LandUse_E_All_Data_(Normalized).csv\""
   ]
  },
  {
   "cell_type": "code",
   "execution_count": 54,
   "metadata": {},
   "outputs": [],
   "source": [
    "#Escreva seu código aqui"
   ]
  },
  {
   "cell_type": "code",
   "execution_count": 55,
   "metadata": {},
   "outputs": [
    {
     "data": {
      "text/html": [
       "<div>\n",
       "<style scoped>\n",
       "    .dataframe tbody tr th:only-of-type {\n",
       "        vertical-align: middle;\n",
       "    }\n",
       "\n",
       "    .dataframe tbody tr th {\n",
       "        vertical-align: top;\n",
       "    }\n",
       "\n",
       "    .dataframe thead th {\n",
       "        text-align: right;\n",
       "    }\n",
       "</style>\n",
       "<table border=\"1\" class=\"dataframe\">\n",
       "  <thead>\n",
       "    <tr style=\"text-align: right;\">\n",
       "      <th></th>\n",
       "      <th>Area Code</th>\n",
       "      <th>Area</th>\n",
       "      <th>Item Code</th>\n",
       "      <th>Item</th>\n",
       "      <th>Element Code</th>\n",
       "      <th>Element</th>\n",
       "      <th>Year Code</th>\n",
       "      <th>Year</th>\n",
       "      <th>Unit</th>\n",
       "      <th>Value</th>\n",
       "      <th>Flag</th>\n",
       "    </tr>\n",
       "  </thead>\n",
       "  <tbody>\n",
       "    <tr>\n",
       "      <th>18587</th>\n",
       "      <td>21</td>\n",
       "      <td>Brazil</td>\n",
       "      <td>6600</td>\n",
       "      <td>Country area</td>\n",
       "      <td>5110</td>\n",
       "      <td>Area</td>\n",
       "      <td>2018</td>\n",
       "      <td>2018</td>\n",
       "      <td>1000 ha</td>\n",
       "      <td>851577.0000</td>\n",
       "      <td>Fm</td>\n",
       "    </tr>\n",
       "    <tr>\n",
       "      <th>18645</th>\n",
       "      <td>21</td>\n",
       "      <td>Brazil</td>\n",
       "      <td>6601</td>\n",
       "      <td>Land area</td>\n",
       "      <td>5110</td>\n",
       "      <td>Area</td>\n",
       "      <td>2018</td>\n",
       "      <td>2018</td>\n",
       "      <td>1000 ha</td>\n",
       "      <td>835814.0000</td>\n",
       "      <td>Fm</td>\n",
       "    </tr>\n",
       "    <tr>\n",
       "      <th>18703</th>\n",
       "      <td>21</td>\n",
       "      <td>Brazil</td>\n",
       "      <td>6602</td>\n",
       "      <td>Agriculture</td>\n",
       "      <td>5110</td>\n",
       "      <td>Area</td>\n",
       "      <td>2018</td>\n",
       "      <td>2018</td>\n",
       "      <td>1000 ha</td>\n",
       "      <td>236878.8010</td>\n",
       "      <td>Fc</td>\n",
       "    </tr>\n",
       "    <tr>\n",
       "      <th>18761</th>\n",
       "      <td>21</td>\n",
       "      <td>Brazil</td>\n",
       "      <td>6610</td>\n",
       "      <td>Agricultural land</td>\n",
       "      <td>5110</td>\n",
       "      <td>Area</td>\n",
       "      <td>2018</td>\n",
       "      <td>2018</td>\n",
       "      <td>1000 ha</td>\n",
       "      <td>236878.8010</td>\n",
       "      <td>Fm</td>\n",
       "    </tr>\n",
       "    <tr>\n",
       "      <th>18819</th>\n",
       "      <td>21</td>\n",
       "      <td>Brazil</td>\n",
       "      <td>6620</td>\n",
       "      <td>Cropland</td>\n",
       "      <td>5110</td>\n",
       "      <td>Area</td>\n",
       "      <td>2018</td>\n",
       "      <td>2018</td>\n",
       "      <td>1000 ha</td>\n",
       "      <td>63518.0000</td>\n",
       "      <td>Fm</td>\n",
       "    </tr>\n",
       "    <tr>\n",
       "      <th>18877</th>\n",
       "      <td>21</td>\n",
       "      <td>Brazil</td>\n",
       "      <td>6621</td>\n",
       "      <td>Arable land</td>\n",
       "      <td>5110</td>\n",
       "      <td>Area</td>\n",
       "      <td>2018</td>\n",
       "      <td>2018</td>\n",
       "      <td>1000 ha</td>\n",
       "      <td>55762.0000</td>\n",
       "      <td>Fm</td>\n",
       "    </tr>\n",
       "    <tr>\n",
       "      <th>18935</th>\n",
       "      <td>21</td>\n",
       "      <td>Brazil</td>\n",
       "      <td>6650</td>\n",
       "      <td>Land under permanent crops</td>\n",
       "      <td>5110</td>\n",
       "      <td>Area</td>\n",
       "      <td>2018</td>\n",
       "      <td>2018</td>\n",
       "      <td>1000 ha</td>\n",
       "      <td>7756.0000</td>\n",
       "      <td>Fm</td>\n",
       "    </tr>\n",
       "    <tr>\n",
       "      <th>18993</th>\n",
       "      <td>21</td>\n",
       "      <td>Brazil</td>\n",
       "      <td>6655</td>\n",
       "      <td>Land under perm. meadows and pastures</td>\n",
       "      <td>5110</td>\n",
       "      <td>Area</td>\n",
       "      <td>2018</td>\n",
       "      <td>2018</td>\n",
       "      <td>1000 ha</td>\n",
       "      <td>173360.8010</td>\n",
       "      <td>Fm</td>\n",
       "    </tr>\n",
       "    <tr>\n",
       "      <th>19011</th>\n",
       "      <td>21</td>\n",
       "      <td>Brazil</td>\n",
       "      <td>6656</td>\n",
       "      <td>Perm. meadows &amp; pastures - Cultivated</td>\n",
       "      <td>5110</td>\n",
       "      <td>Area</td>\n",
       "      <td>2018</td>\n",
       "      <td>2018</td>\n",
       "      <td>1000 ha</td>\n",
       "      <td>126037.4020</td>\n",
       "      <td>Fm</td>\n",
       "    </tr>\n",
       "    <tr>\n",
       "      <th>19029</th>\n",
       "      <td>21</td>\n",
       "      <td>Brazil</td>\n",
       "      <td>6659</td>\n",
       "      <td>Perm. meadows &amp; pastures - Nat. growing</td>\n",
       "      <td>5110</td>\n",
       "      <td>Area</td>\n",
       "      <td>2018</td>\n",
       "      <td>2018</td>\n",
       "      <td>1000 ha</td>\n",
       "      <td>47323.3990</td>\n",
       "      <td>Fm</td>\n",
       "    </tr>\n",
       "    <tr>\n",
       "      <th>19058</th>\n",
       "      <td>21</td>\n",
       "      <td>Brazil</td>\n",
       "      <td>6646</td>\n",
       "      <td>Forest land</td>\n",
       "      <td>5110</td>\n",
       "      <td>Area</td>\n",
       "      <td>2018</td>\n",
       "      <td>2018</td>\n",
       "      <td>1000 ha</td>\n",
       "      <td>499051.4000</td>\n",
       "      <td>Q</td>\n",
       "    </tr>\n",
       "    <tr>\n",
       "      <th>19087</th>\n",
       "      <td>21</td>\n",
       "      <td>Brazil</td>\n",
       "      <td>6646</td>\n",
       "      <td>Forest land</td>\n",
       "      <td>72151</td>\n",
       "      <td>Carbon stock in living biomass</td>\n",
       "      <td>2018</td>\n",
       "      <td>2018</td>\n",
       "      <td>million tonnes</td>\n",
       "      <td>52150.8713</td>\n",
       "      <td>Q</td>\n",
       "    </tr>\n",
       "    <tr>\n",
       "      <th>19116</th>\n",
       "      <td>21</td>\n",
       "      <td>Brazil</td>\n",
       "      <td>6717</td>\n",
       "      <td>Naturally regenerating forest</td>\n",
       "      <td>5110</td>\n",
       "      <td>Area</td>\n",
       "      <td>2018</td>\n",
       "      <td>2018</td>\n",
       "      <td>1000 ha</td>\n",
       "      <td>488548.1000</td>\n",
       "      <td>Fm</td>\n",
       "    </tr>\n",
       "    <tr>\n",
       "      <th>19145</th>\n",
       "      <td>21</td>\n",
       "      <td>Brazil</td>\n",
       "      <td>6716</td>\n",
       "      <td>Planted Forest</td>\n",
       "      <td>5110</td>\n",
       "      <td>Area</td>\n",
       "      <td>2018</td>\n",
       "      <td>2018</td>\n",
       "      <td>1000 ha</td>\n",
       "      <td>10503.3000</td>\n",
       "      <td>Q</td>\n",
       "    </tr>\n",
       "    <tr>\n",
       "      <th>19174</th>\n",
       "      <td>21</td>\n",
       "      <td>Brazil</td>\n",
       "      <td>6670</td>\n",
       "      <td>Other land</td>\n",
       "      <td>5110</td>\n",
       "      <td>Area</td>\n",
       "      <td>2018</td>\n",
       "      <td>2018</td>\n",
       "      <td>1000 ha</td>\n",
       "      <td>99883.7990</td>\n",
       "      <td>Fc</td>\n",
       "    </tr>\n",
       "    <tr>\n",
       "      <th>19232</th>\n",
       "      <td>21</td>\n",
       "      <td>Brazil</td>\n",
       "      <td>6680</td>\n",
       "      <td>Inland waters</td>\n",
       "      <td>5110</td>\n",
       "      <td>Area</td>\n",
       "      <td>2018</td>\n",
       "      <td>2018</td>\n",
       "      <td>1000 ha</td>\n",
       "      <td>15763.0000</td>\n",
       "      <td>Fm</td>\n",
       "    </tr>\n",
       "    <tr>\n",
       "      <th>19290</th>\n",
       "      <td>21</td>\n",
       "      <td>Brazil</td>\n",
       "      <td>6690</td>\n",
       "      <td>Land area equipped for irrigation</td>\n",
       "      <td>5110</td>\n",
       "      <td>Area</td>\n",
       "      <td>2018</td>\n",
       "      <td>2018</td>\n",
       "      <td>1000 ha</td>\n",
       "      <td>6955.0000</td>\n",
       "      <td>Fm</td>\n",
       "    </tr>\n",
       "    <tr>\n",
       "      <th>19306</th>\n",
       "      <td>21</td>\n",
       "      <td>Brazil</td>\n",
       "      <td>6671</td>\n",
       "      <td>Agriculture area under organic agric.</td>\n",
       "      <td>5110</td>\n",
       "      <td>Area</td>\n",
       "      <td>2018</td>\n",
       "      <td>2018</td>\n",
       "      <td>1000 ha</td>\n",
       "      <td>1188.2600</td>\n",
       "      <td>I</td>\n",
       "    </tr>\n",
       "  </tbody>\n",
       "</table>\n",
       "</div>"
      ],
      "text/plain": [
       "       Area Code    Area  Item Code                                     Item  \\\n",
       "18587         21  Brazil       6600                             Country area   \n",
       "18645         21  Brazil       6601                                Land area   \n",
       "18703         21  Brazil       6602                              Agriculture   \n",
       "18761         21  Brazil       6610                        Agricultural land   \n",
       "18819         21  Brazil       6620                                 Cropland   \n",
       "18877         21  Brazil       6621                              Arable land   \n",
       "18935         21  Brazil       6650               Land under permanent crops   \n",
       "18993         21  Brazil       6655    Land under perm. meadows and pastures   \n",
       "19011         21  Brazil       6656    Perm. meadows & pastures - Cultivated   \n",
       "19029         21  Brazil       6659  Perm. meadows & pastures - Nat. growing   \n",
       "19058         21  Brazil       6646                              Forest land   \n",
       "19087         21  Brazil       6646                              Forest land   \n",
       "19116         21  Brazil       6717            Naturally regenerating forest   \n",
       "19145         21  Brazil       6716                           Planted Forest   \n",
       "19174         21  Brazil       6670                               Other land   \n",
       "19232         21  Brazil       6680                            Inland waters   \n",
       "19290         21  Brazil       6690        Land area equipped for irrigation   \n",
       "19306         21  Brazil       6671    Agriculture area under organic agric.   \n",
       "\n",
       "       Element Code                         Element  Year Code  Year  \\\n",
       "18587          5110                            Area       2018  2018   \n",
       "18645          5110                            Area       2018  2018   \n",
       "18703          5110                            Area       2018  2018   \n",
       "18761          5110                            Area       2018  2018   \n",
       "18819          5110                            Area       2018  2018   \n",
       "18877          5110                            Area       2018  2018   \n",
       "18935          5110                            Area       2018  2018   \n",
       "18993          5110                            Area       2018  2018   \n",
       "19011          5110                            Area       2018  2018   \n",
       "19029          5110                            Area       2018  2018   \n",
       "19058          5110                            Area       2018  2018   \n",
       "19087         72151  Carbon stock in living biomass       2018  2018   \n",
       "19116          5110                            Area       2018  2018   \n",
       "19145          5110                            Area       2018  2018   \n",
       "19174          5110                            Area       2018  2018   \n",
       "19232          5110                            Area       2018  2018   \n",
       "19290          5110                            Area       2018  2018   \n",
       "19306          5110                            Area       2018  2018   \n",
       "\n",
       "                 Unit        Value Flag  \n",
       "18587         1000 ha  851577.0000   Fm  \n",
       "18645         1000 ha  835814.0000   Fm  \n",
       "18703         1000 ha  236878.8010   Fc  \n",
       "18761         1000 ha  236878.8010   Fm  \n",
       "18819         1000 ha   63518.0000   Fm  \n",
       "18877         1000 ha   55762.0000   Fm  \n",
       "18935         1000 ha    7756.0000   Fm  \n",
       "18993         1000 ha  173360.8010   Fm  \n",
       "19011         1000 ha  126037.4020   Fm  \n",
       "19029         1000 ha   47323.3990   Fm  \n",
       "19058         1000 ha  499051.4000    Q  \n",
       "19087  million tonnes   52150.8713    Q  \n",
       "19116         1000 ha  488548.1000   Fm  \n",
       "19145         1000 ha   10503.3000    Q  \n",
       "19174         1000 ha   99883.7990   Fc  \n",
       "19232         1000 ha   15763.0000   Fm  \n",
       "19290         1000 ha    6955.0000   Fm  \n",
       "19306         1000 ha    1188.2600    I  "
      ]
     },
     "execution_count": 55,
     "metadata": {},
     "output_type": "execute_result"
    }
   ],
   "source": [
    "##### Resposta \n",
    "import pandas as pd\n",
    "\n",
    "terra = pd.read_csv(path,sep=\",\",decimal=\".\",encoding=\"latin1\")\n",
    "\n",
    "terra.head(5)\n",
    "\n",
    "terra_edit = terra[terra[\"Area\"]==\"Brazil\"]\n",
    "\n",
    "terra_edit = terra_edit[terra_edit[\"Year\"]==2018]\n",
    "\n",
    "terra_edit"
   ]
  },
  {
   "cell_type": "markdown",
   "metadata": {},
   "source": [
    "##### Complementação da resposta - Dica para fazer um gráfico de pizza: \n",
    "https://matplotlib.org/3.1.1/gallery/pie_and_polar_charts/pie_features.html#sphx-glr-gallery-pie-and-polar-charts-pie-features-py"
   ]
  },
  {
   "cell_type": "code",
   "execution_count": 56,
   "metadata": {},
   "outputs": [
    {
     "data": {
      "text/plain": [
       "3"
      ]
     },
     "execution_count": 56,
     "metadata": {},
     "output_type": "execute_result"
    }
   ],
   "source": [
    "lista = [1,2,3]\n",
    "lista[2]"
   ]
  },
  {
   "cell_type": "code",
   "execution_count": 57,
   "metadata": {},
   "outputs": [
    {
     "name": "stdout",
     "output_type": "stream",
     "text": [
      "835814.0\n"
     ]
    },
    {
     "data": {
      "image/png": "[encoded data removed]",
      "text/plain": [
       "<Figure size 432x288 with 1 Axes>"
      ]
     },
     "metadata": {},
     "output_type": "display_data"
    }
   ],
   "source": [
    "Lavoura = np.array(terra_edit[terra_edit[\"Item\"]==\"Cropland\"][\"Value\"])[0]\n",
    "\n",
    "Pastagens = np.array(terra_edit[terra_edit[\"Item\"]==\"Land under perm. meadows and pastures\"][\"Value\"])[0]\n",
    "\n",
    "Florestas = np.array(terra_edit[terra_edit[\"Item\"]==\"Forest land\"][\"Value\"])[0]\n",
    "\n",
    "Outros = np.array(terra_edit[terra_edit[\"Item\"]==\"Other land\"][\"Value\"])[0]\n",
    "\n",
    "Total = Lavoura + Pastagens + Florestas + Outros\n",
    "\n",
    "print(Total) #Para saber a área toda\n",
    "\n",
    "import matplotlib.pyplot as plt\n",
    "\n",
    "labels = 'Lavoura', 'Pastagens', 'Florestas', 'Outros'\n",
    "\n",
    "sizes = [Lavoura, Pastagens, Florestas, Outros]\n",
    "\n",
    "explode = (0.1, 0, 0, 0)  # only \"explode\" the 2nd slice (i.e. 'Hogs')\n",
    "\n",
    "fig1, ax1 = plt.subplots()\n",
    "\n",
    "ax1.pie(sizes, explode=explode, labels=labels, autopct='%1.1f%%',\n",
    "        shadow=True, startangle=90)\n",
    "\n",
    "ax1.axis('equal')  # Equal aspect ratio ensures that pie is drawn as a circle.\n",
    "\n",
    "plt.show()"
   ]
  },
  {
   "cell_type": "markdown",
   "metadata": {},
   "source": [
    "#### Repetindo a pizza - anos 1990"
   ]
  },
  {
   "cell_type": "code",
   "execution_count": 58,
   "metadata": {},
   "outputs": [
    {
     "data": {
      "image/png": "[encoded data removed]",
      "text/plain": [
       "<Figure size 432x288 with 1 Axes>"
      ]
     },
     "metadata": {},
     "output_type": "display_data"
    }
   ],
   "source": [
    "terra_edit = terra[terra[\"Area\"]==\"Brazil\"]\n",
    "terra_edit = terra_edit[terra_edit[\"Year\"]==1991]\n",
    "\n",
    "Lavoura = np.array(terra_edit[terra_edit[\"Item\"]==\"Cropland\"][\"Value\"])[0]\n",
    "Pastagens = np.array(terra_edit[terra_edit[\"Item\"]==\"Land under perm. meadows and pastures\"][\"Value\"])[0]\n",
    "Florestas = np.array(terra_edit[terra_edit[\"Item\"]==\"Forest land\"][\"Value\"])[0]\n",
    "Outros = np.array(terra_edit[terra_edit[\"Item\"]==\"Other land\"][\"Value\"])[0]\n",
    "\n",
    "\n",
    "#Pie chart, where the slices will be ordered and plotted counter-clockwise:\n",
    "labels = 'Lavoura', 'Pastagens', 'Florestas', 'Outros'\n",
    "sizes = [Lavoura, Pastagens, Florestas, Outros]\n",
    "explode = (0.1, 0, 0, 0)  # only \"explode\" the 2nd slice (i.e. 'Hogs')\n",
    "\n",
    "fig1, ax1 = plt.subplots()\n",
    "ax1.pie(sizes, explode=explode, labels=labels, autopct='%1.1f%%',\n",
    "        shadow=True, startangle=90)\n",
    "ax1.axis('equal')  # Equal aspect ratio ensures that pie is drawn as a circle.\n",
    "\n",
    "plt.show()"
   ]
  },
  {
   "cell_type": "markdown",
   "metadata": {},
   "source": [
    "## 2\n",
    "#### Faça um gráfico da evolução de uso de terra para lavouras anuais (Item = Cropland)\n",
    "#### Você vai notar que a área é inferior ao que vimos nos gráficos anteriores, o motivo está aqui - https://boaspraticasagronomicas.com.br/boas-praticas/rotacao-de-culturas/"
   ]
  },
  {
   "cell_type": "code",
   "execution_count": 59,
   "metadata": {},
   "outputs": [],
   "source": [
    "# Faça seu código aqui"
   ]
  },
  {
   "cell_type": "code",
   "execution_count": 60,
   "metadata": {},
   "outputs": [
    {
     "data": {
      "text/plain": [
       "<matplotlib.legend.Legend at 0x28ed8b79788>"
      ]
     },
     "execution_count": 60,
     "metadata": {},
     "output_type": "execute_result"
    },
    {
     "data": {
      "image/png": "[encoded data removed]",
      "text/plain": [
       "<Figure size 432x288 with 1 Axes>"
      ]
     },
     "metadata": {
      "needs_background": "light"
     },
     "output_type": "display_data"
    }
   ],
   "source": [
    "##### Resposta\n",
    "\n",
    "terra_edit = terra[terra[\"Item\"]==\"Cropland\"]\n",
    "\n",
    "terra_edit = terra_edit[terra_edit[\"Area\"]==\"Brazil\"]\n",
    "\n",
    "terra_edit = terra_edit[terra_edit[\"Element\"]==\"Area\"]\n",
    "\n",
    "x = np.array(terra_edit[\"Year\"])\n",
    "\n",
    "y = np.array(terra_edit[\"Value\"])\n",
    "\n",
    "plt.plot(x,y,label=\"Uso terra x 1000ha\")\n",
    "\n",
    "plt.legend(loc=\"upper left\", bbox_to_anchor=(1.05, 1))"
   ]
  },
  {
   "cell_type": "markdown",
   "metadata": {},
   "source": [
    "# 3\n",
    "#### Compare o aumento de Item= Cropland e Item=Forest land do Brasil com o do mundo"
   ]
  },
  {
   "cell_type": "code",
   "execution_count": 61,
   "metadata": {},
   "outputs": [],
   "source": [
    "# Faça seu código aqui"
   ]
  },
  {
   "cell_type": "code",
   "execution_count": 62,
   "metadata": {},
   "outputs": [],
   "source": [
    "##### RESPOSTA\n",
    "\n",
    "def terra_usada(a=\"Cropland\", b=\"World\", c=1960):\n",
    "\n",
    "    df = terra[terra[\"Item\"]==a]\n",
    "\n",
    "    df = df[df[\"Area\"]==b]\n",
    "\n",
    "    df = df[df[\"Element\"]==\"Area\"]\n",
    "\n",
    "    df = df[df[\"Year\"]>c]\n",
    "    \n",
    "    df[\"Value\"]=df[\"Value\"]/df[\"Value\"].min() #Normalizando\n",
    "    \n",
    "    x = np.array(df[\"Year\"])\n",
    "    y = np.array(df[\"Value\"])\n",
    "\n",
    "    plt.plot(x,y,label=\"Uso terra - \"+a+\"-\"+b)\n",
    "\n",
    "    plt.legend(loc=\"upper left\", bbox_to_anchor=(1.05, 1))"
   ]
  },
  {
   "cell_type": "code",
   "execution_count": 63,
   "metadata": {},
   "outputs": [
    {
     "data": {
      "image/png": "[encoded data removed]",
      "text/plain": [
       "<Figure size 432x288 with 1 Axes>"
      ]
     },
     "metadata": {
      "needs_background": "light"
     },
     "output_type": "display_data"
    }
   ],
   "source": [
    "terra_usada()\n",
    "\n",
    "terra_usada(b=\"Brazil\")"
   ]
  },
  {
   "cell_type": "code",
   "execution_count": 64,
   "metadata": {},
   "outputs": [
    {
     "data": {
      "image/png": "[encoded data removed]",
      "text/plain": [
       "<Figure size 432x288 with 1 Axes>"
      ]
     },
     "metadata": {
      "needs_background": "light"
     },
     "output_type": "display_data"
    }
   ],
   "source": [
    "terra_usada(a=\"Forest land\")\n",
    "\n",
    "terra_usada(a=\"Forest land\", b=\"Brazil\")"
   ]
  },
  {
   "cell_type": "code",
   "execution_count": 65,
   "metadata": {},
   "outputs": [
    {
     "data": {
      "image/png": "[encoded data removed]",
      "text/plain": [
       "<Figure size 432x288 with 1 Axes>"
      ]
     },
     "metadata": {
      "needs_background": "light"
     },
     "output_type": "display_data"
    }
   ],
   "source": [
    "terra_usada(a=\"Cropland\", b=\"Brazil\",c=1990)\n",
    "\n",
    "terra_usada(a=\"Land under perm. meadows and pastures\", b=\"Brazil\",c=1990)\n",
    "\n",
    "terra_usada(a=\"Forest land\", b=\"Brazil\",c=1990)"
   ]
  },
  {
   "cell_type": "markdown",
   "metadata": {},
   "source": [
    "## Tópico 2.2. Uso da terra, Fertilizantes e defensivos. Florestas, Poluição e Emissões de gás carbônico"
   ]
  },
  {
   "cell_type": "markdown",
   "metadata": {},
   "source": [
    "### Uso da terra"
   ]
  },
  {
   "cell_type": "code",
   "execution_count": 66,
   "metadata": {},
   "outputs": [
    {
     "data": {
      "text/html": [
       "<div>\n",
       "<style scoped>\n",
       "    .dataframe tbody tr th:only-of-type {\n",
       "        vertical-align: middle;\n",
       "    }\n",
       "\n",
       "    .dataframe tbody tr th {\n",
       "        vertical-align: top;\n",
       "    }\n",
       "\n",
       "    .dataframe thead th {\n",
       "        text-align: right;\n",
       "    }\n",
       "</style>\n",
       "<table border=\"1\" class=\"dataframe\">\n",
       "  <thead>\n",
       "    <tr style=\"text-align: right;\">\n",
       "      <th></th>\n",
       "      <th>Area Code</th>\n",
       "      <th>Area</th>\n",
       "      <th>Item Code</th>\n",
       "      <th>Item</th>\n",
       "      <th>Element Code</th>\n",
       "      <th>Element</th>\n",
       "      <th>Year Code</th>\n",
       "      <th>Year</th>\n",
       "      <th>Unit</th>\n",
       "      <th>Value</th>\n",
       "      <th>Flag</th>\n",
       "    </tr>\n",
       "  </thead>\n",
       "  <tbody>\n",
       "    <tr>\n",
       "      <th>0</th>\n",
       "      <td>2</td>\n",
       "      <td>Afghanistan</td>\n",
       "      <td>6600</td>\n",
       "      <td>Country area</td>\n",
       "      <td>5110</td>\n",
       "      <td>Area</td>\n",
       "      <td>1961</td>\n",
       "      <td>1961</td>\n",
       "      <td>1000 ha</td>\n",
       "      <td>65286.0</td>\n",
       "      <td>W</td>\n",
       "    </tr>\n",
       "    <tr>\n",
       "      <th>1</th>\n",
       "      <td>2</td>\n",
       "      <td>Afghanistan</td>\n",
       "      <td>6600</td>\n",
       "      <td>Country area</td>\n",
       "      <td>5110</td>\n",
       "      <td>Area</td>\n",
       "      <td>1962</td>\n",
       "      <td>1962</td>\n",
       "      <td>1000 ha</td>\n",
       "      <td>65286.0</td>\n",
       "      <td>W</td>\n",
       "    </tr>\n",
       "  </tbody>\n",
       "</table>\n",
       "</div>"
      ],
      "text/plain": [
       "   Area Code         Area  Item Code          Item  Element Code Element  \\\n",
       "0          2  Afghanistan       6600  Country area          5110    Area   \n",
       "1          2  Afghanistan       6600  Country area          5110    Area   \n",
       "\n",
       "   Year Code  Year     Unit    Value Flag  \n",
       "0       1961  1961  1000 ha  65286.0    W  \n",
       "1       1962  1962  1000 ha  65286.0    W  "
      ]
     },
     "execution_count": 66,
     "metadata": {},
     "output_type": "execute_result"
    }
   ],
   "source": [
    "path = \"FAOSTAT\\Inputs_LandUse_E_All_Data_(Normalized)\\Inputs_LandUse_E_All_Data_(Normalized).csv\"\n",
    "\n",
    "import pandas as pd\n",
    "import numpy as np\n",
    "\n",
    "terra = pd.read_csv(path,sep=\",\",decimal=\".\",encoding=\"latin1\")\n",
    "terra.head(2)"
   ]
  },
  {
   "cell_type": "code",
   "execution_count": 67,
   "metadata": {},
   "outputs": [],
   "source": [
    "def uso_terra(a=\"Brazil\",b=2018):\n",
    "    terra_edit = terra[terra[\"Area\"]==a]\n",
    "    terra_edit = terra_edit[terra_edit[\"Year\"]==b]\n",
    "    \n",
    "    Lavoura = np.array(terra_edit[terra_edit[\"Item\"]==\"Cropland\"][\"Value\"])[0]\n",
    "    Pastagens = np.array(terra_edit[terra_edit[\"Item\"]==\"Land under perm. meadows and pastures\"][\"Value\"])[0]\n",
    "    Florestas = np.array(terra_edit[terra_edit[\"Item\"]==\"Forest land\"][\"Value\"])[0]\n",
    "    Outros = np.array(terra_edit[terra_edit[\"Item\"]==\"Other land\"][\"Value\"])[0]\n",
    "    \n",
    "    return Lavoura,Pastagens,Florestas,Outros    "
   ]
  },
  {
   "cell_type": "code",
   "execution_count": 68,
   "metadata": {},
   "outputs": [
    {
     "data": {
      "text/plain": [
       "(63518.0, 173360.801, 499051.4, 99883.799)"
      ]
     },
     "execution_count": 68,
     "metadata": {},
     "output_type": "execute_result"
    }
   ],
   "source": [
    "uso_terra()"
   ]
  },
  {
   "cell_type": "code",
   "execution_count": 69,
   "metadata": {},
   "outputs": [],
   "source": [
    "def pizza(rotulos=('Lavoura', 'Pastagens', 'Florestas', 'Outros'),valores=uso_terra()):\n",
    "# Pie chart, where the slices will be ordered and plotted counter-clockwise:\n",
    "    labels = rotulos\n",
    "    sizes = valores\n",
    "    explode = (0.1, 0, 0, 0)  # only \"explode\" the 2nd slice (i.e. 'Hogs')\n",
    "\n",
    "    fig1, ax1 = plt.subplots()\n",
    "    ax1.pie(sizes, explode=explode, labels=labels, autopct='%1.1f%%',\n",
    "            shadow=True, startangle=90)\n",
    "    ax1.axis('equal')  # Equal aspect ratio ensures that pie is drawn as a circle.\n",
    "    \n",
    "    plt.show()"
   ]
  },
  {
   "cell_type": "code",
   "execution_count": 70,
   "metadata": {},
   "outputs": [
    {
     "data": {
      "image/png": "[encoded data removed]",
      "text/plain": [
       "<Figure size 432x288 with 1 Axes>"
      ]
     },
     "metadata": {},
     "output_type": "display_data"
    },
    {
     "data": {
      "image/png": "[encoded data removed]",
      "text/plain": [
       "<Figure size 432x288 with 1 Axes>"
      ]
     },
     "metadata": {},
     "output_type": "display_data"
    }
   ],
   "source": [
    "pizza()\n",
    "pizza(valores=uso_terra(b=2000))"
   ]
  },
  {
   "cell_type": "code",
   "execution_count": 71,
   "metadata": {},
   "outputs": [],
   "source": [
    "def terra_usada(a=\"Cropland\", b=\"World\", c=1960, d=1):\n",
    "    df = terra[terra[\"Item\"]==a]\n",
    "    df = df[df[\"Area\"]==b]\n",
    "    df = df[df[\"Element\"]==\"Area\"]\n",
    "    df = df[df[\"Year\"]>c]\n",
    "    \n",
    "    if d==1: #Vamos condicionar a normalização\n",
    "        df[\"Value\"]=df[\"Value\"]/df[\"Value\"].min() \n",
    "        \n",
    "    x = np.array(df[\"Year\"])\n",
    "    y = np.array(df[\"Value\"])\n",
    "\n",
    "    plt.plot(x,y,label=\"Uso terra - \"+a+\"-\"+b)\n",
    "\n",
    "    plt.legend(loc=\"upper left\", bbox_to_anchor=(1.05, 1))"
   ]
  },
  {
   "cell_type": "code",
   "execution_count": 72,
   "metadata": {},
   "outputs": [
    {
     "data": {
      "image/png": "[encoded data removed]",
      "text/plain": [
       "<Figure size 432x288 with 1 Axes>"
      ]
     },
     "metadata": {
      "needs_background": "light"
     },
     "output_type": "display_data"
    }
   ],
   "source": [
    "normalizado=0\n",
    "terra_usada(a=\"Cropland\", b=\"Brazil\",c=2000,d=normalizado)\n",
    "terra_usada(a=\"Land under perm. meadows and pastures\", b=\"Brazil\",c=2000,d=normalizado)\n",
    "terra_usada(a=\"Forest land\", b=\"Brazil\",c=2000,d=normalizado)"
   ]
  },
  {
   "cell_type": "code",
   "execution_count": 73,
   "metadata": {},
   "outputs": [
    {
     "data": {
      "image/png": "[encoded data removed]",
      "text/plain": [
       "<Figure size 432x288 with 1 Axes>"
      ]
     },
     "metadata": {
      "needs_background": "light"
     },
     "output_type": "display_data"
    }
   ],
   "source": [
    "normalizado=1\n",
    "terra_usada(a=\"Cropland\", b=\"Brazil\",c=2000,d=normalizado)\n",
    "terra_usada(a=\"Land under perm. meadows and pastures\", b=\"Brazil\",c=2000,d=normalizado)\n",
    "terra_usada(a=\"Forest land\", b=\"Brazil\",c=2000,d=normalizado)"
   ]
  },
  {
   "cell_type": "markdown",
   "metadata": {},
   "source": [
    "### Fertilizantes"
   ]
  },
  {
   "cell_type": "code",
   "execution_count": 74,
   "metadata": {},
   "outputs": [
    {
     "data": {
      "text/html": [
       "<div>\n",
       "<style scoped>\n",
       "    .dataframe tbody tr th:only-of-type {\n",
       "        vertical-align: middle;\n",
       "    }\n",
       "\n",
       "    .dataframe tbody tr th {\n",
       "        vertical-align: top;\n",
       "    }\n",
       "\n",
       "    .dataframe thead th {\n",
       "        text-align: right;\n",
       "    }\n",
       "</style>\n",
       "<table border=\"1\" class=\"dataframe\">\n",
       "  <thead>\n",
       "    <tr style=\"text-align: right;\">\n",
       "      <th></th>\n",
       "      <th>Area Code</th>\n",
       "      <th>Area</th>\n",
       "      <th>Item Code</th>\n",
       "      <th>Item</th>\n",
       "      <th>Element Code</th>\n",
       "      <th>Element</th>\n",
       "      <th>Year Code</th>\n",
       "      <th>Year</th>\n",
       "      <th>Unit</th>\n",
       "      <th>Value</th>\n",
       "      <th>Flag</th>\n",
       "    </tr>\n",
       "  </thead>\n",
       "  <tbody>\n",
       "    <tr>\n",
       "      <th>0</th>\n",
       "      <td>2</td>\n",
       "      <td>Afghanistan</td>\n",
       "      <td>3102</td>\n",
       "      <td>Nutrient nitrogen N (total)</td>\n",
       "      <td>5510</td>\n",
       "      <td>Production</td>\n",
       "      <td>1974</td>\n",
       "      <td>1974</td>\n",
       "      <td>tonnes</td>\n",
       "      <td>19117.0</td>\n",
       "      <td>Qm</td>\n",
       "    </tr>\n",
       "    <tr>\n",
       "      <th>1</th>\n",
       "      <td>2</td>\n",
       "      <td>Afghanistan</td>\n",
       "      <td>3102</td>\n",
       "      <td>Nutrient nitrogen N (total)</td>\n",
       "      <td>5510</td>\n",
       "      <td>Production</td>\n",
       "      <td>1975</td>\n",
       "      <td>1975</td>\n",
       "      <td>tonnes</td>\n",
       "      <td>14774.0</td>\n",
       "      <td>Qm</td>\n",
       "    </tr>\n",
       "  </tbody>\n",
       "</table>\n",
       "</div>"
      ],
      "text/plain": [
       "   Area Code         Area  Item Code                         Item  \\\n",
       "0          2  Afghanistan       3102  Nutrient nitrogen N (total)   \n",
       "1          2  Afghanistan       3102  Nutrient nitrogen N (total)   \n",
       "\n",
       "   Element Code     Element  Year Code  Year    Unit    Value Flag  \n",
       "0          5510  Production       1974  1974  tonnes  19117.0   Qm  \n",
       "1          5510  Production       1975  1975  tonnes  14774.0   Qm  "
      ]
     },
     "execution_count": 74,
     "metadata": {},
     "output_type": "execute_result"
    }
   ],
   "source": [
    "path = \"FAOSTAT\\Inputs_FertilizersNutrient_E_All_Data_(Normalized)\\Inputs_FertilizersNutrient_E_All_Data_(Normalized).csv\"\n",
    "\n",
    "import pandas as pd\n",
    "import numpy as np\n",
    "\n",
    "fert = pd.read_csv(path,sep=\",\",decimal=\".\",encoding=\"latin1\")\n",
    "fert.head(2)"
   ]
  },
  {
   "cell_type": "code",
   "execution_count": 75,
   "metadata": {},
   "outputs": [
    {
     "data": {
      "text/plain": [
       "array(['Production', 'Import Quantity', 'Export Quantity',\n",
       "       'Agricultural Use'], dtype=object)"
      ]
     },
     "execution_count": 75,
     "metadata": {},
     "output_type": "execute_result"
    }
   ],
   "source": [
    "fert.Element.unique()"
   ]
  },
  {
   "cell_type": "code",
   "execution_count": 76,
   "metadata": {},
   "outputs": [],
   "source": [
    "fert =  fert[fert[\"Element\"]==\"Agricultural Use\"]"
   ]
  },
  {
   "cell_type": "code",
   "execution_count": 77,
   "metadata": {},
   "outputs": [
    {
     "data": {
      "text/plain": [
       "array(['Nutrient nitrogen N (total)', 'Nutrient phosphate P2O5 (total)',\n",
       "       'Nutrient potash K2O (total)'], dtype=object)"
      ]
     },
     "execution_count": 77,
     "metadata": {},
     "output_type": "execute_result"
    }
   ],
   "source": [
    "#Vários tipos de fertilizante\n",
    "fert.Item.unique()"
   ]
  },
  {
   "cell_type": "markdown",
   "metadata": {},
   "source": [
    "NPK - MACRONUTRIENTES"
   ]
  },
  {
   "cell_type": "markdown",
   "metadata": {},
   "source": [
    "https://pt.wikipedia.org/wiki/Nauru"
   ]
  },
  {
   "cell_type": "markdown",
   "metadata": {},
   "source": [
    "### Merge produção e fertilizantes"
   ]
  },
  {
   "cell_type": "markdown",
   "metadata": {},
   "source": [
    "https://pandas.pydata.org/pandas-docs/stable/reference/api/pandas.DataFrame.groupby.html"
   ]
  },
  {
   "cell_type": "code",
   "execution_count": 78,
   "metadata": {},
   "outputs": [
    {
     "data": {
      "text/html": [
       "<div>\n",
       "<style scoped>\n",
       "    .dataframe tbody tr th:only-of-type {\n",
       "        vertical-align: middle;\n",
       "    }\n",
       "\n",
       "    .dataframe tbody tr th {\n",
       "        vertical-align: top;\n",
       "    }\n",
       "\n",
       "    .dataframe thead th {\n",
       "        text-align: right;\n",
       "    }\n",
       "</style>\n",
       "<table border=\"1\" class=\"dataframe\">\n",
       "  <thead>\n",
       "    <tr style=\"text-align: right;\">\n",
       "      <th></th>\n",
       "      <th>Year</th>\n",
       "      <th>Area</th>\n",
       "      <th>Value</th>\n",
       "    </tr>\n",
       "  </thead>\n",
       "  <tbody>\n",
       "    <tr>\n",
       "      <th>0</th>\n",
       "      <td>1961</td>\n",
       "      <td>Afghanistan</td>\n",
       "      <td>1.100000e+03</td>\n",
       "    </tr>\n",
       "    <tr>\n",
       "      <th>1</th>\n",
       "      <td>1961</td>\n",
       "      <td>Africa</td>\n",
       "      <td>7.041770e+05</td>\n",
       "    </tr>\n",
       "    <tr>\n",
       "      <th>2</th>\n",
       "      <td>1961</td>\n",
       "      <td>Albania</td>\n",
       "      <td>6.302000e+03</td>\n",
       "    </tr>\n",
       "    <tr>\n",
       "      <th>3</th>\n",
       "      <td>1961</td>\n",
       "      <td>Algeria</td>\n",
       "      <td>4.900000e+04</td>\n",
       "    </tr>\n",
       "    <tr>\n",
       "      <th>4</th>\n",
       "      <td>1961</td>\n",
       "      <td>Americas</td>\n",
       "      <td>8.830771e+06</td>\n",
       "    </tr>\n",
       "    <tr>\n",
       "      <th>...</th>\n",
       "      <td>...</td>\n",
       "      <td>...</td>\n",
       "      <td>...</td>\n",
       "    </tr>\n",
       "    <tr>\n",
       "      <th>10327</th>\n",
       "      <td>2018</td>\n",
       "      <td>Western Europe</td>\n",
       "      <td>5.872587e+06</td>\n",
       "    </tr>\n",
       "    <tr>\n",
       "      <th>10328</th>\n",
       "      <td>2018</td>\n",
       "      <td>World</td>\n",
       "      <td>1.881600e+08</td>\n",
       "    </tr>\n",
       "    <tr>\n",
       "      <th>10329</th>\n",
       "      <td>2018</td>\n",
       "      <td>Yemen</td>\n",
       "      <td>4.207080e+03</td>\n",
       "    </tr>\n",
       "    <tr>\n",
       "      <th>10330</th>\n",
       "      <td>2018</td>\n",
       "      <td>Zambia</td>\n",
       "      <td>1.995415e+05</td>\n",
       "    </tr>\n",
       "    <tr>\n",
       "      <th>10331</th>\n",
       "      <td>2018</td>\n",
       "      <td>Zimbabwe</td>\n",
       "      <td>1.534000e+05</td>\n",
       "    </tr>\n",
       "  </tbody>\n",
       "</table>\n",
       "<p>10332 rows × 3 columns</p>\n",
       "</div>"
      ],
      "text/plain": [
       "       Year            Area         Value\n",
       "0      1961     Afghanistan  1.100000e+03\n",
       "1      1961          Africa  7.041770e+05\n",
       "2      1961         Albania  6.302000e+03\n",
       "3      1961         Algeria  4.900000e+04\n",
       "4      1961        Americas  8.830771e+06\n",
       "...     ...             ...           ...\n",
       "10327  2018  Western Europe  5.872587e+06\n",
       "10328  2018           World  1.881600e+08\n",
       "10329  2018           Yemen  4.207080e+03\n",
       "10330  2018          Zambia  1.995415e+05\n",
       "10331  2018        Zimbabwe  1.534000e+05\n",
       "\n",
       "[10332 rows x 3 columns]"
      ]
     },
     "execution_count": 78,
     "metadata": {},
     "output_type": "execute_result"
    }
   ],
   "source": [
    "fert =  fert.groupby([\"Year\",\"Area\"])[\"Value\"].sum().reset_index()\n",
    "fert"
   ]
  },
  {
   "cell_type": "code",
   "execution_count": 79,
   "metadata": {},
   "outputs": [
    {
     "data": {
      "text/html": [
       "<div>\n",
       "<style scoped>\n",
       "    .dataframe tbody tr th:only-of-type {\n",
       "        vertical-align: middle;\n",
       "    }\n",
       "\n",
       "    .dataframe tbody tr th {\n",
       "        vertical-align: top;\n",
       "    }\n",
       "\n",
       "    .dataframe thead th {\n",
       "        text-align: right;\n",
       "    }\n",
       "</style>\n",
       "<table border=\"1\" class=\"dataframe\">\n",
       "  <thead>\n",
       "    <tr style=\"text-align: right;\">\n",
       "      <th></th>\n",
       "      <th>Year</th>\n",
       "      <th>Area</th>\n",
       "      <th>Value</th>\n",
       "    </tr>\n",
       "  </thead>\n",
       "  <tbody>\n",
       "    <tr>\n",
       "      <th>0</th>\n",
       "      <td>1961</td>\n",
       "      <td>Afghanistan</td>\n",
       "      <td>1.009655e+07</td>\n",
       "    </tr>\n",
       "    <tr>\n",
       "      <th>1</th>\n",
       "      <td>1961</td>\n",
       "      <td>Africa</td>\n",
       "      <td>3.905735e+08</td>\n",
       "    </tr>\n",
       "    <tr>\n",
       "      <th>2</th>\n",
       "      <td>1961</td>\n",
       "      <td>Albania</td>\n",
       "      <td>1.452690e+06</td>\n",
       "    </tr>\n",
       "    <tr>\n",
       "      <th>3</th>\n",
       "      <td>1961</td>\n",
       "      <td>Algeria</td>\n",
       "      <td>8.994504e+06</td>\n",
       "    </tr>\n",
       "    <tr>\n",
       "      <th>4</th>\n",
       "      <td>1961</td>\n",
       "      <td>Americas</td>\n",
       "      <td>1.355215e+09</td>\n",
       "    </tr>\n",
       "    <tr>\n",
       "      <th>...</th>\n",
       "      <td>...</td>\n",
       "      <td>...</td>\n",
       "      <td>...</td>\n",
       "    </tr>\n",
       "    <tr>\n",
       "      <th>13196</th>\n",
       "      <td>2019</td>\n",
       "      <td>Western Europe</td>\n",
       "      <td>5.698403e+08</td>\n",
       "    </tr>\n",
       "    <tr>\n",
       "      <th>13197</th>\n",
       "      <td>2019</td>\n",
       "      <td>World</td>\n",
       "      <td>1.996020e+10</td>\n",
       "    </tr>\n",
       "    <tr>\n",
       "      <th>13198</th>\n",
       "      <td>2019</td>\n",
       "      <td>Yemen</td>\n",
       "      <td>5.287494e+06</td>\n",
       "    </tr>\n",
       "    <tr>\n",
       "      <th>13199</th>\n",
       "      <td>2019</td>\n",
       "      <td>Zambia</td>\n",
       "      <td>2.569525e+07</td>\n",
       "    </tr>\n",
       "    <tr>\n",
       "      <th>13200</th>\n",
       "      <td>2019</td>\n",
       "      <td>Zimbabwe</td>\n",
       "      <td>1.199170e+07</td>\n",
       "    </tr>\n",
       "  </tbody>\n",
       "</table>\n",
       "<p>13201 rows × 3 columns</p>\n",
       "</div>"
      ],
      "text/plain": [
       "       Year            Area         Value\n",
       "0      1961     Afghanistan  1.009655e+07\n",
       "1      1961          Africa  3.905735e+08\n",
       "2      1961         Albania  1.452690e+06\n",
       "3      1961         Algeria  8.994504e+06\n",
       "4      1961        Americas  1.355215e+09\n",
       "...     ...             ...           ...\n",
       "13196  2019  Western Europe  5.698403e+08\n",
       "13197  2019           World  1.996020e+10\n",
       "13198  2019           Yemen  5.287494e+06\n",
       "13199  2019          Zambia  2.569525e+07\n",
       "13200  2019        Zimbabwe  1.199170e+07\n",
       "\n",
       "[13201 rows x 3 columns]"
      ]
     },
     "execution_count": 79,
     "metadata": {},
     "output_type": "execute_result"
    }
   ],
   "source": [
    "prod_edit = prod[prod[\"Element\"]==\"Production\"]\n",
    "prod_edit = prod_edit.groupby([\"Year\",\"Area\"])['Value'].sum().reset_index()\n",
    "prod_edit"
   ]
  },
  {
   "cell_type": "code",
   "execution_count": 80,
   "metadata": {},
   "outputs": [
    {
     "data": {
      "text/html": [
       "<div>\n",
       "<style scoped>\n",
       "    .dataframe tbody tr th:only-of-type {\n",
       "        vertical-align: middle;\n",
       "    }\n",
       "\n",
       "    .dataframe tbody tr th {\n",
       "        vertical-align: top;\n",
       "    }\n",
       "\n",
       "    .dataframe thead th {\n",
       "        text-align: right;\n",
       "    }\n",
       "</style>\n",
       "<table border=\"1\" class=\"dataframe\">\n",
       "  <thead>\n",
       "    <tr style=\"text-align: right;\">\n",
       "      <th></th>\n",
       "      <th>Year</th>\n",
       "      <th>Area</th>\n",
       "      <th>Value_prod</th>\n",
       "      <th>Value_fert</th>\n",
       "    </tr>\n",
       "  </thead>\n",
       "  <tbody>\n",
       "    <tr>\n",
       "      <th>0</th>\n",
       "      <td>1961</td>\n",
       "      <td>Afghanistan</td>\n",
       "      <td>1.009655e+07</td>\n",
       "      <td>1100.00</td>\n",
       "    </tr>\n",
       "    <tr>\n",
       "      <th>1</th>\n",
       "      <td>1961</td>\n",
       "      <td>Africa</td>\n",
       "      <td>3.905735e+08</td>\n",
       "      <td>704177.00</td>\n",
       "    </tr>\n",
       "    <tr>\n",
       "      <th>2</th>\n",
       "      <td>1961</td>\n",
       "      <td>Albania</td>\n",
       "      <td>1.452690e+06</td>\n",
       "      <td>6302.00</td>\n",
       "    </tr>\n",
       "    <tr>\n",
       "      <th>3</th>\n",
       "      <td>1961</td>\n",
       "      <td>Algeria</td>\n",
       "      <td>8.994504e+06</td>\n",
       "      <td>49000.00</td>\n",
       "    </tr>\n",
       "    <tr>\n",
       "      <th>4</th>\n",
       "      <td>1961</td>\n",
       "      <td>Americas</td>\n",
       "      <td>1.355215e+09</td>\n",
       "      <td>8830770.65</td>\n",
       "    </tr>\n",
       "  </tbody>\n",
       "</table>\n",
       "</div>"
      ],
      "text/plain": [
       "   Year         Area    Value_prod  Value_fert\n",
       "0  1961  Afghanistan  1.009655e+07     1100.00\n",
       "1  1961       Africa  3.905735e+08   704177.00\n",
       "2  1961      Albania  1.452690e+06     6302.00\n",
       "3  1961      Algeria  8.994504e+06    49000.00\n",
       "4  1961     Americas  1.355215e+09  8830770.65"
      ]
     },
     "execution_count": 80,
     "metadata": {},
     "output_type": "execute_result"
    }
   ],
   "source": [
    "fert_prod = prod_edit.merge(fert, how='inner', left_on=['Year','Area'], right_on=['Year','Area'], copy=False, validate='one_to_one', suffixes=('_prod', '_fert'))\n",
    "fert_prod.head()"
   ]
  },
  {
   "cell_type": "code",
   "execution_count": 81,
   "metadata": {},
   "outputs": [],
   "source": [
    "def fert_pais(a=\"Brazil\"):\n",
    "    df = fert_prod[fert_prod[\"Area\"]==a]\n",
    "    \n",
    "    x = np.array(df[\"Year\"])\n",
    "    y_prod = np.array(df[\"Value_prod\"]/100)\n",
    "    y_fert = np.array(df[\"Value_fert\"])\n",
    "    #print(df)\n",
    "    plt.plot(x,y_prod,label=\"Producao dividido por 100 - \"+a)\n",
    "    plt.plot(x,y_fert,label=\"Fertilizante - \"+a)\n",
    "    \n",
    "    plt.legend(loc=\"upper left\", bbox_to_anchor=(1.05, 1))"
   ]
  },
  {
   "cell_type": "code",
   "execution_count": 82,
   "metadata": {},
   "outputs": [
    {
     "data": {
      "image/png": "[encoded data removed]",
      "text/plain": [
       "<Figure size 432x288 with 1 Axes>"
      ]
     },
     "metadata": {
      "needs_background": "light"
     },
     "output_type": "display_data"
    }
   ],
   "source": [
    "fert_pais('Brazil')"
   ]
  },
  {
   "cell_type": "code",
   "execution_count": 83,
   "metadata": {},
   "outputs": [
    {
     "data": {
      "image/png": "[encoded data removed]",
      "text/plain": [
       "<Figure size 432x288 with 1 Axes>"
      ]
     },
     "metadata": {
      "needs_background": "light"
     },
     "output_type": "display_data"
    }
   ],
   "source": [
    "fert_pais('United States of America')"
   ]
  },
  {
   "cell_type": "code",
   "execution_count": 84,
   "metadata": {},
   "outputs": [
    {
     "data": {
      "text/html": [
       "<div>\n",
       "<style scoped>\n",
       "    .dataframe tbody tr th:only-of-type {\n",
       "        vertical-align: middle;\n",
       "    }\n",
       "\n",
       "    .dataframe tbody tr th {\n",
       "        vertical-align: top;\n",
       "    }\n",
       "\n",
       "    .dataframe thead th {\n",
       "        text-align: right;\n",
       "    }\n",
       "</style>\n",
       "<table border=\"1\" class=\"dataframe\">\n",
       "  <thead>\n",
       "    <tr style=\"text-align: right;\">\n",
       "      <th></th>\n",
       "      <th>Year</th>\n",
       "      <th>Area</th>\n",
       "      <th>Value_prod</th>\n",
       "      <th>Value_fert</th>\n",
       "    </tr>\n",
       "  </thead>\n",
       "  <tbody>\n",
       "    <tr>\n",
       "      <th>10099</th>\n",
       "      <td>2018</td>\n",
       "      <td>Afghanistan</td>\n",
       "      <td>1.657528e+07</td>\n",
       "      <td>5.893316e+04</td>\n",
       "    </tr>\n",
       "    <tr>\n",
       "      <th>10100</th>\n",
       "      <td>2018</td>\n",
       "      <td>Africa</td>\n",
       "      <td>1.925052e+09</td>\n",
       "      <td>6.667360e+06</td>\n",
       "    </tr>\n",
       "    <tr>\n",
       "      <th>10101</th>\n",
       "      <td>2018</td>\n",
       "      <td>Albania</td>\n",
       "      <td>5.638313e+06</td>\n",
       "      <td>4.070652e+04</td>\n",
       "    </tr>\n",
       "    <tr>\n",
       "      <th>10102</th>\n",
       "      <td>2018</td>\n",
       "      <td>Algeria</td>\n",
       "      <td>5.239229e+07</td>\n",
       "      <td>1.557000e+05</td>\n",
       "    </tr>\n",
       "    <tr>\n",
       "      <th>10103</th>\n",
       "      <td>2018</td>\n",
       "      <td>Americas</td>\n",
       "      <td>5.430717e+09</td>\n",
       "      <td>5.094403e+07</td>\n",
       "    </tr>\n",
       "    <tr>\n",
       "      <th>...</th>\n",
       "      <td>...</td>\n",
       "      <td>...</td>\n",
       "      <td>...</td>\n",
       "      <td>...</td>\n",
       "    </tr>\n",
       "    <tr>\n",
       "      <th>10297</th>\n",
       "      <td>2018</td>\n",
       "      <td>Western Europe</td>\n",
       "      <td>5.333478e+08</td>\n",
       "      <td>5.872587e+06</td>\n",
       "    </tr>\n",
       "    <tr>\n",
       "      <th>10298</th>\n",
       "      <td>2018</td>\n",
       "      <td>World</td>\n",
       "      <td>1.968544e+10</td>\n",
       "      <td>1.881600e+08</td>\n",
       "    </tr>\n",
       "    <tr>\n",
       "      <th>10299</th>\n",
       "      <td>2018</td>\n",
       "      <td>Yemen</td>\n",
       "      <td>4.589397e+06</td>\n",
       "      <td>4.207080e+03</td>\n",
       "    </tr>\n",
       "    <tr>\n",
       "      <th>10300</th>\n",
       "      <td>2018</td>\n",
       "      <td>Zambia</td>\n",
       "      <td>2.621756e+07</td>\n",
       "      <td>1.995415e+05</td>\n",
       "    </tr>\n",
       "    <tr>\n",
       "      <th>10301</th>\n",
       "      <td>2018</td>\n",
       "      <td>Zimbabwe</td>\n",
       "      <td>1.377238e+07</td>\n",
       "      <td>1.534000e+05</td>\n",
       "    </tr>\n",
       "  </tbody>\n",
       "</table>\n",
       "<p>203 rows × 4 columns</p>\n",
       "</div>"
      ],
      "text/plain": [
       "       Year            Area    Value_prod    Value_fert\n",
       "10099  2018     Afghanistan  1.657528e+07  5.893316e+04\n",
       "10100  2018          Africa  1.925052e+09  6.667360e+06\n",
       "10101  2018         Albania  5.638313e+06  4.070652e+04\n",
       "10102  2018         Algeria  5.239229e+07  1.557000e+05\n",
       "10103  2018        Americas  5.430717e+09  5.094403e+07\n",
       "...     ...             ...           ...           ...\n",
       "10297  2018  Western Europe  5.333478e+08  5.872587e+06\n",
       "10298  2018           World  1.968544e+10  1.881600e+08\n",
       "10299  2018           Yemen  4.589397e+06  4.207080e+03\n",
       "10300  2018          Zambia  2.621756e+07  1.995415e+05\n",
       "10301  2018        Zimbabwe  1.377238e+07  1.534000e+05\n",
       "\n",
       "[203 rows x 4 columns]"
      ]
     },
     "execution_count": 84,
     "metadata": {},
     "output_type": "execute_result"
    }
   ],
   "source": [
    "fert2018 = fert_prod[fert_prod[\"Year\"]==2018]\n",
    "fert2018"
   ]
  },
  {
   "cell_type": "code",
   "execution_count": 85,
   "metadata": {},
   "outputs": [
    {
     "data": {
      "text/html": [
       "<div>\n",
       "<style scoped>\n",
       "    .dataframe tbody tr th:only-of-type {\n",
       "        vertical-align: middle;\n",
       "    }\n",
       "\n",
       "    .dataframe tbody tr th {\n",
       "        vertical-align: top;\n",
       "    }\n",
       "\n",
       "    .dataframe thead th {\n",
       "        text-align: right;\n",
       "    }\n",
       "</style>\n",
       "<table border=\"1\" class=\"dataframe\">\n",
       "  <thead>\n",
       "    <tr style=\"text-align: right;\">\n",
       "      <th></th>\n",
       "      <th>Year</th>\n",
       "      <th>Area</th>\n",
       "      <th>Value_prod</th>\n",
       "      <th>Value_fert</th>\n",
       "    </tr>\n",
       "  </thead>\n",
       "  <tbody>\n",
       "    <tr>\n",
       "      <th>10298</th>\n",
       "      <td>2018</td>\n",
       "      <td>World</td>\n",
       "      <td>1.968544e+10</td>\n",
       "      <td>1.881600e+08</td>\n",
       "    </tr>\n",
       "    <tr>\n",
       "      <th>10108</th>\n",
       "      <td>2018</td>\n",
       "      <td>Asia</td>\n",
       "      <td>9.909928e+09</td>\n",
       "      <td>1.038452e+08</td>\n",
       "    </tr>\n",
       "    <tr>\n",
       "      <th>10103</th>\n",
       "      <td>2018</td>\n",
       "      <td>Americas</td>\n",
       "      <td>5.430717e+09</td>\n",
       "      <td>5.094403e+07</td>\n",
       "    </tr>\n",
       "    <tr>\n",
       "      <th>10157</th>\n",
       "      <td>2018</td>\n",
       "      <td>Eastern Asia</td>\n",
       "      <td>3.949023e+09</td>\n",
       "      <td>4.858599e+07</td>\n",
       "    </tr>\n",
       "    <tr>\n",
       "      <th>10138</th>\n",
       "      <td>2018</td>\n",
       "      <td>China</td>\n",
       "      <td>3.805442e+09</td>\n",
       "      <td>4.698480e+07</td>\n",
       "    </tr>\n",
       "    <tr>\n",
       "      <th>...</th>\n",
       "      <td>...</td>\n",
       "      <td>...</td>\n",
       "      <td>...</td>\n",
       "      <td>...</td>\n",
       "    </tr>\n",
       "    <tr>\n",
       "      <th>10105</th>\n",
       "      <td>2018</td>\n",
       "      <td>Antigua and Barbuda</td>\n",
       "      <td>2.752700e+04</td>\n",
       "      <td>1.290000e+01</td>\n",
       "    </tr>\n",
       "    <tr>\n",
       "      <th>10215</th>\n",
       "      <td>2018</td>\n",
       "      <td>Micronesia</td>\n",
       "      <td>5.716590e+05</td>\n",
       "      <td>0.000000e+00</td>\n",
       "    </tr>\n",
       "    <tr>\n",
       "      <th>10140</th>\n",
       "      <td>2018</td>\n",
       "      <td>China, Macao SAR</td>\n",
       "      <td>2.200000e+02</td>\n",
       "      <td>0.000000e+00</td>\n",
       "    </tr>\n",
       "    <tr>\n",
       "      <th>10261</th>\n",
       "      <td>2018</td>\n",
       "      <td>Singapore</td>\n",
       "      <td>5.401200e+04</td>\n",
       "      <td>0.000000e+00</td>\n",
       "    </tr>\n",
       "    <tr>\n",
       "      <th>10223</th>\n",
       "      <td>2018</td>\n",
       "      <td>Nauru</td>\n",
       "      <td>7.166000e+03</td>\n",
       "      <td>0.000000e+00</td>\n",
       "    </tr>\n",
       "  </tbody>\n",
       "</table>\n",
       "<p>203 rows × 4 columns</p>\n",
       "</div>"
      ],
      "text/plain": [
       "       Year                 Area    Value_prod    Value_fert\n",
       "10298  2018                World  1.968544e+10  1.881600e+08\n",
       "10108  2018                 Asia  9.909928e+09  1.038452e+08\n",
       "10103  2018             Americas  5.430717e+09  5.094403e+07\n",
       "10157  2018         Eastern Asia  3.949023e+09  4.858599e+07\n",
       "10138  2018                China  3.805442e+09  4.698480e+07\n",
       "...     ...                  ...           ...           ...\n",
       "10105  2018  Antigua and Barbuda  2.752700e+04  1.290000e+01\n",
       "10215  2018           Micronesia  5.716590e+05  0.000000e+00\n",
       "10140  2018     China, Macao SAR  2.200000e+02  0.000000e+00\n",
       "10261  2018            Singapore  5.401200e+04  0.000000e+00\n",
       "10223  2018                Nauru  7.166000e+03  0.000000e+00\n",
       "\n",
       "[203 rows x 4 columns]"
      ]
     },
     "execution_count": 85,
     "metadata": {},
     "output_type": "execute_result"
    }
   ],
   "source": [
    "fert2018.sort_values(by=['Value_fert'],ascending=False)"
   ]
  },
  {
   "cell_type": "markdown",
   "metadata": {},
   "source": [
    "https://stackoverflow.com/questions/37787698/how-to-sort-pandas-dataframe-from-one-column\n",
    "\n",
    "https://pandas.pydata.org/pandas-docs/stable/reference/api/pandas.DataFrame.sort_values.html\n",
    "\n",
    "https://stackoverflow.com/questions/22649693/drop-rows-with-all-zeros-in-pandas-data-frame"
   ]
  },
  {
   "cell_type": "markdown",
   "metadata": {},
   "source": [
    "https://stackoverflow.com/questions/18172851/deleting-dataframe-row-in-pandas-based-on-column-value"
   ]
  },
  {
   "cell_type": "code",
   "execution_count": 86,
   "metadata": {},
   "outputs": [],
   "source": [
    "fert_prod[\"Razao fertilizante\"] = fert_prod[\"Value_prod\"]/fert_prod[\"Value_fert\"]\n",
    "fert_prod_2018 = fert_prod[fert_prod[\"Year\"]==2018]\n",
    "fert_prod_2018 = fert_prod_2018.loc[~(fert_prod_2018==0).any(axis=1)]"
   ]
  },
  {
   "cell_type": "code",
   "execution_count": 87,
   "metadata": {},
   "outputs": [
    {
     "data": {
      "text/html": [
       "<div>\n",
       "<style scoped>\n",
       "    .dataframe tbody tr th:only-of-type {\n",
       "        vertical-align: middle;\n",
       "    }\n",
       "\n",
       "    .dataframe tbody tr th {\n",
       "        vertical-align: top;\n",
       "    }\n",
       "\n",
       "    .dataframe thead th {\n",
       "        text-align: right;\n",
       "    }\n",
       "</style>\n",
       "<table border=\"1\" class=\"dataframe\">\n",
       "  <thead>\n",
       "    <tr style=\"text-align: right;\">\n",
       "      <th></th>\n",
       "      <th>Year</th>\n",
       "      <th>Area</th>\n",
       "      <th>Value_prod</th>\n",
       "      <th>Value_fert</th>\n",
       "      <th>Razao fertilizante</th>\n",
       "    </tr>\n",
       "  </thead>\n",
       "  <tbody>\n",
       "    <tr>\n",
       "      <th>10256</th>\n",
       "      <td>2018</td>\n",
       "      <td>Samoa</td>\n",
       "      <td>580897.0</td>\n",
       "      <td>36.45</td>\n",
       "      <td>15936.817558</td>\n",
       "    </tr>\n",
       "    <tr>\n",
       "      <th>10134</th>\n",
       "      <td>2018</td>\n",
       "      <td>Central African Republic</td>\n",
       "      <td>4899091.0</td>\n",
       "      <td>336.18</td>\n",
       "      <td>14572.821108</td>\n",
       "    </tr>\n",
       "    <tr>\n",
       "      <th>10152</th>\n",
       "      <td>2018</td>\n",
       "      <td>Democratic Republic of the Congo</td>\n",
       "      <td>115230427.0</td>\n",
       "      <td>14995.73</td>\n",
       "      <td>7684.215907</td>\n",
       "    </tr>\n",
       "    <tr>\n",
       "      <th>10144</th>\n",
       "      <td>2018</td>\n",
       "      <td>Congo</td>\n",
       "      <td>5792812.0</td>\n",
       "      <td>1292.68</td>\n",
       "      <td>4481.242071</td>\n",
       "    </tr>\n",
       "    <tr>\n",
       "      <th>10230</th>\n",
       "      <td>2018</td>\n",
       "      <td>Niger</td>\n",
       "      <td>27831255.0</td>\n",
       "      <td>6755.27</td>\n",
       "      <td>4119.932290</td>\n",
       "    </tr>\n",
       "    <tr>\n",
       "      <th>...</th>\n",
       "      <td>...</td>\n",
       "      <td>...</td>\n",
       "      <td>...</td>\n",
       "      <td>...</td>\n",
       "      <td>...</td>\n",
       "    </tr>\n",
       "    <tr>\n",
       "      <th>10236</th>\n",
       "      <td>2018</td>\n",
       "      <td>Norway</td>\n",
       "      <td>2585697.0</td>\n",
       "      <td>163710.00</td>\n",
       "      <td>15.794374</td>\n",
       "    </tr>\n",
       "    <tr>\n",
       "      <th>10228</th>\n",
       "      <td>2018</td>\n",
       "      <td>New Zealand</td>\n",
       "      <td>7911648.0</td>\n",
       "      <td>930589.44</td>\n",
       "      <td>8.501760</td>\n",
       "    </tr>\n",
       "    <tr>\n",
       "      <th>10139</th>\n",
       "      <td>2018</td>\n",
       "      <td>China, Hong Kong SAR</td>\n",
       "      <td>81934.0</td>\n",
       "      <td>10721.73</td>\n",
       "      <td>7.641864</td>\n",
       "    </tr>\n",
       "    <tr>\n",
       "      <th>10188</th>\n",
       "      <td>2018</td>\n",
       "      <td>Ireland</td>\n",
       "      <td>4672814.0</td>\n",
       "      <td>696745.10</td>\n",
       "      <td>6.706633</td>\n",
       "    </tr>\n",
       "    <tr>\n",
       "      <th>10183</th>\n",
       "      <td>2018</td>\n",
       "      <td>Iceland</td>\n",
       "      <td>28734.0</td>\n",
       "      <td>16490.00</td>\n",
       "      <td>1.742511</td>\n",
       "    </tr>\n",
       "  </tbody>\n",
       "</table>\n",
       "<p>199 rows × 5 columns</p>\n",
       "</div>"
      ],
      "text/plain": [
       "       Year                              Area   Value_prod  Value_fert  \\\n",
       "10256  2018                             Samoa     580897.0       36.45   \n",
       "10134  2018          Central African Republic    4899091.0      336.18   \n",
       "10152  2018  Democratic Republic of the Congo  115230427.0    14995.73   \n",
       "10144  2018                             Congo    5792812.0     1292.68   \n",
       "10230  2018                             Niger   27831255.0     6755.27   \n",
       "...     ...                               ...          ...         ...   \n",
       "10236  2018                            Norway    2585697.0   163710.00   \n",
       "10228  2018                       New Zealand    7911648.0   930589.44   \n",
       "10139  2018              China, Hong Kong SAR      81934.0    10721.73   \n",
       "10188  2018                           Ireland    4672814.0   696745.10   \n",
       "10183  2018                           Iceland      28734.0    16490.00   \n",
       "\n",
       "       Razao fertilizante  \n",
       "10256        15936.817558  \n",
       "10134        14572.821108  \n",
       "10152         7684.215907  \n",
       "10144         4481.242071  \n",
       "10230         4119.932290  \n",
       "...                   ...  \n",
       "10236           15.794374  \n",
       "10228            8.501760  \n",
       "10139            7.641864  \n",
       "10188            6.706633  \n",
       "10183            1.742511  \n",
       "\n",
       "[199 rows x 5 columns]"
      ]
     },
     "execution_count": 87,
     "metadata": {},
     "output_type": "execute_result"
    }
   ],
   "source": [
    "fert_prod_2018 = fert_prod_2018.sort_values(by=['Razao fertilizante'], ascending=False)\n",
    "fert_prod_2018"
   ]
  },
  {
   "cell_type": "code",
   "execution_count": 88,
   "metadata": {},
   "outputs": [
    {
     "data": {
      "text/html": [
       "<div>\n",
       "<style scoped>\n",
       "    .dataframe tbody tr th:only-of-type {\n",
       "        vertical-align: middle;\n",
       "    }\n",
       "\n",
       "    .dataframe tbody tr th {\n",
       "        vertical-align: top;\n",
       "    }\n",
       "\n",
       "    .dataframe thead th {\n",
       "        text-align: right;\n",
       "    }\n",
       "</style>\n",
       "<table border=\"1\" class=\"dataframe\">\n",
       "  <thead>\n",
       "    <tr style=\"text-align: right;\">\n",
       "      <th></th>\n",
       "      <th>Year</th>\n",
       "      <th>Area</th>\n",
       "      <th>Value_prod</th>\n",
       "      <th>Value_fert</th>\n",
       "      <th>Razao fertilizante</th>\n",
       "    </tr>\n",
       "  </thead>\n",
       "  <tbody>\n",
       "    <tr>\n",
       "      <th>10125</th>\n",
       "      <td>2018</td>\n",
       "      <td>Brazil</td>\n",
       "      <td>2.257702e+09</td>\n",
       "      <td>16988368.15</td>\n",
       "      <td>132.896957</td>\n",
       "    </tr>\n",
       "  </tbody>\n",
       "</table>\n",
       "</div>"
      ],
      "text/plain": [
       "       Year    Area    Value_prod   Value_fert  Razao fertilizante\n",
       "10125  2018  Brazil  2.257702e+09  16988368.15          132.896957"
      ]
     },
     "execution_count": 88,
     "metadata": {},
     "output_type": "execute_result"
    }
   ],
   "source": [
    "fert_prod_2018[fert_prod_2018[\"Area\"]==\"Brazil\"]"
   ]
  },
  {
   "cell_type": "code",
   "execution_count": 89,
   "metadata": {},
   "outputs": [],
   "source": [
    "fert_prod_2018.drop(fert_prod_2018.loc[fert_prod_2018['Value_prod']>3000000].index, inplace=True)\n",
    "fert_prod_2018.drop(fert_prod_2018.loc[fert_prod_2018['Value_fert']>100000].index, inplace=True)\n",
    "fert_prod_2018.drop(fert_prod_2018.loc[fert_prod_2018['Razao fertilizante']>1000].index, inplace=True)"
   ]
  },
  {
   "cell_type": "code",
   "execution_count": 90,
   "metadata": {},
   "outputs": [
    {
     "data": {
      "text/plain": [
       "<matplotlib.axes._subplots.AxesSubplot at 0x28ed873b988>"
      ]
     },
     "execution_count": 90,
     "metadata": {},
     "output_type": "execute_result"
    },
    {
     "data": {
      "image/png": "[encoded data removed]",
      "text/plain": [
       "<Figure size 432x288 with 1 Axes>"
      ]
     },
     "metadata": {
      "needs_background": "light"
     },
     "output_type": "display_data"
    }
   ],
   "source": [
    "fert_prod_2018.plot(kind='bar',x='Area',y='Razao fertilizante')"
   ]
  },
  {
   "cell_type": "markdown",
   "metadata": {},
   "source": [
    "### Defensivos agrícolas (ou Agrotóxicos)"
   ]
  },
  {
   "cell_type": "markdown",
   "metadata": {},
   "source": [
    "SAF -  "
   ]
  },
  {
   "cell_type": "code",
   "execution_count": 91,
   "metadata": {},
   "outputs": [
    {
     "data": {
      "text/html": [
       "<div>\n",
       "<style scoped>\n",
       "    .dataframe tbody tr th:only-of-type {\n",
       "        vertical-align: middle;\n",
       "    }\n",
       "\n",
       "    .dataframe tbody tr th {\n",
       "        vertical-align: top;\n",
       "    }\n",
       "\n",
       "    .dataframe thead th {\n",
       "        text-align: right;\n",
       "    }\n",
       "</style>\n",
       "<table border=\"1\" class=\"dataframe\">\n",
       "  <thead>\n",
       "    <tr style=\"text-align: right;\">\n",
       "      <th></th>\n",
       "      <th>Area Code</th>\n",
       "      <th>Area</th>\n",
       "      <th>Item Code</th>\n",
       "      <th>Item</th>\n",
       "      <th>Element Code</th>\n",
       "      <th>Element</th>\n",
       "      <th>Year Code</th>\n",
       "      <th>Year</th>\n",
       "      <th>Unit</th>\n",
       "      <th>Value</th>\n",
       "      <th>Flag</th>\n",
       "    </tr>\n",
       "  </thead>\n",
       "  <tbody>\n",
       "    <tr>\n",
       "      <th>0</th>\n",
       "      <td>3</td>\n",
       "      <td>Albania</td>\n",
       "      <td>1357</td>\n",
       "      <td>Pesticides (total)</td>\n",
       "      <td>5157</td>\n",
       "      <td>Agricultural Use</td>\n",
       "      <td>1990</td>\n",
       "      <td>1990</td>\n",
       "      <td>tonnes</td>\n",
       "      <td>121.0</td>\n",
       "      <td>A</td>\n",
       "    </tr>\n",
       "    <tr>\n",
       "      <th>1</th>\n",
       "      <td>3</td>\n",
       "      <td>Albania</td>\n",
       "      <td>1357</td>\n",
       "      <td>Pesticides (total)</td>\n",
       "      <td>5157</td>\n",
       "      <td>Agricultural Use</td>\n",
       "      <td>1991</td>\n",
       "      <td>1991</td>\n",
       "      <td>tonnes</td>\n",
       "      <td>121.0</td>\n",
       "      <td>A</td>\n",
       "    </tr>\n",
       "  </tbody>\n",
       "</table>\n",
       "</div>"
      ],
      "text/plain": [
       "   Area Code     Area  Item Code                Item  Element Code  \\\n",
       "0          3  Albania       1357  Pesticides (total)          5157   \n",
       "1          3  Albania       1357  Pesticides (total)          5157   \n",
       "\n",
       "            Element  Year Code  Year    Unit  Value Flag  \n",
       "0  Agricultural Use       1990  1990  tonnes  121.0    A  \n",
       "1  Agricultural Use       1991  1991  tonnes  121.0    A  "
      ]
     },
     "execution_count": 91,
     "metadata": {},
     "output_type": "execute_result"
    }
   ],
   "source": [
    "path = \"FAOSTAT\\Inputs_Pesticides_Use_E_All_Data_(Normalized)\\Inputs_Pesticides_Use_E_All_Data_(Normalized).csv\"\n",
    "\n",
    "import pandas as pd\n",
    "import numpy as np\n",
    "\n",
    "pest = pd.read_csv(path,sep=\",\",decimal=\".\",encoding=\"latin1\")\n",
    "pest.head(2)"
   ]
  },
  {
   "cell_type": "code",
   "execution_count": 92,
   "metadata": {},
   "outputs": [],
   "source": [
    "pest =  pest[pest[\"Item\"]==\"Pesticides (total)\"]\n",
    "pest = pest.groupby([\"Year\",\"Area\"])['Value'].sum().reset_index()"
   ]
  },
  {
   "cell_type": "code",
   "execution_count": 93,
   "metadata": {},
   "outputs": [],
   "source": [
    "pest = fert_prod.merge(pest, how='inner', left_on=['Year','Area'], right_on=['Year','Area'], copy=False, validate='one_to_one', suffixes=('_pest', ''))"
   ]
  },
  {
   "cell_type": "code",
   "execution_count": 94,
   "metadata": {},
   "outputs": [
    {
     "data": {
      "text/html": [
       "<div>\n",
       "<style scoped>\n",
       "    .dataframe tbody tr th:only-of-type {\n",
       "        vertical-align: middle;\n",
       "    }\n",
       "\n",
       "    .dataframe tbody tr th {\n",
       "        vertical-align: top;\n",
       "    }\n",
       "\n",
       "    .dataframe thead th {\n",
       "        text-align: right;\n",
       "    }\n",
       "</style>\n",
       "<table border=\"1\" class=\"dataframe\">\n",
       "  <thead>\n",
       "    <tr style=\"text-align: right;\">\n",
       "      <th></th>\n",
       "      <th>Year</th>\n",
       "      <th>Area</th>\n",
       "      <th>Value_prod</th>\n",
       "      <th>Value_fert</th>\n",
       "      <th>Value_pest</th>\n",
       "    </tr>\n",
       "  </thead>\n",
       "  <tbody>\n",
       "    <tr>\n",
       "      <th>0</th>\n",
       "      <td>1990</td>\n",
       "      <td>Africa</td>\n",
       "      <td>8.278182e+08</td>\n",
       "      <td>3.583782e+06</td>\n",
       "      <td>65943.0</td>\n",
       "    </tr>\n",
       "    <tr>\n",
       "      <th>1</th>\n",
       "      <td>1990</td>\n",
       "      <td>Albania</td>\n",
       "      <td>3.605949e+06</td>\n",
       "      <td>1.020000e+05</td>\n",
       "      <td>121.0</td>\n",
       "    </tr>\n",
       "    <tr>\n",
       "      <th>2</th>\n",
       "      <td>1990</td>\n",
       "      <td>Algeria</td>\n",
       "      <td>1.095282e+07</td>\n",
       "      <td>1.270000e+05</td>\n",
       "      <td>5743.0</td>\n",
       "    </tr>\n",
       "    <tr>\n",
       "      <th>3</th>\n",
       "      <td>1990</td>\n",
       "      <td>Americas</td>\n",
       "      <td>2.907087e+09</td>\n",
       "      <td>2.862977e+07</td>\n",
       "      <td>613237.0</td>\n",
       "    </tr>\n",
       "    <tr>\n",
       "      <th>4</th>\n",
       "      <td>1990</td>\n",
       "      <td>Angola</td>\n",
       "      <td>6.704679e+06</td>\n",
       "      <td>9.500000e+03</td>\n",
       "      <td>64.0</td>\n",
       "    </tr>\n",
       "    <tr>\n",
       "      <th>...</th>\n",
       "      <td>...</td>\n",
       "      <td>...</td>\n",
       "      <td>...</td>\n",
       "      <td>...</td>\n",
       "      <td>...</td>\n",
       "    </tr>\n",
       "    <tr>\n",
       "      <th>5229</th>\n",
       "      <td>2018</td>\n",
       "      <td>Western Europe</td>\n",
       "      <td>5.333478e+08</td>\n",
       "      <td>5.872587e+06</td>\n",
       "      <td>153486.0</td>\n",
       "    </tr>\n",
       "    <tr>\n",
       "      <th>5230</th>\n",
       "      <td>2018</td>\n",
       "      <td>World</td>\n",
       "      <td>1.968544e+10</td>\n",
       "      <td>1.881600e+08</td>\n",
       "      <td>4122334.0</td>\n",
       "    </tr>\n",
       "    <tr>\n",
       "      <th>5231</th>\n",
       "      <td>2018</td>\n",
       "      <td>Yemen</td>\n",
       "      <td>4.589397e+06</td>\n",
       "      <td>4.207080e+03</td>\n",
       "      <td>110.0</td>\n",
       "    </tr>\n",
       "    <tr>\n",
       "      <th>5232</th>\n",
       "      <td>2018</td>\n",
       "      <td>Zambia</td>\n",
       "      <td>2.621756e+07</td>\n",
       "      <td>1.995415e+05</td>\n",
       "      <td>1670.0</td>\n",
       "    </tr>\n",
       "    <tr>\n",
       "      <th>5233</th>\n",
       "      <td>2018</td>\n",
       "      <td>Zimbabwe</td>\n",
       "      <td>1.377238e+07</td>\n",
       "      <td>1.534000e+05</td>\n",
       "      <td>2185.0</td>\n",
       "    </tr>\n",
       "  </tbody>\n",
       "</table>\n",
       "<p>5234 rows × 5 columns</p>\n",
       "</div>"
      ],
      "text/plain": [
       "      Year            Area    Value_prod    Value_fert  Value_pest\n",
       "0     1990          Africa  8.278182e+08  3.583782e+06     65943.0\n",
       "1     1990         Albania  3.605949e+06  1.020000e+05       121.0\n",
       "2     1990         Algeria  1.095282e+07  1.270000e+05      5743.0\n",
       "3     1990        Americas  2.907087e+09  2.862977e+07    613237.0\n",
       "4     1990          Angola  6.704679e+06  9.500000e+03        64.0\n",
       "...    ...             ...           ...           ...         ...\n",
       "5229  2018  Western Europe  5.333478e+08  5.872587e+06    153486.0\n",
       "5230  2018           World  1.968544e+10  1.881600e+08   4122334.0\n",
       "5231  2018           Yemen  4.589397e+06  4.207080e+03       110.0\n",
       "5232  2018          Zambia  2.621756e+07  1.995415e+05      1670.0\n",
       "5233  2018        Zimbabwe  1.377238e+07  1.534000e+05      2185.0\n",
       "\n",
       "[5234 rows x 5 columns]"
      ]
     },
     "execution_count": 94,
     "metadata": {},
     "output_type": "execute_result"
    }
   ],
   "source": [
    "pest[\"Value_pest\"] = pest[\"Value\"]\n",
    "pest = pest.drop(columns=['Value', 'Razao fertilizante'])\n",
    "pest"
   ]
  },
  {
   "cell_type": "markdown",
   "metadata": {},
   "source": [
    "### Regressão Linear multipla\n",
    "https://scikit-learn.org/stable/modules/generated/sklearn.linear_model.LinearRegression.html"
   ]
  },
  {
   "cell_type": "code",
   "execution_count": 95,
   "metadata": {},
   "outputs": [],
   "source": [
    "X = np.array(pest.drop(columns=['Value_prod', 'Area', 'Year']))\n",
    "y = np.array(pest[\"Value_prod\"])"
   ]
  },
  {
   "cell_type": "code",
   "execution_count": 96,
   "metadata": {
    "scrolled": true
   },
   "outputs": [
    {
     "name": "stdout",
     "output_type": "stream",
     "text": [
      "0.9667259178281322\n",
      "[ 102.81941496 -578.5585427 ]\n",
      "18964835.761334002\n"
     ]
    }
   ],
   "source": [
    "import numpy as np\n",
    "from sklearn.linear_model import LinearRegression\n",
    "\n",
    "reg = LinearRegression().fit(X, y)\n",
    "print(reg.score(X, y))\n",
    "print(reg.coef_)\n",
    "print(reg.intercept_)"
   ]
  },
  {
   "cell_type": "code",
   "execution_count": 97,
   "metadata": {},
   "outputs": [],
   "source": [
    "y_pred = reg.predict(X)"
   ]
  },
  {
   "cell_type": "markdown",
   "metadata": {},
   "source": [
    "https://www.tutorialspoint.com/matplotlib/matplotlib_scatter_plot.htm#:~:text=Scatter%20plots%20are%20used%20to,the%20X%20and%20Y%20axes."
   ]
  },
  {
   "cell_type": "code",
   "execution_count": 98,
   "metadata": {},
   "outputs": [
    {
     "data": {
      "text/plain": [
       "<matplotlib.collections.PathCollection at 0x28eebc48cc8>"
      ]
     },
     "execution_count": 98,
     "metadata": {},
     "output_type": "execute_result"
    },
    {
     "data": {
      "image/png": "[encoded data removed]",
      "text/plain": [
       "<Figure size 432x288 with 1 Axes>"
      ]
     },
     "metadata": {
      "needs_background": "light"
     },
     "output_type": "display_data"
    }
   ],
   "source": [
    "plt.scatter(y,y_pred)"
   ]
  },
  {
   "cell_type": "markdown",
   "metadata": {},
   "source": [
    "### Poluição"
   ]
  },
  {
   "cell_type": "code",
   "execution_count": 99,
   "metadata": {},
   "outputs": [
    {
     "data": {
      "text/html": [
       "<div>\n",
       "<style scoped>\n",
       "    .dataframe tbody tr th:only-of-type {\n",
       "        vertical-align: middle;\n",
       "    }\n",
       "\n",
       "    .dataframe tbody tr th {\n",
       "        vertical-align: top;\n",
       "    }\n",
       "\n",
       "    .dataframe thead th {\n",
       "        text-align: right;\n",
       "    }\n",
       "</style>\n",
       "<table border=\"1\" class=\"dataframe\">\n",
       "  <thead>\n",
       "    <tr style=\"text-align: right;\">\n",
       "      <th></th>\n",
       "      <th>Area Code</th>\n",
       "      <th>Area</th>\n",
       "      <th>Item Code</th>\n",
       "      <th>Item</th>\n",
       "      <th>Element Code</th>\n",
       "      <th>Element</th>\n",
       "      <th>Year Code</th>\n",
       "      <th>Year</th>\n",
       "      <th>Unit</th>\n",
       "      <th>Value</th>\n",
       "      <th>Flag</th>\n",
       "      <th>Note</th>\n",
       "    </tr>\n",
       "  </thead>\n",
       "  <tbody>\n",
       "    <tr>\n",
       "      <th>0</th>\n",
       "      <td>2</td>\n",
       "      <td>Afghanistan</td>\n",
       "      <td>5058</td>\n",
       "      <td>Enteric Fermentation</td>\n",
       "      <td>7225</td>\n",
       "      <td>CH4 emissions</td>\n",
       "      <td>1961</td>\n",
       "      <td>1961</td>\n",
       "      <td>gigagrams</td>\n",
       "      <td>240.6831</td>\n",
       "      <td>A</td>\n",
       "      <td>NaN</td>\n",
       "    </tr>\n",
       "    <tr>\n",
       "      <th>1</th>\n",
       "      <td>2</td>\n",
       "      <td>Afghanistan</td>\n",
       "      <td>5058</td>\n",
       "      <td>Enteric Fermentation</td>\n",
       "      <td>7225</td>\n",
       "      <td>CH4 emissions</td>\n",
       "      <td>1962</td>\n",
       "      <td>1962</td>\n",
       "      <td>gigagrams</td>\n",
       "      <td>245.3106</td>\n",
       "      <td>A</td>\n",
       "      <td>NaN</td>\n",
       "    </tr>\n",
       "    <tr>\n",
       "      <th>2</th>\n",
       "      <td>2</td>\n",
       "      <td>Afghanistan</td>\n",
       "      <td>5058</td>\n",
       "      <td>Enteric Fermentation</td>\n",
       "      <td>7225</td>\n",
       "      <td>CH4 emissions</td>\n",
       "      <td>1963</td>\n",
       "      <td>1963</td>\n",
       "      <td>gigagrams</td>\n",
       "      <td>255.8285</td>\n",
       "      <td>A</td>\n",
       "      <td>NaN</td>\n",
       "    </tr>\n",
       "    <tr>\n",
       "      <th>3</th>\n",
       "      <td>2</td>\n",
       "      <td>Afghanistan</td>\n",
       "      <td>5058</td>\n",
       "      <td>Enteric Fermentation</td>\n",
       "      <td>7225</td>\n",
       "      <td>CH4 emissions</td>\n",
       "      <td>1964</td>\n",
       "      <td>1964</td>\n",
       "      <td>gigagrams</td>\n",
       "      <td>259.0650</td>\n",
       "      <td>A</td>\n",
       "      <td>NaN</td>\n",
       "    </tr>\n",
       "    <tr>\n",
       "      <th>4</th>\n",
       "      <td>2</td>\n",
       "      <td>Afghanistan</td>\n",
       "      <td>5058</td>\n",
       "      <td>Enteric Fermentation</td>\n",
       "      <td>7225</td>\n",
       "      <td>CH4 emissions</td>\n",
       "      <td>1965</td>\n",
       "      <td>1965</td>\n",
       "      <td>gigagrams</td>\n",
       "      <td>265.5980</td>\n",
       "      <td>A</td>\n",
       "      <td>NaN</td>\n",
       "    </tr>\n",
       "  </tbody>\n",
       "</table>\n",
       "</div>"
      ],
      "text/plain": [
       "   Area Code         Area  Item Code                  Item  Element Code  \\\n",
       "0          2  Afghanistan       5058  Enteric Fermentation          7225   \n",
       "1          2  Afghanistan       5058  Enteric Fermentation          7225   \n",
       "2          2  Afghanistan       5058  Enteric Fermentation          7225   \n",
       "3          2  Afghanistan       5058  Enteric Fermentation          7225   \n",
       "4          2  Afghanistan       5058  Enteric Fermentation          7225   \n",
       "\n",
       "         Element  Year Code  Year       Unit     Value Flag  Note  \n",
       "0  CH4 emissions       1961  1961  gigagrams  240.6831    A   NaN  \n",
       "1  CH4 emissions       1962  1962  gigagrams  245.3106    A   NaN  \n",
       "2  CH4 emissions       1963  1963  gigagrams  255.8285    A   NaN  \n",
       "3  CH4 emissions       1964  1964  gigagrams  259.0650    A   NaN  \n",
       "4  CH4 emissions       1965  1965  gigagrams  265.5980    A   NaN  "
      ]
     },
     "execution_count": 99,
     "metadata": {},
     "output_type": "execute_result"
    }
   ],
   "source": [
    "import pandas as pd\n",
    "\n",
    "path = \"FAOSTAT\\Emissions_Agriculture_Agriculture_total_E_All_Data_(Normalized)\\Emissions_Agriculture_Agriculture_total_E_All_Data_(Normalized).csv\"\n",
    "poluicao = pd.read_csv(path,sep=\",\",decimal=\".\",encoding=\"latin1\")\n",
    "poluicao.head(5)"
   ]
  },
  {
   "cell_type": "code",
   "execution_count": 100,
   "metadata": {},
   "outputs": [
    {
     "data": {
      "text/plain": [
       "array(['CH4 emissions', 'Emissions (CO2eq)', 'Emissions (CO2eq) from CH4',\n",
       "       'Emissions (CO2eq) from N2O', 'N2O emissions'], dtype=object)"
      ]
     },
     "execution_count": 100,
     "metadata": {},
     "output_type": "execute_result"
    }
   ],
   "source": [
    "poluicao[\"Element\"].unique()"
   ]
  },
  {
   "cell_type": "code",
   "execution_count": 101,
   "metadata": {},
   "outputs": [
    {
     "data": {
      "text/html": [
       "<div>\n",
       "<style scoped>\n",
       "    .dataframe tbody tr th:only-of-type {\n",
       "        vertical-align: middle;\n",
       "    }\n",
       "\n",
       "    .dataframe tbody tr th {\n",
       "        vertical-align: top;\n",
       "    }\n",
       "\n",
       "    .dataframe thead th {\n",
       "        text-align: right;\n",
       "    }\n",
       "</style>\n",
       "<table border=\"1\" class=\"dataframe\">\n",
       "  <thead>\n",
       "    <tr style=\"text-align: right;\">\n",
       "      <th></th>\n",
       "      <th>Year</th>\n",
       "      <th>Area</th>\n",
       "      <th>Value</th>\n",
       "    </tr>\n",
       "  </thead>\n",
       "  <tbody>\n",
       "    <tr>\n",
       "      <th>0</th>\n",
       "      <td>1961</td>\n",
       "      <td>Afghanistan</td>\n",
       "      <td>2.160918e+04</td>\n",
       "    </tr>\n",
       "    <tr>\n",
       "      <th>1</th>\n",
       "      <td>1961</td>\n",
       "      <td>Africa</td>\n",
       "      <td>5.618512e+05</td>\n",
       "    </tr>\n",
       "    <tr>\n",
       "      <th>2</th>\n",
       "      <td>1961</td>\n",
       "      <td>Albania</td>\n",
       "      <td>4.373061e+03</td>\n",
       "    </tr>\n",
       "    <tr>\n",
       "      <th>3</th>\n",
       "      <td>1961</td>\n",
       "      <td>Algeria</td>\n",
       "      <td>7.329383e+03</td>\n",
       "    </tr>\n",
       "    <tr>\n",
       "      <th>4</th>\n",
       "      <td>1961</td>\n",
       "      <td>American Samoa</td>\n",
       "      <td>8.961200e+00</td>\n",
       "    </tr>\n",
       "    <tr>\n",
       "      <th>...</th>\n",
       "      <td>...</td>\n",
       "      <td>...</td>\n",
       "      <td>...</td>\n",
       "    </tr>\n",
       "    <tr>\n",
       "      <th>14919</th>\n",
       "      <td>2050</td>\n",
       "      <td>Western Sahara</td>\n",
       "      <td>4.514346e+02</td>\n",
       "    </tr>\n",
       "    <tr>\n",
       "      <th>14920</th>\n",
       "      <td>2050</td>\n",
       "      <td>World</td>\n",
       "      <td>1.522628e+07</td>\n",
       "    </tr>\n",
       "    <tr>\n",
       "      <th>14921</th>\n",
       "      <td>2050</td>\n",
       "      <td>Yemen</td>\n",
       "      <td>2.766905e+04</td>\n",
       "    </tr>\n",
       "    <tr>\n",
       "      <th>14922</th>\n",
       "      <td>2050</td>\n",
       "      <td>Zambia</td>\n",
       "      <td>6.067334e+04</td>\n",
       "    </tr>\n",
       "    <tr>\n",
       "      <th>14923</th>\n",
       "      <td>2050</td>\n",
       "      <td>Zimbabwe</td>\n",
       "      <td>4.704368e+04</td>\n",
       "    </tr>\n",
       "  </tbody>\n",
       "</table>\n",
       "<p>14924 rows × 3 columns</p>\n",
       "</div>"
      ],
      "text/plain": [
       "       Year            Area         Value\n",
       "0      1961     Afghanistan  2.160918e+04\n",
       "1      1961          Africa  5.618512e+05\n",
       "2      1961         Albania  4.373061e+03\n",
       "3      1961         Algeria  7.329383e+03\n",
       "4      1961  American Samoa  8.961200e+00\n",
       "...     ...             ...           ...\n",
       "14919  2050  Western Sahara  4.514346e+02\n",
       "14920  2050           World  1.522628e+07\n",
       "14921  2050           Yemen  2.766905e+04\n",
       "14922  2050          Zambia  6.067334e+04\n",
       "14923  2050        Zimbabwe  4.704368e+04\n",
       "\n",
       "[14924 rows x 3 columns]"
      ]
     },
     "execution_count": 101,
     "metadata": {},
     "output_type": "execute_result"
    }
   ],
   "source": [
    "poluicao =  poluicao[poluicao[\"Element\"]==\"Emissions (CO2eq)\"]\n",
    "poluicao = poluicao.groupby([\"Year\",\"Area\"])['Value'].sum().reset_index()\n",
    "poluicao"
   ]
  },
  {
   "cell_type": "code",
   "execution_count": 102,
   "metadata": {},
   "outputs": [],
   "source": [
    "poluicao = pest.merge(poluicao, how='inner', left_on=['Year','Area'], right_on=['Year','Area'], copy=False, validate='one_to_one', suffixes=('_pest', ''))"
   ]
  },
  {
   "cell_type": "code",
   "execution_count": 103,
   "metadata": {},
   "outputs": [
    {
     "data": {
      "text/html": [
       "<div>\n",
       "<style scoped>\n",
       "    .dataframe tbody tr th:only-of-type {\n",
       "        vertical-align: middle;\n",
       "    }\n",
       "\n",
       "    .dataframe tbody tr th {\n",
       "        vertical-align: top;\n",
       "    }\n",
       "\n",
       "    .dataframe thead th {\n",
       "        text-align: right;\n",
       "    }\n",
       "</style>\n",
       "<table border=\"1\" class=\"dataframe\">\n",
       "  <thead>\n",
       "    <tr style=\"text-align: right;\">\n",
       "      <th></th>\n",
       "      <th>Year</th>\n",
       "      <th>Area</th>\n",
       "      <th>Value_prod</th>\n",
       "      <th>Value_fert</th>\n",
       "      <th>Value_pest</th>\n",
       "      <th>Value</th>\n",
       "      <th>poluicao_relativa</th>\n",
       "    </tr>\n",
       "  </thead>\n",
       "  <tbody>\n",
       "    <tr>\n",
       "      <th>0</th>\n",
       "      <td>1990</td>\n",
       "      <td>Africa</td>\n",
       "      <td>8.278182e+08</td>\n",
       "      <td>3.583782e+06</td>\n",
       "      <td>65943.0</td>\n",
       "      <td>1.321536e+06</td>\n",
       "      <td>1.596409</td>\n",
       "    </tr>\n",
       "    <tr>\n",
       "      <th>1</th>\n",
       "      <td>1990</td>\n",
       "      <td>Albania</td>\n",
       "      <td>3.605949e+06</td>\n",
       "      <td>1.020000e+05</td>\n",
       "      <td>121.0</td>\n",
       "      <td>7.743790e+03</td>\n",
       "      <td>2.147504</td>\n",
       "    </tr>\n",
       "    <tr>\n",
       "      <th>2</th>\n",
       "      <td>1990</td>\n",
       "      <td>Algeria</td>\n",
       "      <td>1.095282e+07</td>\n",
       "      <td>1.270000e+05</td>\n",
       "      <td>5743.0</td>\n",
       "      <td>1.818588e+04</td>\n",
       "      <td>1.660383</td>\n",
       "    </tr>\n",
       "    <tr>\n",
       "      <th>3</th>\n",
       "      <td>1990</td>\n",
       "      <td>Americas</td>\n",
       "      <td>2.907087e+09</td>\n",
       "      <td>2.862977e+07</td>\n",
       "      <td>613237.0</td>\n",
       "      <td>2.586611e+06</td>\n",
       "      <td>0.889760</td>\n",
       "    </tr>\n",
       "    <tr>\n",
       "      <th>4</th>\n",
       "      <td>1990</td>\n",
       "      <td>Angola</td>\n",
       "      <td>6.704679e+06</td>\n",
       "      <td>9.500000e+03</td>\n",
       "      <td>64.0</td>\n",
       "      <td>5.855033e+04</td>\n",
       "      <td>8.732757</td>\n",
       "    </tr>\n",
       "    <tr>\n",
       "      <th>...</th>\n",
       "      <td>...</td>\n",
       "      <td>...</td>\n",
       "      <td>...</td>\n",
       "      <td>...</td>\n",
       "      <td>...</td>\n",
       "      <td>...</td>\n",
       "      <td>...</td>\n",
       "    </tr>\n",
       "    <tr>\n",
       "      <th>5229</th>\n",
       "      <td>2018</td>\n",
       "      <td>Western Europe</td>\n",
       "      <td>5.333478e+08</td>\n",
       "      <td>5.872587e+06</td>\n",
       "      <td>153486.0</td>\n",
       "      <td>3.866043e+05</td>\n",
       "      <td>0.724863</td>\n",
       "    </tr>\n",
       "    <tr>\n",
       "      <th>5230</th>\n",
       "      <td>2018</td>\n",
       "      <td>World</td>\n",
       "      <td>1.968544e+10</td>\n",
       "      <td>1.881600e+08</td>\n",
       "      <td>4122334.0</td>\n",
       "      <td>1.281184e+07</td>\n",
       "      <td>0.650828</td>\n",
       "    </tr>\n",
       "    <tr>\n",
       "      <th>5231</th>\n",
       "      <td>2018</td>\n",
       "      <td>Yemen</td>\n",
       "      <td>4.589397e+06</td>\n",
       "      <td>4.207080e+03</td>\n",
       "      <td>110.0</td>\n",
       "      <td>1.850258e+04</td>\n",
       "      <td>4.031593</td>\n",
       "    </tr>\n",
       "    <tr>\n",
       "      <th>5232</th>\n",
       "      <td>2018</td>\n",
       "      <td>Zambia</td>\n",
       "      <td>2.621756e+07</td>\n",
       "      <td>1.995415e+05</td>\n",
       "      <td>1670.0</td>\n",
       "      <td>5.316037e+04</td>\n",
       "      <td>2.027662</td>\n",
       "    </tr>\n",
       "    <tr>\n",
       "      <th>5233</th>\n",
       "      <td>2018</td>\n",
       "      <td>Zimbabwe</td>\n",
       "      <td>1.377238e+07</td>\n",
       "      <td>1.534000e+05</td>\n",
       "      <td>2185.0</td>\n",
       "      <td>2.458160e+04</td>\n",
       "      <td>1.784848</td>\n",
       "    </tr>\n",
       "  </tbody>\n",
       "</table>\n",
       "<p>5234 rows × 7 columns</p>\n",
       "</div>"
      ],
      "text/plain": [
       "      Year            Area    Value_prod    Value_fert  Value_pest  \\\n",
       "0     1990          Africa  8.278182e+08  3.583782e+06     65943.0   \n",
       "1     1990         Albania  3.605949e+06  1.020000e+05       121.0   \n",
       "2     1990         Algeria  1.095282e+07  1.270000e+05      5743.0   \n",
       "3     1990        Americas  2.907087e+09  2.862977e+07    613237.0   \n",
       "4     1990          Angola  6.704679e+06  9.500000e+03        64.0   \n",
       "...    ...             ...           ...           ...         ...   \n",
       "5229  2018  Western Europe  5.333478e+08  5.872587e+06    153486.0   \n",
       "5230  2018           World  1.968544e+10  1.881600e+08   4122334.0   \n",
       "5231  2018           Yemen  4.589397e+06  4.207080e+03       110.0   \n",
       "5232  2018          Zambia  2.621756e+07  1.995415e+05      1670.0   \n",
       "5233  2018        Zimbabwe  1.377238e+07  1.534000e+05      2185.0   \n",
       "\n",
       "             Value  poluicao_relativa  \n",
       "0     1.321536e+06           1.596409  \n",
       "1     7.743790e+03           2.147504  \n",
       "2     1.818588e+04           1.660383  \n",
       "3     2.586611e+06           0.889760  \n",
       "4     5.855033e+04           8.732757  \n",
       "...            ...                ...  \n",
       "5229  3.866043e+05           0.724863  \n",
       "5230  1.281184e+07           0.650828  \n",
       "5231  1.850258e+04           4.031593  \n",
       "5232  5.316037e+04           2.027662  \n",
       "5233  2.458160e+04           1.784848  \n",
       "\n",
       "[5234 rows x 7 columns]"
      ]
     },
     "execution_count": 103,
     "metadata": {},
     "output_type": "execute_result"
    }
   ],
   "source": [
    "poluicao[\"poluicao_relativa\"] = poluicao[\"Value\"]/poluicao[\"Value_prod\"]*1000\n",
    "poluicao"
   ]
  },
  {
   "cell_type": "code",
   "execution_count": 104,
   "metadata": {},
   "outputs": [
    {
     "name": "stdout",
     "output_type": "stream",
     "text": [
      "Requirement already satisfied: pivottablejs in c:\\programdata\\anaconda3\\lib\\site-packages (0.9.0)\n"
     ]
    }
   ],
   "source": [
    "!pip install pivottablejs"
   ]
  },
  {
   "cell_type": "code",
   "execution_count": 106,
   "metadata": {
    "scrolled": true
   },
   "outputs": [
    {
     "data": {
      "text/html": [
       "\n",
       "        <iframe\n",
       "            width=\"100%\"\n",
       "            height=\"500\"\n",
       "            src=\"pivottablejs.html\"\n",
       "            frameborder=\"0\"\n",
       "            allowfullscreen\n",
       "        ></iframe>\n",
       "        "
      ],
      "text/plain": [
       "<IPython.lib.display.IFrame at 0x28ed8c8b108>"
      ]
     },
     "execution_count": 106,
     "metadata": {},
     "output_type": "execute_result"
    }
   ],
   "source": [
    "import pandas as pd\n",
    "\n",
    "from pivottablejs import pivot_ui\n",
    "\n",
    "pivot_ui(poluicao)"
   ]
  }
 ],
 "metadata": {
  "kernelspec": {
   "display_name": "Python 3",
   "language": "python",
   "name": "python3"
  },
  "language_info": {
   "codemirror_mode": {
    "name": "ipython",
    "version": 3
   },
   "file_extension": ".py",
   "mimetype": "text/x-python",
   "name": "python",
   "nbconvert_exporter": "python",
   "pygments_lexer": "ipython3",
   "version": "3.7.4"
  }
 },
 "nbformat": 4,
 "nbformat_minor": 2
}

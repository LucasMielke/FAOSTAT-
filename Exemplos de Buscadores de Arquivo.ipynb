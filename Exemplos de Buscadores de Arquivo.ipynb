{
 "cells": [
  {
   "cell_type": "markdown",
   "metadata": {},
   "source": [
    "# Buscador de dados"
   ]
  },
  {
   "cell_type": "markdown",
   "metadata": {},
   "source": [
    "https://stackoverflow.com/questions/3964681/find-all-files-in-a-directory-with-extension-txt-in-python\n",
    "\n",
    "https://stackoverflow.com/questions/2225564/get-a-filtered-list-of-files-in-a-directory"
   ]
  },
  {
   "cell_type": "code",
   "execution_count": 1,
   "metadata": {},
   "outputs": [],
   "source": [
    "import os\n",
    "import pandas as pd\n",
    "import fnmatch\n",
    "import shutil"
   ]
  },
  {
   "cell_type": "markdown",
   "metadata": {},
   "source": [
    "https://docs.python.org/3/tutorial/errors.html"
   ]
  },
  {
   "cell_type": "code",
   "execution_count": 2,
   "metadata": {},
   "outputs": [],
   "source": [
    "path = \"FAOSTAT\\ASTI_Expenditures_E_All_Data_(Normalized)\\ASTI_Expenditures_E_All_Data_(Normalized).csv\""
   ]
  },
  {
   "cell_type": "code",
   "execution_count": 3,
   "metadata": {},
   "outputs": [],
   "source": [
    "def filtro_rapido(path,a=\"Brazil\",b=1960,c=2020):\n",
    "    try:\n",
    "        df = pd.read_csv(path,sep=\",\",decimal=\".\",encoding=\"latin1\")\n",
    "        df = df[df[\"Area\"]==a]\n",
    "        df = df[df[\"Year\"]>=b]\n",
    "        df = df[df[\"Year\"]<=c]\n",
    "        df[\"nome_arquivo\"] = path\n",
    "        return df\n",
    "    except:\n",
    "        df = pd.DataFrame()"
   ]
  },
  {
   "cell_type": "code",
   "execution_count": 9,
   "metadata": {},
   "outputs": [
    {
     "data": {
      "text/html": [
       "<div>\n",
       "<style scoped>\n",
       "    .dataframe tbody tr th:only-of-type {\n",
       "        vertical-align: middle;\n",
       "    }\n",
       "\n",
       "    .dataframe tbody tr th {\n",
       "        vertical-align: top;\n",
       "    }\n",
       "\n",
       "    .dataframe thead th {\n",
       "        text-align: right;\n",
       "    }\n",
       "</style>\n",
       "<table border=\"1\" class=\"dataframe\">\n",
       "  <thead>\n",
       "    <tr style=\"text-align: right;\">\n",
       "      <th></th>\n",
       "      <th>Area Code</th>\n",
       "      <th>Area</th>\n",
       "      <th>Item Code</th>\n",
       "      <th>Item</th>\n",
       "      <th>Element Code</th>\n",
       "      <th>Element</th>\n",
       "      <th>Year Code</th>\n",
       "      <th>Year</th>\n",
       "      <th>Unit</th>\n",
       "      <th>Value</th>\n",
       "      <th>Flag</th>\n",
       "      <th>Note</th>\n",
       "      <th>nome_arquivo</th>\n",
       "    </tr>\n",
       "  </thead>\n",
       "  <tbody>\n",
       "    <tr>\n",
       "      <th>323</th>\n",
       "      <td>21</td>\n",
       "      <td>Brazil</td>\n",
       "      <td>23045</td>\n",
       "      <td>Agriculture research spending</td>\n",
       "      <td>6083</td>\n",
       "      <td>Share of Value Added (Agriculture, Forestry an...</td>\n",
       "      <td>2010</td>\n",
       "      <td>2010</td>\n",
       "      <td>%</td>\n",
       "      <td>2.1</td>\n",
       "      <td>X</td>\n",
       "      <td>ASTI (Agricultural Science and Technology Indi...</td>\n",
       "      <td>FAOSTAT\\ASTI_Expenditures_E_All_Data_(Normaliz...</td>\n",
       "    </tr>\n",
       "    <tr>\n",
       "      <th>356</th>\n",
       "      <td>21</td>\n",
       "      <td>Brazil</td>\n",
       "      <td>23045</td>\n",
       "      <td>Agriculture research spending</td>\n",
       "      <td>6084</td>\n",
       "      <td>Spending, total</td>\n",
       "      <td>2010</td>\n",
       "      <td>2010</td>\n",
       "      <td>million PPP (constant 2011 prices)</td>\n",
       "      <td>2478.2</td>\n",
       "      <td>X</td>\n",
       "      <td>ASTI (Agricultural Science and Technology Indi...</td>\n",
       "      <td>FAOSTAT\\ASTI_Expenditures_E_All_Data_(Normaliz...</td>\n",
       "    </tr>\n",
       "  </tbody>\n",
       "</table>\n",
       "</div>"
      ],
      "text/plain": [
       "     Area Code    Area  Item Code                           Item  \\\n",
       "323         21  Brazil      23045  Agriculture research spending   \n",
       "356         21  Brazil      23045  Agriculture research spending   \n",
       "\n",
       "     Element Code                                            Element  \\\n",
       "323          6083  Share of Value Added (Agriculture, Forestry an...   \n",
       "356          6084                                    Spending, total   \n",
       "\n",
       "     Year Code  Year                                Unit   Value Flag  \\\n",
       "323       2010  2010                                   %     2.1    X   \n",
       "356       2010  2010  million PPP (constant 2011 prices)  2478.2    X   \n",
       "\n",
       "                                                  Note  \\\n",
       "323  ASTI (Agricultural Science and Technology Indi...   \n",
       "356  ASTI (Agricultural Science and Technology Indi...   \n",
       "\n",
       "                                          nome_arquivo  \n",
       "323  FAOSTAT\\ASTI_Expenditures_E_All_Data_(Normaliz...  \n",
       "356  FAOSTAT\\ASTI_Expenditures_E_All_Data_(Normaliz...  "
      ]
     },
     "execution_count": 9,
     "metadata": {},
     "output_type": "execute_result"
    }
   ],
   "source": [
    "filtro_rapido(path,a=\"Brazil\", b=2010,c=2010)"
   ]
  },
  {
   "cell_type": "markdown",
   "metadata": {},
   "source": [
    "https://stackoverflow.com/questions/4940032/how-to-search-for-a-string-in-text-files"
   ]
  },
  {
   "cell_type": "code",
   "execution_count": 61,
   "metadata": {},
   "outputs": [],
   "source": [
    "#opção 2 - https://stackoverflow.com/questions/4940032/how-to-search-for-a-string-in-text-files\n",
    "def procurar(a,b):\n",
    "    if open(a, 'r').read().find(b) != -1:\n",
    "        #return a\n",
    "        print(a)"
   ]
  },
  {
   "cell_type": "markdown",
   "metadata": {},
   "source": [
    "### Fazer lista de pastas"
   ]
  },
  {
   "cell_type": "code",
   "execution_count": 53,
   "metadata": {},
   "outputs": [],
   "source": [
    "rootdir = os.getcwd()\n",
    "pathlist = []\n",
    "for subdir, dirs, files in os.walk(r\"FAOSTAT\"):\n",
    "    filepath = subdir + os.sep\n",
    "    pathlist.append(filepath)"
   ]
  },
  {
   "cell_type": "markdown",
   "metadata": {},
   "source": [
    "https://pandas.pydata.org/pandas-docs/version/0.23.4/generated/pandas.DataFrame.append.html"
   ]
  },
  {
   "cell_type": "markdown",
   "metadata": {},
   "source": [
    "#### Loop para montar relatório final"
   ]
  },
  {
   "cell_type": "code",
   "execution_count": 8,
   "metadata": {},
   "outputs": [
    {
     "name": "stdout",
     "output_type": "stream",
     "text": [
      "Lendo : FAOSTAT\\ASTI_Expenditures_E_All_Data_(Normalized)\\ASTI_Expenditures_E_All_Data_(Normalized).csv\n",
      "(2, 13) \n",
      "\n",
      "Lendo : FAOSTAT\\ASTI_Researchers_E_All_Data_(Normalized)\\ASTI_Researchers_E_All_Data_(Normalized).csv\n",
      "(4, 13) \n",
      "\n",
      "Lendo : FAOSTAT\\CommodityBalances_Crops_E_All_Data_(Normalized)\\CommodityBalances_Crops_E_All_Data_(Normalized).csv\n",
      "(747, 13) \n",
      "\n",
      "Lendo : FAOSTAT\\CommodityBalances_LivestockFish_E_All_Data_(Normalized)\\CommodityBalances_LivestockFish_E_All_Data_(Normalized).csv\n",
      "(1005, 13) \n",
      "\n",
      "Lendo : FAOSTAT\\ConsumerPriceIndices_E_All_Data_(Normalized)\\ConsumerPriceIndices_E_All_Data_(Normalized).csv\n",
      "(1041, 15) \n",
      "\n",
      "Lendo : FAOSTAT\\Deflators_E_All_Data_(Normalized)\\Deflators_E_All_Data_(Normalized).csv\n",
      "(1049, 15) \n",
      "\n",
      "Lendo : FAOSTAT\\Development_Assistance_to_Agriculture_E_All_Data_(Normalized)\\Development_Assistance_to_Agriculture_E_All_Data_(Normalized).csv\n"
     ]
    },
    {
     "name": "stderr",
     "output_type": "stream",
     "text": [
      "C:\\ProgramData\\Anaconda3\\lib\\site-packages\\IPython\\core\\interactiveshell.py:3249: DtypeWarning: Columns (15) have mixed types.Specify dtype option on import or set low_memory=False.\n",
      "  if (await self.run_code(code, result,  async_=asy)):\n"
     ]
    },
    {
     "name": "stdout",
     "output_type": "stream",
     "text": [
      "(1049, 15) \n",
      "\n",
      "Lendo : FAOSTAT\\Emissions_Agriculture_Agriculture_total_E_All_Data_(Normalized)\\Emissions_Agriculture_Agriculture_total_E_All_Data_(Normalized).csv\n",
      "(1092, 15) \n",
      "\n",
      "Lendo : FAOSTAT\\Emissions_Agriculture_Burning_crop_residues_E_All_Data_(Normalized)\\Emissions_Agriculture_Burning_crop_residues_E_All_Data_(Normalized).csv\n",
      "(1130, 17) \n",
      "\n",
      "Lendo : FAOSTAT\\Emissions_Agriculture_Burning_Savanna_E_All_Data_(Normalized)\\Emissions_Agriculture_Burning_Savanna_E_All_Data_(Normalized).csv\n",
      "(1196, 17) \n",
      "\n",
      "Lendo : FAOSTAT\\Emissions_Agriculture_Crop_Residues_E_All_Data_(Normalized)\\Emissions_Agriculture_Crop_Residues_E_All_Data_(Normalized).csv\n",
      "(1283, 17) \n",
      "\n",
      "Lendo : FAOSTAT\\Emissions_Agriculture_Cultivated_Organic_Soils_E_All_Data_(Normalized)\\Emissions_Agriculture_Cultivated_Organic_Soils_E_All_Data_(Normalized).csv\n",
      "(1300, 17) \n",
      "\n",
      "Lendo : FAOSTAT\\Emissions_Agriculture_Energy_E_All_Data_(Normalized)\\Emissions_Agriculture_Energy_E_All_Data_(Normalized).csv\n",
      "(1376, 17) \n",
      "\n",
      "Lendo : FAOSTAT\\Emissions_Agriculture_Enteric_Fermentation_E_All_Data_(Normalized)\\Emissions_Agriculture_Enteric_Fermentation_E_All_Data_(Normalized).csv\n",
      "(1430, 17) \n",
      "\n",
      "Lendo : FAOSTAT\\Emissions_Agriculture_Manure_applied_to_soils_E_All_Data_(Normalized)\\Emissions_Agriculture_Manure_applied_to_soils_E_All_Data_(Normalized).csv\n",
      "(1694, 17) \n",
      "\n",
      "Lendo : FAOSTAT\\Emissions_Agriculture_Manure_left_on_pasture_E_All_Data_(Normalized)\\Emissions_Agriculture_Manure_left_on_pasture_E_All_Data_(Normalized).csv\n",
      "(1957, 17) \n",
      "\n",
      "Lendo : FAOSTAT\\Emissions_Agriculture_Manure_Management_E_All_Data_(Normalized)\\Emissions_Agriculture_Manure_Management_E_All_Data_(Normalized).csv\n",
      "(2214, 17) \n",
      "\n",
      "Lendo : FAOSTAT\\Emissions_Agriculture_Rice_Cultivation_E_All_Data_(Normalized)\\Emissions_Agriculture_Rice_Cultivation_E_All_Data_(Normalized).csv\n",
      "(2218, 17) \n",
      "\n",
      "Lendo : FAOSTAT\\Emissions_Agriculture_Synthetic_Fertilizers_E_All_Data_(Normalized)\\Emissions_Agriculture_Synthetic_Fertilizers_E_All_Data_(Normalized).csv\n",
      "(2230, 17) \n",
      "\n",
      "Lendo : FAOSTAT\\Emissions_Land_Use_Burning_Biomass_E_All_Data_(Normalized)\\Emissions_Land_Use_Burning_Biomass_E_All_Data_(Normalized).csv\n",
      "(2263, 17) \n",
      "\n",
      "Lendo : FAOSTAT\\Emissions_Land_Use_Cropland_E_All_Data_(Normalized)\\Emissions_Land_Use_Cropland_E_All_Data_(Normalized).csv\n",
      "(2268, 17) \n",
      "\n",
      "Lendo : FAOSTAT\\Emissions_Land_Use_Forest_Land_E_All_Data_(Normalized)\\Emissions_Land_Use_Forest_Land_E_All_Data_(Normalized).csv\n",
      "(2278, 17) \n",
      "\n",
      "Lendo : FAOSTAT\\Emissions_Land_Use_Grassland_E_All_Data_(Normalized)\\Emissions_Land_Use_Grassland_E_All_Data_(Normalized).csv\n",
      "(2283, 17) \n",
      "\n",
      "Lendo : FAOSTAT\\Emissions_Land_Use_Land_Use_Total_E_All_Data_(Normalized)\\Emissions_Land_Use_Land_Use_Total_E_All_Data_(Normalized).csv\n",
      "(2296, 17) \n",
      "\n",
      "Lendo : FAOSTAT\\Employment_Indicators_E_All_Data_(Normalized)\\Employment_Indicators_E_All_Data_(Normalized).csv\n",
      "(2296, 19) \n",
      "\n",
      "Lendo : FAOSTAT\\Environment_Emissions_by_Sector_E_All_Data_(Normalized)\\Environment_Emissions_by_Sector_E_All_Data_(Normalized).csv\n",
      "(2418, 19) \n",
      "\n",
      "Lendo : FAOSTAT\\Environment_Emissions_intensities_E_All_Data_(Normalized)\\Environment_Emissions_intensities_E_All_Data_(Normalized).csv\n",
      "(2448, 19) \n",
      "\n",
      "Lendo : FAOSTAT\\Environment_Energy_E_All_Data_(Normalized)\\Environment_Energy_E_All_Data_(Normalized).csv\n",
      "(2448, 19) \n",
      "\n",
      "Lendo : FAOSTAT\\Environment_Fertilizers_E_All_Data_(Normalized)\\Environment_Fertilizers_E_All_Data_(Normalized).csv\n",
      "(2451, 19) \n",
      "\n",
      "Lendo : FAOSTAT\\Environment_LandCover_E_All_Data_(Normalized)\\Environment_LandCover_E_All_Data_(Normalized).csv\n",
      "(2479, 19) \n",
      "\n",
      "Lendo : FAOSTAT\\Environment_LandUse_E_All_Data_(Normalized)\\Environment_LandUse_E_All_Data_(Normalized).csv\n",
      "(2492, 19) \n",
      "\n",
      "Lendo : FAOSTAT\\Environment_LivestockManure_E_All_Data_(Normalized)\\Environment_LivestockManure_E_All_Data_(Normalized).csv\n",
      "(2701, 19) \n",
      "\n",
      "Lendo : FAOSTAT\\Environment_LivestockPatterns_E_All_Data_(Normalized)\\Environment_LivestockPatterns_E_All_Data_(Normalized).csv\n",
      "(2737, 19) \n",
      "\n",
      "Lendo : FAOSTAT\\Environment_Pesticides_E_All_Data_(Normalized)\\Environment_Pesticides_E_All_Data_(Normalized).csv\n",
      "(2738, 19) \n",
      "\n",
      "Lendo : FAOSTAT\\Environment_Temperature_change_E_All_Data_(Normalized)\\Environment_Temperature_change_E_All_Data_(Normalized).csv\n",
      "(2772, 19) \n",
      "\n",
      "Lendo : FAOSTAT\\Exchange_rate_E_All_Data_(Normalized)\\Exchange_rate_E_All_Data_(Normalized).csv\n",
      "(2773, 21) \n",
      "\n",
      "Lendo : FAOSTAT\\FoodBalanceSheetsHistoric_E_All_Data_(Normalized)\\FoodBalanceSheetsHistoric_E_All_Data_(Normalized).csv\n",
      "(3985, 21) \n",
      "\n",
      "Lendo : FAOSTAT\\FoodBalanceSheets_E_All_Data_(Normalized)\\FoodBalanceSheets_E_All_Data_(Normalized).csv\n",
      "(3985, 21) \n",
      "\n",
      "Lendo : FAOSTAT\\FoodSupply_Crops_E_All_Data_(Normalized)\\FoodSupply_Crops_E_All_Data_(Normalized).csv\n",
      "(4458, 21) \n",
      "\n",
      "Lendo : FAOSTAT\\FoodSupply_LivestockFish_E_All_Data_(Normalized)\\FoodSupply_LivestockFish_E_All_Data_(Normalized).csv\n",
      "(4655, 21) \n",
      "\n",
      "Lendo : FAOSTAT\\Food_Aid_Shipments_WFP_E_All_Data_(Normalized)\\Food_Aid_Shipments_WFP_E_All_Data_(Normalized).csv\n",
      "(4655, 21) \n",
      "\n",
      "Lendo : FAOSTAT\\Food_Security_Data_E_All_Data_(Normalized)\\Food_Security_Data_E_All_Data_(Normalized).csv\n",
      "(4655, 21) \n",
      "\n",
      "Lendo : FAOSTAT\\Forestry_E_All_Data_(Normalized)\\Forestry_E_All_Data_(Normalized).csv\n",
      "(4943, 21) \n",
      "\n",
      "Lendo : FAOSTAT\\Forestry_Trade_Flows_E_All_Data_(Normalized)\\Forestry_Trade_Flows_E_All_Data_(Normalized).csv\n",
      "(4943, 21) \n",
      "\n",
      "Lendo : FAOSTAT\\Indicators_from_Household_Surveys_E_All_Data_(Normalized)\\Indicators_from_Household_Surveys_E_All_Data_(Normalized).csv\n",
      "(4943, 21) \n",
      "\n",
      "Lendo : FAOSTAT\\Inputs_FertilizersArchive_E_All_Data_(Normalized)\\Inputs_FertilizersArchive_E_All_Data_(Normalized).csv\n",
      "(4943, 21) \n",
      "\n",
      "Lendo : FAOSTAT\\Inputs_FertilizersNutrient_E_All_Data_(Normalized)\\Inputs_FertilizersNutrient_E_All_Data_(Normalized).csv\n",
      "(4955, 21) \n",
      "\n",
      "Lendo : FAOSTAT\\Inputs_FertilizersProduct_E_All_Data_(Normalized)\\Inputs_FertilizersProduct_E_All_Data_(Normalized).csv\n",
      "(5058, 21) \n",
      "\n",
      "Lendo : FAOSTAT\\Inputs_LandUse_E_All_Data_(Normalized)\\Inputs_LandUse_E_All_Data_(Normalized).csv\n",
      "(5078, 21) \n",
      "\n",
      "Lendo : FAOSTAT\\Inputs_Pesticides_Trade_E_All_Data_(Normalized)\\Inputs_Pesticides_Trade_E_All_Data_(Normalized).csv\n",
      "(5137, 21) \n",
      "\n",
      "Lendo : FAOSTAT\\Inputs_Pesticides_Use_E_All_Data_(Normalized)\\Inputs_Pesticides_Use_E_All_Data_(Normalized).csv\n",
      "(5144, 21) \n",
      "\n",
      "Lendo : FAOSTAT\\Investment_CapitalStock_E_All_Data_(Normalized)\\Investment_CapitalStock_E_All_Data_(Normalized).csv\n",
      "(5168, 21) \n",
      "\n",
      "Lendo : FAOSTAT\\Investment_CountryInvestmentStatisticsProfile_E_All_Data_(Normalized)\\Investment_CountryInvestmentStatisticsProfile_E_All_Data_(Normalized).csv\n",
      "(5194, 21) \n",
      "\n",
      "Lendo : FAOSTAT\\Investment_CreditAgriculture_E_All_Data_(Normalized)\\Investment_CreditAgriculture_E_All_Data_(Normalized).csv\n",
      "(5198, 21) \n",
      "\n",
      "Lendo : FAOSTAT\\Investment_ForeignDirectInvestment_E_All_Data_(Normalized)\\Investment_ForeignDirectInvestment_E_All_Data_(Normalized).csv\n",
      "(5211, 21) \n",
      "\n",
      "Lendo : FAOSTAT\\Investment_GovernmentExpenditure_E_All_Data_(Normalized)\\Investment_GovernmentExpenditure_E_All_Data_(Normalized).csv\n",
      "(5298, 21) \n",
      "\n",
      "Lendo : FAOSTAT\\Investment_MachineryArchive_E_All_Data_(Normalized)\\Investment_MachineryArchive_E_All_Data_(Normalized).csv\n"
     ]
    },
    {
     "name": "stderr",
     "output_type": "stream",
     "text": [
      "C:\\ProgramData\\Anaconda3\\lib\\site-packages\\IPython\\core\\interactiveshell.py:3249: DtypeWarning: Columns (11) have mixed types.Specify dtype option on import or set low_memory=False.\n",
      "  if (await self.run_code(code, result,  async_=asy)):\n"
     ]
    },
    {
     "name": "stdout",
     "output_type": "stream",
     "text": [
      "(5298, 21) \n",
      "\n",
      "Lendo : FAOSTAT\\Investment_Machinery_E_All_Data_(Normalized)\\Investment_Machinery_E_All_Data_(Normalized).csv\n",
      "(5298, 21) \n",
      "\n",
      "Lendo : FAOSTAT\\Macro-Statistics_Key_Indicators_E_All_Data_(Normalized)\\Macro-Statistics_Key_Indicators_E_All_Data_(Normalized).csv\n"
     ]
    },
    {
     "name": "stderr",
     "output_type": "stream",
     "text": [
      "C:\\ProgramData\\Anaconda3\\lib\\site-packages\\IPython\\core\\interactiveshell.py:3249: DtypeWarning: Columns (11) have mixed types.Specify dtype option on import or set low_memory=False.\n",
      "  if (await self.run_code(code, result,  async_=asy)):\n"
     ]
    },
    {
     "name": "stdout",
     "output_type": "stream",
     "text": [
      "(5411, 21) \n",
      "\n",
      "Lendo : FAOSTAT\\Population_E_All_Data_(Normalized)\\Population_E_All_Data_(Normalized).csv\n",
      "(5416, 21) \n",
      "\n",
      "Lendo : FAOSTAT\\PricesArchive_E_All_Data_(Normalized)\\PricesArchive_E_All_Data_(Normalized).csv\n",
      "(5416, 21) \n",
      "\n",
      "Lendo : FAOSTAT\\Prices_E_All_Data_(Normalized)\\Prices_E_All_Data_(Normalized).csv\n",
      "(5601, 21) \n",
      "\n",
      "Lendo : FAOSTAT\\Production_CropsProcessed_E_All_Data_(Normalized)\\Production_CropsProcessed_E_All_Data_(Normalized).csv\n",
      "(5619, 21) \n",
      "\n",
      "Lendo : FAOSTAT\\Production_Crops_E_All_Data_(Normalized)\\Production_Crops_E_All_Data_(Normalized).csv\n",
      "(5870, 21) \n",
      "\n",
      "Lendo : FAOSTAT\\Production_Indices_E_All_Data_(Normalized)\\Production_Indices_E_All_Data_(Normalized).csv\n",
      "(5894, 21) \n",
      "\n",
      "Lendo : FAOSTAT\\Production_LivestockPrimary_E_All_Data_(Normalized)\\Production_LivestockPrimary_E_All_Data_(Normalized).csv\n",
      "(5986, 21) \n",
      "\n",
      "Lendo : FAOSTAT\\Production_LivestockProcessed_E_All_Data_(Normalized)\\Production_LivestockProcessed_E_All_Data_(Normalized).csv\n",
      "(6000, 21) \n",
      "\n",
      "Lendo : FAOSTAT\\Production_Livestock_E_All_Data_(Normalized)\\Production_Livestock_E_All_Data_(Normalized).csv\n",
      "(6016, 21) \n",
      "\n",
      "Lendo : FAOSTAT\\SUA_CropsProcessed_E_All_Data_(Normalized)\\SUA_CropsProcessed_E_All_Data_(Normalized).csv\n",
      "(6016, 21) \n",
      "\n",
      "Lendo : FAOSTAT\\SUA_Crops_E_All_Data_(Normalized)\\SUA_Crops_E_All_Data_(Normalized).csv\n",
      "(6016, 21) \n",
      "\n",
      "Lendo : FAOSTAT\\SUA_LivestockPrimary_E_All_Data_(Normalized)\\SUA_LivestockPrimary_E_All_Data_(Normalized).csv\n",
      "(6016, 21) \n",
      "\n",
      "Lendo : FAOSTAT\\SUA_LivestockProcessed_E_All_Data_(Normalized)\\SUA_LivestockProcessed_E_All_Data_(Normalized).csv\n",
      "(6016, 21) \n",
      "\n",
      "Lendo : FAOSTAT\\Trade_Crops_Livestock_E_All_Data_(Normalized)\\Trade_Crops_Livestock_E_All_Data_(Normalized).csv\n",
      "(7480, 21) \n",
      "\n",
      "Lendo : FAOSTAT\\Trade_DetailedTradeMatrix_E_All_Data_(Normalized)\\Trade_DetailedTradeMatrix_E_All_Data_(Normalized).csv\n",
      "(7480, 21) \n",
      "\n",
      "Lendo : FAOSTAT\\Trade_Indices_E_All_Data_(Normalized)\\Trade_Indices_E_All_Data_(Normalized).csv\n",
      "(8329, 21) \n",
      "\n",
      "Lendo : FAOSTAT\\Trade_LiveAnimals_E_All_Data_(Normalized)\\Trade_LiveAnimals_E_All_Data_(Normalized).csv\n",
      "(8387, 21) \n",
      "\n",
      "Lendo : FAOSTAT\\Value_of_Production_E_All_Data_(Normalized)\\Value_of_Production_E_All_Data_(Normalized).csv\n",
      "(8867, 21) \n",
      "\n"
     ]
    }
   ],
   "source": [
    "relatorio = pd.DataFrame()\n",
    "for path in pathlist:\n",
    "    for filename in fnmatch.filter(os.listdir(path), \"*(Normalized).csv*\"):\n",
    "        print(\"Lendo :\",path+filename)\n",
    "        relatorio = relatorio.append(filtro_rapido(path+filename,b=2010,c=2010))\n",
    "        print(relatorio.shape,\"\\n\")       \n",
    "        "
   ]
  },
  {
   "cell_type": "markdown",
   "metadata": {},
   "source": [
    "https://pandas.pydata.org/pandas-docs/stable/reference/api/pandas.DataFrame.to_csv.html"
   ]
  },
  {
   "cell_type": "code",
   "execution_count": 9,
   "metadata": {},
   "outputs": [],
   "source": [
    "relatorio.to_csv(\"relatorio.csv\",sep=\";\",decimal=\",\",index=False)"
   ]
  },
  {
   "cell_type": "markdown",
   "metadata": {},
   "source": [
    "#### Dashboard"
   ]
  },
  {
   "cell_type": "markdown",
   "metadata": {},
   "source": [
    "Dicas Google Colab - https://towardsdatascience.com/10-tips-for-a-better-google-colab-experience-33f8fe721b82\n",
    "\n",
    "Dica tabela dinamica - https://github.com/nicolaskruchten/jupyter_pivottablejs"
   ]
  },
  {
   "cell_type": "code",
   "execution_count": 59,
   "metadata": {},
   "outputs": [
    {
     "name": "stdout",
     "output_type": "stream",
     "text": [
      "Collecting pivottablejs\n",
      "  Downloading https://files.pythonhosted.org/packages/0b/0f/46f1c9a1c9bf1540d3b7803753517fa9755cddc648769ba8cd67de82b51c/pivottablejs-0.9.0-py2.py3-none-any.whl\n",
      "Installing collected packages: pivottablejs\n",
      "Successfully installed pivottablejs-0.9.0\n"
     ]
    }
   ],
   "source": [
    "!pip install pivottablejs"
   ]
  },
  {
   "cell_type": "code",
   "execution_count": 85,
   "metadata": {},
   "outputs": [
    {
     "data": {
      "text/plain": [
       "(8867, 21)"
      ]
     },
     "execution_count": 85,
     "metadata": {},
     "output_type": "execute_result"
    }
   ],
   "source": [
    "df = pd.read_csv(\"relatorio.csv\",sep=\";\",decimal=\",\")\n",
    "df.shape"
   ]
  },
  {
   "cell_type": "code",
   "execution_count": 73,
   "metadata": {
    "scrolled": false
   },
   "outputs": [
    {
     "data": {
      "text/html": [
       "\n",
       "        <iframe\n",
       "            width=\"100%\"\n",
       "            height=\"500\"\n",
       "            src=\"pivottablejs.html\"\n",
       "            frameborder=\"0\"\n",
       "            allowfullscreen\n",
       "        ></iframe>\n",
       "        "
      ],
      "text/plain": [
       "<IPython.lib.display.IFrame at 0x19dfe615688>"
      ]
     },
     "execution_count": 73,
     "metadata": {},
     "output_type": "execute_result"
    }
   ],
   "source": [
    "import pandas as pd\n",
    "\n",
    "from pivottablejs import pivot_ui\n",
    "\n",
    "pivot_ui(df)"
   ]
  },
  {
   "cell_type": "markdown",
   "metadata": {},
   "source": [
    "#### Fazer loop para encontrar arquivos"
   ]
  },
  {
   "cell_type": "markdown",
   "metadata": {},
   "source": [
    "https://www.geeksforgeeks.org/python-pandas-series-str-find/"
   ]
  },
  {
   "cell_type": "code",
   "execution_count": 62,
   "metadata": {},
   "outputs": [
    {
     "name": "stdout",
     "output_type": "stream",
     "text": [
      "FAOSTAT\\Value_of_Production_E_All_Data_(Normalized)\\Esse_aqui.csv\n"
     ]
    }
   ],
   "source": [
    "for path in pathlist:\n",
    "    for filename in fnmatch.filter(os.listdir(path), \"*.csv*\"):\n",
    "        procurar(path+filename,\"encontrar_aqui\")\n",
    "        "
   ]
  }
 ],
 "metadata": {
  "kernelspec": {
   "display_name": "Python 3",
   "language": "python",
   "name": "python3"
  },
  "language_info": {
   "codemirror_mode": {
    "name": "ipython",
    "version": 3
   },
   "file_extension": ".py",
   "mimetype": "text/x-python",
   "name": "python",
   "nbconvert_exporter": "python",
   "pygments_lexer": "ipython3",
   "version": "3.8.5"
  }
 },
 "nbformat": 4,
 "nbformat_minor": 2
}

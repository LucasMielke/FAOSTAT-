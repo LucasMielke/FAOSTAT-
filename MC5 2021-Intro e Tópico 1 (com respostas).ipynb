{
 "cells": [
  {
   "cell_type": "markdown",
   "metadata": {},
   "source": [
    "# Introdução à Agronomia com Python e dados (MC 5)"
   ]
  },
  {
   "cell_type": "markdown",
   "metadata": {},
   "source": [
    "06/01/2021 - 22/01/2021. \n",
    "\n",
    "Segundas, Quartas e Sextas das 18:00 as 19:30"
   ]
  },
  {
   "cell_type": "markdown",
   "metadata": {},
   "source": [
    "### Professor: Lucas Mielke.\n",
    "### Contato: lucas.mielke@usp.br"
   ]
  },
  {
   "cell_type": "markdown",
   "metadata": {},
   "source": [
    "## Proposta\n",
    "Proporcionar aos participantes uma visão geral sobre agricultura mundial e do Brasil ao mesmo tempo em que é feita introdução à programação em Python e análises de dados. \n",
    "\n",
    "Os estudantes irão explorar dados públicos sobre agricultura utilizando Python no ambiente do Google Colab ao mesmo tempo em que serão conduzidos debates sobre agricultura e dados. \n",
    "\n",
    "Também haverá conversa com profissionais convidados (Engenheiro Agrônomo e Cientista da Computação) e desafios simples sobre programação. \n",
    "\n",
    "Não há necessidade de conhecimento prévio em Agricultura, Python ou Google Colab e os códigos estarão previamente completos para acompanhamento de todos os participantes."
   ]
  },
  {
   "cell_type": "markdown",
   "metadata": {},
   "source": [
    "## Objetivo\n",
    "Espera-se contribuir especialmente com a escolha do curso superior dos alunos prévestibulandos ao apresentar a carreira em Engenharia Agronômica e em Ciência da Computação (ambas oferecidas pela USP). Os demais participantes (não pré-vestibulandos) também serão beneficiados ao aprender sobre Agronomia e exploração de dados com Python."
   ]
  },
  {
   "cell_type": "markdown",
   "metadata": {},
   "source": [
    "## Tópicos de discussão\n",
    "\n",
    "    Gerais:\n",
    "        1.1. Apresentação e Objetivos. Introdução ao Jupyter Notebook e Google Colab. Apresentação do questionário inicial. \n",
    "        1.2. Introdução à lógica de programação.\n",
    "    Agricultura e alimentação:\n",
    "        2.1. População mundial (urbana e rural) e produção de alimentos. \n",
    "        2.2. Uso da terra, Fertilizantes e defensivos. Florestas, Poluição e Emissões de gás carbônico \n",
    "        2.3. Economia (Comércio, Investimentos). Preços de commodities agrícolas (consulta via api). \n",
    "        2.4. Dados municipais (IBGE) (consulta de dados online).  Dados EMBRAPA, CONAB, BNDES.\n",
    "        2.5. Discussão com Engenheiro Agrônomo - Uso de dados na agricultura. Revisão e encerramento."
   ]
  },
  {
   "cell_type": "markdown",
   "metadata": {},
   "source": [
    "SIGRID. Google Colab- Guia do Iniciante. 2018. Machina Sapiens. MEDIUM. Disponível em:\n",
    "https://medium.com/machina-sapiens/google-colab-guia-do-iniciante-334d70aad531\n",
    "\n",
    "Tutorial do Google Colab - Disponível em: https://colab.research.google.com/notebooks/intro.ipynb#scrollTo=GJBs_flRovLc"
   ]
  },
  {
   "cell_type": "markdown",
   "metadata": {},
   "source": [
    "## Tópico 1.1."
   ]
  },
  {
   "cell_type": "markdown",
   "metadata": {},
   "source": [
    "### Arquivos ipynb (Jupyter Notebook) \n",
    "\n",
    "Vamos fazer esse curso usando um arquivo do tipo **ipynb - Jupyter Notebook** para incluir nossos códigos e visualizar os dados. \n",
    "\n",
    "1. Esse tipo de arquivo pode ser aberto e editado gratuitamente com o **Google Colab** sem a necessidade de baixar qualquer programa, basta ter acesso a internet e uma conta google gratuíta: https://colab.research.google.com/. Apesar de menos prático, o Colab também pode ser acessado por tablets e celulares. \n",
    "\n",
    "2. Os arquivos ipynb (Jupyter Notebook) também pode ser aberto usando o próprio Jupyter notebook. Ele tem um desempenho superior ao do Google Colab, mas requer download. A melhor forma de fazer o download é baixando o programa **Anaconda** gratuitamente pelo site: https://www.anaconda.com/products/individual\n",
    "\n",
    "### Arquivos da Aula\n",
    "\n",
    "1. Os arquivos usados em aula (incluindo as gravações) estarão disponíveis no drive: https://drive.google.com/drive/folders/1-RvyH3Z_RgEghrcgDUkeiI-16WklSAMz. Caso o acesso falhe, por favor entrem em contato.\n",
    "\n",
    "2. As aulas serão feitas pelo google meets no endereço: https://meet.google.com/hci-bvme-ozs Por favor tentem entrar alguns minutos antes. Caso o acesso falhe, por favor entrem em contato.\n",
    "\n",
    "3. Grupo Whatsapp: https://chat.whatsapp.com/K9IpENRsqa09GgJRtbcVTq\n"
   ]
  },
  {
   "cell_type": "markdown",
   "metadata": {},
   "source": [
    "## Tópico 1.2. Introdução à lógica de programação e à linguagem Python."
   ]
  },
  {
   "cell_type": "markdown",
   "metadata": {},
   "source": [
    "Manual Lógica e Linguagem de Programação. Disponível em:https://softwarelivre.org/articles/0173/8014/logica-linguagem-programacao-python01.pdf\n",
    "\n",
    "E-book. Lógica de Programação com Python. Disponível em: https://www.nilo.pro.br/python/aula/Curso%20de%20Python.pdf"
   ]
  },
  {
   "cell_type": "markdown",
   "metadata": {},
   "source": [
    "## Exercício - Desenhe uma casa\n",
    "A lógica de programação é específica!"
   ]
  },
  {
   "cell_type": "markdown",
   "metadata": {},
   "source": [
    "## Tipos de dados\n",
    "1. Numérico Inteiro - 1,2,3,4\n",
    "2. Numérico flutuante - 1.4, 4.5, 1.6, 56.89\n",
    "3. Literal (texto, String) - \"Casa\", \"Carro\". **uso de aspas**\n",
    "4. Lógico ou booleano - True (verdadeiro), False (falso)\n",
    "\n"
   ]
  },
  {
   "cell_type": "markdown",
   "metadata": {},
   "source": [
    "## Operadores numéricos\n",
    "    + Adição\n",
    "    - Subtração\n",
    "    * multiplicação\n",
    "    / divisão\n",
    "    ** potenciação (ou exponenciação)\n",
    "Seguem a mesma ordem de prioridade da matemática que aprendemos na escola. Parênteses também, da mesma forma, alteram a prioridade das operações.\n",
    "\n",
    "**Exemplos:**"
   ]
  },
  {
   "cell_type": "code",
   "execution_count": null,
   "metadata": {},
   "outputs": [],
   "source": [
    "9+6"
   ]
  },
  {
   "cell_type": "markdown",
   "metadata": {},
   "source": [
    "## Operadores lógicos\n",
    "    and (E)\n",
    "    or (OU)\n",
    "    not (Não)"
   ]
  },
  {
   "cell_type": "code",
   "execution_count": null,
   "metadata": {},
   "outputs": [],
   "source": [
    "5>4 or 3>5"
   ]
  },
  {
   "cell_type": "markdown",
   "metadata": {},
   "source": [
    "## Operadores relacionais\n",
    "    == Igualdade *(2x símbolo de igual)\n",
    "    > Maior que\n",
    "    < Menor que\n",
    "    >= Maior igual que\n",
    "    <= Menor igual que\n",
    "    != diferente de \n",
    "    "
   ]
  },
  {
   "cell_type": "code",
   "execution_count": null,
   "metadata": {},
   "outputs": [],
   "source": [
    "5==5 "
   ]
  },
  {
   "cell_type": "code",
   "execution_count": null,
   "metadata": {},
   "outputs": [],
   "source": [
    "5>5"
   ]
  },
  {
   "cell_type": "code",
   "execution_count": null,
   "metadata": {},
   "outputs": [],
   "source": [
    "6<10"
   ]
  },
  {
   "cell_type": "code",
   "execution_count": null,
   "metadata": {},
   "outputs": [],
   "source": [
    "6>=6"
   ]
  },
  {
   "cell_type": "code",
   "execution_count": null,
   "metadata": {},
   "outputs": [],
   "source": [
    "5<=5"
   ]
  },
  {
   "cell_type": "code",
   "execution_count": null,
   "metadata": {},
   "outputs": [],
   "source": [
    "7 != 5"
   ]
  },
  {
   "cell_type": "markdown",
   "metadata": {},
   "source": [
    "## Nota: Primeiro são executadas operações aritiméticas, depois as relacionais, depois as lógicas"
   ]
  },
  {
   "cell_type": "code",
   "execution_count": null,
   "metadata": {},
   "outputs": [],
   "source": [
    "9-4/2 <= 7-1 or 5*2-3 != 6"
   ]
  },
  {
   "cell_type": "code",
   "execution_count": null,
   "metadata": {},
   "outputs": [],
   "source": [
    "9-4/2 <= 7-1"
   ]
  },
  {
   "cell_type": "code",
   "execution_count": null,
   "metadata": {},
   "outputs": [],
   "source": [
    "9-4/2"
   ]
  },
  {
   "cell_type": "code",
   "execution_count": null,
   "metadata": {},
   "outputs": [],
   "source": [
    "7-1"
   ]
  },
  {
   "cell_type": "code",
   "execution_count": null,
   "metadata": {},
   "outputs": [],
   "source": [
    "5*2-3 != 6"
   ]
  },
  {
   "cell_type": "code",
   "execution_count": null,
   "metadata": {},
   "outputs": [],
   "source": [
    "5*2-3"
   ]
  },
  {
   "cell_type": "markdown",
   "metadata": {},
   "source": [
    "## Variáveis\n",
    "    São nomes usados para representar valores\n",
    "    • Possuem um tipo de dados\n",
    "    • Só podem armazenar um valor de cada vez\n",
    "    • Devem ter nomes começando com letras ou _. Podem conter números, exceto no primeiro caractere"
   ]
  },
  {
   "cell_type": "code",
   "execution_count": null,
   "metadata": {},
   "outputs": [],
   "source": [
    "n1 = 3\n",
    "n2 = 5\n",
    "n3 = n1*n2\n",
    "n3"
   ]
  },
  {
   "cell_type": "code",
   "execution_count": null,
   "metadata": {},
   "outputs": [],
   "source": [
    "type(n2)"
   ]
  },
  {
   "cell_type": "code",
   "execution_count": null,
   "metadata": {},
   "outputs": [],
   "source": []
  },
  {
   "cell_type": "code",
   "execution_count": null,
   "metadata": {},
   "outputs": [],
   "source": [
    "Variavel = 5.5\n",
    "type(Variavel)"
   ]
  },
  {
   "cell_type": "code",
   "execution_count": null,
   "metadata": {},
   "outputs": [],
   "source": [
    "n1 = 5\n",
    "n2 = 2"
   ]
  },
  {
   "cell_type": "code",
   "execution_count": null,
   "metadata": {},
   "outputs": [],
   "source": [
    "n1*n2"
   ]
  },
  {
   "cell_type": "code",
   "execution_count": null,
   "metadata": {},
   "outputs": [],
   "source": [
    "n1-n2"
   ]
  },
  {
   "cell_type": "code",
   "execution_count": null,
   "metadata": {},
   "outputs": [],
   "source": [
    "n1>n2"
   ]
  },
  {
   "cell_type": "code",
   "execution_count": null,
   "metadata": {},
   "outputs": [],
   "source": [
    "n3 = n1+n2\n",
    "n3"
   ]
  },
  {
   "cell_type": "markdown",
   "metadata": {},
   "source": [
    "## Imprimindo na tela\n",
    "Uso do comando print para mostrar na tela\n",
    "\n",
    "Obrigatório nos outros compiladores: https://www.onlinegdb.com/online_python_compiler"
   ]
  },
  {
   "cell_type": "code",
   "execution_count": null,
   "metadata": {},
   "outputs": [],
   "source": [
    "print(n3)"
   ]
  },
  {
   "cell_type": "markdown",
   "metadata": {},
   "source": [
    "## Imputando na tela"
   ]
  },
  {
   "cell_type": "code",
   "execution_count": null,
   "metadata": {},
   "outputs": [],
   "source": [
    "a = input(\"digite um valor:\")\n",
    "print(\"Você digitou:\", a)"
   ]
  },
  {
   "cell_type": "markdown",
   "metadata": {},
   "source": [
    "## Decisões\n",
    "    SE (if) ALGO então...\n",
    "    SENÃO (else) então..."
   ]
  },
  {
   "cell_type": "code",
   "execution_count": null,
   "metadata": {},
   "outputs": [],
   "source": [
    "a=4\n",
    "b=4"
   ]
  },
  {
   "cell_type": "code",
   "execution_count": null,
   "metadata": {},
   "outputs": [],
   "source": [
    "if a<b:\n",
    "    print(\"a é menor que b\")\n",
    "else:\n",
    "    print(\"a é maior que b\")"
   ]
  },
  {
   "cell_type": "code",
   "execution_count": null,
   "metadata": {},
   "outputs": [],
   "source": [
    "if a>b:\n",
    "    print(\"a é maior que b\")\n",
    "else:\n",
    "    print(\"a não é maior que b\")\n",
    "    "
   ]
  },
  {
   "cell_type": "markdown",
   "metadata": {},
   "source": [
    "Existe também o elif"
   ]
  },
  {
   "cell_type": "code",
   "execution_count": null,
   "metadata": {},
   "outputs": [],
   "source": [
    "a=10\n",
    "b=5"
   ]
  },
  {
   "cell_type": "code",
   "execution_count": null,
   "metadata": {},
   "outputs": [],
   "source": [
    "if a>b and a==b*2:\n",
    "    print(\"a é o dobro do b\")\n",
    "elif a==b*3:\n",
    "    print(\"a é o triplo do b\")\n",
    "else:\n",
    "    print(\"NDA\")"
   ]
  },
  {
   "cell_type": "markdown",
   "metadata": {},
   "source": [
    "## Repetição\n",
    "    Fazer algo por um determinado número de vez ou enquanto uma regra for verdadeira"
   ]
  },
  {
   "cell_type": "code",
   "execution_count": null,
   "metadata": {},
   "outputs": [],
   "source": [
    "contador = 0\n",
    "\n",
    "while contador < 10:\n",
    "    print(\"Fazendo loop. Contador =\",contador+1)\n",
    "    contador = contador + 1\n",
    "\n",
    "else:\n",
    "    print(\"\\nwhile quebrado, encerrando o loop\")"
   ]
  },
  {
   "cell_type": "code",
   "execution_count": null,
   "metadata": {},
   "outputs": [],
   "source": [
    "for contador in range(10):\n",
    "    print(\"Fazendo loop. Contador =\",contador+1)"
   ]
  },
  {
   "cell_type": "markdown",
   "metadata": {},
   "source": [
    "## Programa Básico - Calculadora"
   ]
  },
  {
   "cell_type": "markdown",
   "metadata": {},
   "source": [
    "input é para inserir valores.\n",
    "print é para exibir valores"
   ]
  },
  {
   "cell_type": "code",
   "execution_count": null,
   "metadata": {},
   "outputs": [],
   "source": [
    "op = int(input(\"Escolha uma operação (1 para soma, 2 para multiplicação, 3 para divisão)\"))\n",
    "n1 = int(input(\"Digite o primeiro numero:\"))\n",
    "n2 = int(input(\"Digite o segunda numero:\"))\n",
    "\n",
    "if op == 1:\n",
    "    print(\"Soma é \",n1+n2)\n",
    "elif op == 2:\n",
    "    print(\"Produto é \",n1*n2)\n",
    "elif op == 3:\n",
    "    print(\"Razão é \",n1/n2)\n",
    "else:\n",
    "    print(\"erro, operação inexistente\")"
   ]
  },
  {
   "cell_type": "markdown",
   "metadata": {},
   "source": [
    "## Funções"
   ]
  },
  {
   "cell_type": "code",
   "execution_count": 2,
   "metadata": {},
   "outputs": [
    {
     "name": "stdout",
     "output_type": "stream",
     "text": [
      "102\n"
     ]
    }
   ],
   "source": [
    "x=9\n",
    "\n",
    "fx = x**2+2*x+3\n",
    "\n",
    "print(fx)"
   ]
  },
  {
   "cell_type": "code",
   "execution_count": 4,
   "metadata": {},
   "outputs": [],
   "source": [
    "def eq_2_grau(x):\n",
    "    return x**2+2*x+3"
   ]
  },
  {
   "cell_type": "code",
   "execution_count": 5,
   "metadata": {},
   "outputs": [
    {
     "data": {
      "text/plain": [
       "102"
      ]
     },
     "execution_count": 5,
     "metadata": {},
     "output_type": "execute_result"
    }
   ],
   "source": [
    "eq_2_grau(9)"
   ]
  },
  {
   "cell_type": "markdown",
   "metadata": {},
   "source": [
    "## Listas, Tuplas, dicionários"
   ]
  },
  {
   "cell_type": "code",
   "execution_count": 12,
   "metadata": {},
   "outputs": [
    {
     "name": "stdout",
     "output_type": "stream",
     "text": [
      "73\n",
      "45\n",
      "2\n"
     ]
    }
   ],
   "source": [
    "lista = [10,52,73,14] #Pode ser alterada\n",
    "print(lista[2])\n",
    "tupla = (45,57,212,78) #Não pode ser alterada\n",
    "print(tupla[0])\n",
    "dicionário = {\"um\":1, \"2\":2, \"dez\":10}\n",
    "print(dicionário[\"2\"])"
   ]
  },
  {
   "cell_type": "markdown",
   "metadata": {},
   "source": [
    "#### Várias funções = biblioteca.\n",
    "Ex. Biblioteca \"Matemática\""
   ]
  },
  {
   "cell_type": "code",
   "execution_count": 13,
   "metadata": {},
   "outputs": [],
   "source": [
    "def soma(n1,n2):\n",
    "    n3 = n1 + n2\n",
    "    return n3\n",
    "def subtracao(n1,n2):\n",
    "    n3 = n1 - n2\n",
    "    return n3\n",
    "def multiplicacao(n1,n2):\n",
    "    n3 = n1*n2\n",
    "    return n3\n",
    "def potencia(n1,n2):\n",
    "    n3 = n1**n2\n",
    "    return n3"
   ]
  },
  {
   "cell_type": "code",
   "execution_count": 14,
   "metadata": {},
   "outputs": [
    {
     "name": "stdout",
     "output_type": "stream",
     "text": [
      "26 14 120 64000000\n"
     ]
    }
   ],
   "source": [
    "a=20\n",
    "b=6\n",
    "print(soma(a,b),subtracao(a,b),multiplicacao(a,b),potencia(a,b))"
   ]
  },
  {
   "cell_type": "markdown",
   "metadata": {},
   "source": [
    "## Bibliotecas populares\n",
    "\n",
    "PANDAS - https://pandas.pydata.org/\n",
    "\n",
    "NUMPY - https://numpy.org/\n",
    "\n",
    "MATPLOTLIB - https://matplotlib.org/\n",
    "\n",
    "SCIKIT-LEARN - https://scikit-learn.org/"
   ]
  },
  {
   "cell_type": "markdown",
   "metadata": {},
   "source": [
    "### PANDAS - Exemplo de Leitura de arquivos e bases"
   ]
  },
  {
   "cell_type": "markdown",
   "metadata": {},
   "source": [
    "### Excel\n",
    "Site: http://www.anp.gov.br/precos-e-defesa-da-concorrencia/precos/precos-de-produtores\n",
    "\n",
    "Arquivo: http://www.anp.gov.br/images/Precos/Precos-produtores-importadores-derivados-petroleo/Precos_Medios_Ponderados_Semanais_a_partir_de_2013.xls\n",
    "\n",
    "Guia da função: https://pandas.pydata.org/pandas-docs/stable/reference/api/pandas.read_excel.html"
   ]
  },
  {
   "cell_type": "code",
   "execution_count": 15,
   "metadata": {},
   "outputs": [],
   "source": [
    "import pandas as pd\n",
    "excel = pd.read_excel(\"http://www.anp.gov.br/images/Precos/Precos-produtores-importadores-derivados-petroleo/Precos_Medios_Ponderados_Semanais_a_partir_de_2013.xls\", header=8)\n"
   ]
  },
  {
   "cell_type": "code",
   "execution_count": 19,
   "metadata": {},
   "outputs": [
    {
     "data": {
      "text/html": [
       "<div>\n",
       "<style scoped>\n",
       "    .dataframe tbody tr th:only-of-type {\n",
       "        vertical-align: middle;\n",
       "    }\n",
       "\n",
       "    .dataframe tbody tr th {\n",
       "        vertical-align: top;\n",
       "    }\n",
       "\n",
       "    .dataframe thead th {\n",
       "        text-align: right;\n",
       "    }\n",
       "</style>\n",
       "<table border=\"1\" class=\"dataframe\">\n",
       "  <thead>\n",
       "    <tr style=\"text-align: right;\">\n",
       "      <th></th>\n",
       "      <th>Unnamed: 0</th>\n",
       "      <th>(A partir de 2013)</th>\n",
       "      <th>Unnamed: 2</th>\n",
       "      <th>Norte</th>\n",
       "      <th>Nordeste</th>\n",
       "      <th>Centro-Oeste</th>\n",
       "      <th>Sul</th>\n",
       "      <th>Sudeste</th>\n",
       "      <th>Unnamed: 8</th>\n",
       "      <th>Unnamed: 9</th>\n",
       "    </tr>\n",
       "  </thead>\n",
       "  <tbody>\n",
       "    <tr>\n",
       "      <th>0</th>\n",
       "      <td>Asfalto Diluído de Petróleo de Cura Média 30 (...</td>\n",
       "      <td>2012-12-31</td>\n",
       "      <td>2013-01-06</td>\n",
       "      <td>1.2936</td>\n",
       "      <td>1.2936</td>\n",
       "      <td>***</td>\n",
       "      <td>1.2936</td>\n",
       "      <td>1.2936</td>\n",
       "      <td>1.2936</td>\n",
       "      <td>NaN</td>\n",
       "    </tr>\n",
       "  </tbody>\n",
       "</table>\n",
       "</div>"
      ],
      "text/plain": [
       "                                          Unnamed: 0 (A partir de 2013)  \\\n",
       "0  Asfalto Diluído de Petróleo de Cura Média 30 (...         2012-12-31   \n",
       "\n",
       "  Unnamed: 2   Norte Nordeste Centro-Oeste     Sul Sudeste Unnamed: 8  \\\n",
       "0 2013-01-06  1.2936   1.2936          ***  1.2936  1.2936     1.2936   \n",
       "\n",
       "  Unnamed: 9  \n",
       "0        NaN  "
      ]
     },
     "execution_count": 19,
     "metadata": {},
     "output_type": "execute_result"
    }
   ],
   "source": [
    "excel.head(1)"
   ]
  },
  {
   "cell_type": "code",
   "execution_count": 20,
   "metadata": {},
   "outputs": [
    {
     "data": {
      "text/html": [
       "<div>\n",
       "<style scoped>\n",
       "    .dataframe tbody tr th:only-of-type {\n",
       "        vertical-align: middle;\n",
       "    }\n",
       "\n",
       "    .dataframe tbody tr th {\n",
       "        vertical-align: top;\n",
       "    }\n",
       "\n",
       "    .dataframe thead th {\n",
       "        text-align: right;\n",
       "    }\n",
       "</style>\n",
       "<table border=\"1\" class=\"dataframe\">\n",
       "  <thead>\n",
       "    <tr style=\"text-align: right;\">\n",
       "      <th></th>\n",
       "      <th>Unnamed: 0</th>\n",
       "      <th>(A partir de 2013)</th>\n",
       "      <th>Unnamed: 2</th>\n",
       "      <th>Norte</th>\n",
       "      <th>Nordeste</th>\n",
       "      <th>Centro-Oeste</th>\n",
       "      <th>Sul</th>\n",
       "      <th>Sudeste</th>\n",
       "      <th>Unnamed: 8</th>\n",
       "      <th>Unnamed: 9</th>\n",
       "    </tr>\n",
       "  </thead>\n",
       "  <tbody>\n",
       "    <tr>\n",
       "      <th>6788</th>\n",
       "      <td>A estimativa de atualização do arquivo eletrôn...</td>\n",
       "      <td>NaT</td>\n",
       "      <td>NaT</td>\n",
       "      <td>NaN</td>\n",
       "      <td>NaN</td>\n",
       "      <td>NaN</td>\n",
       "      <td>NaN</td>\n",
       "      <td>NaN</td>\n",
       "      <td>NaN</td>\n",
       "      <td>NaN</td>\n",
       "    </tr>\n",
       "  </tbody>\n",
       "</table>\n",
       "</div>"
      ],
      "text/plain": [
       "                                             Unnamed: 0 (A partir de 2013)  \\\n",
       "6788  A estimativa de atualização do arquivo eletrôn...                NaT   \n",
       "\n",
       "     Unnamed: 2 Norte Nordeste Centro-Oeste  Sul Sudeste Unnamed: 8 Unnamed: 9  \n",
       "6788        NaT   NaN      NaN          NaN  NaN     NaN        NaN        NaN  "
      ]
     },
     "execution_count": 20,
     "metadata": {},
     "output_type": "execute_result"
    }
   ],
   "source": [
    "excel.tail(1)"
   ]
  },
  {
   "cell_type": "markdown",
   "metadata": {},
   "source": [
    "### CSV do Google Drive\n",
    "\n",
    "FAOSTAT - http://www.fao.org/faostat/en/\n",
    "\n",
    "Guia da função: https://pandas.pydata.org/pandas-docs/stable/reference/api/pandas.read_csv.html\n",
    "\n",
    "Instrução https://stackoverflow.com/questions/56611698/pandas-how-to-read-csv-file-from-google-drive-public\n"
   ]
  },
  {
   "cell_type": "code",
   "execution_count": 22,
   "metadata": {},
   "outputs": [
    {
     "data": {
      "text/html": [
       "<div>\n",
       "<style scoped>\n",
       "    .dataframe tbody tr th:only-of-type {\n",
       "        vertical-align: middle;\n",
       "    }\n",
       "\n",
       "    .dataframe tbody tr th {\n",
       "        vertical-align: top;\n",
       "    }\n",
       "\n",
       "    .dataframe thead th {\n",
       "        text-align: right;\n",
       "    }\n",
       "</style>\n",
       "<table border=\"1\" class=\"dataframe\">\n",
       "  <thead>\n",
       "    <tr style=\"text-align: right;\">\n",
       "      <th></th>\n",
       "      <th>Area Code</th>\n",
       "      <th>Area</th>\n",
       "      <th>Item Code</th>\n",
       "      <th>Item</th>\n",
       "      <th>Element Code</th>\n",
       "      <th>Element</th>\n",
       "      <th>Year Code</th>\n",
       "      <th>Year</th>\n",
       "      <th>Unit</th>\n",
       "      <th>Value</th>\n",
       "      <th>Flag</th>\n",
       "      <th>Note</th>\n",
       "    </tr>\n",
       "  </thead>\n",
       "  <tbody>\n",
       "    <tr>\n",
       "      <th>0</th>\n",
       "      <td>4</td>\n",
       "      <td>Algeria</td>\n",
       "      <td>23045</td>\n",
       "      <td>Agriculture research spending</td>\n",
       "      <td>6083</td>\n",
       "      <td>Share of Value Added (Agriculture, Forestry an...</td>\n",
       "      <td>2009</td>\n",
       "      <td>2009</td>\n",
       "      <td>%</td>\n",
       "      <td>0.18</td>\n",
       "      <td>X</td>\n",
       "      <td>ASTI (Agricultural Science and Technology Indi...</td>\n",
       "    </tr>\n",
       "    <tr>\n",
       "      <th>1</th>\n",
       "      <td>4</td>\n",
       "      <td>Algeria</td>\n",
       "      <td>23045</td>\n",
       "      <td>Agriculture research spending</td>\n",
       "      <td>6083</td>\n",
       "      <td>Share of Value Added (Agriculture, Forestry an...</td>\n",
       "      <td>2010</td>\n",
       "      <td>2010</td>\n",
       "      <td>%</td>\n",
       "      <td>0.18</td>\n",
       "      <td>X</td>\n",
       "      <td>ASTI (Agricultural Science and Technology Indi...</td>\n",
       "    </tr>\n",
       "  </tbody>\n",
       "</table>\n",
       "</div>"
      ],
      "text/plain": [
       "   Area Code     Area  Item Code                           Item  Element Code  \\\n",
       "0          4  Algeria      23045  Agriculture research spending          6083   \n",
       "1          4  Algeria      23045  Agriculture research spending          6083   \n",
       "\n",
       "                                             Element  Year Code  Year Unit  \\\n",
       "0  Share of Value Added (Agriculture, Forestry an...       2009  2009    %   \n",
       "1  Share of Value Added (Agriculture, Forestry an...       2010  2010    %   \n",
       "\n",
       "   Value Flag                                               Note  \n",
       "0   0.18    X  ASTI (Agricultural Science and Technology Indi...  \n",
       "1   0.18    X  ASTI (Agricultural Science and Technology Indi...  "
      ]
     },
     "execution_count": 22,
     "metadata": {},
     "output_type": "execute_result"
    }
   ],
   "source": [
    "import pandas as pd\n",
    "\n",
    "url = 'https://drive.google.com/file/d/1ESGPYI9l3psfTWaEJQwQJvIIj-AgMPPv/view?usp=sharing'\n",
    "path = 'https://drive.google.com/uc?export=download&id='+url.split('/')[-2]\n",
    "\n",
    "df = pd.read_csv(path,sep=\",\",decimal=\".\",encoding=\"latin1\")\n",
    "\n",
    "df.head(2)"
   ]
  },
  {
   "cell_type": "markdown",
   "metadata": {},
   "source": [
    "### CSV do arquivo local"
   ]
  },
  {
   "cell_type": "code",
   "execution_count": 23,
   "metadata": {},
   "outputs": [],
   "source": [
    "import pandas as pd\n",
    "\n",
    "path = \"FAOSTAT\\Production_Crops_E_All_Data_(Normalized)\\Production_Crops_E_All_Data_(Normalized).csv\"\n",
    "csv = pd.read_csv(path,sep=\",\",decimal=\".\",encoding=\"latin1\")"
   ]
  },
  {
   "cell_type": "code",
   "execution_count": 24,
   "metadata": {},
   "outputs": [
    {
     "data": {
      "text/html": [
       "<div>\n",
       "<style scoped>\n",
       "    .dataframe tbody tr th:only-of-type {\n",
       "        vertical-align: middle;\n",
       "    }\n",
       "\n",
       "    .dataframe tbody tr th {\n",
       "        vertical-align: top;\n",
       "    }\n",
       "\n",
       "    .dataframe thead th {\n",
       "        text-align: right;\n",
       "    }\n",
       "</style>\n",
       "<table border=\"1\" class=\"dataframe\">\n",
       "  <thead>\n",
       "    <tr style=\"text-align: right;\">\n",
       "      <th></th>\n",
       "      <th>Area Code</th>\n",
       "      <th>Area</th>\n",
       "      <th>Item Code</th>\n",
       "      <th>Item</th>\n",
       "      <th>Element Code</th>\n",
       "      <th>Element</th>\n",
       "      <th>Year Code</th>\n",
       "      <th>Year</th>\n",
       "      <th>Unit</th>\n",
       "      <th>Value</th>\n",
       "      <th>Flag</th>\n",
       "    </tr>\n",
       "  </thead>\n",
       "  <tbody>\n",
       "    <tr>\n",
       "      <th>0</th>\n",
       "      <td>2</td>\n",
       "      <td>Afghanistan</td>\n",
       "      <td>221</td>\n",
       "      <td>Almonds, with shell</td>\n",
       "      <td>5312</td>\n",
       "      <td>Area harvested</td>\n",
       "      <td>1975</td>\n",
       "      <td>1975</td>\n",
       "      <td>ha</td>\n",
       "      <td>0.0</td>\n",
       "      <td>F</td>\n",
       "    </tr>\n",
       "    <tr>\n",
       "      <th>1</th>\n",
       "      <td>2</td>\n",
       "      <td>Afghanistan</td>\n",
       "      <td>221</td>\n",
       "      <td>Almonds, with shell</td>\n",
       "      <td>5312</td>\n",
       "      <td>Area harvested</td>\n",
       "      <td>1976</td>\n",
       "      <td>1976</td>\n",
       "      <td>ha</td>\n",
       "      <td>5900.0</td>\n",
       "      <td>F</td>\n",
       "    </tr>\n",
       "    <tr>\n",
       "      <th>2</th>\n",
       "      <td>2</td>\n",
       "      <td>Afghanistan</td>\n",
       "      <td>221</td>\n",
       "      <td>Almonds, with shell</td>\n",
       "      <td>5312</td>\n",
       "      <td>Area harvested</td>\n",
       "      <td>1977</td>\n",
       "      <td>1977</td>\n",
       "      <td>ha</td>\n",
       "      <td>6000.0</td>\n",
       "      <td>F</td>\n",
       "    </tr>\n",
       "    <tr>\n",
       "      <th>3</th>\n",
       "      <td>2</td>\n",
       "      <td>Afghanistan</td>\n",
       "      <td>221</td>\n",
       "      <td>Almonds, with shell</td>\n",
       "      <td>5312</td>\n",
       "      <td>Area harvested</td>\n",
       "      <td>1978</td>\n",
       "      <td>1978</td>\n",
       "      <td>ha</td>\n",
       "      <td>6000.0</td>\n",
       "      <td>F</td>\n",
       "    </tr>\n",
       "    <tr>\n",
       "      <th>4</th>\n",
       "      <td>2</td>\n",
       "      <td>Afghanistan</td>\n",
       "      <td>221</td>\n",
       "      <td>Almonds, with shell</td>\n",
       "      <td>5312</td>\n",
       "      <td>Area harvested</td>\n",
       "      <td>1979</td>\n",
       "      <td>1979</td>\n",
       "      <td>ha</td>\n",
       "      <td>6000.0</td>\n",
       "      <td>F</td>\n",
       "    </tr>\n",
       "  </tbody>\n",
       "</table>\n",
       "</div>"
      ],
      "text/plain": [
       "   Area Code         Area  Item Code                 Item  Element Code  \\\n",
       "0          2  Afghanistan        221  Almonds, with shell          5312   \n",
       "1          2  Afghanistan        221  Almonds, with shell          5312   \n",
       "2          2  Afghanistan        221  Almonds, with shell          5312   \n",
       "3          2  Afghanistan        221  Almonds, with shell          5312   \n",
       "4          2  Afghanistan        221  Almonds, with shell          5312   \n",
       "\n",
       "          Element  Year Code  Year Unit   Value Flag  \n",
       "0  Area harvested       1975  1975   ha     0.0    F  \n",
       "1  Area harvested       1976  1976   ha  5900.0    F  \n",
       "2  Area harvested       1977  1977   ha  6000.0    F  \n",
       "3  Area harvested       1978  1978   ha  6000.0    F  \n",
       "4  Area harvested       1979  1979   ha  6000.0    F  "
      ]
     },
     "execution_count": 24,
     "metadata": {},
     "output_type": "execute_result"
    }
   ],
   "source": [
    "csv.head()"
   ]
  },
  {
   "cell_type": "code",
   "execution_count": 25,
   "metadata": {},
   "outputs": [
    {
     "name": "stdout",
     "output_type": "stream",
     "text": [
      "<class 'pandas.core.frame.DataFrame'>\n",
      "RangeIndex: 2513868 entries, 0 to 2513867\n",
      "Data columns (total 11 columns):\n",
      " #   Column        Dtype  \n",
      "---  ------        -----  \n",
      " 0   Area Code     int64  \n",
      " 1   Area          object \n",
      " 2   Item Code     int64  \n",
      " 3   Item          object \n",
      " 4   Element Code  int64  \n",
      " 5   Element       object \n",
      " 6   Year Code     int64  \n",
      " 7   Year          int64  \n",
      " 8   Unit          object \n",
      " 9   Value         float64\n",
      " 10  Flag          object \n",
      "dtypes: float64(1), int64(5), object(5)\n",
      "memory usage: 211.0+ MB\n"
     ]
    }
   ],
   "source": [
    "csv.info()"
   ]
  },
  {
   "cell_type": "code",
   "execution_count": 26,
   "metadata": {},
   "outputs": [
    {
     "data": {
      "text/html": [
       "<div>\n",
       "<style scoped>\n",
       "    .dataframe tbody tr th:only-of-type {\n",
       "        vertical-align: middle;\n",
       "    }\n",
       "\n",
       "    .dataframe tbody tr th {\n",
       "        vertical-align: top;\n",
       "    }\n",
       "\n",
       "    .dataframe thead th {\n",
       "        text-align: right;\n",
       "    }\n",
       "</style>\n",
       "<table border=\"1\" class=\"dataframe\">\n",
       "  <thead>\n",
       "    <tr style=\"text-align: right;\">\n",
       "      <th></th>\n",
       "      <th>Area Code</th>\n",
       "      <th>Item Code</th>\n",
       "      <th>Element Code</th>\n",
       "      <th>Year Code</th>\n",
       "      <th>Year</th>\n",
       "      <th>Value</th>\n",
       "    </tr>\n",
       "  </thead>\n",
       "  <tbody>\n",
       "    <tr>\n",
       "      <th>count</th>\n",
       "      <td>2.513868e+06</td>\n",
       "      <td>2.513868e+06</td>\n",
       "      <td>2.513868e+06</td>\n",
       "      <td>2.513868e+06</td>\n",
       "      <td>2.513868e+06</td>\n",
       "      <td>2.359556e+06</td>\n",
       "    </tr>\n",
       "    <tr>\n",
       "      <th>mean</th>\n",
       "      <td>1.607881e+03</td>\n",
       "      <td>6.030662e+02</td>\n",
       "      <td>5.414220e+03</td>\n",
       "      <td>1.991644e+03</td>\n",
       "      <td>1.991644e+03</td>\n",
       "      <td>1.742925e+06</td>\n",
       "    </tr>\n",
       "    <tr>\n",
       "      <th>std</th>\n",
       "      <td>2.369213e+03</td>\n",
       "      <td>5.357366e+02</td>\n",
       "      <td>8.252911e+01</td>\n",
       "      <td>1.692218e+01</td>\n",
       "      <td>1.692218e+01</td>\n",
       "      <td>2.208522e+07</td>\n",
       "    </tr>\n",
       "    <tr>\n",
       "      <th>min</th>\n",
       "      <td>1.000000e+00</td>\n",
       "      <td>1.500000e+01</td>\n",
       "      <td>5.312000e+03</td>\n",
       "      <td>1.961000e+03</td>\n",
       "      <td>1.961000e+03</td>\n",
       "      <td>0.000000e+00</td>\n",
       "    </tr>\n",
       "    <tr>\n",
       "      <th>25%</th>\n",
       "      <td>9.300000e+01</td>\n",
       "      <td>2.360000e+02</td>\n",
       "      <td>5.312000e+03</td>\n",
       "      <td>1.977000e+03</td>\n",
       "      <td>1.977000e+03</td>\n",
       "      <td>4.939000e+03</td>\n",
       "    </tr>\n",
       "    <tr>\n",
       "      <th>50%</th>\n",
       "      <td>1.740000e+02</td>\n",
       "      <td>4.300000e+02</td>\n",
       "      <td>5.419000e+03</td>\n",
       "      <td>1.993000e+03</td>\n",
       "      <td>1.993000e+03</td>\n",
       "      <td>2.966200e+04</td>\n",
       "    </tr>\n",
       "    <tr>\n",
       "      <th>75%</th>\n",
       "      <td>5.102000e+03</td>\n",
       "      <td>6.560000e+02</td>\n",
       "      <td>5.510000e+03</td>\n",
       "      <td>2.006000e+03</td>\n",
       "      <td>2.006000e+03</td>\n",
       "      <td>1.487548e+05</td>\n",
       "    </tr>\n",
       "    <tr>\n",
       "      <th>max</th>\n",
       "      <td>5.817000e+03</td>\n",
       "      <td>1.841000e+03</td>\n",
       "      <td>5.510000e+03</td>\n",
       "      <td>2.019000e+03</td>\n",
       "      <td>2.019000e+03</td>\n",
       "      <td>2.978982e+09</td>\n",
       "    </tr>\n",
       "  </tbody>\n",
       "</table>\n",
       "</div>"
      ],
      "text/plain": [
       "          Area Code     Item Code  Element Code     Year Code          Year  \\\n",
       "count  2.513868e+06  2.513868e+06  2.513868e+06  2.513868e+06  2.513868e+06   \n",
       "mean   1.607881e+03  6.030662e+02  5.414220e+03  1.991644e+03  1.991644e+03   \n",
       "std    2.369213e+03  5.357366e+02  8.252911e+01  1.692218e+01  1.692218e+01   \n",
       "min    1.000000e+00  1.500000e+01  5.312000e+03  1.961000e+03  1.961000e+03   \n",
       "25%    9.300000e+01  2.360000e+02  5.312000e+03  1.977000e+03  1.977000e+03   \n",
       "50%    1.740000e+02  4.300000e+02  5.419000e+03  1.993000e+03  1.993000e+03   \n",
       "75%    5.102000e+03  6.560000e+02  5.510000e+03  2.006000e+03  2.006000e+03   \n",
       "max    5.817000e+03  1.841000e+03  5.510000e+03  2.019000e+03  2.019000e+03   \n",
       "\n",
       "              Value  \n",
       "count  2.359556e+06  \n",
       "mean   1.742925e+06  \n",
       "std    2.208522e+07  \n",
       "min    0.000000e+00  \n",
       "25%    4.939000e+03  \n",
       "50%    2.966200e+04  \n",
       "75%    1.487548e+05  \n",
       "max    2.978982e+09  "
      ]
     },
     "execution_count": 26,
     "metadata": {},
     "output_type": "execute_result"
    }
   ],
   "source": [
    "csv.describe()"
   ]
  },
  {
   "cell_type": "code",
   "execution_count": 27,
   "metadata": {},
   "outputs": [
    {
     "data": {
      "text/html": [
       "<div>\n",
       "<style scoped>\n",
       "    .dataframe tbody tr th:only-of-type {\n",
       "        vertical-align: middle;\n",
       "    }\n",
       "\n",
       "    .dataframe tbody tr th {\n",
       "        vertical-align: top;\n",
       "    }\n",
       "\n",
       "    .dataframe thead th {\n",
       "        text-align: right;\n",
       "    }\n",
       "</style>\n",
       "<table border=\"1\" class=\"dataframe\">\n",
       "  <thead>\n",
       "    <tr style=\"text-align: right;\">\n",
       "      <th></th>\n",
       "      <th>Item</th>\n",
       "      <th>Area Code</th>\n",
       "      <th>Item Code</th>\n",
       "      <th>Element Code</th>\n",
       "      <th>Year Code</th>\n",
       "      <th>Year</th>\n",
       "      <th>Value</th>\n",
       "    </tr>\n",
       "  </thead>\n",
       "  <tbody>\n",
       "    <tr>\n",
       "      <th>0</th>\n",
       "      <td>Agave fibres nes</td>\n",
       "      <td>10890122</td>\n",
       "      <td>2713600</td>\n",
       "      <td>18362807</td>\n",
       "      <td>6755291</td>\n",
       "      <td>6755291</td>\n",
       "      <td>3.728047e+07</td>\n",
       "    </tr>\n",
       "    <tr>\n",
       "      <th>1</th>\n",
       "      <td>Almonds, with shell</td>\n",
       "      <td>23442862</td>\n",
       "      <td>2474095</td>\n",
       "      <td>60600512</td>\n",
       "      <td>22316681</td>\n",
       "      <td>22316681</td>\n",
       "      <td>8.949080e+08</td>\n",
       "    </tr>\n",
       "    <tr>\n",
       "      <th>2</th>\n",
       "      <td>Anise, badian, fennel, coriander</td>\n",
       "      <td>24627762</td>\n",
       "      <td>7547976</td>\n",
       "      <td>57467198</td>\n",
       "      <td>21148885</td>\n",
       "      <td>21148885</td>\n",
       "      <td>3.387461e+08</td>\n",
       "    </tr>\n",
       "    <tr>\n",
       "      <th>3</th>\n",
       "      <td>Apples</td>\n",
       "      <td>28688075</td>\n",
       "      <td>9796330</td>\n",
       "      <td>102977288</td>\n",
       "      <td>37895806</td>\n",
       "      <td>37895806</td>\n",
       "      <td>1.574239e+10</td>\n",
       "    </tr>\n",
       "    <tr>\n",
       "      <th>4</th>\n",
       "      <td>Apricots</td>\n",
       "      <td>26660274</td>\n",
       "      <td>7882110</td>\n",
       "      <td>81131288</td>\n",
       "      <td>29854735</td>\n",
       "      <td>29854735</td>\n",
       "      <td>1.130472e+09</td>\n",
       "    </tr>\n",
       "    <tr>\n",
       "      <th>...</th>\n",
       "      <td>...</td>\n",
       "      <td>...</td>\n",
       "      <td>...</td>\n",
       "      <td>...</td>\n",
       "      <td>...</td>\n",
       "      <td>...</td>\n",
       "      <td>...</td>\n",
       "    </tr>\n",
       "    <tr>\n",
       "      <th>170</th>\n",
       "      <td>Walnuts, with shell</td>\n",
       "      <td>22593721</td>\n",
       "      <td>2591406</td>\n",
       "      <td>63194217</td>\n",
       "      <td>23272333</td>\n",
       "      <td>23272333</td>\n",
       "      <td>8.891443e+08</td>\n",
       "    </tr>\n",
       "    <tr>\n",
       "      <th>171</th>\n",
       "      <td>Watermelons</td>\n",
       "      <td>32986206</td>\n",
       "      <td>13410684</td>\n",
       "      <td>128042223</td>\n",
       "      <td>47113691</td>\n",
       "      <td>47113691</td>\n",
       "      <td>1.670286e+10</td>\n",
       "    </tr>\n",
       "    <tr>\n",
       "      <th>172</th>\n",
       "      <td>Wheat</td>\n",
       "      <td>32481874</td>\n",
       "      <td>379095</td>\n",
       "      <td>136817582</td>\n",
       "      <td>50330941</td>\n",
       "      <td>50330941</td>\n",
       "      <td>2.050752e+11</td>\n",
       "    </tr>\n",
       "    <tr>\n",
       "      <th>173</th>\n",
       "      <td>Yams</td>\n",
       "      <td>25181327</td>\n",
       "      <td>1952113</td>\n",
       "      <td>77138709</td>\n",
       "      <td>28358867</td>\n",
       "      <td>28358867</td>\n",
       "      <td>9.885898e+09</td>\n",
       "    </tr>\n",
       "    <tr>\n",
       "      <th>174</th>\n",
       "      <td>Yautia (cocoyam)</td>\n",
       "      <td>7974970</td>\n",
       "      <td>498420</td>\n",
       "      <td>19986020</td>\n",
       "      <td>7354674</td>\n",
       "      <td>7354674</td>\n",
       "      <td>1.917983e+08</td>\n",
       "    </tr>\n",
       "  </tbody>\n",
       "</table>\n",
       "<p>175 rows × 7 columns</p>\n",
       "</div>"
      ],
      "text/plain": [
       "                                 Item  Area Code  Item Code  Element Code  \\\n",
       "0                    Agave fibres nes   10890122    2713600      18362807   \n",
       "1                 Almonds, with shell   23442862    2474095      60600512   \n",
       "2    Anise, badian, fennel, coriander   24627762    7547976      57467198   \n",
       "3                              Apples   28688075    9796330     102977288   \n",
       "4                            Apricots   26660274    7882110      81131288   \n",
       "..                                ...        ...        ...           ...   \n",
       "170               Walnuts, with shell   22593721    2591406      63194217   \n",
       "171                       Watermelons   32986206   13410684     128042223   \n",
       "172                             Wheat   32481874     379095     136817582   \n",
       "173                              Yams   25181327    1952113      77138709   \n",
       "174                  Yautia (cocoyam)    7974970     498420      19986020   \n",
       "\n",
       "     Year Code      Year         Value  \n",
       "0      6755291   6755291  3.728047e+07  \n",
       "1     22316681  22316681  8.949080e+08  \n",
       "2     21148885  21148885  3.387461e+08  \n",
       "3     37895806  37895806  1.574239e+10  \n",
       "4     29854735  29854735  1.130472e+09  \n",
       "..         ...       ...           ...  \n",
       "170   23272333  23272333  8.891443e+08  \n",
       "171   47113691  47113691  1.670286e+10  \n",
       "172   50330941  50330941  2.050752e+11  \n",
       "173   28358867  28358867  9.885898e+09  \n",
       "174    7354674   7354674  1.917983e+08  \n",
       "\n",
       "[175 rows x 7 columns]"
      ]
     },
     "execution_count": 27,
     "metadata": {},
     "output_type": "execute_result"
    }
   ],
   "source": [
    "csv.groupby(\"Item\").sum().reset_index()"
   ]
  },
  {
   "cell_type": "code",
   "execution_count": 28,
   "metadata": {},
   "outputs": [
    {
     "data": {
      "text/html": [
       "<div>\n",
       "<style scoped>\n",
       "    .dataframe tbody tr th:only-of-type {\n",
       "        vertical-align: middle;\n",
       "    }\n",
       "\n",
       "    .dataframe tbody tr th {\n",
       "        vertical-align: top;\n",
       "    }\n",
       "\n",
       "    .dataframe thead th {\n",
       "        text-align: right;\n",
       "    }\n",
       "</style>\n",
       "<table border=\"1\" class=\"dataframe\">\n",
       "  <thead>\n",
       "    <tr style=\"text-align: right;\">\n",
       "      <th></th>\n",
       "      <th>Area Code</th>\n",
       "      <th>Item Code</th>\n",
       "      <th>Element Code</th>\n",
       "      <th>Year Code</th>\n",
       "      <th>Year</th>\n",
       "      <th>Value</th>\n",
       "    </tr>\n",
       "    <tr>\n",
       "      <th>Element</th>\n",
       "      <th></th>\n",
       "      <th></th>\n",
       "      <th></th>\n",
       "      <th></th>\n",
       "      <th></th>\n",
       "      <th></th>\n",
       "    </tr>\n",
       "  </thead>\n",
       "  <tbody>\n",
       "    <tr>\n",
       "      <th>Area harvested</th>\n",
       "      <td>1365540543</td>\n",
       "      <td>518483373</td>\n",
       "      <td>4581637184</td>\n",
       "      <td>1717608042</td>\n",
       "      <td>1717608042</td>\n",
       "      <td>7.826802e+11</td>\n",
       "    </tr>\n",
       "    <tr>\n",
       "      <th>Production</th>\n",
       "      <td>1391880393</td>\n",
       "      <td>524912518</td>\n",
       "      <td>4860382020</td>\n",
       "      <td>1756612001</td>\n",
       "      <td>1756612001</td>\n",
       "      <td>3.237702e+12</td>\n",
       "    </tr>\n",
       "    <tr>\n",
       "      <th>Yield</th>\n",
       "      <td>1284580785</td>\n",
       "      <td>472633012</td>\n",
       "      <td>4168614521</td>\n",
       "      <td>1532509313</td>\n",
       "      <td>1532509313</td>\n",
       "      <td>9.214639e+10</td>\n",
       "    </tr>\n",
       "  </tbody>\n",
       "</table>\n",
       "</div>"
      ],
      "text/plain": [
       "                 Area Code  Item Code  Element Code   Year Code        Year  \\\n",
       "Element                                                                       \n",
       "Area harvested  1365540543  518483373    4581637184  1717608042  1717608042   \n",
       "Production      1391880393  524912518    4860382020  1756612001  1756612001   \n",
       "Yield           1284580785  472633012    4168614521  1532509313  1532509313   \n",
       "\n",
       "                       Value  \n",
       "Element                       \n",
       "Area harvested  7.826802e+11  \n",
       "Production      3.237702e+12  \n",
       "Yield           9.214639e+10  "
      ]
     },
     "execution_count": 28,
     "metadata": {},
     "output_type": "execute_result"
    }
   ],
   "source": [
    "csv.groupby(\"Element\").sum()"
   ]
  },
  {
   "cell_type": "code",
   "execution_count": 30,
   "metadata": {},
   "outputs": [
    {
     "data": {
      "text/html": [
       "<div>\n",
       "<style scoped>\n",
       "    .dataframe tbody tr th:only-of-type {\n",
       "        vertical-align: middle;\n",
       "    }\n",
       "\n",
       "    .dataframe tbody tr th {\n",
       "        vertical-align: top;\n",
       "    }\n",
       "\n",
       "    .dataframe thead th {\n",
       "        text-align: right;\n",
       "    }\n",
       "</style>\n",
       "<table border=\"1\" class=\"dataframe\">\n",
       "  <thead>\n",
       "    <tr style=\"text-align: right;\">\n",
       "      <th></th>\n",
       "      <th>Area Code</th>\n",
       "      <th>Item Code</th>\n",
       "      <th>Element Code</th>\n",
       "      <th>Year Code</th>\n",
       "      <th>Year</th>\n",
       "      <th>Value</th>\n",
       "    </tr>\n",
       "    <tr>\n",
       "      <th>Element</th>\n",
       "      <th></th>\n",
       "      <th></th>\n",
       "      <th></th>\n",
       "      <th></th>\n",
       "      <th></th>\n",
       "      <th></th>\n",
       "    </tr>\n",
       "  </thead>\n",
       "  <tbody>\n",
       "    <tr>\n",
       "      <th>Production</th>\n",
       "      <td>1391880393</td>\n",
       "      <td>524912518</td>\n",
       "      <td>4860382020</td>\n",
       "      <td>1756612001</td>\n",
       "      <td>1756612001</td>\n",
       "      <td>3.237702e+12</td>\n",
       "    </tr>\n",
       "  </tbody>\n",
       "</table>\n",
       "</div>"
      ],
      "text/plain": [
       "             Area Code  Item Code  Element Code   Year Code        Year  \\\n",
       "Element                                                                   \n",
       "Production  1391880393  524912518    4860382020  1756612001  1756612001   \n",
       "\n",
       "                   Value  \n",
       "Element                   \n",
       "Production  3.237702e+12  "
      ]
     },
     "execution_count": 30,
     "metadata": {},
     "output_type": "execute_result"
    }
   ],
   "source": [
    "csv = csv[csv[\"Element\"]==\"Production\"] #como fazer um filtro\n",
    "csv.groupby(\"Element\").sum()"
   ]
  },
  {
   "cell_type": "code",
   "execution_count": 31,
   "metadata": {
    "scrolled": true
   },
   "outputs": [
    {
     "data": {
      "text/html": [
       "<div>\n",
       "<style scoped>\n",
       "    .dataframe tbody tr th:only-of-type {\n",
       "        vertical-align: middle;\n",
       "    }\n",
       "\n",
       "    .dataframe tbody tr th {\n",
       "        vertical-align: top;\n",
       "    }\n",
       "\n",
       "    .dataframe thead th {\n",
       "        text-align: right;\n",
       "    }\n",
       "</style>\n",
       "<table border=\"1\" class=\"dataframe\">\n",
       "  <thead>\n",
       "    <tr style=\"text-align: right;\">\n",
       "      <th>Area</th>\n",
       "      <th>Year</th>\n",
       "      <th>Afghanistan</th>\n",
       "      <th>Africa</th>\n",
       "      <th>Albania</th>\n",
       "      <th>Algeria</th>\n",
       "      <th>Americas</th>\n",
       "      <th>Angola</th>\n",
       "      <th>Antigua and Barbuda</th>\n",
       "      <th>Argentina</th>\n",
       "      <th>Armenia</th>\n",
       "      <th>...</th>\n",
       "      <th>Venezuela (Bolivarian Republic of)</th>\n",
       "      <th>Viet Nam</th>\n",
       "      <th>Western Africa</th>\n",
       "      <th>Western Asia</th>\n",
       "      <th>Western Europe</th>\n",
       "      <th>World</th>\n",
       "      <th>Yemen</th>\n",
       "      <th>Yugoslav SFR</th>\n",
       "      <th>Zambia</th>\n",
       "      <th>Zimbabwe</th>\n",
       "    </tr>\n",
       "  </thead>\n",
       "  <tbody>\n",
       "    <tr>\n",
       "      <th>0</th>\n",
       "      <td>1961</td>\n",
       "      <td>10096549.0</td>\n",
       "      <td>390573536.0</td>\n",
       "      <td>1452690.0</td>\n",
       "      <td>8994504.0</td>\n",
       "      <td>1.355215e+09</td>\n",
       "      <td>7075452.0</td>\n",
       "      <td>380389.0</td>\n",
       "      <td>72493332.0</td>\n",
       "      <td>NaN</td>\n",
       "      <td>...</td>\n",
       "      <td>10929963.0</td>\n",
       "      <td>39121979.0</td>\n",
       "      <td>123893712.0</td>\n",
       "      <td>88476854.0</td>\n",
       "      <td>336181989.0</td>\n",
       "      <td>5.298406e+09</td>\n",
       "      <td>2427781.0</td>\n",
       "      <td>36905025.0</td>\n",
       "      <td>2347045.0</td>\n",
       "      <td>3972513.0</td>\n",
       "    </tr>\n",
       "    <tr>\n",
       "      <th>1</th>\n",
       "      <td>1962</td>\n",
       "      <td>10208847.0</td>\n",
       "      <td>417954367.0</td>\n",
       "      <td>1487789.0</td>\n",
       "      <td>11643093.0</td>\n",
       "      <td>1.370059e+09</td>\n",
       "      <td>7359687.0</td>\n",
       "      <td>408080.0</td>\n",
       "      <td>71960992.0</td>\n",
       "      <td>NaN</td>\n",
       "      <td>...</td>\n",
       "      <td>11334207.0</td>\n",
       "      <td>41740105.0</td>\n",
       "      <td>128599859.0</td>\n",
       "      <td>97472495.0</td>\n",
       "      <td>378153272.0</td>\n",
       "      <td>5.412479e+09</td>\n",
       "      <td>2497385.0</td>\n",
       "      <td>38401797.0</td>\n",
       "      <td>2323569.0</td>\n",
       "      <td>4641857.0</td>\n",
       "    </tr>\n",
       "    <tr>\n",
       "      <th>2</th>\n",
       "      <td>1963</td>\n",
       "      <td>9706292.0</td>\n",
       "      <td>435276718.0</td>\n",
       "      <td>1492187.0</td>\n",
       "      <td>11606629.0</td>\n",
       "      <td>1.436649e+09</td>\n",
       "      <td>7308710.0</td>\n",
       "      <td>531745.0</td>\n",
       "      <td>83110399.0</td>\n",
       "      <td>NaN</td>\n",
       "      <td>...</td>\n",
       "      <td>11897608.0</td>\n",
       "      <td>41716057.0</td>\n",
       "      <td>132682769.0</td>\n",
       "      <td>102515861.0</td>\n",
       "      <td>390276062.0</td>\n",
       "      <td>5.542021e+09</td>\n",
       "      <td>2575608.0</td>\n",
       "      <td>43326002.0</td>\n",
       "      <td>2190518.0</td>\n",
       "      <td>4615180.0</td>\n",
       "    </tr>\n",
       "    <tr>\n",
       "      <th>3</th>\n",
       "      <td>1964</td>\n",
       "      <td>10566022.0</td>\n",
       "      <td>434218641.0</td>\n",
       "      <td>1813349.0</td>\n",
       "      <td>9515118.0</td>\n",
       "      <td>1.453466e+09</td>\n",
       "      <td>7571908.0</td>\n",
       "      <td>531819.0</td>\n",
       "      <td>89517636.0</td>\n",
       "      <td>NaN</td>\n",
       "      <td>...</td>\n",
       "      <td>13020802.0</td>\n",
       "      <td>42341274.0</td>\n",
       "      <td>135635318.0</td>\n",
       "      <td>104630589.0</td>\n",
       "      <td>390623060.0</td>\n",
       "      <td>5.906704e+09</td>\n",
       "      <td>2614546.0</td>\n",
       "      <td>45633110.0</td>\n",
       "      <td>2371541.0</td>\n",
       "      <td>5586500.0</td>\n",
       "    </tr>\n",
       "    <tr>\n",
       "      <th>4</th>\n",
       "      <td>1965</td>\n",
       "      <td>10876830.0</td>\n",
       "      <td>441998431.0</td>\n",
       "      <td>1623268.0</td>\n",
       "      <td>10715184.0</td>\n",
       "      <td>1.586171e+09</td>\n",
       "      <td>7776634.0</td>\n",
       "      <td>283271.0</td>\n",
       "      <td>82400636.0</td>\n",
       "      <td>NaN</td>\n",
       "      <td>...</td>\n",
       "      <td>14430684.0</td>\n",
       "      <td>41767883.0</td>\n",
       "      <td>140894548.0</td>\n",
       "      <td>104382241.0</td>\n",
       "      <td>370997989.0</td>\n",
       "      <td>6.002971e+09</td>\n",
       "      <td>2652057.0</td>\n",
       "      <td>40227342.0</td>\n",
       "      <td>2466446.0</td>\n",
       "      <td>6138344.0</td>\n",
       "    </tr>\n",
       "  </tbody>\n",
       "</table>\n",
       "<p>5 rows × 247 columns</p>\n",
       "</div>"
      ],
      "text/plain": [
       "Area  Year  Afghanistan       Africa    Albania     Algeria      Americas  \\\n",
       "0     1961   10096549.0  390573536.0  1452690.0   8994504.0  1.355215e+09   \n",
       "1     1962   10208847.0  417954367.0  1487789.0  11643093.0  1.370059e+09   \n",
       "2     1963    9706292.0  435276718.0  1492187.0  11606629.0  1.436649e+09   \n",
       "3     1964   10566022.0  434218641.0  1813349.0   9515118.0  1.453466e+09   \n",
       "4     1965   10876830.0  441998431.0  1623268.0  10715184.0  1.586171e+09   \n",
       "\n",
       "Area     Angola  Antigua and Barbuda   Argentina  Armenia  ...  \\\n",
       "0     7075452.0             380389.0  72493332.0      NaN  ...   \n",
       "1     7359687.0             408080.0  71960992.0      NaN  ...   \n",
       "2     7308710.0             531745.0  83110399.0      NaN  ...   \n",
       "3     7571908.0             531819.0  89517636.0      NaN  ...   \n",
       "4     7776634.0             283271.0  82400636.0      NaN  ...   \n",
       "\n",
       "Area  Venezuela (Bolivarian Republic of)    Viet Nam  Western Africa  \\\n",
       "0                             10929963.0  39121979.0     123893712.0   \n",
       "1                             11334207.0  41740105.0     128599859.0   \n",
       "2                             11897608.0  41716057.0     132682769.0   \n",
       "3                             13020802.0  42341274.0     135635318.0   \n",
       "4                             14430684.0  41767883.0     140894548.0   \n",
       "\n",
       "Area  Western Asia  Western Europe         World      Yemen  Yugoslav SFR  \\\n",
       "0       88476854.0     336181989.0  5.298406e+09  2427781.0    36905025.0   \n",
       "1       97472495.0     378153272.0  5.412479e+09  2497385.0    38401797.0   \n",
       "2      102515861.0     390276062.0  5.542021e+09  2575608.0    43326002.0   \n",
       "3      104630589.0     390623060.0  5.906704e+09  2614546.0    45633110.0   \n",
       "4      104382241.0     370997989.0  6.002971e+09  2652057.0    40227342.0   \n",
       "\n",
       "Area     Zambia   Zimbabwe  \n",
       "0     2347045.0  3972513.0  \n",
       "1     2323569.0  4641857.0  \n",
       "2     2190518.0  4615180.0  \n",
       "3     2371541.0  5586500.0  \n",
       "4     2466446.0  6138344.0  \n",
       "\n",
       "[5 rows x 247 columns]"
      ]
     },
     "execution_count": 31,
     "metadata": {},
     "output_type": "execute_result"
    }
   ],
   "source": [
    "csv_table = pd.pivot_table(csv, index=\"Year\",  columns=\"Area\", aggfunc=\"sum\",values=\"Value\").reset_index()\n",
    "csv_table.head(5)"
   ]
  },
  {
   "cell_type": "markdown",
   "metadata": {},
   "source": [
    "### Também útil para juntar bases (merge, append) e salvar novos arquivos"
   ]
  },
  {
   "cell_type": "markdown",
   "metadata": {},
   "source": [
    "### NUMPY - Exemplo de matrizes"
   ]
  },
  {
   "cell_type": "code",
   "execution_count": 37,
   "metadata": {},
   "outputs": [
    {
     "name": "stdout",
     "output_type": "stream",
     "text": [
      "identidade\n",
      " [[1. 0. 0.]\n",
      " [0. 1. 0.]\n",
      " [0. 0. 1.]] \n",
      "\n",
      "Matriz 3x4\n",
      " [[3 8 7 4]\n",
      " [4 6 1 7]\n",
      " [8 3 4 2]] \n",
      "\n",
      "Produto\n",
      " [[3. 8. 7. 4.]\n",
      " [4. 6. 1. 7.]\n",
      " [8. 3. 4. 2.]]\n"
     ]
    }
   ],
   "source": [
    "import numpy as np\n",
    "\n",
    "id3 = np.identity(3)\n",
    "print(\"identidade\\n\",id3,\"\\n\")\n",
    "matriz = np.random.randint(9, size=(3, 4))\n",
    "print(\"Matriz 3x4\\n\",matriz,\"\\n\")\n",
    "dot = np.dot(id3,matriz)\n",
    "print(\"Produto\\n\",dot)"
   ]
  },
  {
   "cell_type": "markdown",
   "metadata": {},
   "source": [
    "### MATPLOTLIB - Visualização de dados\n",
    "\n",
    "https://matplotlib.org/gallery/lines_bars_and_markers/simple_plot.html#sphx-glr-gallery-lines-bars-and-markers-simple-plot-py"
   ]
  },
  {
   "cell_type": "code",
   "execution_count": 40,
   "metadata": {},
   "outputs": [
    {
     "data": {
      "text/html": [
       "<div>\n",
       "<style scoped>\n",
       "    .dataframe tbody tr th:only-of-type {\n",
       "        vertical-align: middle;\n",
       "    }\n",
       "\n",
       "    .dataframe tbody tr th {\n",
       "        vertical-align: top;\n",
       "    }\n",
       "\n",
       "    .dataframe thead th {\n",
       "        text-align: right;\n",
       "    }\n",
       "</style>\n",
       "<table border=\"1\" class=\"dataframe\">\n",
       "  <thead>\n",
       "    <tr style=\"text-align: right;\">\n",
       "      <th>Area</th>\n",
       "      <th>Year</th>\n",
       "      <th>Afghanistan</th>\n",
       "      <th>Africa</th>\n",
       "      <th>Albania</th>\n",
       "      <th>Algeria</th>\n",
       "      <th>Americas</th>\n",
       "      <th>Angola</th>\n",
       "      <th>Antigua and Barbuda</th>\n",
       "      <th>Argentina</th>\n",
       "      <th>Armenia</th>\n",
       "      <th>...</th>\n",
       "      <th>Venezuela (Bolivarian Republic of)</th>\n",
       "      <th>Viet Nam</th>\n",
       "      <th>Western Africa</th>\n",
       "      <th>Western Asia</th>\n",
       "      <th>Western Europe</th>\n",
       "      <th>World</th>\n",
       "      <th>Yemen</th>\n",
       "      <th>Yugoslav SFR</th>\n",
       "      <th>Zambia</th>\n",
       "      <th>Zimbabwe</th>\n",
       "    </tr>\n",
       "  </thead>\n",
       "  <tbody>\n",
       "    <tr>\n",
       "      <th>0</th>\n",
       "      <td>1961</td>\n",
       "      <td>10096549.0</td>\n",
       "      <td>390573536.0</td>\n",
       "      <td>1452690.0</td>\n",
       "      <td>8994504.0</td>\n",
       "      <td>1.355215e+09</td>\n",
       "      <td>7075452.0</td>\n",
       "      <td>380389.0</td>\n",
       "      <td>72493332.0</td>\n",
       "      <td>NaN</td>\n",
       "      <td>...</td>\n",
       "      <td>10929963.0</td>\n",
       "      <td>39121979.0</td>\n",
       "      <td>123893712.0</td>\n",
       "      <td>88476854.0</td>\n",
       "      <td>336181989.0</td>\n",
       "      <td>5.298406e+09</td>\n",
       "      <td>2427781.0</td>\n",
       "      <td>36905025.0</td>\n",
       "      <td>2347045.0</td>\n",
       "      <td>3972513.0</td>\n",
       "    </tr>\n",
       "    <tr>\n",
       "      <th>1</th>\n",
       "      <td>1962</td>\n",
       "      <td>10208847.0</td>\n",
       "      <td>417954367.0</td>\n",
       "      <td>1487789.0</td>\n",
       "      <td>11643093.0</td>\n",
       "      <td>1.370059e+09</td>\n",
       "      <td>7359687.0</td>\n",
       "      <td>408080.0</td>\n",
       "      <td>71960992.0</td>\n",
       "      <td>NaN</td>\n",
       "      <td>...</td>\n",
       "      <td>11334207.0</td>\n",
       "      <td>41740105.0</td>\n",
       "      <td>128599859.0</td>\n",
       "      <td>97472495.0</td>\n",
       "      <td>378153272.0</td>\n",
       "      <td>5.412479e+09</td>\n",
       "      <td>2497385.0</td>\n",
       "      <td>38401797.0</td>\n",
       "      <td>2323569.0</td>\n",
       "      <td>4641857.0</td>\n",
       "    </tr>\n",
       "    <tr>\n",
       "      <th>2</th>\n",
       "      <td>1963</td>\n",
       "      <td>9706292.0</td>\n",
       "      <td>435276718.0</td>\n",
       "      <td>1492187.0</td>\n",
       "      <td>11606629.0</td>\n",
       "      <td>1.436649e+09</td>\n",
       "      <td>7308710.0</td>\n",
       "      <td>531745.0</td>\n",
       "      <td>83110399.0</td>\n",
       "      <td>NaN</td>\n",
       "      <td>...</td>\n",
       "      <td>11897608.0</td>\n",
       "      <td>41716057.0</td>\n",
       "      <td>132682769.0</td>\n",
       "      <td>102515861.0</td>\n",
       "      <td>390276062.0</td>\n",
       "      <td>5.542021e+09</td>\n",
       "      <td>2575608.0</td>\n",
       "      <td>43326002.0</td>\n",
       "      <td>2190518.0</td>\n",
       "      <td>4615180.0</td>\n",
       "    </tr>\n",
       "  </tbody>\n",
       "</table>\n",
       "<p>3 rows × 247 columns</p>\n",
       "</div>"
      ],
      "text/plain": [
       "Area  Year  Afghanistan       Africa    Albania     Algeria      Americas  \\\n",
       "0     1961   10096549.0  390573536.0  1452690.0   8994504.0  1.355215e+09   \n",
       "1     1962   10208847.0  417954367.0  1487789.0  11643093.0  1.370059e+09   \n",
       "2     1963    9706292.0  435276718.0  1492187.0  11606629.0  1.436649e+09   \n",
       "\n",
       "Area     Angola  Antigua and Barbuda   Argentina  Armenia  ...  \\\n",
       "0     7075452.0             380389.0  72493332.0      NaN  ...   \n",
       "1     7359687.0             408080.0  71960992.0      NaN  ...   \n",
       "2     7308710.0             531745.0  83110399.0      NaN  ...   \n",
       "\n",
       "Area  Venezuela (Bolivarian Republic of)    Viet Nam  Western Africa  \\\n",
       "0                             10929963.0  39121979.0     123893712.0   \n",
       "1                             11334207.0  41740105.0     128599859.0   \n",
       "2                             11897608.0  41716057.0     132682769.0   \n",
       "\n",
       "Area  Western Asia  Western Europe         World      Yemen  Yugoslav SFR  \\\n",
       "0       88476854.0     336181989.0  5.298406e+09  2427781.0    36905025.0   \n",
       "1       97472495.0     378153272.0  5.412479e+09  2497385.0    38401797.0   \n",
       "2      102515861.0     390276062.0  5.542021e+09  2575608.0    43326002.0   \n",
       "\n",
       "Area     Zambia   Zimbabwe  \n",
       "0     2347045.0  3972513.0  \n",
       "1     2323569.0  4641857.0  \n",
       "2     2190518.0  4615180.0  \n",
       "\n",
       "[3 rows x 247 columns]"
      ]
     },
     "execution_count": 40,
     "metadata": {},
     "output_type": "execute_result"
    }
   ],
   "source": [
    "csv_table.head(3)"
   ]
  },
  {
   "cell_type": "code",
   "execution_count": 39,
   "metadata": {},
   "outputs": [
    {
     "data": {
      "text/plain": [
       "[<matplotlib.lines.Line2D at 0x1791d035348>]"
      ]
     },
     "execution_count": 39,
     "metadata": {},
     "output_type": "execute_result"
    },
    {
     "data": {
      "image/png": "[encoded data removed]",
      "text/plain": [
       "<Figure size 432x288 with 1 Axes>"
      ]
     },
     "metadata": {
      "needs_background": "light"
     },
     "output_type": "display_data"
    }
   ],
   "source": [
    "import matplotlib.pyplot as plt\n",
    "\n",
    "\n",
    "x = csv_table[\"Year\"]\n",
    "y = csv_table[\"World\"]\n",
    "z = csv_table[\"Brazil\"]\n",
    "\n",
    "plt.plot(x,y)"
   ]
  },
  {
   "cell_type": "code",
   "execution_count": 43,
   "metadata": {},
   "outputs": [
    {
     "data": {
      "text/plain": [
       "[<matplotlib.lines.Line2D at 0x1797af6a788>]"
      ]
     },
     "execution_count": 43,
     "metadata": {},
     "output_type": "execute_result"
    },
    {
     "data": {
      "image/png": "[encoded data removed]",
      "text/plain": [
       "<Figure size 432x288 with 1 Axes>"
      ]
     },
     "metadata": {
      "needs_background": "light"
     },
     "output_type": "display_data"
    }
   ],
   "source": [
    "plt.plot(x,y)\n",
    "plt.plot(x,z)"
   ]
  },
  {
   "cell_type": "markdown",
   "metadata": {},
   "source": [
    "### SCIKIT-LEARN - Aprendizagem de máquina (machine learning)\n",
    "\n",
    "https://scikit-learn.org/stable/modules/generated/sklearn.linear_model.LinearRegression.html"
   ]
  },
  {
   "cell_type": "code",
   "execution_count": 54,
   "metadata": {},
   "outputs": [],
   "source": [
    "import numpy as np\n",
    "from sklearn.linear_model import LinearRegression"
   ]
  },
  {
   "cell_type": "code",
   "execution_count": 57,
   "metadata": {},
   "outputs": [
    {
     "name": "stdout",
     "output_type": "stream",
     "text": [
      "Coeficiente [[2.46322042e+08]]\n",
      "Interceptação [-4.78705197e+11]\n",
      "\n",
      "Produção =  [-4.78705197e+11]  +  [[2.46322042e+08]]  x ANO\n"
     ]
    }
   ],
   "source": [
    "x = np.array(x).reshape(len(x),1)\n",
    "y = np.array(y).reshape(len(y),1)\n",
    "z = np.array(z).reshape(len(z),1)\n",
    "\n",
    "regressao_mundo = LinearRegression().fit(x, y)\n",
    "print(\"Coeficiente\",regressao_mundo.coef_)\n",
    "print(\"Interceptação\",regressao_mundo.intercept_)\n",
    "\n",
    "print(\"\\nProdução = \",regressao_mundo.intercept_,\" + \",regressao_mundo.coef_,\" x ANO\")"
   ]
  },
  {
   "cell_type": "code",
   "execution_count": 50,
   "metadata": {},
   "outputs": [
    {
     "name": "stdout",
     "output_type": "stream",
     "text": [
      "Ex. A produção agrícola de 2010 =  [-4.78705197e+11]  +  [[2.46322042e+08]]  x 2010 =  [[1.64021075e+10]]\n"
     ]
    }
   ],
   "source": [
    "print(\"Ex. A produção agrícola de 2010 = \",regressao_mundo.intercept_,\" + \",regressao_mundo.coef_,\" x 2010 = \",2010*regressao_mundo.coef_+regressao_mundo.intercept_)"
   ]
  },
  {
   "cell_type": "code",
   "execution_count": 51,
   "metadata": {},
   "outputs": [],
   "source": [
    "predicao = regressao_mundo.predict(x)"
   ]
  },
  {
   "cell_type": "code",
   "execution_count": 53,
   "metadata": {},
   "outputs": [
    {
     "data": {
      "text/plain": [
       "[<matplotlib.lines.Line2D at 0x1791ea070c8>]"
      ]
     },
     "execution_count": 53,
     "metadata": {},
     "output_type": "execute_result"
    },
    {
     "data": {
      "image/png": "[encoded data removed]",
      "text/plain": [
       "<Figure size 432x288 with 1 Axes>"
      ]
     },
     "metadata": {
      "needs_background": "light"
     },
     "output_type": "display_data"
    }
   ],
   "source": [
    "plt.plot(x,y)\n",
    "plt.plot(x,predicao)"
   ]
  },
  {
   "cell_type": "markdown",
   "metadata": {},
   "source": [
    "# Exercícios"
   ]
  },
  {
   "cell_type": "markdown",
   "metadata": {},
   "source": [
    "## 1"
   ]
  },
  {
   "cell_type": "markdown",
   "metadata": {},
   "source": [
    "Defina a função abaixo (funcao(x)) para a equação f(x) = -2x² - 3x + 5"
   ]
  },
  {
   "cell_type": "code",
   "execution_count": 1,
   "metadata": {},
   "outputs": [],
   "source": [
    "def funcao(x):\n",
    "    return -2*x**2-3*x+5\n",
    "# Escreva seu código aqui\n"
   ]
  },
  {
   "cell_type": "markdown",
   "metadata": {},
   "source": [
    "Rode os códigos abaixo e tente entender o que aconteceu"
   ]
  },
  {
   "cell_type": "code",
   "execution_count": 2,
   "metadata": {},
   "outputs": [],
   "source": [
    "x = list(range(-20, 20))\n",
    "y=[]\n",
    "for u in x:\n",
    "    y.append(funcao(u)) #.append acrescenta cada valor na linha"
   ]
  },
  {
   "cell_type": "code",
   "execution_count": 4,
   "metadata": {
    "scrolled": true
   },
   "outputs": [
    {
     "data": {
      "text/plain": [
       "[<matplotlib.lines.Line2D at 0x1c47cdf4508>]"
      ]
     },
     "execution_count": 4,
     "metadata": {},
     "output_type": "execute_result"
    },
    {
     "data": {
      "image/png": "[encoded data removed]",
      "text/plain": [
       "<Figure size 432x288 with 1 Axes>"
      ]
     },
     "metadata": {
      "needs_background": "light"
     },
     "output_type": "display_data"
    }
   ],
   "source": [
    "import matplotlib.pyplot as plt\n",
    "plt.plot(x,y)"
   ]
  },
  {
   "cell_type": "markdown",
   "metadata": {},
   "source": [
    "#### RESPOSTA:\n",
    "def funcao(x):\n",
    "    return -2*x**2 - 3*x + 5"
   ]
  },
  {
   "cell_type": "markdown",
   "metadata": {},
   "source": [
    "## 2"
   ]
  },
  {
   "cell_type": "markdown",
   "metadata": {},
   "source": [
    "### Se conecte ao arquivo \"CommodityBalances_Crops_E_All_Data_(Normalized)\" e exiba as 10 primeiras linhas dele usando \".head(10)\""
   ]
  },
  {
   "cell_type": "markdown",
   "metadata": {},
   "source": [
    "Dica: Clique em cima do arquivo e selecione \"Gerar link\". \n",
    "Você deveria obter o seguinte link: https://drive.google.com/file/d/1oRBm3zZvkwE6308Uqe2Vl__2AZd7_Osj/view?usp=sharing"
   ]
  },
  {
   "cell_type": "code",
   "execution_count": null,
   "metadata": {},
   "outputs": [],
   "source": [
    "# Escreva seu código aqui"
   ]
  },
  {
   "cell_type": "code",
   "execution_count": 5,
   "metadata": {},
   "outputs": [],
   "source": [
    "##### Resposta:\n",
    "import pandas as pd\n",
    "\n",
    "url = 'https://drive.google.com/file/d/1oRBm3zZvkwE6308Uqe2Vl__2AZd7_Osj/view?usp=sharing'\n",
    "\n",
    "path = 'https://drive.google.com/uc?export=download&id='+url.split('/')[-2]\n",
    "\n",
    "df = pd.read_csv(path,sep=\",\",decimal=\".\",encoding=\"latin1\")"
   ]
  },
  {
   "cell_type": "code",
   "execution_count": 6,
   "metadata": {},
   "outputs": [
    {
     "data": {
      "text/html": [
       "<div>\n",
       "<style scoped>\n",
       "    .dataframe tbody tr th:only-of-type {\n",
       "        vertical-align: middle;\n",
       "    }\n",
       "\n",
       "    .dataframe tbody tr th {\n",
       "        vertical-align: top;\n",
       "    }\n",
       "\n",
       "    .dataframe thead th {\n",
       "        text-align: right;\n",
       "    }\n",
       "</style>\n",
       "<table border=\"1\" class=\"dataframe\">\n",
       "  <thead>\n",
       "    <tr style=\"text-align: right;\">\n",
       "      <th></th>\n",
       "      <th>Flag</th>\n",
       "      <th>Description</th>\n",
       "    </tr>\n",
       "  </thead>\n",
       "  <tbody>\n",
       "    <tr>\n",
       "      <th>0</th>\n",
       "      <td>A</td>\n",
       "      <td>Aggregate; may include official; semi-official...</td>\n",
       "    </tr>\n",
       "    <tr>\n",
       "      <th>1</th>\n",
       "      <td>S</td>\n",
       "      <td>Standardized data</td>\n",
       "    </tr>\n",
       "    <tr>\n",
       "      <th>2</th>\n",
       "      <td>SD</td>\n",
       "      <td>Statistical Discrepancy</td>\n",
       "    </tr>\n",
       "  </tbody>\n",
       "</table>\n",
       "</div>"
      ],
      "text/plain": [
       "  Flag                                        Description\n",
       "0    A  Aggregate; may include official; semi-official...\n",
       "1    S                                  Standardized data\n",
       "2   SD                            Statistical Discrepancy"
      ]
     },
     "execution_count": 6,
     "metadata": {},
     "output_type": "execute_result"
    }
   ],
   "source": [
    "df.head(10)"
   ]
  },
  {
   "cell_type": "markdown",
   "metadata": {},
   "source": [
    "## 3"
   ]
  },
  {
   "cell_type": "markdown",
   "metadata": {},
   "source": [
    "O Código abaixo gera uma perturbação de dados da seguinte forma:\n",
    "\n",
    "y = 2x + aleatório entre 0 e 20.\n",
    "\n",
    "Gere uma regressão linear que explique X e Y. Gere um gráfico com o resultado da regressão"
   ]
  },
  {
   "cell_type": "code",
   "execution_count": 7,
   "metadata": {},
   "outputs": [],
   "source": [
    "import random\n",
    "x = list(range(0, 100))\n",
    "y=[]\n",
    "for u in x:\n",
    "    y.append(u*2+random.randint(0,20)) #.append acrescenta cada valor na linha"
   ]
  },
  {
   "cell_type": "code",
   "execution_count": 8,
   "metadata": {},
   "outputs": [
    {
     "data": {
      "text/plain": [
       "[<matplotlib.lines.Line2D at 0x1c47dd91b88>]"
      ]
     },
     "execution_count": 8,
     "metadata": {},
     "output_type": "execute_result"
    },
    {
     "data": {
      "image/png": "[encoded data removed]",
      "text/plain": [
       "<Figure size 432x288 with 1 Axes>"
      ]
     },
     "metadata": {
      "needs_background": "light"
     },
     "output_type": "display_data"
    }
   ],
   "source": [
    "import matplotlib.pyplot as plt\n",
    "plt.plot(x,y)"
   ]
  },
  {
   "cell_type": "code",
   "execution_count": null,
   "metadata": {},
   "outputs": [],
   "source": [
    "# Digite seu código aqui\n"
   ]
  },
  {
   "cell_type": "code",
   "execution_count": null,
   "metadata": {},
   "outputs": [],
   "source": [
    "##### Resposta\n",
    "\n",
    "import numpy as np\n",
    "\n",
    "from sklearn.linear_model import LinearRegression\n",
    "\n",
    "x = np.array(x).reshape(len(x),1)\n",
    "\n",
    "y = np.array(y).reshape(len(y),1)\n",
    "\n",
    "regressao_mundo = LinearRegression().fit(x, y)\n",
    "\n",
    "print(\"Coeficiente\",regressao_mundo.coef_)\n",
    "\n",
    "print(\"Interceptação\",regressao_mundo.intercept_)\n",
    "\n",
    "\n",
    "print(\"\\nProdução = \",regressao_mundo.intercept_,\" + \",regressao_mundo.coef_,\" x X\")\n",
    "\n",
    "predicao = regressao_mundo.predict(x)\n",
    "\n",
    "plt.plot(x,y)\n",
    "\n",
    "plt.plot(x,predicao)"
   ]
  },
  {
   "cell_type": "markdown",
   "metadata": {},
   "source": [
    "## Regressão Linear multipla"
   ]
  },
  {
   "cell_type": "code",
   "execution_count": 70,
   "metadata": {},
   "outputs": [
    {
     "name": "stdout",
     "output_type": "stream",
     "text": [
      "[[1 1]\n",
      " [1 2]\n",
      " [2 2]\n",
      " [2 3]]\n",
      "[ 6  8  9 11]\n"
     ]
    }
   ],
   "source": [
    "X = np.array([[1, 1], [1, 2], [2, 2], [2, 3]])\n",
    "y = np.dot(X, np.array([1, 2])) + 3\n",
    "print(X)\n",
    "print(y)"
   ]
  },
  {
   "cell_type": "code",
   "execution_count": 71,
   "metadata": {},
   "outputs": [
    {
     "name": "stdout",
     "output_type": "stream",
     "text": [
      "Coeficiente [1. 2.]\n",
      "Interceptação 3.000000000000001\n",
      "\n",
      "Produção =  3.000000000000001  +  [1. 2.]  x ANO\n"
     ]
    }
   ],
   "source": [
    "regressao_mundo = LinearRegression().fit(X, y)\n",
    "print(\"Coeficiente\",regressao_mundo.coef_)\n",
    "print(\"Interceptação\",regressao_mundo.intercept_)\n",
    "\n",
    "print(\"\\nProdução = \",regressao_mundo.intercept_,\" + \",regressao_mundo.coef_,\" x ANO\")"
   ]
  }
 ],
 "metadata": {
  "kernelspec": {
   "display_name": "Python 3",
   "language": "python",
   "name": "python3"
  },
  "language_info": {
   "codemirror_mode": {
    "name": "ipython",
    "version": 3
   },
   "file_extension": ".py",
   "mimetype": "text/x-python",
   "name": "python",
   "nbconvert_exporter": "python",
   "pygments_lexer": "ipython3",
   "version": "3.7.4"
  }
 },
 "nbformat": 4,
 "nbformat_minor": 2
}
